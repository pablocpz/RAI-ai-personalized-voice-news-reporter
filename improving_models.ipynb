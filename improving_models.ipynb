{
 "cells": [
  {
   "cell_type": "markdown",
   "metadata": {},
   "source": [
    "Testing the graph chatbot"
   ]
  },
  {
   "cell_type": "code",
   "execution_count": 1,
   "metadata": {},
   "outputs": [
    {
     "name": "stderr",
     "output_type": "stream",
     "text": [
      "USER_AGENT environment variable not set, consider setting it to identify your requests.\n"
     ]
    },
    {
     "ename": "ImportError",
     "evalue": "cannot import name 'thread' from 'utils.chatbot_graph' (c:\\Users\\pablo\\Desktop\\P - Proyectos en Curso\\ai-curated-articles\\agent\\my-app\\app\\article-prep-agent\\v2\\implementations\\local_audio_chat_demo\\utils\\chatbot_graph.py)",
     "output_type": "error",
     "traceback": [
      "\u001b[1;31m---------------------------------------------------------------------------\u001b[0m",
      "\u001b[1;31mImportError\u001b[0m                               Traceback (most recent call last)",
      "Cell \u001b[1;32mIn[1], line 1\u001b[0m\n\u001b[1;32m----> 1\u001b[0m \u001b[38;5;28;01mfrom\u001b[39;00m \u001b[38;5;21;01mutils\u001b[39;00m\u001b[38;5;21;01m.\u001b[39;00m\u001b[38;5;21;01mchatbot_graph\u001b[39;00m \u001b[38;5;28;01mimport\u001b[39;00m app, thread\n",
      "\u001b[1;31mImportError\u001b[0m: cannot import name 'thread' from 'utils.chatbot_graph' (c:\\Users\\pablo\\Desktop\\P - Proyectos en Curso\\ai-curated-articles\\agent\\my-app\\app\\article-prep-agent\\v2\\implementations\\local_audio_chat_demo\\utils\\chatbot_graph.py)"
     ]
    }
   ],
   "source": [
    "from utils.chatbot_graph import app"
   ]
  },
  {
   "cell_type": "code",
   "execution_count": 2,
   "metadata": {},
   "outputs": [
    {
     "data": {
      "text/plain": [
       "\"The relations between Venezuela and Spain are currently strained. Tensions have increased due to Venezuela's arrest of an Argentine officer, which has also affected Spain because of previous similar incidents involving Spanish citizens. This situation is further complicated by Spain's recognition of an opposition candidate in Venezuela, which the Venezuelan government sees as interference. Historically, their relationship has been complex, often influenced by differing political ideologies.\""
      ]
     },
     "execution_count": 2,
     "metadata": {},
     "output_type": "execute_result"
    }
   ],
   "source": [
    "app.invoke({\"question\":\"current relations between Venezuela and Spain\"}, thread)[\"generation\"]"
   ]
  },
  {
   "cell_type": "markdown",
   "metadata": {},
   "source": [
    "## Tweaking `chatbot_graph.py`"
   ]
  },
  {
   "cell_type": "markdown",
   "metadata": {},
   "source": [
    "_______________________________"
   ]
  },
  {
   "cell_type": "code",
   "execution_count": 58,
   "metadata": {},
   "outputs": [
    {
     "data": {
      "text/plain": [
       "<langgraph.graph.state.CompiledStateGraph at 0x1782f300910>"
      ]
     },
     "execution_count": 58,
     "metadata": {},
     "output_type": "execute_result"
    }
   ],
   "source": [
    "wa = StateGraph(GraphState)\n",
    "\n",
    "# Add a node (action) to the graph\n",
    "wa.add_node(\"search_web\", search_web)\n",
    "\n",
    "# Set the entry point for the graph (optional, but typically useful for defining the start)\n",
    "wa.set_entry_point(\"search_web\")\n",
    "\n",
    "# Add an edge from the \"search_web\" node to the END node\n",
    "wa.add_edge(\"search_web\", END)\n",
    "\n",
    "# Compile the graph\n",
    "wa.compile()"
   ]
  },
  {
   "cell_type": "code",
   "execution_count": 85,
   "metadata": {},
   "outputs": [],
   "source": [
    "from langgraph.constants import Send"
   ]
  },
  {
   "cell_type": "code",
   "execution_count": 86,
   "metadata": {},
   "outputs": [],
   "source": [
    "import logging"
   ]
  },
  {
   "cell_type": "code",
   "execution_count": 3,
   "metadata": {},
   "outputs": [],
   "source": [
    "# vectorstore.save_local(\"vectors\")"
   ]
  },
  {
   "cell_type": "code",
   "execution_count": 1,
   "metadata": {},
   "outputs": [],
   "source": [
    "from datetime import datetime"
   ]
  },
  {
   "cell_type": "code",
   "execution_count": null,
   "metadata": {},
   "outputs": [],
   "source": [
    "import time"
   ]
  },
  {
   "cell_type": "code",
   "execution_count": 20,
   "metadata": {},
   "outputs": [
    {
     "data": {
      "text/plain": [
       "<langgraph.graph.state.StateGraph at 0x1b48ff36650>"
      ]
     },
     "execution_count": 20,
     "metadata": {},
     "output_type": "execute_result"
    }
   ],
   "source": [
    "from langchain.text_splitter import RecursiveCharacterTextSplitter\n",
    "from langchain_community.document_loaders import WebBaseLoader\n",
    "import time\n",
    "from langchain_community.vectorstores import Chroma\n",
    "from langchain_community.embeddings.fastembed import FastEmbedEmbeddings\n",
    "from langchain_openai import OpenAIEmbeddings, ChatOpenAI\n",
    "from langchain_chroma import Chroma\n",
    "from langsmith import traceable\n",
    "from langchain_community.tools.tavily_search import TavilySearchResults\n",
    "from typing_extensions import TypedDict\n",
    "from typing import List, Dict, Any\n",
    "import os\n",
    "from langchain_community.document_loaders import UnstructuredMarkdownLoader\n",
    "import json\n",
    "from langchain.schema import Document\n",
    "from langgraph.graph import END, StateGraph\n",
    "from tavily import TavilyClient, AsyncTavilyClient\n",
    "# tavily_async_client = AsyncTavilyClient()\n",
    "from datetime import datetime\n",
    "from pydantic import BaseModel, Field\n",
    "from typing import Union\n",
    "from dataclasses import dataclass\n",
    "from typing import Generator\n",
    "\n",
    "tavily_client = TavilyClient()\n",
    "\n",
    "@dataclass\n",
    "class StreamResponse:\n",
    "    content: str\n",
    "    additional_kwargs: Dict[str, Any]\n",
    "    response_metadata: Dict[str, Any]\n",
    "    id: str\n",
    "\n",
    "\n",
    "### State\n",
    "class SearchQueriesParams(BaseModel):\n",
    "    n_queries : int=Field(description=\"Number of queries to generate\")\n",
    "    \n",
    "    queries: List[str] = Field(\n",
    "        description=\"A list of strings representing the search queries to be executed.\",\n",
    "    )\n",
    "    tavily_days: List[Union[int, None]] = Field(\n",
    "        description=\"A list of integers representing the number of days to limit search results for each query (e.g., 7 for last week), or None for no time restriction. Each value corresponds to a query in the 'queries' list.\",\n",
    "    )\n",
    "    tavily_topic: List[str] = Field(\n",
    "        description=\"A list of strings indicating the type of search for each query: 'news' for time-sensitive queries or 'general' for unrestricted searches. Each value corresponds to a query in the 'queries' list.\",\n",
    "    )\n",
    "\n",
    "\n",
    "#we'll reference to this object very often to add new docs...etc\n",
    "    \n",
    "class GraphState(TypedDict):\n",
    "    news_summary : str \n",
    "    question : str\n",
    "    question_type : Union[str, str]\n",
    "    generation : str\n",
    "    web_search : Union[str, str] \n",
    "    search_queries_params : SearchQueriesParams\n",
    "    documents : str #the concatenated list of documents text content (or search results)\n",
    "    decission : str\n",
    "    feedback : Union[None, str]\n",
    "    iterations:int\n",
    "    streaming_avaiable:bool\n",
    "    response_stream : Generator[StreamResponse, None, None]\n",
    "    generation:str\n",
    "\n",
    "class InputState(TypedDict):\n",
    "    \n",
    "    news_summary:str\n",
    "    question:str\n",
    "\n",
    "\n",
    "class OutputState(TypedDict):\n",
    "    \n",
    "    streaming_avaiable:bool\n",
    "    response_stream : Union[Generator[StreamResponse, None, None], None]\n",
    "    generation:Union[str, None]\n",
    "    \n",
    "\n",
    "# Check if the directory and files are readable\n",
    "directory = './rag_docs'\n",
    "# print(os.access(directory, os.R_OK))  # Checks if the directory is readable\n",
    "os.chmod('./rag_docs', 0o755)\n",
    "\n",
    "\n",
    "markdown_folder_path = \"./rag_docs\"  # Set the path to your folder\n",
    "documents = []\n",
    "\n",
    "# Iterate over all .md files in the directory\n",
    "for file in os.listdir(markdown_folder_path):\n",
    "    if file.endswith('.md'):\n",
    "        markdown_path = os.path.join(markdown_folder_path, file)                     #=fast\n",
    "        loader = UnstructuredMarkdownLoader(markdown_path, mode=\"single\", strategy=\"precise\")\n",
    "        documents.extend(loader.load())  # Add loaded documents to the list\n",
    "\n",
    "text_splitter = RecursiveCharacterTextSplitter(\n",
    "    chunk_size=1200, chunk_overlap=100, add_start_index=True #starting char pos.\n",
    "    #size of characters for each chunk\n",
    "    #2nd param: will let us have a little portion of the prev. chunk\n",
    "    # so in case the key info is in that chunk, we can have a way to get those prev chars if needed \n",
    "    \n",
    "    #\n",
    ")\n",
    "all_splits = text_splitter.split_documents(documents)\n",
    "\n",
    "#the so-called chroma database\n",
    "local_embeddings = OpenAIEmbeddings(model=\"text-embedding-3-large\")\n",
    "persist_dir = \"./chroma_db\"\n",
    "os.makedirs(persist_dir, exist_ok=True)\n",
    "\n",
    "vectorstore = Chroma.from_documents(documents=all_splits, embedding=local_embeddings,\n",
    "                                    persist_directory=persist_dir)\n",
    "\n",
    "\n",
    "retriever = vectorstore.as_retriever(search_type=\"similarity\", search_kwargs={\"k\": 3},\n",
    "                                    )\n",
    "\n",
    "\n",
    "llm = ChatOpenAI(model=\"gpt-4o\", temperature=0) \n",
    "\n",
    "llm_json = ChatOpenAI(\n",
    "        model=\"gpt-4o\",\n",
    "        temperature = 0,\n",
    "        model_kwargs={\"response_format\": {\"type\": \"json_object\"}})\n",
    "\n",
    "\n",
    "#---------------------\n",
    "#prompts\n",
    "\n",
    "#TODO: we are trying to address the case where it gets an input question which is missleading\n",
    "docs_answer_generation_instructions = \"\"\"\n",
    "You are an assistant for question-answering tasks inside a phone call conversation.\n",
    "\n",
    "Use the following pieces of retrieved context to answer the question. If you don't know the answer, just say that you don't know. Keep the answer concise and optimized to reduce latency, in a spoken language style.\n",
    "\n",
    "If provided, there will be a separate message with feedback about what to improve from the previous generation attempt. Use this feedback to enhance your response while maintaining grounding in the provided context.\n",
    "\n",
    "Additionally, evaluate whether the provided context contradicts, corrects, or invalidates the user's question. If you are 100% certain that the question is misleading, incorrect, or based on faulty assumptions, use the context to explain why the question is problematic and provide the correct information. In such case, justify your answer with explicit references to the context. \n",
    "\n",
    "You must also keep in mind that you're answering questions related to either the news of the week, current issues, or historical questions, so always respond appropriately by connecting your answer to the spoken topics, which I'll attach below as a brief summary.\n",
    "\n",
    "Question: {question}\n",
    "Context: {context}\n",
    "\n",
    "Remember: \n",
    "- Only correct or challenge the user's question when the context provides indisputable evidence to do so. Otherwise, answer normally.\n",
    "- If feedback was provided, ensure your response addresses all the improvement points while staying faithful to the context.\n",
    "\"\"\"\n",
    "\n",
    "query_writer_instructions = \"\"\"\n",
    "Given the user's background and the question provided below, generate an appropriate number (n) of relevant queries to search on the internet in order to gather sufficient information to answer the question.\n",
    "You can generate a maximum of 2 queries. Be sure you provide a precisse amount of queries to have a fast and accurate result, don't search more than needed.\n",
    "\n",
    "If provided, there will be a separate message with feedback about why previous queries were not useful. Use this feedback to avoid similar issues and generate more effective queries.\n",
    "\n",
    "**Current Date**: {current_date}\n",
    "\n",
    "**Important Note**: A separate message includes a list of previously searched queries (`searched_queries`). Consider these queries and evaluate why they may not have been useful (e.g., irrelevant results, overly broad/narrow focus, or failure to address the question fully). Use this evaluation and any provided feedback to refine, reformulate, or supplement the queries to ensure better results. If no `searched_queries` are provided, proceed without them.\n",
    "\n",
    "**Datetime Marker Awareness**:  \n",
    "When generating queries, use datetime markers only if appropriate to the query context:\n",
    "\n",
    "1. **Time-Sensitive or Current Events (`tavily_topic=\"news\" and tavily_days=7`)**:  \n",
    "   - **Do not include any explicit datetime markers** (e.g., \"2025\" or \"January 2025\") in the search query, as `tavily_days=7` already ensures the query focuses on recent results.  \n",
    "   - If the user's question explicitly includes time hints (e.g., \"yesterday,\" \"last week\"), calculate the corresponding date relative to **Current Date** (e.g., \"yesterday\" = `{current_date} - 1 day`) and use this date in the query.  \n",
    "   - Otherwise, avoid adding datetime markers for time-sensitive queries, as they are unnecessary and may limit search results.  \n",
    "\n",
    "2. **General or Historical Topics (`tavily_topic=\"general\" and tavily_days=None`)**:  \n",
    "   - Include datetime markers only when they clarify the query or provide precision (e.g., \"economic crisis Spain 2008\").  \n",
    "   - Avoid unnecessary datetime markers for well-known historical events (e.g., \"Battle of Lepanto\"), as the event is self-contained in history.  \n",
    "\n",
    "3. **Redundancy**: Ensure datetime markers are added only if needed for precision based on the query context and `tavily` parameters.  \n",
    "\n",
    "Failure to follow these guidelines may result in ineffective or overly narrow queries.\n",
    "\n",
    "### Query Complexity and Necessity:\n",
    "- If the question is straightforward (e.g., \"What is the capital of Spain?\"), generate a single query.\n",
    "- For more complex or multi-faceted questions, generate multiple queries to ensure all relevant aspects are covered without redundancy.\n",
    "- If feedback was provided, adjust query specificity and coverage accordingly.\n",
    "\n",
    "Renember to not use 2 queries unless you're completely sure it's needed such amount.\n",
    "\n",
    "For each query, you must specify these parameters:\n",
    "### Tavily-Specific Web Search Parameters:\n",
    "For each query, set the Tavily parameters as follows:\n",
    "- **tavily_topic**:  \n",
    "   - Use `\"news\"` if the query is related to time-sensitive or current events.  \n",
    "   - Use `\"general\"` for technical, historical, or non-time-sensitive topics.  \n",
    "- **tavily_days**:  \n",
    "   - Set `7` only if `tavily_topic=\"news\"`.  \n",
    "   - Set `None` if `tavily_topic=\"general\"`.\n",
    "---\n",
    "**User question**: {question}\n",
    "\"\"\"\n",
    "\n",
    "docs_grader_instructions = \"\"\"\n",
    "\n",
    "    You are a grader assessing relevance \n",
    "    of a retrieved document to a user question. If the document contains keywords related to the user question, \n",
    "    grade it as relevant. It does not need to be a stringent test. The goal is to filter out erroneous retrievals. \\n\n",
    "    Give a binary score 'yes' or 'no' score to indicate whether the document is relevant to the question. \\n\n",
    "    Provide the binary score as a JSON with a single key 'score' and no premable or explaination.\n",
    "\n",
    "    Here is the retrieved document: \\n\\n {document} \\n\\n\n",
    "    Here is the user question: {question}\n",
    "\"\"\"\n",
    "\n",
    "\n",
    "generation_grader_instructions = \"\"\"\n",
    "\n",
    "You are a grader assessing whether an answer is grounded in or supported by a set of facts. Additionally, evaluate whether the answer correctly identifies and explicitly addresses any misleading or incorrect assumptions in the user's question, based on the provided facts.\n",
    "\n",
    "If the answer correctly identifies and addresses such misleading or incorrect assumptions, assign a `\"yes\"` to the `score` key, even if the user's question contains inaccuracies.\n",
    "\n",
    "For example:\n",
    "- Question: \"Who was Fernando Hitler?\"\n",
    "  * Incorrect Assumption: The name \"Fernando Hitler\" is historically inaccurate.\n",
    "  * Correct Response: Clarifies that no person named Fernando Hitler exists in historical records and offers accurate information about Adolf Hitler if relevant.\n",
    "  * Outcome: Score \"yes\" because the response correctly addresses the misleading premise.\n",
    "\n",
    "Your task:\n",
    "1. Determine whether the answer is factually grounded and addresses misleading or incorrect assumptions.\n",
    "2. If the answer successfully corrects such assumptions and provides a grounded response, score `\"yes\"`.\n",
    "3. If the answer fails, provide feedback to improve it.\n",
    "\n",
    "Provide your assessment as a JSON with:\n",
    "- A 'score' key with value 'yes' or 'no'\n",
    "- If the score is 'no', include a 'feedback' string key with specific guidance on:\n",
    "  * Identifying and addressing misleading assumptions.\n",
    "  * Correcting factual errors or omissions.\n",
    "  * Enhancing clarity and conciseness.\n",
    "  * Aligning with weekly news context if applicable.\n",
    "\n",
    "Here are the facts:\n",
    "\\n ------- \\n\n",
    "{documents}\n",
    "\\n ------- \\n\n",
    "\n",
    "Here is the generated answer:\n",
    "\\n ------- \\n\n",
    "{generation}\n",
    "\\n ------- \\n\n",
    "\n",
    "Respond only with the JSON object, no explanation.\n",
    "\n",
    "\"\"\"\n",
    "\n",
    "answer_grader_instructions = \"\"\"\n",
    "You are a grader assessing whether an answer is useful and effectively resolves the user's question. Additionally, evaluate whether the answer appropriately challenges and corrects any misleading or incorrect assumptions in the question, if the context justifies such corrections.\n",
    "\n",
    "If the answer correctly identifies and addresses such misleading assumptions, assign a `\"yes\"` to the `score` key, even if the user's question contains inaccuracies.\n",
    "\n",
    "For example:\n",
    "- Question: \"Who was Fernando Hitler?\"\n",
    "  * Incorrect Assumption: The name \"Fernando Hitler\" is historically inaccurate.\n",
    "  * Correct Response: Clarifies that no individual named Fernando Hitler exists in historical records, redirecting the user to relevant facts about Adolf Hitler if applicable.\n",
    "  * Outcome: Score \"yes\" because the response correctly addresses the misleading premise.\n",
    "\n",
    "Your task:\n",
    "1. Evaluate whether the answer resolves the user's question and identifies misleading assumptions when applicable.\n",
    "2. If the answer successfully corrects these issues and is useful, score `\"yes\"`.\n",
    "3. If the answer fails, provide feedback on how it can improve.\n",
    "\n",
    "### Specific Evaluation Criteria for Query Generation:\n",
    "If the user's question pertains to **time-sensitive or current events**, and:\n",
    "1. The generated queries incorrectly use explicit datetime markers (e.g., \"January 2025\") despite `tavily_days=7` and `tavily_topic=\"news\"`, assign `\"no\"` to the `score` key.\n",
    "2. If the user's question does not include any explicit temporal hints (e.g., \"yesterday\"), and the queries still include unnecessary datetime markers, this is a misuse and warrants `\"no\"`.\n",
    "3. If the answer does not appropriately tailor queries to the user's question (e.g., redundant or overly broad), assign `\"no\"`.\n",
    "\n",
    "When assigning a `\"no\"` score, provide detailed and actionable feedback under the `feedback` key to ensure the query generation improves. Your feedback should:\n",
    "- Highlight the improper use of datetime markers if applicable.\n",
    "- Suggest excluding datetime markers when `tavily_days=7` and the question lacks explicit temporal hints.\n",
    "- Emphasize aligning query parameters (e.g., `tavily_topic` and `tavily_days`) with the user's question context.\n",
    "- Recommend clearer or more precise query formulations to address the user's needs.\n",
    "\n",
    "### Additional Context:\n",
    "- **Already Searched Queries**: You will receive the list of already searched queries as a separate message below. Use this information to evaluate whether the generated queries address gaps, improve upon previous attempts, and avoid redundant or ineffective formulations.\n",
    "\n",
    "Provide your assessment as a JSON with:\n",
    "- A `score` key with value `\"yes\"` or `\"no\"`.\n",
    "- If the score is `\"no\"`, include a `feedback` key focusing on:\n",
    "  * Addressing improper datetime marker usage.\n",
    "  * Improving query clarity and relevance.\n",
    "  * Adhering to `tavily` parameter requirements.\n",
    "  * Filling gaps in information and tailoring to the user’s question.\n",
    "\n",
    "Here is the generated answer:\n",
    "\\n ------- \\n\n",
    "{generation}\n",
    "\\n ------- \\n\n",
    "\n",
    "Here is the original user question:\n",
    "\\n ------- \\n\n",
    "{question}\n",
    "\\n ------- \\n\n",
    "\n",
    "Here are the already searched queries:\n",
    "\\n ------- \\n\n",
    "{searched_queries}\n",
    "\\n ------- \\n\n",
    "\n",
    "Respond only with the JSON object, no explanation.\n",
    "\n",
    "# \"\"\"\n",
    "\n",
    "@traceable\n",
    "def retrieve(state):\n",
    "    \"\"\"\n",
    "    Retrieve documents from vectorstore\n",
    "\n",
    "    Args:\n",
    "        state (dict): The current graph state\n",
    "\n",
    "    Returns:\n",
    "        state (dict): New key added to state, documents, that contains retrieved documents\n",
    "    \"\"\"\n",
    "    # print(\"---RETRIEVE---\")\n",
    "    i = time.time()\n",
    "    \n",
    "    question = state[\"question\"]\n",
    "\n",
    "    # Retrieval\n",
    "    retrieved_docs = retriever.invoke(question)\n",
    "    \n",
    "    context = ' '.join([doc.page_content for doc in retrieved_docs])\n",
    "    \n",
    "    e = time.time()\n",
    "    \n",
    "    print(\"retrieve(): \", e-i, \" secs\")\n",
    "    \n",
    "    return {\"documents\": context, \"question\": question}\n",
    "#\n",
    "\n",
    "@traceable\n",
    "def grade_documents(state):\n",
    "    \"\"\"\n",
    "    Determines whether the retrieved documents are relevant to the question\n",
    "    If any document is not relevant, we will set a flag to run web search\n",
    "\n",
    "    Args:\n",
    "        state (dict): The current graph state\n",
    "\n",
    "    Returns:\n",
    "        state (dict): Filtered out irrelevant documents and updated web_search state\n",
    "    \"\"\"\n",
    "\n",
    "    # print(\"---CHECK DOCUMENT RELEVANCE TO QUESTION---\")\n",
    "    question = state[\"question\"]\n",
    "    context = state[\"documents\"]\n",
    "    \n",
    "    \n",
    "    i = time.time()\n",
    "\n",
    "    system_instructions = docs_grader_instructions.format(question=question, document=context)\n",
    "    messages = [\n",
    "        {\"role\": \"system\", \"content\": system_instructions},\n",
    "        # {\"role\": \"user\", \"content\": f\": {}\"}\n",
    "    ]   \n",
    "    \n",
    "    \n",
    "    model = ChatOpenAI(\n",
    "            model=\"gpt-3.5-turbo-0125\",\n",
    "            temperature = 0,\n",
    "            model_kwargs={\"response_format\": {\"type\": \"json_object\"}})\n",
    "\n",
    "    \n",
    "    #llm_json\n",
    "    grade = json.loads(model.invoke(messages).content)[\"score\"]\n",
    "    # print(grade)\n",
    "    \n",
    "    e = time.time()\n",
    "\n",
    "    print(\"grade_documents(): \", e-i, \" seconds\")\n",
    "    \n",
    "    if grade.lower() == \"yes\":\n",
    "        # print(\"---GRADE: DOCUMENT RELEVANT---\")\n",
    "        return {\"documents\": context, \"question\": question, \"web_search\": \"No\"}\n",
    "    else:\n",
    "        # print(\"---GRADE: RETRIEVED DOCUMENTS NOT RELEVANT, RUNNING WEB SEARCH INSTEAD---\")\n",
    "        return {\"documents\": context, \"question\": question, \"web_search\": \"Yes\"}\n",
    "\n",
    "\n",
    "@traceable\n",
    "def handle_trivial_question(state:InputState):\n",
    "    \"\"\"\n",
    "    Determines whether the question is trivial or irrelevant to run RAG or websearch.\n",
    "    Uses an LLM to classify the question as \"is_trivial\" or \"not_trivial\".\n",
    "\n",
    "    Args:\n",
    "        state (dict): The current graph state\n",
    "    \n",
    "    Returns:\n",
    "        state (dict): Updated state with the classification (\"is_trivial\" or \"not_trivial\").\n",
    "    \"\"\"\n",
    "    \n",
    "    question = state[\"question\"]\n",
    "    \n",
    "    # LLM prompt to classify the question as trivial or not\n",
    "    trivial_classification_instructions = \"\"\"\n",
    "    You are an AI chatbot. Classify the user's question as either \"is_trivial\" or \"not_trivial\". \n",
    "    The question is considered \"trivial\" if it is a greeting, a simple personal question (e.g., \"What's your name?\"), \n",
    "    , incomplete or missleading questions, or if it doesn't require to search for detailed information to answer.\n",
    "    If the question is a valid request for information or involves specific queries that require processing or websearch, \n",
    "    classify it as \"not_trivial\".\n",
    "    \n",
    "    Example trivial questions: \n",
    "    - \"Hello\"\n",
    "    - \"What's your name?\"\n",
    "    - \"How are you?\"\n",
    "    \n",
    "    Example non-trivial questions:\n",
    "    - \"Tell me the latest news on AI\"\n",
    "    - \"What is the capital of France?\"\n",
    "    - \"How does a neural network work?\"\n",
    "    \n",
    "    Question: {question}\n",
    "    Please respond with either \"is_trivial\" or \"not_trivial\", no preambles or explanations\n",
    "    \"\"\"\n",
    "\n",
    "    i = time.time()\n",
    "\n",
    "    # Create the system message with the classification instructions and the question\n",
    "    system_instructions = trivial_classification_instructions.format(question=question)\n",
    "    \n",
    "    messages = [\n",
    "        {\"role\": \"system\", \"content\": system_instructions},\n",
    "        {\"role\": \"user\", \"content\": f\"Question: {question}\"}\n",
    "    ]    \n",
    "\n",
    "    model = ChatOpenAI(\n",
    "            model=\"gpt-3.5-turbo-0125\",\n",
    "            temperature = 0)\n",
    "            # model_kwargs={\"response_format\": {\"type\": \"json_object\"}})\n",
    "\n",
    "    # Get the classification from the LLM\n",
    "    decission = model.invoke(messages).content.lower()\n",
    "    #llm\n",
    "    \n",
    "    e = time.time()\n",
    "\n",
    "    print(\"handle_trivial_question(): \", e-i, \" seconds\")\n",
    "    \n",
    "    if decission == \"is_trivial\":\n",
    "        return {\"question\": question, \"question_type\": \"is_trivial\", \"iterations\":0}\n",
    "    \n",
    "    elif decission == \"not_trivial\":\n",
    "        return {\"question\": question, \"question_type\": \"not_trivial\", \"iterations\":0}\n",
    "    \n",
    "    \n",
    "@traceable\n",
    "def answer_trivial_question(state):\n",
    "    \"\"\"\n",
    "    Handle trivial or irrelevant questions by using an LLM to generate a response.\n",
    "    \n",
    "    Args:\n",
    "        state (dict): The current graph state\n",
    "        \n",
    "    Returns:\n",
    "        state (dict): Updated state with a response to the trivial question.\n",
    "    \"\"\"\n",
    "    question = state[\"question\"]\n",
    "\n",
    "    # Trivial question generation instructions\n",
    "    # trivial_answer_generation_instructions = \"\"\"\n",
    "    # You are an AI chatbot. \n",
    "    # \"\"\"\n",
    "\n",
    "    # # Send the question and instructions to the LLM to generate a response\n",
    "    # system_instructions = trivial_answer_generation_instructions + f\"User's question: {question}\"\n",
    "\n",
    "    # messages = [\n",
    "    #     {\"role\": \"system\", \"content\": system_instructions},\n",
    "    #     {\"role\": \"user\", \"content\": f\"Question: {question}\"}\n",
    "    # ]    \n",
    "    \n",
    "    messages = [\n",
    "        {\"role\": \"system\", \"content\": \"You are an AI chatbot answering a user's question.\"},\n",
    "        {\"role\": \"user\", \"content\": f\"Question: {question}\"}\n",
    "    ]    \n",
    "\n",
    "    # Call the LLM to generate the response\n",
    "    # response = llm.with_config().invoke(messages)\n",
    "    \n",
    "    # response = llm.invoke(messages)\n",
    "    \n",
    "    i = time.time()\n",
    "    \n",
    "    model = ChatOpenAI(\n",
    "            model=\"gpt-3.5-turbo\",\n",
    "            temperature = 0,\n",
    "            max_completion_tokens=50)\n",
    "            # model_kwargs={\"response_format\": {\"type\": \"json_object\"}})\n",
    "\n",
    "    response_stream = model.stream(messages, max_completion_tokens=500,\n",
    "                                 temperature=0)\n",
    "    #llm\n",
    "    e = time.time()\n",
    "\n",
    "    print(\"answer_trivial_question(): \", e-i, \" seconds\")\n",
    "    \n",
    "    # response.id = \"final_pred\"\n",
    "    # Return the state with the generated response for trivial question\n",
    "    return {\"question\": question, \"streaming_avaiable\": True, \"response_stream\":response_stream, \"generation\":None}\n",
    "#                                               #we put the generation key (final answer) in the state\n",
    "    \n",
    "\n",
    "@traceable\n",
    "def answer_with_docs(state):\n",
    "    \"\"\"\n",
    "    Generate answer either using RAG on retrieved documents or web search results\n",
    "\n",
    "    Args:\n",
    "        state (dict): The current graph state\n",
    "\n",
    "    Returns:\n",
    "        state (dict): New key added to state, generation, that contains LLM generation\n",
    "    \"\"\"\n",
    "    # print(\"---GENERATE---\")\n",
    "    question = state[\"question\"]\n",
    "    context = state[\"documents\"]\n",
    "    \n",
    "    feedback = state.get(\"feedback\", None)\n",
    "    \n",
    "    i = time.time()\n",
    "\n",
    "    system_instructions = docs_answer_generation_instructions.format(question=question, context=context)\n",
    "    \n",
    "    messages = [\n",
    "        {\"role\": \"system\", \"content\": system_instructions},\n",
    "        #todo: check if this additional param is necessary\n",
    "        {\"role\": \"user\", \"content\": f\": Here is the news summary shown to the user before: {state['news_summary']}\"},\n",
    "        {\"role\":\"user\", \"content\":f\"Here is some feedback (if applicable): {feedback}\"}\n",
    "    ]   \n",
    "                            #gpt3.5-turbo\n",
    "    model = ChatOpenAI(model=\"gpt-4o-mini\", temperature=0) \n",
    "\n",
    "    \n",
    "    #llm\n",
    "    answer = model.invoke(messages, max_tokens=150, temperature=0.1) #.response lo quitamos\n",
    "    \n",
    "    e = time.time()\n",
    "\n",
    "    print(\"answer_with_docs(): \", e-i, \" seconds\")\n",
    "    \n",
    "    return {\"documents\": context, \"question\": question, \"generation\": answer,\n",
    "            \"streaming_avaible\":False}\n",
    "    #for now, streaming won't be avaiable in this node given that the generation is reviewed afterwards\n",
    "    #that means that we need to have the entire generation for that, so we can't directly stream the output\n",
    "    #and also, because it can get a 2nd revision (max_iterations=2)\n",
    "#\n",
    "\n",
    "@traceable\n",
    "def generate_queries(state):\n",
    "    \"\"\" Generate search queries for a report section, and set tavily_topic and tavily_days\"\"\"\n",
    "\n",
    "    i = time.time()\n",
    "    \n",
    "    feedback = state.get(\"feedback\", None)\n",
    "    \n",
    "    # Generate queries and tavily params with the custom pydantic model\n",
    "\n",
    "                        #gpt4o-mini , gpt4-turbo\n",
    "    model = ChatOpenAI(model=\"gpt-4o-mini\", temperature=0) \n",
    "\n",
    "    structured_llm = model.with_structured_output(SearchQueriesParams)\n",
    "                    #llm.\n",
    "                    \n",
    "    #already searched queries    \n",
    "    searched_queries = state.get(\"search_queries_params\", None) #looking for already searched queries\n",
    "    \n",
    "    \n",
    "    current_datetime = datetime.now()\n",
    "\n",
    "# Format it as a string (optional, e.g., 'YYYY-MM-DD HH:MM:SS')\n",
    "    current_datetime_str = current_datetime.strftime('%Y-%m-%d %H:%M:%S')\n",
    "    \n",
    "    # Format system instructions                   #instead of number_of_queries=3, now it also decides such number\n",
    "    system_instructions = query_writer_instructions.format(question=state[\"question\"],\n",
    "                                                           current_date=current_datetime_str,\n",
    "                                                        )\n",
    "\n",
    "    print(f\"already searched queries (if applicable): {searched_queries}\")\n",
    "    \n",
    "    messages = [{\"role\": \"system\", \"content\": system_instructions},\n",
    "                {\"role\":\"user\", \"content\":f\"feedback (if applicable): {feedback}\"}]\n",
    "    \n",
    "    if searched_queries is not None:\n",
    "        messages.append({\"role\": \"user\", \"content\": f\"already searched queries (if applicable): {searched_queries}\"})\n",
    "\n",
    "\n",
    "    search_params = structured_llm.invoke(messages)\n",
    "    \n",
    "    n_queries = search_params.n_queries\n",
    "    queries = search_params.queries  # Assuming 'queries' is the result you expect from the LLM response\n",
    "    tavily_topic = search_params.tavily_topic  # LLM response for tavily_topic\n",
    "    tavily_days = search_params.tavily_days\n",
    "    \n",
    "    search_queries_params = SearchQueriesParams(\n",
    "        n_queries=n_queries,\n",
    "        queries=queries,\n",
    "        tavily_topic=tavily_topic,\n",
    "        tavily_days=tavily_days\n",
    "    )\n",
    "    \n",
    "    e = time.time()\n",
    "    print(\"Elapsed time generate_queries(): \", e-i, \" seconds\")\n",
    "    return {\"search_queries_params\": search_queries_params}\n",
    "\n",
    "\n",
    "#TODO: we need to make all the graph either async or sync, not mixed , see https://github.com/langchain-ai/langgraph/issues/2928#issuecomment-2569915286\n",
    "\n",
    "#TODO NOTE: we have selected to get n=3 results per query call (maybe we should try setting it to 1 to reduce latency)\n",
    "#or keeping such amount to ensure it retrieves trustworthy sources\n",
    "\n",
    "def tavily_search_sync(search_queries:List[str], tavily_topics:List[str], tavily_days=List[Union[str, None]]):\n",
    "    \"\"\"\n",
    "    \"\"\"\n",
    "    search_docs = []\n",
    "\n",
    "    \n",
    "    for ix, query in enumerate(search_queries):\n",
    "        \n",
    "        # print(query)\n",
    "        if tavily_topics[ix] == \"news\":\n",
    "            \n",
    "            # print(\"gonna search \", tavily_topics[ix])\n",
    "            result = tavily_client.search(  \n",
    "                query,\n",
    "                days=tavily_days[ix], #always 7 (for now)\n",
    "                topic=\"news\", \n",
    "                max_results=1 #todo: ---> DECIDE THE NUMBER OF RESULTS\n",
    "                # include_raw_content=True,\n",
    "               \n",
    "            )\n",
    "        else:\n",
    "            result = tavily_client.search(  \n",
    "                query,\n",
    "                topic=\"general\", \n",
    "                max_results=1 #todo: ---> DECIDE THE NUMBER OF RESULTS\n",
    "                # include_raw_content=True,\n",
    "               \n",
    "            )\n",
    "            \n",
    "        search_docs.append(result)\n",
    "\n",
    "    return search_docs\n",
    "\n",
    "def deduplicate_and_format_sources(search_response, max_tokens_per_source, include_raw_content=True):\n",
    "    \"\"\"\n",
    "    Takes either a single search response or list of responses from Tavily API and formats them.\n",
    "    Limits the raw_content to approximately max_tokens_per_source.\n",
    "    include_raw_content specifies whether to include the raw_content from Tavily in the formatted string.\n",
    "    \n",
    "    Args:\n",
    "        search_response: Either:\n",
    "            - A dict with a 'results' key containing a list of search results\n",
    "            - A list of dicts, each containing search results\n",
    "            \n",
    "    Returns:\n",
    "        str: Formatted string with deduplicated sources\n",
    "    \"\"\"\n",
    "    # Convert input to list of results\n",
    "    if isinstance(search_response, dict):\n",
    "        # sources_list = search_response['results']\n",
    "        sources_list = search_response.get('results', [])\n",
    "        \n",
    "    elif isinstance(search_response, list):\n",
    "        sources_list = []\n",
    "        for response in search_response:\n",
    "            if isinstance(response, dict) and 'results' in response:\n",
    "                # sources_list.extend(response['results'])\n",
    "                sources_list.extend(response.get('results', []))\n",
    "            else:\n",
    "                sources_list.extend(response)\n",
    "    else:\n",
    "        raise ValueError(\"Input must be either a dict with 'results' or a list of search results\")\n",
    "    \n",
    "    # Deduplicate by URL\n",
    "    unique_sources = {}\n",
    "    for source in sources_list:\n",
    "        url = source.get('url')\n",
    "        # if source['url'] not in unique_sources:\n",
    "        #     unique_sources[source['url']] = source\n",
    "        if url and url not in unique_sources:\n",
    "            unique_sources[url] = source\n",
    "    \n",
    "    # Format output\n",
    "    formatted_text = \"Sources:\\n\\n\"\n",
    "    for i, source in enumerate(unique_sources.values(), 1):\n",
    "        formatted_text += f\"Source {source['title']}:\\n===\\n\"\n",
    "        formatted_text += f\"URL: {source['url']}\\n===\\n\"\n",
    "        formatted_text += f\"Most relevant content from source: {source['content']}\\n===\\n\"\n",
    "        if include_raw_content:\n",
    "            # Using rough estimate of 4 characters per token\n",
    "            char_limit = max_tokens_per_source * 4\n",
    "            # Handle None raw_content\n",
    "            raw_content = source.get('raw_content', '')\n",
    "            if raw_content is None:\n",
    "                raw_content = ''\n",
    "                print(f\"Warning: No raw_content found for source {source['url']}\")\n",
    "            if len(raw_content) > char_limit:\n",
    "                raw_content = raw_content[:char_limit] + \"... [truncated]\"\n",
    "            formatted_text += f\"Full source content limited to {max_tokens_per_source} tokens: {raw_content}\\n\\n\"\n",
    "                \n",
    "    return formatted_text.strip()\n",
    "\n",
    "\n",
    "def search_web(state):\n",
    "    \"\"\" Web search based based on the question.\"\"\"\n",
    "    \n",
    "    # Get search_queries_params from state (which includes lists of queries, tavily_topic, and tavily_days)\n",
    "     \n",
    "    search_queries_params = state[\"search_queries_params\"]\n",
    "    n_queries = search_queries_params.n_queries  # Number of queries to generate\n",
    "    queries = search_queries_params.queries  # List of queries\n",
    "    tavily_topics = search_queries_params.tavily_topic  # List of topics ('news' or 'general')\n",
    "    tavily_days = search_queries_params.tavily_days  # List of days for limiting search (or None)\n",
    "\n",
    "    print(f\"gonna generate {n_queries} queries\")\n",
    "    # Check if lengths of queries, tavily_topics, and tavily_days are equal\n",
    "    if not (n_queries == len(queries) == len(tavily_topics) == len(tavily_days)):\n",
    "        raise ValueError(\"The lengths of queries, tavily_topics, and tavily_days must be equal.\")\n",
    "    \n",
    "    # Web search using async function with corresponding parameters\n",
    "    # for query, topic, days in zip(queries, tavily_topics, tavily_days):\n",
    "    #     search_doc = tavily_search_sync([query], topic, days)  # Replace with synchronous function\n",
    "    #     search_docs.extend(search_doc)  # Add results to the overall list\n",
    "\n",
    "    start_time = time.time()\n",
    "    \n",
    "    response = tavily_search_sync(search_queries=queries, tavily_topics=tavily_topics, tavily_days=tavily_days)\n",
    "    \n",
    "    \n",
    "    # Deduplicate and format sources                                             #1000 -- check annotations whasap\n",
    "    source_str = deduplicate_and_format_sources(response, max_tokens_per_source=5000, include_raw_content=True)\n",
    "\n",
    "    web_results = Document(page_content=source_str,\n",
    "                           \n",
    "                        metadata={\"source\": \"Tavily Web Search\"} )\n",
    "    \n",
    "    end_time = time.time()\n",
    "    \n",
    "    print(\"[*] Elapsed time for search: \", (end_time-start_time))\n",
    "    #we'll also add to the vectorstore the websearch results so next time it won't need to run web search again for specific questions\n",
    "    vectorstore.add_documents([web_results])\n",
    "    \n",
    "    return {\"documents\": web_results.page_content}\n",
    "\n",
    "@traceable\n",
    "def grade_generation_v_documents_and_question(state):\n",
    "    \"\"\"\n",
    "    Determines whether the generated response is grounded in the document and answers the question.\n",
    "    \n",
    "    Args:\n",
    "        state (dict): The current graph state\n",
    "\n",
    "    Returns:\n",
    "        str: Decision for next node to call\n",
    "    \"\"\"\n",
    "\n",
    "    # print(\"---CHECK HALLUCINATIONS---\")\n",
    "    question = state[\"question\"]\n",
    "    context = state[\"documents\"] #it can be either the retrieved docs or the web search results\n",
    "    generation = state[\"generation\"]\n",
    "    \n",
    "    i = time.time()\n",
    "\n",
    "    \n",
    "    n_iterations = state.get(\"iterations\",None)\n",
    "    \n",
    "    if n_iterations!=None:\n",
    "        n_iterations+=1\n",
    "    else:\n",
    "        n_iterations=1\n",
    "        \n",
    "        # force_stop = state.get(\"force_stop\",None)\n",
    "    if n_iterations==2:\n",
    "        return {\"decission\":\"force_stop\", \"feedback\":None,\n",
    "                \"generation\":state[\"generation\"]}\n",
    "        \n",
    "        \n",
    "    generation_grader_prompt = generation_grader_instructions.format(documents=context, generation=generation)\n",
    "    \n",
    "    already_searched_queries = state.get(\"search_queries_params\", None)                                                               \n",
    "   \n",
    "    answer_grader_prompt = answer_grader_instructions.format(generation=generation, question=question,\n",
    "                                                             searched_queries=f\"already searched queries: if applicable: {already_searched_queries}\")\n",
    "    \n",
    "    \n",
    "    messages = [\n",
    "        {\"role\": \"system\", \"content\": generation_grader_prompt},\n",
    "        # {\"role\": \"user\", \"content\": f\": {}\"}\n",
    "    ]   \n",
    "    \n",
    "    \n",
    "    \n",
    "    # llm = ChatOpenAI(model=\"gpt-4o\", temperature=0) \n",
    "\n",
    "    model = ChatOpenAI(\n",
    "            model=\"gpt-3.5-turbo\",\n",
    "            temperature = 0,\n",
    "            model_kwargs={\"response_format\": {\"type\": \"json_object\"}})\n",
    "\n",
    "\n",
    "    #todo: instead of using llm_json\n",
    "    response = json.loads(model.invoke(messages).content)\n",
    "    #note: faster model\n",
    "    \n",
    "        \n",
    "    # print(grade)\n",
    "    # print(\"Generation grader output json:\", response)\n",
    "  \n",
    "  #----------------  \n",
    "    if response[\"score\"].lower() == \"yes\": #the answer is grounded in the documents\n",
    "        \n",
    "    \n",
    "        #now, we check such generation correctly answers the question\n",
    "        messages = [\n",
    "            {\"role\": \"system\", \"content\": answer_grader_prompt},\n",
    "            # {\"role\": \"user\", \"content\": f\": {}\"}\n",
    "        ]   \n",
    "        \n",
    "        model = ChatOpenAI(\n",
    "            model=\"gpt-3.5-turbo\",\n",
    "            temperature = 0,\n",
    "            model_kwargs={\"response_format\": {\"type\": \"json_object\"}})\n",
    " \n",
    "        \n",
    "        #note: llm_json.invoke()\n",
    "        response = json.loads(model.invoke(messages).content)\n",
    "        # print(\"answer grader output json:\", response)\n",
    "        # print(type(response))\n",
    "        \n",
    "        \n",
    "        if response[\"score\"].lower() == \"yes\":\n",
    "            \n",
    "            e = time.time()\n",
    "            \n",
    "            print(\"grade_documents_v_questiom(): \", e-i, \" seconds\")\n",
    "            # print(\"---DECISION: GENERATION IS GROUNDED IN DOCUMENTS, AND IT ANSWERS THE QUESTION---\")\n",
    "            # return \"useful\"\n",
    "            return {\"decission\":\"useful\", \"feedback\":None, \"iterations\":n_iterations, #si es useful, acaba\n",
    "                    \"generation\":generation, \"streaming_avaiable\":False, \"response_stream\":None}\n",
    "            \n",
    "            \n",
    "                                #para que una respuesta sea buena\n",
    "                                #debera acabar siendo = None\n",
    "                                #por lo que un nodo no tomara feedback que no le corresponde\n",
    "        \n",
    "        \n",
    "        else:\n",
    "            e = time.time()\n",
    "            \n",
    "            print(\"grade_documents_v_questiom(): \", e-i, \" seconds\")\n",
    "            # print(\"---DECISION: GENERATION DOES NOT ANSWER THE QUESTION, RUNNING WEBSEARCH---\")\n",
    "            # return \"not_useful\" #then we simply retry the websearch (only)\n",
    "            return {\"decission\":\"not_useful\", \"feedback\":response[\"feedback\"],\n",
    "                    \"iterations\":n_iterations, \"generation\":generation, \"streaming_avaiable\":False, \"response_stream\":None}\n",
    "            \n",
    "    else:\n",
    "        #IF THE MODEL HALLUCINATES, WE RE-RUN ONLY THE GENERATION\n",
    "        \n",
    "        # print(\"---DECISION: GENERATION IS NOT GROUNDED IN DOCUMENTS, RE-TRY---\")\n",
    "        # return \"not_grounded\"\n",
    "        \n",
    "        e = time.time()\n",
    "            \n",
    "        print(\"grade_documents_v_questiom(): \", e-i, \" seconds\")\n",
    "    \n",
    "\n",
    "        return {\"decission\":\"not_grounded\", \"feedback\":response[\"feedback\"],\n",
    "                \"iterations\":n_iterations, \"generation\":generation, \"streaming_avaiable\":False}\n",
    "    \n",
    "    \n",
    "def process_final_pred(state):\n",
    "    \n",
    "    n_iterations = state[\"iterations\"] #we don't want to surpass the iterations limit\n",
    "    decission = state[\"decission\"]\n",
    "    \n",
    "    if decission == \"useful\" or n_iterations==2:\n",
    "        last_pred = state[\"generation\"]\n",
    "        \n",
    "        last_pred.id = \"last_pred\"\n",
    "        \n",
    "        state[\"generation\"] = last_pred #ensure last pred have this unique id\n",
    "#-------------------- graph\n",
    "    \n",
    "workflow = StateGraph(GraphState, input=InputState, output=OutputState)\n",
    "# Define the nodes\n",
    "workflow.add_node(\"handle_trivial_question\", handle_trivial_question)\n",
    "workflow.add_node(\"answer_trivial_question\", answer_trivial_question) \n",
    "workflow.add_node(\"retrieve\", retrieve) \n",
    "workflow.add_node(\"generate_queries\", generate_queries)\n",
    "workflow.add_node(\"websearch\", search_web)\n",
    "workflow.add_node(\"grade_documents\", grade_documents)\n",
    "workflow.add_node(\"answer_with_docs\", answer_with_docs)\n",
    "workflow.add_node(\"grade_generation_v_documents_and_question\", grade_generation_v_documents_and_question)\n",
    "workflow.add_node(\"detect_if_final_pred\", process_final_pred)\n",
    "\n",
    "\n",
    "#conditional nodes\n",
    "def detect_trivial_question(state):\n",
    "    \"\"\"\n",
    "    Determines whether the question is trivial or not\n",
    "\n",
    "    Args:\n",
    "        state (dict): The current graph state\n",
    "\n",
    "    Returns:\n",
    "        str: Binary decision for next node to call\n",
    "    \"\"\"\n",
    "    question_type = state[\"question_type\"]\n",
    "    # if question_type == \"is_trivial\":\n",
    "    #     return \"answer_trivial_question\"\n",
    "    # else:\n",
    "    #     return \"retrieve\"\n",
    "    return question_type\n",
    "\n",
    "\n",
    "def decide_to_generate(state):\n",
    "    \"\"\"\n",
    "    Determines whether to generate an answer, or add web search\n",
    "\n",
    "    Args:\n",
    "        state (dict): The current graph state\n",
    "\n",
    "    Returns:\n",
    "        str: Binary decision for next node to call\n",
    "    \"\"\"\n",
    "\n",
    "    # print(\"---ASSESS GRADED DOCUMENTS---\")\n",
    "    web_search = state[\"web_search\"]\n",
    "\n",
    "    if web_search == \"Yes\":\n",
    "        return \"use_websearch\"\n",
    "    else:\n",
    "        return \"answer_with_docs\"\n",
    "    \n",
    "\n",
    "workflow.set_entry_point(\"handle_trivial_question\")\n",
    "\n",
    "workflow.add_conditional_edges(\"handle_trivial_question\",\n",
    "                               detect_trivial_question,\n",
    "                               {\"is_trivial\": \"answer_trivial_question\", \"not_trivial\": \"retrieve\"})\n",
    "\n",
    "workflow.add_edge(\"answer_trivial_question\", END)\n",
    "\n",
    "\n",
    "workflow.add_edge(\"retrieve\", \"grade_documents\")\n",
    "\n",
    "workflow.add_conditional_edges(\n",
    "    \"grade_documents\",\n",
    "    decide_to_generate, #after running grade_documents, we get the key of websearch to know if we run it or not\n",
    "    {\n",
    "        \"use_websearch\": \"generate_queries\", #before websearch, we generate the queries through the generate_queries node\n",
    "        \"answer_with_docs\": \"answer_with_docs\",\n",
    "    },\n",
    ")\n",
    "\n",
    "\n",
    "workflow.add_edge(\"generate_queries\", \"websearch\") \n",
    "workflow.add_edge(\"websearch\", \"answer_with_docs\") #after web search, we go directly to generation\n",
    "# workflow.add_edge(\"answer_with_docs\", \"handle_trivial_question\")\n",
    "workflow.add_edge(\"answer_with_docs\", \"grade_generation_v_documents_and_question\")\n",
    "workflow.add_edge(\"grade_generation_v_documents_and_question\",\"detect_if_final_pred\")\n",
    "\n",
    "\n",
    "# workflow.add_conditional_edges( #conditional edges\n",
    "#     \"answer_with_docs\",\n",
    "#     grade_generation_v_documents_and_question,\n",
    "#     {\n",
    "#         \"not_grounded\": \"answer_with_docs\", #if the llm generation grader result is = \"not supported\", then re-try\n",
    "#         \"useful\": END, #if it is useful, then end the process\n",
    "#         \"not_useful\": \"generate_queries\", #if not useful, then re-create queries again given the previous one (if applicable) and run websearch\n",
    "#     },\n",
    "# )\n",
    "\n",
    "\n",
    "def check_generation(state):\n",
    "    \n",
    "    \n",
    "    if state[\"decission\"] == \"useful\":\n",
    "        \n",
    "        # state[\"streaming_avaiable\"] = False\n",
    "        \n",
    "        return \"useful\"\n",
    "    \n",
    "    elif state[\"decission\"] == \"not_useful\":\n",
    "        \n",
    "        # state[\"streaming_avaiable\"] = False\n",
    "\n",
    "        \n",
    "        return \"not_useful\"\n",
    "    \n",
    "    \n",
    "    \n",
    "    elif state[\"decission\"] == \"not_grounded\":\n",
    "        \n",
    "        #doesnt work\n",
    "        # state[\"streaming_avaiable\"] = False\n",
    "\n",
    "        \n",
    "        return \"not_grounded\"\n",
    "    \n",
    "    elif state[\"decission\"] == \"force_stop\":\n",
    "        \n",
    "        print(\"forcing stop of the graph...\")\n",
    "        # state[\"streaming_avaiable\"] = False\n",
    "        \n",
    "        \n",
    "        return \"force_stop\"\n",
    "    \n",
    "    \n",
    "    print(\"current feedback provided \", state[\"feedback\"])\n",
    "        \n",
    "    \n",
    "workflow.add_conditional_edges( #conditional edges\n",
    "    \"grade_generation_v_documents_and_question\",\n",
    "    check_generation,\n",
    "    {\n",
    "        \"not_grounded\": \"answer_with_docs\", #if the llm generation grader result is = \"not supported\", then re-try\n",
    "        \"useful\": END, #if it is useful, then end the process\n",
    "        \"not_useful\": \"generate_queries\", #if not useful, then re-create queries again given the previous one (if applicable) and run websearch,\n",
    "        \"force_stop\":END\n",
    "    },\n",
    ")\n"
   ]
  },
  {
   "cell_type": "code",
   "execution_count": 21,
   "metadata": {},
   "outputs": [],
   "source": [
    "\n",
    "#--------------- compiling the graph\n",
    "\n",
    "#todo: check if short term and long term memmory are useful\n",
    "#todo: redefine the node of web search to generate multiple queries given the question (add tavily_days and tavily_topic too)\n",
    "from langgraph.checkpoint.sqlite import SqliteSaver\n",
    "from contextlib import ExitStack\n",
    "\n",
    "stack = ExitStack()\n",
    "memory = stack.enter_context(SqliteSaver.from_conn_string(\":memory:\"))\n",
    "\n",
    "app = workflow.compile() #checkpointer=memory\n",
    "\n",
    "thread = {\"configurable\": {\"thread_id\":\"1\"}} #\"recursion_limit\":60"
   ]
  },
  {
   "cell_type": "code",
   "execution_count": 22,
   "metadata": {},
   "outputs": [
    {
     "data": {
      "image/png": "[encoded data removed]",
      "text/plain": [
       "<IPython.core.display.Image object>"
      ]
     },
     "metadata": {},
     "output_type": "display_data"
    }
   ],
   "source": [
    "from IPython.display import Image\n",
    "\n",
    "display(Image(app.get_graph(xray=1).draw_mermaid_png(\n",
    ")))"
   ]
  },
  {
   "cell_type": "code",
   "execution_count": 162,
   "metadata": {},
   "outputs": [],
   "source": [
    "# for i in model.stream(input=\"aaa\", max_completion_tokens=500,\n",
    "#                                        temperature=0):\n",
    "    \n",
    "#     print(i)"
   ]
  },
  {
   "cell_type": "code",
   "execution_count": 4,
   "metadata": {},
   "outputs": [
    {
     "name": "stdout",
     "output_type": "stream",
     "text": [
      "handle_trivial_question():  0.9582333564758301  seconds\n",
      "answer_trivial_question():  0.5984888076782227  seconds\n"
     ]
    }
   ],
   "source": [
    "a = app.invoke(input={\"question\":\"how are you\", \"news_summary\":\"example\"})"
   ]
  },
  {
   "cell_type": "code",
   "execution_count": 140,
   "metadata": {},
   "outputs": [
    {
     "data": {
      "text/plain": [
       "{'streaming_avaiable': True,\n",
       " 'response_stream': <generator object BaseChatModel.stream at 0x0000021186F52150>}"
      ]
     },
     "execution_count": 140,
     "metadata": {},
     "output_type": "execute_result"
    }
   ],
   "source": [
    "a"
   ]
  },
  {
   "cell_type": "code",
   "execution_count": 6,
   "metadata": {},
   "outputs": [],
   "source": [
    "from utils.sst import transcribe_audio"
   ]
  },
  {
   "cell_type": "code",
   "execution_count": 7,
   "metadata": {},
   "outputs": [],
   "source": [
    "text = transcribe_audio(\"narrative.wav\")"
   ]
  },
  {
   "cell_type": "code",
   "execution_count": 8,
   "metadata": {},
   "outputs": [
    {
     "data": {
      "text/plain": [
       "\"Ready to know what happened this week? Let's dive in. First up, fitness enthusiasts are buzzing about high-intensity interval training, which promises to keep you burning calories long after your workout ends. Meanwhile, in the world of international affairs, Ukraine made headlines by using a naval drone to take down a Russian helicopter, marking a significant moment in their ongoing conflict. As Asia celebrated the arrival of 2025 with spectacular fireworks, Elon Musk stirred controversy in Germany by endorsing a far-right party, leading to a media shake-up. Across the Atlantic, Donald Trump surprised many by supporting Elon Musk and the H-1B visa program, causing ripples within the Republican Party. In entertainment, Lily-Rose Depp is making waves with her role in the new Nasratu film, while Trump mourns the loss of former U.S. President Jimmy Carter, who passed away at 100, leaving behind a legacy of peace and humanitarian work. Spain is facing unrest as public employees deal with frozen salaries and healthcare disruptions, while in Brazil, a tragic poisoning incident involving a Christmas cake is under investigation. Azerbaijan and Russia are at odds over a plane crash, with calls for an independent probe. In South Korea, a devastating plane crash claimed 179 lives, marking the worst air disaster in the country in decades. New York is reeling from a scandal involving prison brutality, prompting calls for justice and reform. The WHO's Tedros Adhanom Ghebreyesus narrowly escaped a bombing in Yemen, highlighting the ongoing conflict in the region. Tensions are also high between Venezuela and Argentina over accusations of terrorism, while Ukraine continues to fend off Russian aerial attacks. In Madrid, a graffiti artist faces a hefty fine for his street art spree, and in New York, a shocking video of prison violence has sparked outrage and investigations. Meanwhile, Russia's use of a ghost freight to bypass sanctions is raising alarms in the Baltic region. In China, a tragic incident involving a driver plowing into a crowd has sparked discussions on public mourning and censorship. Back in New York, the Guardian Angels are back on patrol in the subway after a horrific attack, aiming to boost public safety. Finally, Spain's Muface is in turmoil as major health insurers withdraw, leaving many civil servants without private coverage. As the year wraps up, these events remind us of the complexities and challenges facing our world today. Stay tuned for more updates.\\n\""
      ]
     },
     "execution_count": 8,
     "metadata": {},
     "output_type": "execute_result"
    }
   ],
   "source": [
    "text"
   ]
  },
  {
   "cell_type": "code",
   "execution_count": 23,
   "metadata": {},
   "outputs": [
    {
     "name": "stdout",
     "output_type": "stream",
     "text": [
      "handle_trivial_question():  1.0071086883544922  seconds\n",
      "retrieve():  0.5809445381164551  secs\n",
      "grade_documents():  1.272484302520752  seconds\n",
      "answer_with_docs():  2.523061990737915  seconds\n",
      "grade_documents_v_questiom():  2.3770363330841064  seconds\n"
     ]
    }
   ],
   "source": [
    "a = app.invoke(input={\"question\":\"que ocurrio en el atentado de nueva orleans\", \"news_summary\":text})"
   ]
  },
  {
   "cell_type": "code",
   "execution_count": 24,
   "metadata": {},
   "outputs": [
    {
     "data": {
      "text/plain": [
       "{'streaming_avaiable': False,\n",
       " 'response_stream': None,\n",
       " 'generation': AIMessage(content='El atentado en Nueva Orleans ocurrió el 1 de enero de 2025, cuando un conductor embistió a una multitud en Bourbon Street, matando al menos a 15 personas e hiriendo a muchas más. La víctima más destacada fue Tiger Bech, un exjugador de fútbol de Princeton, quien sufrió lesiones internas fatales. Las autoridades están investigando el incidente, que el alcalde de Nueva Orleans ha calificado como un \"ataque terrorista\".', additional_kwargs={'refusal': None}, response_metadata={'token_usage': {'completion_tokens': 98, 'prompt_tokens': 5035, 'total_tokens': 5133, 'completion_tokens_details': {'accepted_prediction_tokens': 0, 'audio_tokens': 0, 'reasoning_tokens': 0, 'rejected_prediction_tokens': 0}, 'prompt_tokens_details': {'audio_tokens': 0, 'cached_tokens': 4864}}, 'model_name': 'gpt-4o-mini-2024-07-18', 'system_fingerprint': 'fp_0aa8d3e20b', 'finish_reason': 'stop', 'logprobs': None}, id='last_pred', usage_metadata={'input_tokens': 5035, 'output_tokens': 98, 'total_tokens': 5133, 'input_token_details': {'audio': 0, 'cache_read': 4864}, 'output_token_details': {'audio': 0, 'reasoning': 0}})}"
      ]
     },
     "execution_count": 24,
     "metadata": {},
     "output_type": "execute_result"
    }
   ],
   "source": [
    "a"
   ]
  },
  {
   "cell_type": "code",
   "execution_count": 97,
   "metadata": {},
   "outputs": [
    {
     "data": {
      "text/plain": [
       "'Donald Trump is the 45th President of the United States, having served from January 2017 to January 2021. He was born on June 14, 1946, in Queens, New York, and took over his father\\'s real estate business, renaming it the Trump Organization. Before his presidency, he was known for his reality TV show \"The Apprentice\" and his book \"The Art of the Deal.\" Trump is notable for his unconventional communication style, particularly through social media. He was impeached twice during his presidency and lost reelection to Joe Biden in 2020.'"
      ]
     },
     "execution_count": 97,
     "metadata": {},
     "output_type": "execute_result"
    }
   ],
   "source": [
    "a[\"generation\"].content"
   ]
  },
  {
   "cell_type": "code",
   "execution_count": 25,
   "metadata": {},
   "outputs": [
    {
     "name": "stdout",
     "output_type": "stream",
     "text": [
      "handle_trivial_question():  0.9483010768890381  seconds\n",
      "retrieve():  1.9162795543670654  secs\n",
      "grade_documents():  1.029559850692749  seconds\n",
      "answer_with_docs():  2.3317995071411133  seconds\n",
      "grade_documents_v_questiom():  2.110718011856079  seconds\n"
     ]
    },
    {
     "data": {
      "text/plain": [
       "{'streaming_avaiable': False,\n",
       " 'response_stream': None,\n",
       " 'generation': AIMessage(content='Elon Musk recently called for the UK’s right-wing Reform Party to replace its leader, Nigel Farage, stating that Farage \"doesn\\'t have what it takes.\" This came after Musk criticized the UK’s left-leaning Prime Minister, Keir Starmer.', additional_kwargs={'refusal': None}, response_metadata={'token_usage': {'completion_tokens': 54, 'prompt_tokens': 2749, 'total_tokens': 2803, 'completion_tokens_details': {'accepted_prediction_tokens': 0, 'audio_tokens': 0, 'reasoning_tokens': 0, 'rejected_prediction_tokens': 0}, 'prompt_tokens_details': {'audio_tokens': 0, 'cached_tokens': 1664}}, 'model_name': 'gpt-4o-mini-2024-07-18', 'system_fingerprint': 'fp_0aa8d3e20b', 'finish_reason': 'stop', 'logprobs': None}, id='last_pred', usage_metadata={'input_tokens': 2749, 'output_tokens': 54, 'total_tokens': 2803, 'input_token_details': {'audio': 0, 'cache_read': 1664}, 'output_token_details': {'audio': 0, 'reasoning': 0}})}"
      ]
     },
     "execution_count": 25,
     "metadata": {},
     "output_type": "execute_result"
    }
   ],
   "source": [
    "inputs = {\"question\": \"what did elon musk say about UK right wing party?\", \"news_summary\":text}\n",
    "app.invoke(inputs)"
   ]
  },
  {
   "cell_type": "code",
   "execution_count": 26,
   "metadata": {},
   "outputs": [
    {
     "data": {
      "text/plain": [
       "dict_keys(['streaming_avaiable', 'response_stream', 'generation'])"
      ]
     },
     "execution_count": 26,
     "metadata": {},
     "output_type": "execute_result"
    }
   ],
   "source": [
    "a.keys()\n"
   ]
  },
  {
   "cell_type": "markdown",
   "metadata": {},
   "source": [
    "_________"
   ]
  },
  {
   "cell_type": "code",
   "execution_count": 39,
   "metadata": {},
   "outputs": [],
   "source": [
    "class OverallState(TypedDict):\n",
    "    #includes all the keys of both input and output, + any other intermediate\n",
    "    a:int\n",
    "    b:int\n",
    "    c:int\n",
    "    ou_mami:str\n",
    "    \n",
    "\n",
    "class GGInput(TypedDict):\n",
    "    a : int\n",
    "    b : int\n",
    "    \n",
    "class GGOutput(TypedDict):\n",
    "    c:int\n",
    "    # b : int"
   ]
  },
  {
   "cell_type": "code",
   "execution_count": 42,
   "metadata": {},
   "outputs": [],
   "source": [
    "wowo = StateGraph(OverallState, input=GGInput, output=GGOutput)\n",
    "# Define the nodes\n",
    "\n",
    "def multiply_node(state): #since its the entrypoint node, it should be state:GGInput\n",
    "    \n",
    "    a = state[\"a\"]\n",
    "    b = state[\"b\"]\n",
    "    \n",
    "    return {\"c\":a*b}\n",
    "wowo.add_node(\"multiply_a_with_b\", multiply_node)\n",
    "# workflow.add_node(\"answer_trivial_question\", answer_trivial_question) \n",
    "# workflow.add_node(\"retrieve\", retrieve) \n",
    "\n",
    "wowo.set_entry_point('multiply_a_with_b')\n",
    "wowo.add_edge('multiply_a_with_b', END)\n",
    "\n",
    "riri = wowo.compile()\n",
    "# workflow.add_node(\"generate_queries\", generate_queries"
   ]
  },
  {
   "cell_type": "code",
   "execution_count": 43,
   "metadata": {},
   "outputs": [
    {
     "data": {
      "text/plain": [
       "{'c': 10}"
      ]
     },
     "execution_count": 43,
     "metadata": {},
     "output_type": "execute_result"
    }
   ],
   "source": [
    "riri.invoke({\"a\":5, \"b\":2})"
   ]
  },
  {
   "cell_type": "markdown",
   "metadata": {},
   "source": [
    "_____________"
   ]
  },
  {
   "cell_type": "markdown",
   "metadata": {},
   "source": [
    "____________________"
   ]
  },
  {
   "cell_type": "code",
   "execution_count": 4,
   "metadata": {},
   "outputs": [],
   "source": [
    "model = ChatOpenAI(model=\"gpt-4o-mini\")"
   ]
  },
  {
   "cell_type": "code",
   "execution_count": 18,
   "metadata": {},
   "outputs": [
    {
     "name": "stdout",
     "output_type": "stream",
     "text": [
      "|The| color| of| the| sky| can| vary| depending| on| several| factors|,| including| the| time| of| day|,| weather| conditions|,| and| atmospheric| particles|.| During| a| clear| day|,| the| sky| typically| appears| blue| due| to| the| scattering| of| sunlight| by| the| Earth's| atmosphere|.| This| phenomenon| is| known| as| Ray|leigh| scattering|.| At| sunrise| and| sunset|,| the| sky| can| display| a| range| of| colors|,| including| orange|,| pink|,| and| red|,| due| to| the| angle| of| the| sun| and| the| increased| distance| the| light| travels| through| the| atmosphere|.| On| cloudy| or| over|cast| days|,| the| sky| may| appear| gray|.| Additionally|,| pollution|,| dust|,| and| other| particles| can| also| affect| the| sky|'s| color|.||"
     ]
    }
   ],
   "source": [
    "chunks = []\n",
    "for chunk in model.stream(\"what color is the sky?\", max_completion_tokens=500,\n",
    "                          temperature=0):\n",
    "    chunks.append(chunk)\n",
    "    print(chunk.content, end=\"|\", flush=True)"
   ]
  },
  {
   "cell_type": "code",
   "execution_count": 22,
   "metadata": {},
   "outputs": [
    {
     "data": {
      "text/plain": [
       "AIMessageChunk(content=' color', additional_kwargs={}, response_metadata={}, id='run-03dbc03f-03db-441e-9ad3-6e68c5e86f8b')"
      ]
     },
     "execution_count": 22,
     "metadata": {},
     "output_type": "execute_result"
    }
   ],
   "source": [
    "chunks[2]"
   ]
  },
  {
   "cell_type": "code",
   "execution_count": 27,
   "metadata": {},
   "outputs": [
    {
     "name": "stdout",
     "output_type": "stream",
     "text": [
      "pygame 2.6.1 (SDL 2.28.4, Python 3.11.9)\n",
      "Hello from the pygame community. https://www.pygame.org/contribute.html\n"
     ]
    },
    {
     "ename": "ImportError",
     "evalue": "cannot import name 'streamed_tts_langchain' from 'tts_variants' (c:\\Users\\pablo\\Desktop\\P - Proyectos en Curso\\ai-curated-articles\\agent\\my-app\\app\\article-prep-agent\\v2\\implementations\\local_audio_chat_demo\\tts_variants.py)",
     "output_type": "error",
     "traceback": [
      "\u001b[1;31m---------------------------------------------------------------------------\u001b[0m",
      "\u001b[1;31mImportError\u001b[0m                               Traceback (most recent call last)",
      "Cell \u001b[1;32mIn[27], line 1\u001b[0m\n\u001b[1;32m----> 1\u001b[0m \u001b[38;5;28;01mfrom\u001b[39;00m \u001b[38;5;21;01mtts_variants\u001b[39;00m \u001b[38;5;28;01mimport\u001b[39;00m streamed_tts_langchain\n",
      "\u001b[1;31mImportError\u001b[0m: cannot import name 'streamed_tts_langchain' from 'tts_variants' (c:\\Users\\pablo\\Desktop\\P - Proyectos en Curso\\ai-curated-articles\\agent\\my-app\\app\\article-prep-agent\\v2\\implementations\\local_audio_chat_demo\\tts_variants.py)"
     ]
    }
   ],
   "source": [
    "from tts_variants import streamed_tts_langchain"
   ]
  },
  {
   "cell_type": "code",
   "execution_count": 158,
   "metadata": {},
   "outputs": [
    {
     "name": "stdout",
     "output_type": "stream",
     "text": [
      "Queued sentence: One interesting curiosity about Americans is their love for fast food.\n",
      "Queued sentence: The United States is home to some of the largest and most recognizable fast-food chains in the world, such as McDonald's, Burger King, and Taco Bell.\n",
      "Queued sentence: The fast-food industry has become a significant part of American culture, with many people enjoying the convenience and affordability it offers.\n",
      "Queued sentence: In fact, it's estimated that Americans consume around 50 billion burgers each year!\n",
      "Queued sentence: This phenomenon reflects not only dietary habits but also broader trends in lifestyle and consumer culture in the U.\n",
      "Queued sentence: S.\n",
      "Time taken to start playing audio clip: 2.6088027954101562 seconds\n",
      "Time taken to start playing audio clip: 6.806114673614502 seconds\n",
      "Time taken to start playing audio clip: 15.923211574554443 seconds\n",
      "Time taken to start playing audio clip: 24.633734464645386 seconds\n",
      "Time taken to start playing audio clip: 30.25316071510315 seconds\n",
      "Time taken to start playing audio clip: 37.63345408439636 seconds\n"
     ]
    }
   ],
   "source": [
    "streamed_tts_langchain(model,\n",
    "                       text=\"tell me a curiosity about americans\")"
   ]
  },
  {
   "cell_type": "markdown",
   "metadata": {},
   "source": [
    "_______________"
   ]
  },
  {
   "cell_type": "markdown",
   "metadata": {},
   "source": [
    "______________________"
   ]
  },
  {
   "cell_type": "code",
   "execution_count": 104,
   "metadata": {},
   "outputs": [],
   "source": [
    "from utils.sst import transcribe_audio"
   ]
  },
  {
   "cell_type": "code",
   "execution_count": 105,
   "metadata": {},
   "outputs": [],
   "source": [
    "text = transcribe_audio(\"narrative.wav\")"
   ]
  },
  {
   "cell_type": "code",
   "execution_count": 111,
   "metadata": {},
   "outputs": [],
   "source": [
    "inputs = {\"question\": \"que ocurrio en el atentado de nueva orleans?\", \"news_summary\":text}"
   ]
  },
  {
   "cell_type": "code",
   "execution_count": 112,
   "metadata": {},
   "outputs": [
    {
     "name": "stdout",
     "output_type": "stream",
     "text": [
      "handle_trivial_question():  1.2733216285705566  seconds\n",
      "retrieve():  0.9772970676422119  secs\n",
      "grade_documents():  1.1743078231811523  seconds\n",
      "already searched queries (if applicable): None\n",
      "Elapsed time generate_queries():  2.506319046020508  seconds\n",
      "gonna generate 1 queries\n",
      "Warning: No raw_content found for source https://www.newsweek.com/new-orleans-attack-update-fbi-reveals-new-timeline-events-2009961\n",
      "[*] Elapsed time for search:  3.6064083576202393\n",
      "answer_with_docs():  2.552968978881836  seconds\n",
      "grade_documents_v_questiom():  2.28853702545166  seconds\n"
     ]
    },
    {
     "data": {
      "text/plain": [
       "{'generation': AIMessage(content='En el atentado de Nueva Orleans, que ocurrió el Día de Año Nuevo, 14 víctimas perdieron la vida. El FBI ha proporcionado una actualización detallada sobre los eventos relacionados con este ataque en Bourbon Street.', additional_kwargs={'refusal': None}, response_metadata={'token_usage': {'completion_tokens': 44, 'prompt_tokens': 896, 'total_tokens': 940, 'completion_tokens_details': {'accepted_prediction_tokens': 0, 'audio_tokens': 0, 'reasoning_tokens': 0, 'rejected_prediction_tokens': 0}, 'prompt_tokens_details': {'audio_tokens': 0, 'cached_tokens': 0}}, 'model_name': 'gpt-4o-mini-2024-07-18', 'system_fingerprint': 'fp_0aa8d3e20b', 'finish_reason': 'stop', 'logprobs': None}, id='last_pred', usage_metadata={'input_tokens': 896, 'output_tokens': 44, 'total_tokens': 940, 'input_token_details': {'audio': 0, 'cache_read': 0}, 'output_token_details': {'audio': 0, 'reasoning': 0}})}"
      ]
     },
     "execution_count": 112,
     "metadata": {},
     "output_type": "execute_result"
    }
   ],
   "source": [
    "app.invoke(input=inputs)"
   ]
  },
  {
   "cell_type": "code",
   "execution_count": 150,
   "metadata": {},
   "outputs": [
    {
     "name": "stdout",
     "output_type": "stream",
     "text": [
      "'Finished running: handle_trivial_question:'\n",
      "'Finished running: retrieve:'\n",
      "'Finished running: grade_documents:'\n",
      "'Finished running: answer_with_docs:'\n",
      "'Finished running: grade_generation_v_documents_and_question:'\n",
      "'Finished running: detect_if_final_pred:'\n"
     ]
    }
   ],
   "source": [
    "# from pprint import pprint\n",
    "# for output in app.stream(inputs, thread):\n",
    "#     for key, value in output.items():\n",
    "#         pprint(f\"Finished running: {key}:\")"
   ]
  },
  {
   "cell_type": "code",
   "execution_count": 86,
   "metadata": {},
   "outputs": [
    {
     "name": "stdout",
     "output_type": "stream",
     "text": [
      "'Finished running: handle_trivial_question:'\n",
      "'Finished running: retrieve:'\n",
      "'Finished running: grade_documents:'\n",
      "'Finished running: answer_with_docs:'\n",
      "'Finished running: grade_generation_v_documents_and_question:'\n",
      "'Finished running: detect_if_final_pred:'\n",
      "None\n"
     ]
    }
   ],
   "source": [
    "from pprint import pprint\n",
    "inputs = {\"question\": \"what did elon musk say about UK right wing party?\", \"news_summary\":text}\n",
    "for output in app.stream(inputs, thread):\n",
    "    for key, value in output.items():\n",
    "        pprint(f\"Finished running: {key}:\")\n",
    "pprint(value)"
   ]
  },
  {
   "cell_type": "code",
   "execution_count": 87,
   "metadata": {},
   "outputs": [
    {
     "data": {
      "text/plain": [
       "{'generation': AIMessage(content='Elon Musk recently called for the UK’s right-wing Reform Party to replace its leader, Nigel Farage, stating that \"Farage doesn’t have what it takes.\" This came after Musk criticized the UK’s left-leaning Prime Minister, Keir Starmer.', additional_kwargs={'refusal': None}, response_metadata={'token_usage': {'completion_tokens': 55, 'prompt_tokens': 6014, 'total_tokens': 6069, 'completion_tokens_details': {'accepted_prediction_tokens': 0, 'audio_tokens': 0, 'reasoning_tokens': 0, 'rejected_prediction_tokens': 0}, 'prompt_tokens_details': {'audio_tokens': 0, 'cached_tokens': 5888}}, 'model_name': 'gpt-4o-mini-2024-07-18', 'system_fingerprint': 'fp_0aa8d3e20b', 'finish_reason': 'stop', 'logprobs': None}, id='last_pred', usage_metadata={'input_tokens': 6014, 'output_tokens': 55, 'total_tokens': 6069, 'input_token_details': {'audio': 0, 'cache_read': 5888}, 'output_token_details': {'audio': 0, 'reasoning': 0}})}"
      ]
     },
     "execution_count": 87,
     "metadata": {},
     "output_type": "execute_result"
    }
   ],
   "source": [
    "app.invoke(inputs)"
   ]
  },
  {
   "cell_type": "code",
   "execution_count": 14,
   "metadata": {},
   "outputs": [],
   "source": [
    "inputs = {\"question\": \"who has accused to who between Venezuela and Argentina?\", \"news_summary\":text}\n"
   ]
  },
  {
   "cell_type": "code",
   "execution_count": 15,
   "metadata": {},
   "outputs": [
    {
     "name": "stdout",
     "output_type": "stream",
     "text": [
      "handle_trivial_question():  1.068077802658081  seconds\n",
      "retrieve():  0.558140754699707  secs\n",
      "grade_documents():  0.9966485500335693  seconds\n",
      "answer_with_docs():  1.5584099292755127  seconds\n",
      "grade_documents_v_questiom():  2.177999973297119  seconds\n"
     ]
    },
    {
     "data": {
      "text/plain": [
       "{'generation': AIMessage(content='Venezuela has accused an Argentine officer of terrorism, which has contributed to the deteriorating relations between the two countries.', additional_kwargs={'refusal': None}, response_metadata={'token_usage': {'completion_tokens': 25, 'prompt_tokens': 1618, 'total_tokens': 1643, 'completion_tokens_details': {'accepted_prediction_tokens': 0, 'audio_tokens': 0, 'reasoning_tokens': 0, 'rejected_prediction_tokens': 0}, 'prompt_tokens_details': {'audio_tokens': 0, 'cached_tokens': 0}}, 'model_name': 'gpt-4o-mini-2024-07-18', 'system_fingerprint': 'fp_0aa8d3e20b', 'finish_reason': 'stop', 'logprobs': None}, id='last_pred', usage_metadata={'input_tokens': 1618, 'output_tokens': 25, 'total_tokens': 1643, 'input_token_details': {'audio': 0, 'cache_read': 0}, 'output_token_details': {'audio': 0, 'reasoning': 0}})}"
      ]
     },
     "execution_count": 15,
     "metadata": {},
     "output_type": "execute_result"
    }
   ],
   "source": [
    "app.invoke(inputs)"
   ]
  },
  {
   "cell_type": "code",
   "execution_count": 16,
   "metadata": {},
   "outputs": [],
   "source": [
    "inputs = {\"question\": \"which is the current political party at germanu?\", \"news_summary\":text}\n"
   ]
  },
  {
   "cell_type": "code",
   "execution_count": 17,
   "metadata": {},
   "outputs": [
    {
     "name": "stdout",
     "output_type": "stream",
     "text": [
      "handle_trivial_question():  0.9733643531799316  seconds\n",
      "retrieve():  0.6992456912994385  secs\n",
      "grade_documents():  0.9832816123962402  seconds\n",
      "already searched queries (if applicable): None\n",
      "Elapsed time generate_queries():  1.618110179901123  seconds\n",
      "gonna generate 1 queries\n",
      "Warning: No raw_content found for source https://politpro.eu/en/germany\n",
      "[*] Elapsed time for search:  2.277712345123291\n",
      "answer_with_docs():  1.450340986251831  seconds\n",
      "grade_documents_v_questiom():  2.016035795211792  seconds\n"
     ]
    },
    {
     "data": {
      "text/plain": [
       "{'generation': AIMessage(content='The current political party in Germany is the SPD, led by Chancellor Olaf Scholz, who is running for re-election in the upcoming 2025 federal election.', additional_kwargs={'refusal': None}, response_metadata={'token_usage': {'completion_tokens': 33, 'prompt_tokens': 907, 'total_tokens': 940, 'completion_tokens_details': {'accepted_prediction_tokens': 0, 'audio_tokens': 0, 'reasoning_tokens': 0, 'rejected_prediction_tokens': 0}, 'prompt_tokens_details': {'audio_tokens': 0, 'cached_tokens': 0}}, 'model_name': 'gpt-4o-mini-2024-07-18', 'system_fingerprint': 'fp_0aa8d3e20b', 'finish_reason': 'stop', 'logprobs': None}, id='last_pred', usage_metadata={'input_tokens': 907, 'output_tokens': 33, 'total_tokens': 940, 'input_token_details': {'audio': 0, 'cache_read': 0}, 'output_token_details': {'audio': 0, 'reasoning': 0}})}"
      ]
     },
     "execution_count": 17,
     "metadata": {},
     "output_type": "execute_result"
    }
   ],
   "source": [
    "app.invoke(inputs)"
   ]
  },
  {
   "cell_type": "code",
   "execution_count": 18,
   "metadata": {},
   "outputs": [],
   "source": [
    "inputs = {\"question\": \"when did elon musk come to the U.S?\", \"news_summary\":text}\n"
   ]
  },
  {
   "cell_type": "code",
   "execution_count": 19,
   "metadata": {},
   "outputs": [
    {
     "name": "stdout",
     "output_type": "stream",
     "text": [
      "handle_trivial_question():  0.9079451560974121  seconds\n",
      "retrieve():  1.0117716789245605  secs\n",
      "grade_documents():  1.0382065773010254  seconds\n",
      "already searched queries (if applicable): None\n",
      "Elapsed time generate_queries():  1.7156682014465332  seconds\n",
      "gonna generate 2 queries\n",
      "Warning: No raw_content found for source https://www.newsweek.com/elon-musk-immigration-status-1990s-donald-trump-twitter-2024-election-1978588\n",
      "Warning: No raw_content found for source https://www.cnbc.com/2020/05/26/elon-musk-on-his-success-america-is-the-land-of-opportunity.html\n",
      "[*] Elapsed time for search:  4.6060967445373535\n",
      "answer_with_docs():  1.2704432010650635  seconds\n",
      "grade_documents_v_questiom():  2.0480756759643555  seconds\n"
     ]
    },
    {
     "data": {
      "text/plain": [
       "{'generation': AIMessage(content='Elon Musk moved to the U.S. in 1992.', additional_kwargs={'refusal': None}, response_metadata={'token_usage': {'completion_tokens': 15, 'prompt_tokens': 1140, 'total_tokens': 1155, 'completion_tokens_details': {'accepted_prediction_tokens': 0, 'audio_tokens': 0, 'reasoning_tokens': 0, 'rejected_prediction_tokens': 0}, 'prompt_tokens_details': {'audio_tokens': 0, 'cached_tokens': 0}}, 'model_name': 'gpt-4o-mini-2024-07-18', 'system_fingerprint': 'fp_0aa8d3e20b', 'finish_reason': 'stop', 'logprobs': None}, id='last_pred', usage_metadata={'input_tokens': 1140, 'output_tokens': 15, 'total_tokens': 1155, 'input_token_details': {'audio': 0, 'cache_read': 0}, 'output_token_details': {'audio': 0, 'reasoning': 0}})}"
      ]
     },
     "execution_count": 19,
     "metadata": {},
     "output_type": "execute_result"
    }
   ],
   "source": [
    "app.invoke(inputs)"
   ]
  },
  {
   "cell_type": "code",
   "execution_count": null,
   "metadata": {},
   "outputs": [],
   "source": []
  },
  {
   "cell_type": "markdown",
   "metadata": {},
   "source": [
    "\n",
    "Sample event \n",
    "\n",
    "```python\n",
    "\n",
    "{'event': 'on_chain_end',\n",
    "\n",
    " 'data': {'output': \n",
    " \n",
    "  {'news_summary': \"Ready to know ,\n",
    "   'question': 'who is the nephew of Francisco Hitler?',\n",
    "   'question_type': 'is_trivial',\n",
    "   'generation': \"There is no widely recognized historical figure named Francisco Hitler, and Adolf Hitler, the infamous leader of Nazi Germany, did not have a nephew by that name. Adolf Hitler did have a nephew named William Patrick Hitler, who was the son of Adolf's half-brother, Alois Hitler Jr. If you meant a different person or context, please provide more details.\",\n",
    "   'iterations': 0}},\n",
    "\n",
    " 'run_id': 'b2236655-5928-4feb-8926-a65ea904b123',\n",
    " 'name': 'LangGraph',\n",
    " 'tags': [],\n",
    " 'metadata': {},\n",
    " 'parent_ids': []}\n",
    "\n",
    "```"
   ]
  },
  {
   "cell_type": "code",
   "execution_count": null,
   "metadata": {},
   "outputs": [],
   "source": [
    "{'event': 'on_chat_model_stream',\n",
    " 'data': {'chunk':\n",
    "     AIMessageChunk(content=' widely', \n",
    "                    additional_kwargs={}, response_metadata={},\n",
    "                    id='run-bde93253-82d3-42a1-8584-88f0abd5ee8a')},\n",
    " \n",
    " 'run_id': 'bde93253-82d3-42a1-8584-88f0abd5ee8a', 'name': 'ChatOpenAI',\n",
    " 'tags': ['seq:step:1'], 'metadata': {'langgraph_step': 2, \n",
    "                                      'langgraph_node': 'answer_trivial_question', 'langgraph_triggers': ['branch:handle_trivial_question:detect_trivial_question:answer_trivial_question'], 'langgraph_path': ('__pregel_pull', 'answer_trivial_question'), 'langgraph_checkpoint_ns': 'answer_trivial_question:56ca808a-954c-1893-fb4d-3b16d1da3ac2', 'checkpoint_ns': 'answer_trivial_question:56ca808a-954c-1893-fb4d-3b16d1da3ac2', 'ls_provider': 'openai', 'ls_model_name': 'gpt-4o', 'ls_model_type': 'chat', 'ls_temperature': 0.0, 'ls_method': 'traceable'}, 'parent_ids': ['464e03d0-68ee-45ba-b9db-c65c36fadd5a']}\n"
   ]
  },
  {
   "cell_type": "code",
   "execution_count": 37,
   "metadata": {},
   "outputs": [],
   "source": [
    "from langchain_core.messages import HumanMessage\n"
   ]
  },
  {
   "cell_type": "code",
   "execution_count": 44,
   "metadata": {},
   "outputs": [
    {
     "data": {
      "text/plain": [
       "{'event': 'on_chain_end',\n",
       " 'data': {'output': {'news_summary': \"Ready to know what happened this week? Let's dive in. First up, fitness enthusiasts are buzzing about high-intensity interval training, which promises to keep you burning calories long after your workout ends. Meanwhile, in the world of international affairs, Ukraine made headlines by using a naval drone to take down a Russian helicopter, marking a significant moment in their ongoing conflict. As Asia celebrated the arrival of 2025 with spectacular fireworks, Elon Musk stirred controversy in Germany by endorsing a far-right party, leading to a media shake-up. Across the Atlantic, Donald Trump surprised many by supporting Elon Musk and the H-1B visa program, causing ripples within the Republican Party. In entertainment, Lily-Rose Depp is making waves with her role in the new Nasratu film, while Trump mourns the loss of former U.S. President Jimmy Carter, who passed away at 100, leaving behind a legacy of peace and humanitarian work. Spain is facing unrest as public employees deal with frozen salaries and healthcare disruptions, while in Brazil, a tragic poisoning incident involving a Christmas cake is under investigation. Azerbaijan and Russia are at odds over a plane crash, with calls for an independent probe. In South Korea, a devastating plane crash claimed 179 lives, marking the worst air disaster in the country in decades. New York is reeling from a scandal involving prison brutality, prompting calls for justice and reform. The WHO's Tedros Adhanom Ghebreyesus narrowly escaped a bombing in Yemen, highlighting the ongoing conflict in the region. Tensions are also high between Venezuela and Argentina over accusations of terrorism, while Ukraine continues to fend off Russian aerial attacks. In Madrid, a graffiti artist faces a hefty fine for his street art spree, and in New York, a shocking video of prison violence has sparked outrage and investigations. Meanwhile, Russia's use of a ghost freight to bypass sanctions is raising alarms in the Baltic region. In China, a tragic incident involving a driver plowing into a crowd has sparked discussions on public mourning and censorship. Back in New York, the Guardian Angels are back on patrol in the subway after a horrific attack, aiming to boost public safety. Finally, Spain's Muface is in turmoil as major health insurers withdraw, leaving many civil servants without private coverage. As the year wraps up, these events remind us of the complexities and challenges facing our world today. Stay tuned for more updates.\\n\",\n",
       "   'question': 'who is the nephew of Francisco Hitler?',\n",
       "   'question_type': 'is_trivial',\n",
       "   'generation': \"There is no widely recognized historical figure named Francisco Hitler, and Adolf Hitler, the infamous leader of Nazi Germany, did not have a nephew by that name. Adolf Hitler did have a nephew named William Patrick Hitler, who was the son of Adolf's half-brother, Alois Hitler Jr. If you meant a different person or context, please provide more details.\",\n",
       "   'iterations': 0}},\n",
       " 'run_id': 'b2236655-5928-4feb-8926-a65ea904b123',\n",
       " 'name': 'LangGraph',\n",
       " 'tags': [],\n",
       " 'metadata': {},\n",
       " 'parent_ids': []}"
      ]
     },
     "execution_count": 44,
     "metadata": {},
     "output_type": "execute_result"
    }
   ],
   "source": [
    "event"
   ]
  },
  {
   "cell_type": "markdown",
   "metadata": {},
   "source": []
  },
  {
   "cell_type": "markdown",
   "metadata": {},
   "source": [
    "Sample event \n",
    "\n",
    "```python\n",
    "\n",
    "{'event': 'on_chain_end',\n",
    "\n",
    " 'data': {'output': \n",
    " \n",
    "  {'news_summary': \"Ready to know ,\n",
    "   'question': 'who is the nephew of Francisco Hitler?',\n",
    "   'question_type': 'is_trivial',\n",
    "   'generation': \"There is no widely recognized historical figure named Francisco Hitler, and Adolf Hitler, the infamous leader of Nazi Germany, did not have a nephew by that name. Adolf Hitler did have a nephew named William Patrick Hitler, who was the son of Adolf's half-brother, Alois Hitler Jr. If you meant a different person or context, please provide more details.\",\n",
    "   'iterations': 0}},\n",
    "\n",
    " 'run_id': 'b2236655-5928-4feb-8926-a65ea904b123',\n",
    " 'name': 'LangGraph',\n",
    " 'tags': [],\n",
    " 'metadata': {},\n",
    " 'parent_ids': []}\n",
    "\n",
    "```"
   ]
  },
  {
   "cell_type": "code",
   "execution_count": 51,
   "metadata": {},
   "outputs": [
    {
     "name": "stdout",
     "output_type": "stream",
     "text": [
      "yeah\n"
     ]
    }
   ],
   "source": [
    "if \".\":\n",
    "    \n",
    "    print(\"yeah\")"
   ]
  },
  {
   "cell_type": "code",
   "execution_count": 74,
   "metadata": {},
   "outputs": [],
   "source": [
    "a = llm.with_config({\"run_name\": \"my_parser\"}).invoke(\"hi!\")"
   ]
  },
  {
   "cell_type": "code",
   "execution_count": 76,
   "metadata": {},
   "outputs": [
    {
     "name": "stdout",
     "output_type": "stream",
     "text": [
      "('content', 'Hello! How can I assist you today?')\n",
      "('additional_kwargs', {'refusal': None})\n",
      "('response_metadata', {'token_usage': {'completion_tokens': 10, 'prompt_tokens': 9, 'total_tokens': 19, 'completion_tokens_details': {'accepted_prediction_tokens': 0, 'audio_tokens': 0, 'reasoning_tokens': 0, 'rejected_prediction_tokens': 0}, 'prompt_tokens_details': {'audio_tokens': 0, 'cached_tokens': 0}}, 'model_name': 'gpt-4o-2024-08-06', 'system_fingerprint': 'fp_5f20662549', 'finish_reason': 'stop', 'logprobs': None})\n",
      "('type', 'ai')\n",
      "('name', None)\n",
      "('id', 'run-a1939b84-6d78-4ebd-a407-a2631df1b658-0')\n",
      "('example', False)\n",
      "('tool_calls', [])\n",
      "('invalid_tool_calls', [])\n",
      "('usage_metadata', {'input_tokens': 9, 'output_tokens': 10, 'total_tokens': 19, 'input_token_details': {'audio': 0, 'cache_read': 0}, 'output_token_details': {'audio': 0, 'reasoning': 0}})\n"
     ]
    }
   ],
   "source": [
    "for i in a :\n",
    "    \n",
    "    print(i)"
   ]
  },
  {
   "cell_type": "code",
   "execution_count": 48,
   "metadata": {},
   "outputs": [
    {
     "name": "stdout",
     "output_type": "stream",
     "text": [
      "yeah\n"
     ]
    }
   ],
   "source": [
    "if event[\"data\"][\"output\"][\"generation\"]:\n",
    "    \n",
    "    print(\"yeah\")"
   ]
  },
  {
   "cell_type": "code",
   "execution_count": 56,
   "metadata": {},
   "outputs": [],
   "source": [
    "events = []"
   ]
  },
  {
   "cell_type": "code",
   "execution_count": null,
   "metadata": {},
   "outputs": [],
   "source": [
    "on_chat_model_stream {'chunk': AIMessageChunk(content='There', additional_kwargs={}, response_metadata={}, id='run-dd8f1b16-7f3f-4221-a3c6-8f132d8da2e9')}\n"
   ]
  },
  {
   "cell_type": "code",
   "execution_count": null,
   "metadata": {},
   "outputs": [],
   "source": [
    " infamous|{'event': 'on_chat_model_stream', 'name': 'ChatOpenAI', 'run_id': 'cca32238-5f3a-40b0-8128-d194ad37d8bb', 'tags': ['seq:step:1'], 'metadata': {'thread_id': '4', 'langgraph_step': 2, 'langgraph_node': 'answer_trivial_question', 'langgraph_triggers': ['branch:handle_trivial_question:detect_trivial_question:answer_trivial_question'], 'langgraph_path': ('__pregel_pull', 'answer_trivial_question'), 'langgraph_checkpoint_ns': 'answer_trivial_question:50c9ff04-674b-a566-d720-45f3514f74b4', 'checkpoint_ns': 'answer_trivial_question:50c9ff04-674b-a566-d720-45f3514f74b4', 'ls_provider': 'openai', 'ls_model_name': 'gpt-4o', 'ls_model_type': 'chat', 'ls_temperature': 0.0, 'ls_method': 'traceable'}, 'data': {'chunk': AIMessageChunk(content=' dictator', additional_kwargs={}, response_metadata={}, id='run-cca32238-5f3a-40b0-8128-d194ad37d8bb')}, 'parent_ids': []}\n"
   ]
  },
  {
   "cell_type": "code",
   "execution_count": 13,
   "metadata": {},
   "outputs": [
    {
     "data": {
      "text/plain": [
       "{'event': 'on_chain_end',\n",
       " 'name': 'LangGraph',\n",
       " 'run_id': 'e9c51a5c-6f04-4fa5-9e88-4c0a2d05359d',\n",
       " 'tags': [],\n",
       " 'metadata': {'thread_id': '4'},\n",
       " 'data': {'output': [{'handle_trivial_question': {'question': 'who is the nephew of Francisco Hitler?',\n",
       "     'question_type': 'is_trivial',\n",
       "     'iterations': 0}},\n",
       "   {'answer_trivial_question': {'question': 'who is the nephew of Francisco Hitler?',\n",
       "     'generation': \"There is no widely known or documented individual named Francisco Hitler, and therefore, no information about a nephew of such a person. It's possible that there might be some confusion or misinformation regarding the name. If you meant a different historical figure or need information on someone else, please provide more context or details.\"}}]},\n",
       " 'parent_ids': []}"
      ]
     },
     "execution_count": 13,
     "metadata": {},
     "output_type": "execute_result"
    }
   ],
   "source": [
    "event"
   ]
  },
  {
   "cell_type": "code",
   "execution_count": null,
   "metadata": {},
   "outputs": [],
   "source": [
    "There|{'event': 'on_chat_model_stream', 'name': 'ChatOpenAI', 'run_id': '9400c73b-de96-4212-b8de-b794fb1a5e1b', 'tags': ['seq:step:1'], 'metadata': {'thread_id': '4', 'langgraph_step': 2, 'langgraph_node': 'answer_trivial_question', 'langgraph_triggers': ['branch:handle_trivial_question:detect_trivial_question:answer_trivial_question'], 'langgraph_path': ('__pregel_pull', 'answer_trivial_question'), 'langgraph_checkpoint_ns': 'answer_trivial_question:2c8e6955-2750-bdc7-8c46-2f5bc1f29843', 'checkpoint_ns': 'answer_trivial_question:2c8e6955-2750-bdc7-8c46-2f5bc1f29843', 'ls_provider': 'openai', 'ls_model_name': 'gpt-4o', 'ls_model_type': 'chat', 'ls_temperature': 0.0, 'ls_method': 'traceable'}, 'data': {'chunk': AIMessageChunk(content=' is', additional_kwargs={}, response_metadata={}, id='run-9400c73b-de96-4212-b8de-b794fb1a5e1b')}, 'parent_ids': []}\n"
   ]
  },
  {
   "cell_type": "code",
   "execution_count": 12,
   "metadata": {},
   "outputs": [
    {
     "name": "stdout",
     "output_type": "stream",
     "text": [
      "{'event': 'on_chat_model_stream', 'name': 'ChatOpenAI', 'run_id': 'aab2fcad-b3c7-4b2a-a152-b716e96fd238', 'tags': ['seq:step:1'], 'metadata': {'thread_id': '4', 'langgraph_step': 1, 'langgraph_node': 'handle_trivial_question', 'langgraph_triggers': ['start:handle_trivial_question'], 'langgraph_path': ('__pregel_pull', 'handle_trivial_question'), 'langgraph_checkpoint_ns': 'handle_trivial_question:5a1a78e0-afd3-a273-492f-e4dfce223d10', 'checkpoint_ns': 'handle_trivial_question:5a1a78e0-afd3-a273-492f-e4dfce223d10', 'ls_provider': 'openai', 'ls_model_name': 'gpt-4o', 'ls_model_type': 'chat', 'ls_temperature': 0.0, 'ls_method': 'traceable'}, 'data': {'chunk': AIMessageChunk(content='', additional_kwargs={}, response_metadata={}, id='run-aab2fcad-b3c7-4b2a-a152-b716e96fd238')}, 'parent_ids': []}\n",
      "|{'event': 'on_chat_model_stream', 'name': 'ChatOpenAI', 'run_id': 'aab2fcad-b3c7-4b2a-a152-b716e96fd238', 'tags': ['seq:step:1'], 'metadata': {'thread_id': '4', 'langgraph_step': 1, 'langgraph_node': 'handle_trivial_question', 'langgraph_triggers': ['start:handle_trivial_question'], 'langgraph_path': ('__pregel_pull', 'handle_trivial_question'), 'langgraph_checkpoint_ns': 'handle_trivial_question:5a1a78e0-afd3-a273-492f-e4dfce223d10', 'checkpoint_ns': 'handle_trivial_question:5a1a78e0-afd3-a273-492f-e4dfce223d10', 'ls_provider': 'openai', 'ls_model_name': 'gpt-4o', 'ls_model_type': 'chat', 'ls_temperature': 0.0, 'ls_method': 'traceable'}, 'data': {'chunk': AIMessageChunk(content='is', additional_kwargs={}, response_metadata={}, id='run-aab2fcad-b3c7-4b2a-a152-b716e96fd238')}, 'parent_ids': []}\n",
      "is|{'event': 'on_chat_model_stream', 'name': 'ChatOpenAI', 'run_id': 'aab2fcad-b3c7-4b2a-a152-b716e96fd238', 'tags': ['seq:step:1'], 'metadata': {'thread_id': '4', 'langgraph_step': 1, 'langgraph_node': 'handle_trivial_question', 'langgraph_triggers': ['start:handle_trivial_question'], 'langgraph_path': ('__pregel_pull', 'handle_trivial_question'), 'langgraph_checkpoint_ns': 'handle_trivial_question:5a1a78e0-afd3-a273-492f-e4dfce223d10', 'checkpoint_ns': 'handle_trivial_question:5a1a78e0-afd3-a273-492f-e4dfce223d10', 'ls_provider': 'openai', 'ls_model_name': 'gpt-4o', 'ls_model_type': 'chat', 'ls_temperature': 0.0, 'ls_method': 'traceable'}, 'data': {'chunk': AIMessageChunk(content='_tr', additional_kwargs={}, response_metadata={}, id='run-aab2fcad-b3c7-4b2a-a152-b716e96fd238')}, 'parent_ids': []}\n",
      "_tr|{'event': 'on_chat_model_stream', 'name': 'ChatOpenAI', 'run_id': 'aab2fcad-b3c7-4b2a-a152-b716e96fd238', 'tags': ['seq:step:1'], 'metadata': {'thread_id': '4', 'langgraph_step': 1, 'langgraph_node': 'handle_trivial_question', 'langgraph_triggers': ['start:handle_trivial_question'], 'langgraph_path': ('__pregel_pull', 'handle_trivial_question'), 'langgraph_checkpoint_ns': 'handle_trivial_question:5a1a78e0-afd3-a273-492f-e4dfce223d10', 'checkpoint_ns': 'handle_trivial_question:5a1a78e0-afd3-a273-492f-e4dfce223d10', 'ls_provider': 'openai', 'ls_model_name': 'gpt-4o', 'ls_model_type': 'chat', 'ls_temperature': 0.0, 'ls_method': 'traceable'}, 'data': {'chunk': AIMessageChunk(content='ivial', additional_kwargs={}, response_metadata={}, id='run-aab2fcad-b3c7-4b2a-a152-b716e96fd238')}, 'parent_ids': []}\n",
      "ivial|{'event': 'on_chat_model_stream', 'name': 'ChatOpenAI', 'run_id': 'aab2fcad-b3c7-4b2a-a152-b716e96fd238', 'tags': ['seq:step:1'], 'metadata': {'thread_id': '4', 'langgraph_step': 1, 'langgraph_node': 'handle_trivial_question', 'langgraph_triggers': ['start:handle_trivial_question'], 'langgraph_path': ('__pregel_pull', 'handle_trivial_question'), 'langgraph_checkpoint_ns': 'handle_trivial_question:5a1a78e0-afd3-a273-492f-e4dfce223d10', 'checkpoint_ns': 'handle_trivial_question:5a1a78e0-afd3-a273-492f-e4dfce223d10', 'ls_provider': 'openai', 'ls_model_name': 'gpt-4o', 'ls_model_type': 'chat', 'ls_temperature': 0.0, 'ls_method': 'traceable'}, 'data': {'chunk': AIMessageChunk(content='', additional_kwargs={}, response_metadata={'finish_reason': 'stop', 'model_name': 'gpt-4o-2024-08-06', 'system_fingerprint': 'fp_d28bcae782'}, id='run-aab2fcad-b3c7-4b2a-a152-b716e96fd238')}, 'parent_ids': []}\n",
      "|{'event': 'on_chat_model_stream', 'name': 'ChatOpenAI', 'run_id': '9400c73b-de96-4212-b8de-b794fb1a5e1b', 'tags': ['seq:step:1'], 'metadata': {'thread_id': '4', 'langgraph_step': 2, 'langgraph_node': 'answer_trivial_question', 'langgraph_triggers': ['branch:handle_trivial_question:detect_trivial_question:answer_trivial_question'], 'langgraph_path': ('__pregel_pull', 'answer_trivial_question'), 'langgraph_checkpoint_ns': 'answer_trivial_question:2c8e6955-2750-bdc7-8c46-2f5bc1f29843', 'checkpoint_ns': 'answer_trivial_question:2c8e6955-2750-bdc7-8c46-2f5bc1f29843', 'ls_provider': 'openai', 'ls_model_name': 'gpt-4o', 'ls_model_type': 'chat', 'ls_temperature': 0.0, 'ls_method': 'traceable'}, 'data': {'chunk': AIMessageChunk(content='', additional_kwargs={}, response_metadata={}, id='run-9400c73b-de96-4212-b8de-b794fb1a5e1b')}, 'parent_ids': []}\n",
      "|{'event': 'on_chat_model_stream', 'name': 'ChatOpenAI', 'run_id': '9400c73b-de96-4212-b8de-b794fb1a5e1b', 'tags': ['seq:step:1'], 'metadata': {'thread_id': '4', 'langgraph_step': 2, 'langgraph_node': 'answer_trivial_question', 'langgraph_triggers': ['branch:handle_trivial_question:detect_trivial_question:answer_trivial_question'], 'langgraph_path': ('__pregel_pull', 'answer_trivial_question'), 'langgraph_checkpoint_ns': 'answer_trivial_question:2c8e6955-2750-bdc7-8c46-2f5bc1f29843', 'checkpoint_ns': 'answer_trivial_question:2c8e6955-2750-bdc7-8c46-2f5bc1f29843', 'ls_provider': 'openai', 'ls_model_name': 'gpt-4o', 'ls_model_type': 'chat', 'ls_temperature': 0.0, 'ls_method': 'traceable'}, 'data': {'chunk': AIMessageChunk(content='There', additional_kwargs={}, response_metadata={}, id='run-9400c73b-de96-4212-b8de-b794fb1a5e1b')}, 'parent_ids': []}\n",
      "There|{'event': 'on_chat_model_stream', 'name': 'ChatOpenAI', 'run_id': '9400c73b-de96-4212-b8de-b794fb1a5e1b', 'tags': ['seq:step:1'], 'metadata': {'thread_id': '4', 'langgraph_step': 2, 'langgraph_node': 'answer_trivial_question', 'langgraph_triggers': ['branch:handle_trivial_question:detect_trivial_question:answer_trivial_question'], 'langgraph_path': ('__pregel_pull', 'answer_trivial_question'), 'langgraph_checkpoint_ns': 'answer_trivial_question:2c8e6955-2750-bdc7-8c46-2f5bc1f29843', 'checkpoint_ns': 'answer_trivial_question:2c8e6955-2750-bdc7-8c46-2f5bc1f29843', 'ls_provider': 'openai', 'ls_model_name': 'gpt-4o', 'ls_model_type': 'chat', 'ls_temperature': 0.0, 'ls_method': 'traceable'}, 'data': {'chunk': AIMessageChunk(content=' is', additional_kwargs={}, response_metadata={}, id='run-9400c73b-de96-4212-b8de-b794fb1a5e1b')}, 'parent_ids': []}\n",
      " is|{'event': 'on_chat_model_stream', 'name': 'ChatOpenAI', 'run_id': '9400c73b-de96-4212-b8de-b794fb1a5e1b', 'tags': ['seq:step:1'], 'metadata': {'thread_id': '4', 'langgraph_step': 2, 'langgraph_node': 'answer_trivial_question', 'langgraph_triggers': ['branch:handle_trivial_question:detect_trivial_question:answer_trivial_question'], 'langgraph_path': ('__pregel_pull', 'answer_trivial_question'), 'langgraph_checkpoint_ns': 'answer_trivial_question:2c8e6955-2750-bdc7-8c46-2f5bc1f29843', 'checkpoint_ns': 'answer_trivial_question:2c8e6955-2750-bdc7-8c46-2f5bc1f29843', 'ls_provider': 'openai', 'ls_model_name': 'gpt-4o', 'ls_model_type': 'chat', 'ls_temperature': 0.0, 'ls_method': 'traceable'}, 'data': {'chunk': AIMessageChunk(content=' no', additional_kwargs={}, response_metadata={}, id='run-9400c73b-de96-4212-b8de-b794fb1a5e1b')}, 'parent_ids': []}\n",
      " no|{'event': 'on_chat_model_stream', 'name': 'ChatOpenAI', 'run_id': '9400c73b-de96-4212-b8de-b794fb1a5e1b', 'tags': ['seq:step:1'], 'metadata': {'thread_id': '4', 'langgraph_step': 2, 'langgraph_node': 'answer_trivial_question', 'langgraph_triggers': ['branch:handle_trivial_question:detect_trivial_question:answer_trivial_question'], 'langgraph_path': ('__pregel_pull', 'answer_trivial_question'), 'langgraph_checkpoint_ns': 'answer_trivial_question:2c8e6955-2750-bdc7-8c46-2f5bc1f29843', 'checkpoint_ns': 'answer_trivial_question:2c8e6955-2750-bdc7-8c46-2f5bc1f29843', 'ls_provider': 'openai', 'ls_model_name': 'gpt-4o', 'ls_model_type': 'chat', 'ls_temperature': 0.0, 'ls_method': 'traceable'}, 'data': {'chunk': AIMessageChunk(content=' widely', additional_kwargs={}, response_metadata={}, id='run-9400c73b-de96-4212-b8de-b794fb1a5e1b')}, 'parent_ids': []}\n",
      " widely|{'event': 'on_chat_model_stream', 'name': 'ChatOpenAI', 'run_id': '9400c73b-de96-4212-b8de-b794fb1a5e1b', 'tags': ['seq:step:1'], 'metadata': {'thread_id': '4', 'langgraph_step': 2, 'langgraph_node': 'answer_trivial_question', 'langgraph_triggers': ['branch:handle_trivial_question:detect_trivial_question:answer_trivial_question'], 'langgraph_path': ('__pregel_pull', 'answer_trivial_question'), 'langgraph_checkpoint_ns': 'answer_trivial_question:2c8e6955-2750-bdc7-8c46-2f5bc1f29843', 'checkpoint_ns': 'answer_trivial_question:2c8e6955-2750-bdc7-8c46-2f5bc1f29843', 'ls_provider': 'openai', 'ls_model_name': 'gpt-4o', 'ls_model_type': 'chat', 'ls_temperature': 0.0, 'ls_method': 'traceable'}, 'data': {'chunk': AIMessageChunk(content=' known', additional_kwargs={}, response_metadata={}, id='run-9400c73b-de96-4212-b8de-b794fb1a5e1b')}, 'parent_ids': []}\n",
      " known|{'event': 'on_chat_model_stream', 'name': 'ChatOpenAI', 'run_id': '9400c73b-de96-4212-b8de-b794fb1a5e1b', 'tags': ['seq:step:1'], 'metadata': {'thread_id': '4', 'langgraph_step': 2, 'langgraph_node': 'answer_trivial_question', 'langgraph_triggers': ['branch:handle_trivial_question:detect_trivial_question:answer_trivial_question'], 'langgraph_path': ('__pregel_pull', 'answer_trivial_question'), 'langgraph_checkpoint_ns': 'answer_trivial_question:2c8e6955-2750-bdc7-8c46-2f5bc1f29843', 'checkpoint_ns': 'answer_trivial_question:2c8e6955-2750-bdc7-8c46-2f5bc1f29843', 'ls_provider': 'openai', 'ls_model_name': 'gpt-4o', 'ls_model_type': 'chat', 'ls_temperature': 0.0, 'ls_method': 'traceable'}, 'data': {'chunk': AIMessageChunk(content=' or', additional_kwargs={}, response_metadata={}, id='run-9400c73b-de96-4212-b8de-b794fb1a5e1b')}, 'parent_ids': []}\n",
      " or|{'event': 'on_chat_model_stream', 'name': 'ChatOpenAI', 'run_id': '9400c73b-de96-4212-b8de-b794fb1a5e1b', 'tags': ['seq:step:1'], 'metadata': {'thread_id': '4', 'langgraph_step': 2, 'langgraph_node': 'answer_trivial_question', 'langgraph_triggers': ['branch:handle_trivial_question:detect_trivial_question:answer_trivial_question'], 'langgraph_path': ('__pregel_pull', 'answer_trivial_question'), 'langgraph_checkpoint_ns': 'answer_trivial_question:2c8e6955-2750-bdc7-8c46-2f5bc1f29843', 'checkpoint_ns': 'answer_trivial_question:2c8e6955-2750-bdc7-8c46-2f5bc1f29843', 'ls_provider': 'openai', 'ls_model_name': 'gpt-4o', 'ls_model_type': 'chat', 'ls_temperature': 0.0, 'ls_method': 'traceable'}, 'data': {'chunk': AIMessageChunk(content=' documented', additional_kwargs={}, response_metadata={}, id='run-9400c73b-de96-4212-b8de-b794fb1a5e1b')}, 'parent_ids': []}\n",
      " documented|{'event': 'on_chat_model_stream', 'name': 'ChatOpenAI', 'run_id': '9400c73b-de96-4212-b8de-b794fb1a5e1b', 'tags': ['seq:step:1'], 'metadata': {'thread_id': '4', 'langgraph_step': 2, 'langgraph_node': 'answer_trivial_question', 'langgraph_triggers': ['branch:handle_trivial_question:detect_trivial_question:answer_trivial_question'], 'langgraph_path': ('__pregel_pull', 'answer_trivial_question'), 'langgraph_checkpoint_ns': 'answer_trivial_question:2c8e6955-2750-bdc7-8c46-2f5bc1f29843', 'checkpoint_ns': 'answer_trivial_question:2c8e6955-2750-bdc7-8c46-2f5bc1f29843', 'ls_provider': 'openai', 'ls_model_name': 'gpt-4o', 'ls_model_type': 'chat', 'ls_temperature': 0.0, 'ls_method': 'traceable'}, 'data': {'chunk': AIMessageChunk(content=' individual', additional_kwargs={}, response_metadata={}, id='run-9400c73b-de96-4212-b8de-b794fb1a5e1b')}, 'parent_ids': []}\n",
      " individual|{'event': 'on_chat_model_stream', 'name': 'ChatOpenAI', 'run_id': '9400c73b-de96-4212-b8de-b794fb1a5e1b', 'tags': ['seq:step:1'], 'metadata': {'thread_id': '4', 'langgraph_step': 2, 'langgraph_node': 'answer_trivial_question', 'langgraph_triggers': ['branch:handle_trivial_question:detect_trivial_question:answer_trivial_question'], 'langgraph_path': ('__pregel_pull', 'answer_trivial_question'), 'langgraph_checkpoint_ns': 'answer_trivial_question:2c8e6955-2750-bdc7-8c46-2f5bc1f29843', 'checkpoint_ns': 'answer_trivial_question:2c8e6955-2750-bdc7-8c46-2f5bc1f29843', 'ls_provider': 'openai', 'ls_model_name': 'gpt-4o', 'ls_model_type': 'chat', 'ls_temperature': 0.0, 'ls_method': 'traceable'}, 'data': {'chunk': AIMessageChunk(content=' named', additional_kwargs={}, response_metadata={}, id='run-9400c73b-de96-4212-b8de-b794fb1a5e1b')}, 'parent_ids': []}\n",
      " named|{'event': 'on_chat_model_stream', 'name': 'ChatOpenAI', 'run_id': '9400c73b-de96-4212-b8de-b794fb1a5e1b', 'tags': ['seq:step:1'], 'metadata': {'thread_id': '4', 'langgraph_step': 2, 'langgraph_node': 'answer_trivial_question', 'langgraph_triggers': ['branch:handle_trivial_question:detect_trivial_question:answer_trivial_question'], 'langgraph_path': ('__pregel_pull', 'answer_trivial_question'), 'langgraph_checkpoint_ns': 'answer_trivial_question:2c8e6955-2750-bdc7-8c46-2f5bc1f29843', 'checkpoint_ns': 'answer_trivial_question:2c8e6955-2750-bdc7-8c46-2f5bc1f29843', 'ls_provider': 'openai', 'ls_model_name': 'gpt-4o', 'ls_model_type': 'chat', 'ls_temperature': 0.0, 'ls_method': 'traceable'}, 'data': {'chunk': AIMessageChunk(content=' Francisco', additional_kwargs={}, response_metadata={}, id='run-9400c73b-de96-4212-b8de-b794fb1a5e1b')}, 'parent_ids': []}\n",
      " Francisco|{'event': 'on_chat_model_stream', 'name': 'ChatOpenAI', 'run_id': '9400c73b-de96-4212-b8de-b794fb1a5e1b', 'tags': ['seq:step:1'], 'metadata': {'thread_id': '4', 'langgraph_step': 2, 'langgraph_node': 'answer_trivial_question', 'langgraph_triggers': ['branch:handle_trivial_question:detect_trivial_question:answer_trivial_question'], 'langgraph_path': ('__pregel_pull', 'answer_trivial_question'), 'langgraph_checkpoint_ns': 'answer_trivial_question:2c8e6955-2750-bdc7-8c46-2f5bc1f29843', 'checkpoint_ns': 'answer_trivial_question:2c8e6955-2750-bdc7-8c46-2f5bc1f29843', 'ls_provider': 'openai', 'ls_model_name': 'gpt-4o', 'ls_model_type': 'chat', 'ls_temperature': 0.0, 'ls_method': 'traceable'}, 'data': {'chunk': AIMessageChunk(content=' Hitler', additional_kwargs={}, response_metadata={}, id='run-9400c73b-de96-4212-b8de-b794fb1a5e1b')}, 'parent_ids': []}\n",
      " Hitler|{'event': 'on_chat_model_stream', 'name': 'ChatOpenAI', 'run_id': '9400c73b-de96-4212-b8de-b794fb1a5e1b', 'tags': ['seq:step:1'], 'metadata': {'thread_id': '4', 'langgraph_step': 2, 'langgraph_node': 'answer_trivial_question', 'langgraph_triggers': ['branch:handle_trivial_question:detect_trivial_question:answer_trivial_question'], 'langgraph_path': ('__pregel_pull', 'answer_trivial_question'), 'langgraph_checkpoint_ns': 'answer_trivial_question:2c8e6955-2750-bdc7-8c46-2f5bc1f29843', 'checkpoint_ns': 'answer_trivial_question:2c8e6955-2750-bdc7-8c46-2f5bc1f29843', 'ls_provider': 'openai', 'ls_model_name': 'gpt-4o', 'ls_model_type': 'chat', 'ls_temperature': 0.0, 'ls_method': 'traceable'}, 'data': {'chunk': AIMessageChunk(content=',', additional_kwargs={}, response_metadata={}, id='run-9400c73b-de96-4212-b8de-b794fb1a5e1b')}, 'parent_ids': []}\n",
      ",|{'event': 'on_chat_model_stream', 'name': 'ChatOpenAI', 'run_id': '9400c73b-de96-4212-b8de-b794fb1a5e1b', 'tags': ['seq:step:1'], 'metadata': {'thread_id': '4', 'langgraph_step': 2, 'langgraph_node': 'answer_trivial_question', 'langgraph_triggers': ['branch:handle_trivial_question:detect_trivial_question:answer_trivial_question'], 'langgraph_path': ('__pregel_pull', 'answer_trivial_question'), 'langgraph_checkpoint_ns': 'answer_trivial_question:2c8e6955-2750-bdc7-8c46-2f5bc1f29843', 'checkpoint_ns': 'answer_trivial_question:2c8e6955-2750-bdc7-8c46-2f5bc1f29843', 'ls_provider': 'openai', 'ls_model_name': 'gpt-4o', 'ls_model_type': 'chat', 'ls_temperature': 0.0, 'ls_method': 'traceable'}, 'data': {'chunk': AIMessageChunk(content=' and', additional_kwargs={}, response_metadata={}, id='run-9400c73b-de96-4212-b8de-b794fb1a5e1b')}, 'parent_ids': []}\n",
      " and|{'event': 'on_chat_model_stream', 'name': 'ChatOpenAI', 'run_id': '9400c73b-de96-4212-b8de-b794fb1a5e1b', 'tags': ['seq:step:1'], 'metadata': {'thread_id': '4', 'langgraph_step': 2, 'langgraph_node': 'answer_trivial_question', 'langgraph_triggers': ['branch:handle_trivial_question:detect_trivial_question:answer_trivial_question'], 'langgraph_path': ('__pregel_pull', 'answer_trivial_question'), 'langgraph_checkpoint_ns': 'answer_trivial_question:2c8e6955-2750-bdc7-8c46-2f5bc1f29843', 'checkpoint_ns': 'answer_trivial_question:2c8e6955-2750-bdc7-8c46-2f5bc1f29843', 'ls_provider': 'openai', 'ls_model_name': 'gpt-4o', 'ls_model_type': 'chat', 'ls_temperature': 0.0, 'ls_method': 'traceable'}, 'data': {'chunk': AIMessageChunk(content=' therefore', additional_kwargs={}, response_metadata={}, id='run-9400c73b-de96-4212-b8de-b794fb1a5e1b')}, 'parent_ids': []}\n",
      " therefore|{'event': 'on_chat_model_stream', 'name': 'ChatOpenAI', 'run_id': '9400c73b-de96-4212-b8de-b794fb1a5e1b', 'tags': ['seq:step:1'], 'metadata': {'thread_id': '4', 'langgraph_step': 2, 'langgraph_node': 'answer_trivial_question', 'langgraph_triggers': ['branch:handle_trivial_question:detect_trivial_question:answer_trivial_question'], 'langgraph_path': ('__pregel_pull', 'answer_trivial_question'), 'langgraph_checkpoint_ns': 'answer_trivial_question:2c8e6955-2750-bdc7-8c46-2f5bc1f29843', 'checkpoint_ns': 'answer_trivial_question:2c8e6955-2750-bdc7-8c46-2f5bc1f29843', 'ls_provider': 'openai', 'ls_model_name': 'gpt-4o', 'ls_model_type': 'chat', 'ls_temperature': 0.0, 'ls_method': 'traceable'}, 'data': {'chunk': AIMessageChunk(content=',', additional_kwargs={}, response_metadata={}, id='run-9400c73b-de96-4212-b8de-b794fb1a5e1b')}, 'parent_ids': []}\n",
      ",|{'event': 'on_chat_model_stream', 'name': 'ChatOpenAI', 'run_id': '9400c73b-de96-4212-b8de-b794fb1a5e1b', 'tags': ['seq:step:1'], 'metadata': {'thread_id': '4', 'langgraph_step': 2, 'langgraph_node': 'answer_trivial_question', 'langgraph_triggers': ['branch:handle_trivial_question:detect_trivial_question:answer_trivial_question'], 'langgraph_path': ('__pregel_pull', 'answer_trivial_question'), 'langgraph_checkpoint_ns': 'answer_trivial_question:2c8e6955-2750-bdc7-8c46-2f5bc1f29843', 'checkpoint_ns': 'answer_trivial_question:2c8e6955-2750-bdc7-8c46-2f5bc1f29843', 'ls_provider': 'openai', 'ls_model_name': 'gpt-4o', 'ls_model_type': 'chat', 'ls_temperature': 0.0, 'ls_method': 'traceable'}, 'data': {'chunk': AIMessageChunk(content=' no', additional_kwargs={}, response_metadata={}, id='run-9400c73b-de96-4212-b8de-b794fb1a5e1b')}, 'parent_ids': []}\n",
      " no|{'event': 'on_chat_model_stream', 'name': 'ChatOpenAI', 'run_id': '9400c73b-de96-4212-b8de-b794fb1a5e1b', 'tags': ['seq:step:1'], 'metadata': {'thread_id': '4', 'langgraph_step': 2, 'langgraph_node': 'answer_trivial_question', 'langgraph_triggers': ['branch:handle_trivial_question:detect_trivial_question:answer_trivial_question'], 'langgraph_path': ('__pregel_pull', 'answer_trivial_question'), 'langgraph_checkpoint_ns': 'answer_trivial_question:2c8e6955-2750-bdc7-8c46-2f5bc1f29843', 'checkpoint_ns': 'answer_trivial_question:2c8e6955-2750-bdc7-8c46-2f5bc1f29843', 'ls_provider': 'openai', 'ls_model_name': 'gpt-4o', 'ls_model_type': 'chat', 'ls_temperature': 0.0, 'ls_method': 'traceable'}, 'data': {'chunk': AIMessageChunk(content=' information', additional_kwargs={}, response_metadata={}, id='run-9400c73b-de96-4212-b8de-b794fb1a5e1b')}, 'parent_ids': []}\n",
      " information|{'event': 'on_chat_model_stream', 'name': 'ChatOpenAI', 'run_id': '9400c73b-de96-4212-b8de-b794fb1a5e1b', 'tags': ['seq:step:1'], 'metadata': {'thread_id': '4', 'langgraph_step': 2, 'langgraph_node': 'answer_trivial_question', 'langgraph_triggers': ['branch:handle_trivial_question:detect_trivial_question:answer_trivial_question'], 'langgraph_path': ('__pregel_pull', 'answer_trivial_question'), 'langgraph_checkpoint_ns': 'answer_trivial_question:2c8e6955-2750-bdc7-8c46-2f5bc1f29843', 'checkpoint_ns': 'answer_trivial_question:2c8e6955-2750-bdc7-8c46-2f5bc1f29843', 'ls_provider': 'openai', 'ls_model_name': 'gpt-4o', 'ls_model_type': 'chat', 'ls_temperature': 0.0, 'ls_method': 'traceable'}, 'data': {'chunk': AIMessageChunk(content=' about', additional_kwargs={}, response_metadata={}, id='run-9400c73b-de96-4212-b8de-b794fb1a5e1b')}, 'parent_ids': []}\n",
      " about|{'event': 'on_chat_model_stream', 'name': 'ChatOpenAI', 'run_id': '9400c73b-de96-4212-b8de-b794fb1a5e1b', 'tags': ['seq:step:1'], 'metadata': {'thread_id': '4', 'langgraph_step': 2, 'langgraph_node': 'answer_trivial_question', 'langgraph_triggers': ['branch:handle_trivial_question:detect_trivial_question:answer_trivial_question'], 'langgraph_path': ('__pregel_pull', 'answer_trivial_question'), 'langgraph_checkpoint_ns': 'answer_trivial_question:2c8e6955-2750-bdc7-8c46-2f5bc1f29843', 'checkpoint_ns': 'answer_trivial_question:2c8e6955-2750-bdc7-8c46-2f5bc1f29843', 'ls_provider': 'openai', 'ls_model_name': 'gpt-4o', 'ls_model_type': 'chat', 'ls_temperature': 0.0, 'ls_method': 'traceable'}, 'data': {'chunk': AIMessageChunk(content=' a', additional_kwargs={}, response_metadata={}, id='run-9400c73b-de96-4212-b8de-b794fb1a5e1b')}, 'parent_ids': []}\n",
      " a|{'event': 'on_chat_model_stream', 'name': 'ChatOpenAI', 'run_id': '9400c73b-de96-4212-b8de-b794fb1a5e1b', 'tags': ['seq:step:1'], 'metadata': {'thread_id': '4', 'langgraph_step': 2, 'langgraph_node': 'answer_trivial_question', 'langgraph_triggers': ['branch:handle_trivial_question:detect_trivial_question:answer_trivial_question'], 'langgraph_path': ('__pregel_pull', 'answer_trivial_question'), 'langgraph_checkpoint_ns': 'answer_trivial_question:2c8e6955-2750-bdc7-8c46-2f5bc1f29843', 'checkpoint_ns': 'answer_trivial_question:2c8e6955-2750-bdc7-8c46-2f5bc1f29843', 'ls_provider': 'openai', 'ls_model_name': 'gpt-4o', 'ls_model_type': 'chat', 'ls_temperature': 0.0, 'ls_method': 'traceable'}, 'data': {'chunk': AIMessageChunk(content=' nephew', additional_kwargs={}, response_metadata={}, id='run-9400c73b-de96-4212-b8de-b794fb1a5e1b')}, 'parent_ids': []}\n",
      " nephew|{'event': 'on_chat_model_stream', 'name': 'ChatOpenAI', 'run_id': '9400c73b-de96-4212-b8de-b794fb1a5e1b', 'tags': ['seq:step:1'], 'metadata': {'thread_id': '4', 'langgraph_step': 2, 'langgraph_node': 'answer_trivial_question', 'langgraph_triggers': ['branch:handle_trivial_question:detect_trivial_question:answer_trivial_question'], 'langgraph_path': ('__pregel_pull', 'answer_trivial_question'), 'langgraph_checkpoint_ns': 'answer_trivial_question:2c8e6955-2750-bdc7-8c46-2f5bc1f29843', 'checkpoint_ns': 'answer_trivial_question:2c8e6955-2750-bdc7-8c46-2f5bc1f29843', 'ls_provider': 'openai', 'ls_model_name': 'gpt-4o', 'ls_model_type': 'chat', 'ls_temperature': 0.0, 'ls_method': 'traceable'}, 'data': {'chunk': AIMessageChunk(content=' of', additional_kwargs={}, response_metadata={}, id='run-9400c73b-de96-4212-b8de-b794fb1a5e1b')}, 'parent_ids': []}\n",
      " of|{'event': 'on_chat_model_stream', 'name': 'ChatOpenAI', 'run_id': '9400c73b-de96-4212-b8de-b794fb1a5e1b', 'tags': ['seq:step:1'], 'metadata': {'thread_id': '4', 'langgraph_step': 2, 'langgraph_node': 'answer_trivial_question', 'langgraph_triggers': ['branch:handle_trivial_question:detect_trivial_question:answer_trivial_question'], 'langgraph_path': ('__pregel_pull', 'answer_trivial_question'), 'langgraph_checkpoint_ns': 'answer_trivial_question:2c8e6955-2750-bdc7-8c46-2f5bc1f29843', 'checkpoint_ns': 'answer_trivial_question:2c8e6955-2750-bdc7-8c46-2f5bc1f29843', 'ls_provider': 'openai', 'ls_model_name': 'gpt-4o', 'ls_model_type': 'chat', 'ls_temperature': 0.0, 'ls_method': 'traceable'}, 'data': {'chunk': AIMessageChunk(content=' such', additional_kwargs={}, response_metadata={}, id='run-9400c73b-de96-4212-b8de-b794fb1a5e1b')}, 'parent_ids': []}\n",
      " such|{'event': 'on_chat_model_stream', 'name': 'ChatOpenAI', 'run_id': '9400c73b-de96-4212-b8de-b794fb1a5e1b', 'tags': ['seq:step:1'], 'metadata': {'thread_id': '4', 'langgraph_step': 2, 'langgraph_node': 'answer_trivial_question', 'langgraph_triggers': ['branch:handle_trivial_question:detect_trivial_question:answer_trivial_question'], 'langgraph_path': ('__pregel_pull', 'answer_trivial_question'), 'langgraph_checkpoint_ns': 'answer_trivial_question:2c8e6955-2750-bdc7-8c46-2f5bc1f29843', 'checkpoint_ns': 'answer_trivial_question:2c8e6955-2750-bdc7-8c46-2f5bc1f29843', 'ls_provider': 'openai', 'ls_model_name': 'gpt-4o', 'ls_model_type': 'chat', 'ls_temperature': 0.0, 'ls_method': 'traceable'}, 'data': {'chunk': AIMessageChunk(content=' a', additional_kwargs={}, response_metadata={}, id='run-9400c73b-de96-4212-b8de-b794fb1a5e1b')}, 'parent_ids': []}\n",
      " a|{'event': 'on_chat_model_stream', 'name': 'ChatOpenAI', 'run_id': '9400c73b-de96-4212-b8de-b794fb1a5e1b', 'tags': ['seq:step:1'], 'metadata': {'thread_id': '4', 'langgraph_step': 2, 'langgraph_node': 'answer_trivial_question', 'langgraph_triggers': ['branch:handle_trivial_question:detect_trivial_question:answer_trivial_question'], 'langgraph_path': ('__pregel_pull', 'answer_trivial_question'), 'langgraph_checkpoint_ns': 'answer_trivial_question:2c8e6955-2750-bdc7-8c46-2f5bc1f29843', 'checkpoint_ns': 'answer_trivial_question:2c8e6955-2750-bdc7-8c46-2f5bc1f29843', 'ls_provider': 'openai', 'ls_model_name': 'gpt-4o', 'ls_model_type': 'chat', 'ls_temperature': 0.0, 'ls_method': 'traceable'}, 'data': {'chunk': AIMessageChunk(content=' person', additional_kwargs={}, response_metadata={}, id='run-9400c73b-de96-4212-b8de-b794fb1a5e1b')}, 'parent_ids': []}\n",
      " person|{'event': 'on_chat_model_stream', 'name': 'ChatOpenAI', 'run_id': '9400c73b-de96-4212-b8de-b794fb1a5e1b', 'tags': ['seq:step:1'], 'metadata': {'thread_id': '4', 'langgraph_step': 2, 'langgraph_node': 'answer_trivial_question', 'langgraph_triggers': ['branch:handle_trivial_question:detect_trivial_question:answer_trivial_question'], 'langgraph_path': ('__pregel_pull', 'answer_trivial_question'), 'langgraph_checkpoint_ns': 'answer_trivial_question:2c8e6955-2750-bdc7-8c46-2f5bc1f29843', 'checkpoint_ns': 'answer_trivial_question:2c8e6955-2750-bdc7-8c46-2f5bc1f29843', 'ls_provider': 'openai', 'ls_model_name': 'gpt-4o', 'ls_model_type': 'chat', 'ls_temperature': 0.0, 'ls_method': 'traceable'}, 'data': {'chunk': AIMessageChunk(content='.', additional_kwargs={}, response_metadata={}, id='run-9400c73b-de96-4212-b8de-b794fb1a5e1b')}, 'parent_ids': []}\n",
      ".|{'event': 'on_chat_model_stream', 'name': 'ChatOpenAI', 'run_id': '9400c73b-de96-4212-b8de-b794fb1a5e1b', 'tags': ['seq:step:1'], 'metadata': {'thread_id': '4', 'langgraph_step': 2, 'langgraph_node': 'answer_trivial_question', 'langgraph_triggers': ['branch:handle_trivial_question:detect_trivial_question:answer_trivial_question'], 'langgraph_path': ('__pregel_pull', 'answer_trivial_question'), 'langgraph_checkpoint_ns': 'answer_trivial_question:2c8e6955-2750-bdc7-8c46-2f5bc1f29843', 'checkpoint_ns': 'answer_trivial_question:2c8e6955-2750-bdc7-8c46-2f5bc1f29843', 'ls_provider': 'openai', 'ls_model_name': 'gpt-4o', 'ls_model_type': 'chat', 'ls_temperature': 0.0, 'ls_method': 'traceable'}, 'data': {'chunk': AIMessageChunk(content=\" It's\", additional_kwargs={}, response_metadata={}, id='run-9400c73b-de96-4212-b8de-b794fb1a5e1b')}, 'parent_ids': []}\n",
      " It's|{'event': 'on_chat_model_stream', 'name': 'ChatOpenAI', 'run_id': '9400c73b-de96-4212-b8de-b794fb1a5e1b', 'tags': ['seq:step:1'], 'metadata': {'thread_id': '4', 'langgraph_step': 2, 'langgraph_node': 'answer_trivial_question', 'langgraph_triggers': ['branch:handle_trivial_question:detect_trivial_question:answer_trivial_question'], 'langgraph_path': ('__pregel_pull', 'answer_trivial_question'), 'langgraph_checkpoint_ns': 'answer_trivial_question:2c8e6955-2750-bdc7-8c46-2f5bc1f29843', 'checkpoint_ns': 'answer_trivial_question:2c8e6955-2750-bdc7-8c46-2f5bc1f29843', 'ls_provider': 'openai', 'ls_model_name': 'gpt-4o', 'ls_model_type': 'chat', 'ls_temperature': 0.0, 'ls_method': 'traceable'}, 'data': {'chunk': AIMessageChunk(content=' possible', additional_kwargs={}, response_metadata={}, id='run-9400c73b-de96-4212-b8de-b794fb1a5e1b')}, 'parent_ids': []}\n",
      " possible|{'event': 'on_chat_model_stream', 'name': 'ChatOpenAI', 'run_id': '9400c73b-de96-4212-b8de-b794fb1a5e1b', 'tags': ['seq:step:1'], 'metadata': {'thread_id': '4', 'langgraph_step': 2, 'langgraph_node': 'answer_trivial_question', 'langgraph_triggers': ['branch:handle_trivial_question:detect_trivial_question:answer_trivial_question'], 'langgraph_path': ('__pregel_pull', 'answer_trivial_question'), 'langgraph_checkpoint_ns': 'answer_trivial_question:2c8e6955-2750-bdc7-8c46-2f5bc1f29843', 'checkpoint_ns': 'answer_trivial_question:2c8e6955-2750-bdc7-8c46-2f5bc1f29843', 'ls_provider': 'openai', 'ls_model_name': 'gpt-4o', 'ls_model_type': 'chat', 'ls_temperature': 0.0, 'ls_method': 'traceable'}, 'data': {'chunk': AIMessageChunk(content=' that', additional_kwargs={}, response_metadata={}, id='run-9400c73b-de96-4212-b8de-b794fb1a5e1b')}, 'parent_ids': []}\n",
      " that|{'event': 'on_chat_model_stream', 'name': 'ChatOpenAI', 'run_id': '9400c73b-de96-4212-b8de-b794fb1a5e1b', 'tags': ['seq:step:1'], 'metadata': {'thread_id': '4', 'langgraph_step': 2, 'langgraph_node': 'answer_trivial_question', 'langgraph_triggers': ['branch:handle_trivial_question:detect_trivial_question:answer_trivial_question'], 'langgraph_path': ('__pregel_pull', 'answer_trivial_question'), 'langgraph_checkpoint_ns': 'answer_trivial_question:2c8e6955-2750-bdc7-8c46-2f5bc1f29843', 'checkpoint_ns': 'answer_trivial_question:2c8e6955-2750-bdc7-8c46-2f5bc1f29843', 'ls_provider': 'openai', 'ls_model_name': 'gpt-4o', 'ls_model_type': 'chat', 'ls_temperature': 0.0, 'ls_method': 'traceable'}, 'data': {'chunk': AIMessageChunk(content=' there', additional_kwargs={}, response_metadata={}, id='run-9400c73b-de96-4212-b8de-b794fb1a5e1b')}, 'parent_ids': []}\n",
      " there|{'event': 'on_chat_model_stream', 'name': 'ChatOpenAI', 'run_id': '9400c73b-de96-4212-b8de-b794fb1a5e1b', 'tags': ['seq:step:1'], 'metadata': {'thread_id': '4', 'langgraph_step': 2, 'langgraph_node': 'answer_trivial_question', 'langgraph_triggers': ['branch:handle_trivial_question:detect_trivial_question:answer_trivial_question'], 'langgraph_path': ('__pregel_pull', 'answer_trivial_question'), 'langgraph_checkpoint_ns': 'answer_trivial_question:2c8e6955-2750-bdc7-8c46-2f5bc1f29843', 'checkpoint_ns': 'answer_trivial_question:2c8e6955-2750-bdc7-8c46-2f5bc1f29843', 'ls_provider': 'openai', 'ls_model_name': 'gpt-4o', 'ls_model_type': 'chat', 'ls_temperature': 0.0, 'ls_method': 'traceable'}, 'data': {'chunk': AIMessageChunk(content=' might', additional_kwargs={}, response_metadata={}, id='run-9400c73b-de96-4212-b8de-b794fb1a5e1b')}, 'parent_ids': []}\n",
      " might|{'event': 'on_chat_model_stream', 'name': 'ChatOpenAI', 'run_id': '9400c73b-de96-4212-b8de-b794fb1a5e1b', 'tags': ['seq:step:1'], 'metadata': {'thread_id': '4', 'langgraph_step': 2, 'langgraph_node': 'answer_trivial_question', 'langgraph_triggers': ['branch:handle_trivial_question:detect_trivial_question:answer_trivial_question'], 'langgraph_path': ('__pregel_pull', 'answer_trivial_question'), 'langgraph_checkpoint_ns': 'answer_trivial_question:2c8e6955-2750-bdc7-8c46-2f5bc1f29843', 'checkpoint_ns': 'answer_trivial_question:2c8e6955-2750-bdc7-8c46-2f5bc1f29843', 'ls_provider': 'openai', 'ls_model_name': 'gpt-4o', 'ls_model_type': 'chat', 'ls_temperature': 0.0, 'ls_method': 'traceable'}, 'data': {'chunk': AIMessageChunk(content=' be', additional_kwargs={}, response_metadata={}, id='run-9400c73b-de96-4212-b8de-b794fb1a5e1b')}, 'parent_ids': []}\n",
      " be|{'event': 'on_chat_model_stream', 'name': 'ChatOpenAI', 'run_id': '9400c73b-de96-4212-b8de-b794fb1a5e1b', 'tags': ['seq:step:1'], 'metadata': {'thread_id': '4', 'langgraph_step': 2, 'langgraph_node': 'answer_trivial_question', 'langgraph_triggers': ['branch:handle_trivial_question:detect_trivial_question:answer_trivial_question'], 'langgraph_path': ('__pregel_pull', 'answer_trivial_question'), 'langgraph_checkpoint_ns': 'answer_trivial_question:2c8e6955-2750-bdc7-8c46-2f5bc1f29843', 'checkpoint_ns': 'answer_trivial_question:2c8e6955-2750-bdc7-8c46-2f5bc1f29843', 'ls_provider': 'openai', 'ls_model_name': 'gpt-4o', 'ls_model_type': 'chat', 'ls_temperature': 0.0, 'ls_method': 'traceable'}, 'data': {'chunk': AIMessageChunk(content=' some', additional_kwargs={}, response_metadata={}, id='run-9400c73b-de96-4212-b8de-b794fb1a5e1b')}, 'parent_ids': []}\n",
      " some|{'event': 'on_chat_model_stream', 'name': 'ChatOpenAI', 'run_id': '9400c73b-de96-4212-b8de-b794fb1a5e1b', 'tags': ['seq:step:1'], 'metadata': {'thread_id': '4', 'langgraph_step': 2, 'langgraph_node': 'answer_trivial_question', 'langgraph_triggers': ['branch:handle_trivial_question:detect_trivial_question:answer_trivial_question'], 'langgraph_path': ('__pregel_pull', 'answer_trivial_question'), 'langgraph_checkpoint_ns': 'answer_trivial_question:2c8e6955-2750-bdc7-8c46-2f5bc1f29843', 'checkpoint_ns': 'answer_trivial_question:2c8e6955-2750-bdc7-8c46-2f5bc1f29843', 'ls_provider': 'openai', 'ls_model_name': 'gpt-4o', 'ls_model_type': 'chat', 'ls_temperature': 0.0, 'ls_method': 'traceable'}, 'data': {'chunk': AIMessageChunk(content=' confusion', additional_kwargs={}, response_metadata={}, id='run-9400c73b-de96-4212-b8de-b794fb1a5e1b')}, 'parent_ids': []}\n",
      " confusion|{'event': 'on_chat_model_stream', 'name': 'ChatOpenAI', 'run_id': '9400c73b-de96-4212-b8de-b794fb1a5e1b', 'tags': ['seq:step:1'], 'metadata': {'thread_id': '4', 'langgraph_step': 2, 'langgraph_node': 'answer_trivial_question', 'langgraph_triggers': ['branch:handle_trivial_question:detect_trivial_question:answer_trivial_question'], 'langgraph_path': ('__pregel_pull', 'answer_trivial_question'), 'langgraph_checkpoint_ns': 'answer_trivial_question:2c8e6955-2750-bdc7-8c46-2f5bc1f29843', 'checkpoint_ns': 'answer_trivial_question:2c8e6955-2750-bdc7-8c46-2f5bc1f29843', 'ls_provider': 'openai', 'ls_model_name': 'gpt-4o', 'ls_model_type': 'chat', 'ls_temperature': 0.0, 'ls_method': 'traceable'}, 'data': {'chunk': AIMessageChunk(content=' or', additional_kwargs={}, response_metadata={}, id='run-9400c73b-de96-4212-b8de-b794fb1a5e1b')}, 'parent_ids': []}\n",
      " or|{'event': 'on_chat_model_stream', 'name': 'ChatOpenAI', 'run_id': '9400c73b-de96-4212-b8de-b794fb1a5e1b', 'tags': ['seq:step:1'], 'metadata': {'thread_id': '4', 'langgraph_step': 2, 'langgraph_node': 'answer_trivial_question', 'langgraph_triggers': ['branch:handle_trivial_question:detect_trivial_question:answer_trivial_question'], 'langgraph_path': ('__pregel_pull', 'answer_trivial_question'), 'langgraph_checkpoint_ns': 'answer_trivial_question:2c8e6955-2750-bdc7-8c46-2f5bc1f29843', 'checkpoint_ns': 'answer_trivial_question:2c8e6955-2750-bdc7-8c46-2f5bc1f29843', 'ls_provider': 'openai', 'ls_model_name': 'gpt-4o', 'ls_model_type': 'chat', 'ls_temperature': 0.0, 'ls_method': 'traceable'}, 'data': {'chunk': AIMessageChunk(content=' misinformation', additional_kwargs={}, response_metadata={}, id='run-9400c73b-de96-4212-b8de-b794fb1a5e1b')}, 'parent_ids': []}\n",
      " misinformation|{'event': 'on_chat_model_stream', 'name': 'ChatOpenAI', 'run_id': '9400c73b-de96-4212-b8de-b794fb1a5e1b', 'tags': ['seq:step:1'], 'metadata': {'thread_id': '4', 'langgraph_step': 2, 'langgraph_node': 'answer_trivial_question', 'langgraph_triggers': ['branch:handle_trivial_question:detect_trivial_question:answer_trivial_question'], 'langgraph_path': ('__pregel_pull', 'answer_trivial_question'), 'langgraph_checkpoint_ns': 'answer_trivial_question:2c8e6955-2750-bdc7-8c46-2f5bc1f29843', 'checkpoint_ns': 'answer_trivial_question:2c8e6955-2750-bdc7-8c46-2f5bc1f29843', 'ls_provider': 'openai', 'ls_model_name': 'gpt-4o', 'ls_model_type': 'chat', 'ls_temperature': 0.0, 'ls_method': 'traceable'}, 'data': {'chunk': AIMessageChunk(content=' regarding', additional_kwargs={}, response_metadata={}, id='run-9400c73b-de96-4212-b8de-b794fb1a5e1b')}, 'parent_ids': []}\n",
      " regarding|{'event': 'on_chat_model_stream', 'name': 'ChatOpenAI', 'run_id': '9400c73b-de96-4212-b8de-b794fb1a5e1b', 'tags': ['seq:step:1'], 'metadata': {'thread_id': '4', 'langgraph_step': 2, 'langgraph_node': 'answer_trivial_question', 'langgraph_triggers': ['branch:handle_trivial_question:detect_trivial_question:answer_trivial_question'], 'langgraph_path': ('__pregel_pull', 'answer_trivial_question'), 'langgraph_checkpoint_ns': 'answer_trivial_question:2c8e6955-2750-bdc7-8c46-2f5bc1f29843', 'checkpoint_ns': 'answer_trivial_question:2c8e6955-2750-bdc7-8c46-2f5bc1f29843', 'ls_provider': 'openai', 'ls_model_name': 'gpt-4o', 'ls_model_type': 'chat', 'ls_temperature': 0.0, 'ls_method': 'traceable'}, 'data': {'chunk': AIMessageChunk(content=' the', additional_kwargs={}, response_metadata={}, id='run-9400c73b-de96-4212-b8de-b794fb1a5e1b')}, 'parent_ids': []}\n",
      " the|{'event': 'on_chat_model_stream', 'name': 'ChatOpenAI', 'run_id': '9400c73b-de96-4212-b8de-b794fb1a5e1b', 'tags': ['seq:step:1'], 'metadata': {'thread_id': '4', 'langgraph_step': 2, 'langgraph_node': 'answer_trivial_question', 'langgraph_triggers': ['branch:handle_trivial_question:detect_trivial_question:answer_trivial_question'], 'langgraph_path': ('__pregel_pull', 'answer_trivial_question'), 'langgraph_checkpoint_ns': 'answer_trivial_question:2c8e6955-2750-bdc7-8c46-2f5bc1f29843', 'checkpoint_ns': 'answer_trivial_question:2c8e6955-2750-bdc7-8c46-2f5bc1f29843', 'ls_provider': 'openai', 'ls_model_name': 'gpt-4o', 'ls_model_type': 'chat', 'ls_temperature': 0.0, 'ls_method': 'traceable'}, 'data': {'chunk': AIMessageChunk(content=' name', additional_kwargs={}, response_metadata={}, id='run-9400c73b-de96-4212-b8de-b794fb1a5e1b')}, 'parent_ids': []}\n",
      " name|{'event': 'on_chat_model_stream', 'name': 'ChatOpenAI', 'run_id': '9400c73b-de96-4212-b8de-b794fb1a5e1b', 'tags': ['seq:step:1'], 'metadata': {'thread_id': '4', 'langgraph_step': 2, 'langgraph_node': 'answer_trivial_question', 'langgraph_triggers': ['branch:handle_trivial_question:detect_trivial_question:answer_trivial_question'], 'langgraph_path': ('__pregel_pull', 'answer_trivial_question'), 'langgraph_checkpoint_ns': 'answer_trivial_question:2c8e6955-2750-bdc7-8c46-2f5bc1f29843', 'checkpoint_ns': 'answer_trivial_question:2c8e6955-2750-bdc7-8c46-2f5bc1f29843', 'ls_provider': 'openai', 'ls_model_name': 'gpt-4o', 'ls_model_type': 'chat', 'ls_temperature': 0.0, 'ls_method': 'traceable'}, 'data': {'chunk': AIMessageChunk(content='.', additional_kwargs={}, response_metadata={}, id='run-9400c73b-de96-4212-b8de-b794fb1a5e1b')}, 'parent_ids': []}\n",
      ".|{'event': 'on_chat_model_stream', 'name': 'ChatOpenAI', 'run_id': '9400c73b-de96-4212-b8de-b794fb1a5e1b', 'tags': ['seq:step:1'], 'metadata': {'thread_id': '4', 'langgraph_step': 2, 'langgraph_node': 'answer_trivial_question', 'langgraph_triggers': ['branch:handle_trivial_question:detect_trivial_question:answer_trivial_question'], 'langgraph_path': ('__pregel_pull', 'answer_trivial_question'), 'langgraph_checkpoint_ns': 'answer_trivial_question:2c8e6955-2750-bdc7-8c46-2f5bc1f29843', 'checkpoint_ns': 'answer_trivial_question:2c8e6955-2750-bdc7-8c46-2f5bc1f29843', 'ls_provider': 'openai', 'ls_model_name': 'gpt-4o', 'ls_model_type': 'chat', 'ls_temperature': 0.0, 'ls_method': 'traceable'}, 'data': {'chunk': AIMessageChunk(content=' If', additional_kwargs={}, response_metadata={}, id='run-9400c73b-de96-4212-b8de-b794fb1a5e1b')}, 'parent_ids': []}\n",
      " If|{'event': 'on_chat_model_stream', 'name': 'ChatOpenAI', 'run_id': '9400c73b-de96-4212-b8de-b794fb1a5e1b', 'tags': ['seq:step:1'], 'metadata': {'thread_id': '4', 'langgraph_step': 2, 'langgraph_node': 'answer_trivial_question', 'langgraph_triggers': ['branch:handle_trivial_question:detect_trivial_question:answer_trivial_question'], 'langgraph_path': ('__pregel_pull', 'answer_trivial_question'), 'langgraph_checkpoint_ns': 'answer_trivial_question:2c8e6955-2750-bdc7-8c46-2f5bc1f29843', 'checkpoint_ns': 'answer_trivial_question:2c8e6955-2750-bdc7-8c46-2f5bc1f29843', 'ls_provider': 'openai', 'ls_model_name': 'gpt-4o', 'ls_model_type': 'chat', 'ls_temperature': 0.0, 'ls_method': 'traceable'}, 'data': {'chunk': AIMessageChunk(content=' you', additional_kwargs={}, response_metadata={}, id='run-9400c73b-de96-4212-b8de-b794fb1a5e1b')}, 'parent_ids': []}\n",
      " you|{'event': 'on_chat_model_stream', 'name': 'ChatOpenAI', 'run_id': '9400c73b-de96-4212-b8de-b794fb1a5e1b', 'tags': ['seq:step:1'], 'metadata': {'thread_id': '4', 'langgraph_step': 2, 'langgraph_node': 'answer_trivial_question', 'langgraph_triggers': ['branch:handle_trivial_question:detect_trivial_question:answer_trivial_question'], 'langgraph_path': ('__pregel_pull', 'answer_trivial_question'), 'langgraph_checkpoint_ns': 'answer_trivial_question:2c8e6955-2750-bdc7-8c46-2f5bc1f29843', 'checkpoint_ns': 'answer_trivial_question:2c8e6955-2750-bdc7-8c46-2f5bc1f29843', 'ls_provider': 'openai', 'ls_model_name': 'gpt-4o', 'ls_model_type': 'chat', 'ls_temperature': 0.0, 'ls_method': 'traceable'}, 'data': {'chunk': AIMessageChunk(content=' meant', additional_kwargs={}, response_metadata={}, id='run-9400c73b-de96-4212-b8de-b794fb1a5e1b')}, 'parent_ids': []}\n",
      " meant|{'event': 'on_chat_model_stream', 'name': 'ChatOpenAI', 'run_id': '9400c73b-de96-4212-b8de-b794fb1a5e1b', 'tags': ['seq:step:1'], 'metadata': {'thread_id': '4', 'langgraph_step': 2, 'langgraph_node': 'answer_trivial_question', 'langgraph_triggers': ['branch:handle_trivial_question:detect_trivial_question:answer_trivial_question'], 'langgraph_path': ('__pregel_pull', 'answer_trivial_question'), 'langgraph_checkpoint_ns': 'answer_trivial_question:2c8e6955-2750-bdc7-8c46-2f5bc1f29843', 'checkpoint_ns': 'answer_trivial_question:2c8e6955-2750-bdc7-8c46-2f5bc1f29843', 'ls_provider': 'openai', 'ls_model_name': 'gpt-4o', 'ls_model_type': 'chat', 'ls_temperature': 0.0, 'ls_method': 'traceable'}, 'data': {'chunk': AIMessageChunk(content=' a', additional_kwargs={}, response_metadata={}, id='run-9400c73b-de96-4212-b8de-b794fb1a5e1b')}, 'parent_ids': []}\n",
      " a|{'event': 'on_chat_model_stream', 'name': 'ChatOpenAI', 'run_id': '9400c73b-de96-4212-b8de-b794fb1a5e1b', 'tags': ['seq:step:1'], 'metadata': {'thread_id': '4', 'langgraph_step': 2, 'langgraph_node': 'answer_trivial_question', 'langgraph_triggers': ['branch:handle_trivial_question:detect_trivial_question:answer_trivial_question'], 'langgraph_path': ('__pregel_pull', 'answer_trivial_question'), 'langgraph_checkpoint_ns': 'answer_trivial_question:2c8e6955-2750-bdc7-8c46-2f5bc1f29843', 'checkpoint_ns': 'answer_trivial_question:2c8e6955-2750-bdc7-8c46-2f5bc1f29843', 'ls_provider': 'openai', 'ls_model_name': 'gpt-4o', 'ls_model_type': 'chat', 'ls_temperature': 0.0, 'ls_method': 'traceable'}, 'data': {'chunk': AIMessageChunk(content=' different', additional_kwargs={}, response_metadata={}, id='run-9400c73b-de96-4212-b8de-b794fb1a5e1b')}, 'parent_ids': []}\n",
      " different|{'event': 'on_chat_model_stream', 'name': 'ChatOpenAI', 'run_id': '9400c73b-de96-4212-b8de-b794fb1a5e1b', 'tags': ['seq:step:1'], 'metadata': {'thread_id': '4', 'langgraph_step': 2, 'langgraph_node': 'answer_trivial_question', 'langgraph_triggers': ['branch:handle_trivial_question:detect_trivial_question:answer_trivial_question'], 'langgraph_path': ('__pregel_pull', 'answer_trivial_question'), 'langgraph_checkpoint_ns': 'answer_trivial_question:2c8e6955-2750-bdc7-8c46-2f5bc1f29843', 'checkpoint_ns': 'answer_trivial_question:2c8e6955-2750-bdc7-8c46-2f5bc1f29843', 'ls_provider': 'openai', 'ls_model_name': 'gpt-4o', 'ls_model_type': 'chat', 'ls_temperature': 0.0, 'ls_method': 'traceable'}, 'data': {'chunk': AIMessageChunk(content=' historical', additional_kwargs={}, response_metadata={}, id='run-9400c73b-de96-4212-b8de-b794fb1a5e1b')}, 'parent_ids': []}\n",
      " historical|{'event': 'on_chat_model_stream', 'name': 'ChatOpenAI', 'run_id': '9400c73b-de96-4212-b8de-b794fb1a5e1b', 'tags': ['seq:step:1'], 'metadata': {'thread_id': '4', 'langgraph_step': 2, 'langgraph_node': 'answer_trivial_question', 'langgraph_triggers': ['branch:handle_trivial_question:detect_trivial_question:answer_trivial_question'], 'langgraph_path': ('__pregel_pull', 'answer_trivial_question'), 'langgraph_checkpoint_ns': 'answer_trivial_question:2c8e6955-2750-bdc7-8c46-2f5bc1f29843', 'checkpoint_ns': 'answer_trivial_question:2c8e6955-2750-bdc7-8c46-2f5bc1f29843', 'ls_provider': 'openai', 'ls_model_name': 'gpt-4o', 'ls_model_type': 'chat', 'ls_temperature': 0.0, 'ls_method': 'traceable'}, 'data': {'chunk': AIMessageChunk(content=' figure', additional_kwargs={}, response_metadata={}, id='run-9400c73b-de96-4212-b8de-b794fb1a5e1b')}, 'parent_ids': []}\n",
      " figure|{'event': 'on_chat_model_stream', 'name': 'ChatOpenAI', 'run_id': '9400c73b-de96-4212-b8de-b794fb1a5e1b', 'tags': ['seq:step:1'], 'metadata': {'thread_id': '4', 'langgraph_step': 2, 'langgraph_node': 'answer_trivial_question', 'langgraph_triggers': ['branch:handle_trivial_question:detect_trivial_question:answer_trivial_question'], 'langgraph_path': ('__pregel_pull', 'answer_trivial_question'), 'langgraph_checkpoint_ns': 'answer_trivial_question:2c8e6955-2750-bdc7-8c46-2f5bc1f29843', 'checkpoint_ns': 'answer_trivial_question:2c8e6955-2750-bdc7-8c46-2f5bc1f29843', 'ls_provider': 'openai', 'ls_model_name': 'gpt-4o', 'ls_model_type': 'chat', 'ls_temperature': 0.0, 'ls_method': 'traceable'}, 'data': {'chunk': AIMessageChunk(content=' or', additional_kwargs={}, response_metadata={}, id='run-9400c73b-de96-4212-b8de-b794fb1a5e1b')}, 'parent_ids': []}\n",
      " or|{'event': 'on_chat_model_stream', 'name': 'ChatOpenAI', 'run_id': '9400c73b-de96-4212-b8de-b794fb1a5e1b', 'tags': ['seq:step:1'], 'metadata': {'thread_id': '4', 'langgraph_step': 2, 'langgraph_node': 'answer_trivial_question', 'langgraph_triggers': ['branch:handle_trivial_question:detect_trivial_question:answer_trivial_question'], 'langgraph_path': ('__pregel_pull', 'answer_trivial_question'), 'langgraph_checkpoint_ns': 'answer_trivial_question:2c8e6955-2750-bdc7-8c46-2f5bc1f29843', 'checkpoint_ns': 'answer_trivial_question:2c8e6955-2750-bdc7-8c46-2f5bc1f29843', 'ls_provider': 'openai', 'ls_model_name': 'gpt-4o', 'ls_model_type': 'chat', 'ls_temperature': 0.0, 'ls_method': 'traceable'}, 'data': {'chunk': AIMessageChunk(content=' need', additional_kwargs={}, response_metadata={}, id='run-9400c73b-de96-4212-b8de-b794fb1a5e1b')}, 'parent_ids': []}\n",
      " need|{'event': 'on_chat_model_stream', 'name': 'ChatOpenAI', 'run_id': '9400c73b-de96-4212-b8de-b794fb1a5e1b', 'tags': ['seq:step:1'], 'metadata': {'thread_id': '4', 'langgraph_step': 2, 'langgraph_node': 'answer_trivial_question', 'langgraph_triggers': ['branch:handle_trivial_question:detect_trivial_question:answer_trivial_question'], 'langgraph_path': ('__pregel_pull', 'answer_trivial_question'), 'langgraph_checkpoint_ns': 'answer_trivial_question:2c8e6955-2750-bdc7-8c46-2f5bc1f29843', 'checkpoint_ns': 'answer_trivial_question:2c8e6955-2750-bdc7-8c46-2f5bc1f29843', 'ls_provider': 'openai', 'ls_model_name': 'gpt-4o', 'ls_model_type': 'chat', 'ls_temperature': 0.0, 'ls_method': 'traceable'}, 'data': {'chunk': AIMessageChunk(content=' information', additional_kwargs={}, response_metadata={}, id='run-9400c73b-de96-4212-b8de-b794fb1a5e1b')}, 'parent_ids': []}\n",
      " information|{'event': 'on_chat_model_stream', 'name': 'ChatOpenAI', 'run_id': '9400c73b-de96-4212-b8de-b794fb1a5e1b', 'tags': ['seq:step:1'], 'metadata': {'thread_id': '4', 'langgraph_step': 2, 'langgraph_node': 'answer_trivial_question', 'langgraph_triggers': ['branch:handle_trivial_question:detect_trivial_question:answer_trivial_question'], 'langgraph_path': ('__pregel_pull', 'answer_trivial_question'), 'langgraph_checkpoint_ns': 'answer_trivial_question:2c8e6955-2750-bdc7-8c46-2f5bc1f29843', 'checkpoint_ns': 'answer_trivial_question:2c8e6955-2750-bdc7-8c46-2f5bc1f29843', 'ls_provider': 'openai', 'ls_model_name': 'gpt-4o', 'ls_model_type': 'chat', 'ls_temperature': 0.0, 'ls_method': 'traceable'}, 'data': {'chunk': AIMessageChunk(content=' on', additional_kwargs={}, response_metadata={}, id='run-9400c73b-de96-4212-b8de-b794fb1a5e1b')}, 'parent_ids': []}\n",
      " on|{'event': 'on_chat_model_stream', 'name': 'ChatOpenAI', 'run_id': '9400c73b-de96-4212-b8de-b794fb1a5e1b', 'tags': ['seq:step:1'], 'metadata': {'thread_id': '4', 'langgraph_step': 2, 'langgraph_node': 'answer_trivial_question', 'langgraph_triggers': ['branch:handle_trivial_question:detect_trivial_question:answer_trivial_question'], 'langgraph_path': ('__pregel_pull', 'answer_trivial_question'), 'langgraph_checkpoint_ns': 'answer_trivial_question:2c8e6955-2750-bdc7-8c46-2f5bc1f29843', 'checkpoint_ns': 'answer_trivial_question:2c8e6955-2750-bdc7-8c46-2f5bc1f29843', 'ls_provider': 'openai', 'ls_model_name': 'gpt-4o', 'ls_model_type': 'chat', 'ls_temperature': 0.0, 'ls_method': 'traceable'}, 'data': {'chunk': AIMessageChunk(content=' someone', additional_kwargs={}, response_metadata={}, id='run-9400c73b-de96-4212-b8de-b794fb1a5e1b')}, 'parent_ids': []}\n",
      " someone|{'event': 'on_chat_model_stream', 'name': 'ChatOpenAI', 'run_id': '9400c73b-de96-4212-b8de-b794fb1a5e1b', 'tags': ['seq:step:1'], 'metadata': {'thread_id': '4', 'langgraph_step': 2, 'langgraph_node': 'answer_trivial_question', 'langgraph_triggers': ['branch:handle_trivial_question:detect_trivial_question:answer_trivial_question'], 'langgraph_path': ('__pregel_pull', 'answer_trivial_question'), 'langgraph_checkpoint_ns': 'answer_trivial_question:2c8e6955-2750-bdc7-8c46-2f5bc1f29843', 'checkpoint_ns': 'answer_trivial_question:2c8e6955-2750-bdc7-8c46-2f5bc1f29843', 'ls_provider': 'openai', 'ls_model_name': 'gpt-4o', 'ls_model_type': 'chat', 'ls_temperature': 0.0, 'ls_method': 'traceable'}, 'data': {'chunk': AIMessageChunk(content=' else', additional_kwargs={}, response_metadata={}, id='run-9400c73b-de96-4212-b8de-b794fb1a5e1b')}, 'parent_ids': []}\n",
      " else|{'event': 'on_chat_model_stream', 'name': 'ChatOpenAI', 'run_id': '9400c73b-de96-4212-b8de-b794fb1a5e1b', 'tags': ['seq:step:1'], 'metadata': {'thread_id': '4', 'langgraph_step': 2, 'langgraph_node': 'answer_trivial_question', 'langgraph_triggers': ['branch:handle_trivial_question:detect_trivial_question:answer_trivial_question'], 'langgraph_path': ('__pregel_pull', 'answer_trivial_question'), 'langgraph_checkpoint_ns': 'answer_trivial_question:2c8e6955-2750-bdc7-8c46-2f5bc1f29843', 'checkpoint_ns': 'answer_trivial_question:2c8e6955-2750-bdc7-8c46-2f5bc1f29843', 'ls_provider': 'openai', 'ls_model_name': 'gpt-4o', 'ls_model_type': 'chat', 'ls_temperature': 0.0, 'ls_method': 'traceable'}, 'data': {'chunk': AIMessageChunk(content=',', additional_kwargs={}, response_metadata={}, id='run-9400c73b-de96-4212-b8de-b794fb1a5e1b')}, 'parent_ids': []}\n",
      ",|{'event': 'on_chat_model_stream', 'name': 'ChatOpenAI', 'run_id': '9400c73b-de96-4212-b8de-b794fb1a5e1b', 'tags': ['seq:step:1'], 'metadata': {'thread_id': '4', 'langgraph_step': 2, 'langgraph_node': 'answer_trivial_question', 'langgraph_triggers': ['branch:handle_trivial_question:detect_trivial_question:answer_trivial_question'], 'langgraph_path': ('__pregel_pull', 'answer_trivial_question'), 'langgraph_checkpoint_ns': 'answer_trivial_question:2c8e6955-2750-bdc7-8c46-2f5bc1f29843', 'checkpoint_ns': 'answer_trivial_question:2c8e6955-2750-bdc7-8c46-2f5bc1f29843', 'ls_provider': 'openai', 'ls_model_name': 'gpt-4o', 'ls_model_type': 'chat', 'ls_temperature': 0.0, 'ls_method': 'traceable'}, 'data': {'chunk': AIMessageChunk(content=' please', additional_kwargs={}, response_metadata={}, id='run-9400c73b-de96-4212-b8de-b794fb1a5e1b')}, 'parent_ids': []}\n",
      " please|{'event': 'on_chat_model_stream', 'name': 'ChatOpenAI', 'run_id': '9400c73b-de96-4212-b8de-b794fb1a5e1b', 'tags': ['seq:step:1'], 'metadata': {'thread_id': '4', 'langgraph_step': 2, 'langgraph_node': 'answer_trivial_question', 'langgraph_triggers': ['branch:handle_trivial_question:detect_trivial_question:answer_trivial_question'], 'langgraph_path': ('__pregel_pull', 'answer_trivial_question'), 'langgraph_checkpoint_ns': 'answer_trivial_question:2c8e6955-2750-bdc7-8c46-2f5bc1f29843', 'checkpoint_ns': 'answer_trivial_question:2c8e6955-2750-bdc7-8c46-2f5bc1f29843', 'ls_provider': 'openai', 'ls_model_name': 'gpt-4o', 'ls_model_type': 'chat', 'ls_temperature': 0.0, 'ls_method': 'traceable'}, 'data': {'chunk': AIMessageChunk(content=' provide', additional_kwargs={}, response_metadata={}, id='run-9400c73b-de96-4212-b8de-b794fb1a5e1b')}, 'parent_ids': []}\n",
      " provide|{'event': 'on_chat_model_stream', 'name': 'ChatOpenAI', 'run_id': '9400c73b-de96-4212-b8de-b794fb1a5e1b', 'tags': ['seq:step:1'], 'metadata': {'thread_id': '4', 'langgraph_step': 2, 'langgraph_node': 'answer_trivial_question', 'langgraph_triggers': ['branch:handle_trivial_question:detect_trivial_question:answer_trivial_question'], 'langgraph_path': ('__pregel_pull', 'answer_trivial_question'), 'langgraph_checkpoint_ns': 'answer_trivial_question:2c8e6955-2750-bdc7-8c46-2f5bc1f29843', 'checkpoint_ns': 'answer_trivial_question:2c8e6955-2750-bdc7-8c46-2f5bc1f29843', 'ls_provider': 'openai', 'ls_model_name': 'gpt-4o', 'ls_model_type': 'chat', 'ls_temperature': 0.0, 'ls_method': 'traceable'}, 'data': {'chunk': AIMessageChunk(content=' more', additional_kwargs={}, response_metadata={}, id='run-9400c73b-de96-4212-b8de-b794fb1a5e1b')}, 'parent_ids': []}\n",
      " more|{'event': 'on_chat_model_stream', 'name': 'ChatOpenAI', 'run_id': '9400c73b-de96-4212-b8de-b794fb1a5e1b', 'tags': ['seq:step:1'], 'metadata': {'thread_id': '4', 'langgraph_step': 2, 'langgraph_node': 'answer_trivial_question', 'langgraph_triggers': ['branch:handle_trivial_question:detect_trivial_question:answer_trivial_question'], 'langgraph_path': ('__pregel_pull', 'answer_trivial_question'), 'langgraph_checkpoint_ns': 'answer_trivial_question:2c8e6955-2750-bdc7-8c46-2f5bc1f29843', 'checkpoint_ns': 'answer_trivial_question:2c8e6955-2750-bdc7-8c46-2f5bc1f29843', 'ls_provider': 'openai', 'ls_model_name': 'gpt-4o', 'ls_model_type': 'chat', 'ls_temperature': 0.0, 'ls_method': 'traceable'}, 'data': {'chunk': AIMessageChunk(content=' context', additional_kwargs={}, response_metadata={}, id='run-9400c73b-de96-4212-b8de-b794fb1a5e1b')}, 'parent_ids': []}\n",
      " context|{'event': 'on_chat_model_stream', 'name': 'ChatOpenAI', 'run_id': '9400c73b-de96-4212-b8de-b794fb1a5e1b', 'tags': ['seq:step:1'], 'metadata': {'thread_id': '4', 'langgraph_step': 2, 'langgraph_node': 'answer_trivial_question', 'langgraph_triggers': ['branch:handle_trivial_question:detect_trivial_question:answer_trivial_question'], 'langgraph_path': ('__pregel_pull', 'answer_trivial_question'), 'langgraph_checkpoint_ns': 'answer_trivial_question:2c8e6955-2750-bdc7-8c46-2f5bc1f29843', 'checkpoint_ns': 'answer_trivial_question:2c8e6955-2750-bdc7-8c46-2f5bc1f29843', 'ls_provider': 'openai', 'ls_model_name': 'gpt-4o', 'ls_model_type': 'chat', 'ls_temperature': 0.0, 'ls_method': 'traceable'}, 'data': {'chunk': AIMessageChunk(content=' or', additional_kwargs={}, response_metadata={}, id='run-9400c73b-de96-4212-b8de-b794fb1a5e1b')}, 'parent_ids': []}\n",
      " or|{'event': 'on_chat_model_stream', 'name': 'ChatOpenAI', 'run_id': '9400c73b-de96-4212-b8de-b794fb1a5e1b', 'tags': ['seq:step:1'], 'metadata': {'thread_id': '4', 'langgraph_step': 2, 'langgraph_node': 'answer_trivial_question', 'langgraph_triggers': ['branch:handle_trivial_question:detect_trivial_question:answer_trivial_question'], 'langgraph_path': ('__pregel_pull', 'answer_trivial_question'), 'langgraph_checkpoint_ns': 'answer_trivial_question:2c8e6955-2750-bdc7-8c46-2f5bc1f29843', 'checkpoint_ns': 'answer_trivial_question:2c8e6955-2750-bdc7-8c46-2f5bc1f29843', 'ls_provider': 'openai', 'ls_model_name': 'gpt-4o', 'ls_model_type': 'chat', 'ls_temperature': 0.0, 'ls_method': 'traceable'}, 'data': {'chunk': AIMessageChunk(content=' details', additional_kwargs={}, response_metadata={}, id='run-9400c73b-de96-4212-b8de-b794fb1a5e1b')}, 'parent_ids': []}\n",
      " details|{'event': 'on_chat_model_stream', 'name': 'ChatOpenAI', 'run_id': '9400c73b-de96-4212-b8de-b794fb1a5e1b', 'tags': ['seq:step:1'], 'metadata': {'thread_id': '4', 'langgraph_step': 2, 'langgraph_node': 'answer_trivial_question', 'langgraph_triggers': ['branch:handle_trivial_question:detect_trivial_question:answer_trivial_question'], 'langgraph_path': ('__pregel_pull', 'answer_trivial_question'), 'langgraph_checkpoint_ns': 'answer_trivial_question:2c8e6955-2750-bdc7-8c46-2f5bc1f29843', 'checkpoint_ns': 'answer_trivial_question:2c8e6955-2750-bdc7-8c46-2f5bc1f29843', 'ls_provider': 'openai', 'ls_model_name': 'gpt-4o', 'ls_model_type': 'chat', 'ls_temperature': 0.0, 'ls_method': 'traceable'}, 'data': {'chunk': AIMessageChunk(content='.', additional_kwargs={}, response_metadata={}, id='run-9400c73b-de96-4212-b8de-b794fb1a5e1b')}, 'parent_ids': []}\n",
      ".|{'event': 'on_chat_model_stream', 'name': 'ChatOpenAI', 'run_id': '9400c73b-de96-4212-b8de-b794fb1a5e1b', 'tags': ['seq:step:1'], 'metadata': {'thread_id': '4', 'langgraph_step': 2, 'langgraph_node': 'answer_trivial_question', 'langgraph_triggers': ['branch:handle_trivial_question:detect_trivial_question:answer_trivial_question'], 'langgraph_path': ('__pregel_pull', 'answer_trivial_question'), 'langgraph_checkpoint_ns': 'answer_trivial_question:2c8e6955-2750-bdc7-8c46-2f5bc1f29843', 'checkpoint_ns': 'answer_trivial_question:2c8e6955-2750-bdc7-8c46-2f5bc1f29843', 'ls_provider': 'openai', 'ls_model_name': 'gpt-4o', 'ls_model_type': 'chat', 'ls_temperature': 0.0, 'ls_method': 'traceable'}, 'data': {'chunk': AIMessageChunk(content='', additional_kwargs={}, response_metadata={'finish_reason': 'stop', 'model_name': 'gpt-4o-2024-08-06', 'system_fingerprint': 'fp_d28bcae782'}, id='run-9400c73b-de96-4212-b8de-b794fb1a5e1b')}, 'parent_ids': []}\n",
      "|"
     ]
    }
   ],
   "source": [
    "\n",
    "thread = {\"configurable\": {\"thread_id\": \"4\"}}\n",
    "async for event in app.astream_events(inputs, thread, version=\"v1\"\n",
    "                                      ):\n",
    "    kind = event[\"event\"]\n",
    "    \n",
    "    \n",
    "    #we retrieve the events when the llm is otuputting text\n",
    "    #and then we start showing token by token async\n",
    "    \n",
    "    if kind == \"on_chat_model_stream\":\n",
    "        \n",
    "        # print(event[\"metadata\"][\"langgraph_node\"])\n",
    "        content = event[\"data\"][\"chunk\"].content\n",
    "        if content and event[\"metadata\"][\"langgraph_node\"] == \"generation\" or \"answer_trivial_question\":\n",
    "            print(event)\n",
    "            # Empty content in the context of OpenAI means\n",
    "            # that the model is asking for a tool to be invoked.\n",
    "            # So we only print non-empty content\n",
    "            print(content, end=\"|\")"
   ]
  },
  {
   "cell_type": "code",
   "execution_count": null,
   "metadata": {},
   "outputs": [],
   "source": [
    ".|{'event': 'on_chat_model_stream', 'name': 'ChatOpenAI', 'run_id': '9400c73b-de96-4212-b8de-b794fb1a5e1b', 'tags': ['seq:step:1'], 'metadata': {'thread_id': '4', 'langgraph_step': 2, 'langgraph_node': 'answer_trivial_question', 'langgraph_triggers': ['branch:handle_trivial_question:detect_trivial_question:answer_trivial_question'], 'langgraph_path': ('__pregel_pull', 'answer_trivial_question'), 'langgraph_checkpoint_ns': 'answer_trivial_question:2c8e6955-2750-bdc7-8c46-2f5bc1f29843', 'checkpoint_ns': 'answer_trivial_question:2c8e6955-2750-bdc7-8c46-2f5bc1f29843', 'ls_provider': 'openai', 'ls_model_name': 'gpt-4o', 'ls_model_type': 'chat', 'ls_temperature': 0.0, 'ls_method': 'traceable'}, 'data': {'chunk': AIMessageChunk(content='', additional_kwargs={}, response_metadata={'finish_reason': 'stop', 'model_name': 'gpt-4o-2024-08-06', 'system_fingerprint': 'fp_d28bcae782'}, id='run-9400c73b-de96-4212-b8de-b794fb1a5e1b')}, 'parent_ids': []}\n"
   ]
  },
  {
   "cell_type": "code",
   "execution_count": 14,
   "metadata": {},
   "outputs": [],
   "source": [
    "aa = llm.with_config({\"run_name\": \"model\"}).invoke(\"hii my dog!\")"
   ]
  },
  {
   "cell_type": "code",
   "execution_count": 84,
   "metadata": {},
   "outputs": [],
   "source": [
    "aa.id = 900"
   ]
  },
  {
   "cell_type": "code",
   "execution_count": null,
   "metadata": {},
   "outputs": [],
   "source": [
    "# inputs = {\"messages\": [HumanMessage(content=\"what's the weather in nyc?\")]}\n",
    "\n",
    "\n",
    "async for event in app.astream_events(inputs, version=\"v2\")\n",
    "                                    #   include_names=[\"my_parser\"]):\n",
    "    \n",
    "    #todo: if we gave to the llm an unique way to identify it in the events with llm with_config({\"run_name\": \"my_parser\"})\n",
    "    \n",
    "    # kind = event[\"event\"]\n",
    "    # tags = event.get(\"tags\", [])\n",
    "    # # filter on the custom tag\n",
    "    \n",
    "    \n",
    "    # events.append(event)\n",
    "    # print(kind, event[\"data\"])\n",
    "    # if kind == \"on_chat_model_stream\":\n",
    "    #     data = event[\"data\"]\n",
    "    #     output_json = data.get(\"output\", None)\n",
    "        \n",
    "    #     if output_json != None:\n",
    "            \n",
    "    #         generation = event.get(\"generation\", None)\n",
    "            \n",
    "            \n",
    "    #         if generation is not None:\n",
    "            \n",
    "        \n",
    "    #     # if data[\"chunk\"].content:\n",
    "    #     #     # Empty content in the context of OpenAI or Anthropic usually means\n",
    "    #     #     # that the model is asking for a tool to be invoked.\n",
    "    #     #     # So we only print non-empty content\n",
    "    #             print(data[\"chunk\"].content, end=\"|\", flush=True)"
   ]
  },
  {
   "cell_type": "code",
   "execution_count": 30,
   "metadata": {},
   "outputs": [
    {
     "name": "stdout",
     "output_type": "stream",
     "text": [
      "{'news_summary': \"Ready to know what happened this week? Let's dive in. First up, fitness enthusiasts are buzzing about high-intensity interval training, which promises to keep you burning calories long after your workout ends. Meanwhile, in the world of international affairs, Ukraine made headlines by using a naval drone to take down a Russian helicopter, marking a significant moment in their ongoing conflict. As Asia celebrated the arrival of 2025 with spectacular fireworks, Elon Musk stirred controversy in Germany by endorsing a far-right party, leading to a media shake-up. Across the Atlantic, Donald Trump surprised many by supporting Elon Musk and the H-1B visa program, causing ripples within the Republican Party. In entertainment, Lily-Rose Depp is making waves with her role in the new Nasratu film, while Trump mourns the loss of former U.S. President Jimmy Carter, who passed away at 100, leaving behind a legacy of peace and humanitarian work. Spain is facing unrest as public employees deal with frozen salaries and healthcare disruptions, while in Brazil, a tragic poisoning incident involving a Christmas cake is under investigation. Azerbaijan and Russia are at odds over a plane crash, with calls for an independent probe. In South Korea, a devastating plane crash claimed 179 lives, marking the worst air disaster in the country in decades. New York is reeling from a scandal involving prison brutality, prompting calls for justice and reform. The WHO's Tedros Adhanom Ghebreyesus narrowly escaped a bombing in Yemen, highlighting the ongoing conflict in the region. Tensions are also high between Venezuela and Argentina over accusations of terrorism, while Ukraine continues to fend off Russian aerial attacks. In Madrid, a graffiti artist faces a hefty fine for his street art spree, and in New York, a shocking video of prison violence has sparked outrage and investigations. Meanwhile, Russia's use of a ghost freight to bypass sanctions is raising alarms in the Baltic region. In China, a tragic incident involving a driver plowing into a crowd has sparked discussions on public mourning and censorship. Back in New York, the Guardian Angels are back on patrol in the subway after a horrific attack, aiming to boost public safety. Finally, Spain's Muface is in turmoil as major health insurers withdraw, leaving many civil servants without private coverage. As the year wraps up, these events remind us of the complexities and challenges facing our world today. Stay tuned for more updates.\\n\", 'question': 'who is the nephew of Francisco Hitler?'}\n",
      "{'news_summary': \"Ready to know what happened this week? Let's dive in. First up, fitness enthusiasts are buzzing about high-intensity interval training, which promises to keep you burning calories long after your workout ends. Meanwhile, in the world of international affairs, Ukraine made headlines by using a naval drone to take down a Russian helicopter, marking a significant moment in their ongoing conflict. As Asia celebrated the arrival of 2025 with spectacular fireworks, Elon Musk stirred controversy in Germany by endorsing a far-right party, leading to a media shake-up. Across the Atlantic, Donald Trump surprised many by supporting Elon Musk and the H-1B visa program, causing ripples within the Republican Party. In entertainment, Lily-Rose Depp is making waves with her role in the new Nasratu film, while Trump mourns the loss of former U.S. President Jimmy Carter, who passed away at 100, leaving behind a legacy of peace and humanitarian work. Spain is facing unrest as public employees deal with frozen salaries and healthcare disruptions, while in Brazil, a tragic poisoning incident involving a Christmas cake is under investigation. Azerbaijan and Russia are at odds over a plane crash, with calls for an independent probe. In South Korea, a devastating plane crash claimed 179 lives, marking the worst air disaster in the country in decades. New York is reeling from a scandal involving prison brutality, prompting calls for justice and reform. The WHO's Tedros Adhanom Ghebreyesus narrowly escaped a bombing in Yemen, highlighting the ongoing conflict in the region. Tensions are also high between Venezuela and Argentina over accusations of terrorism, while Ukraine continues to fend off Russian aerial attacks. In Madrid, a graffiti artist faces a hefty fine for his street art spree, and in New York, a shocking video of prison violence has sparked outrage and investigations. Meanwhile, Russia's use of a ghost freight to bypass sanctions is raising alarms in the Baltic region. In China, a tragic incident involving a driver plowing into a crowd has sparked discussions on public mourning and censorship. Back in New York, the Guardian Angels are back on patrol in the subway after a horrific attack, aiming to boost public safety. Finally, Spain's Muface is in turmoil as major health insurers withdraw, leaving many civil servants without private coverage. As the year wraps up, these events remind us of the complexities and challenges facing our world today. Stay tuned for more updates.\\n\", 'question': 'who is the nephew of Francisco Hitler?', 'question_type': 'is_trivial', 'iterations': 0}\n",
      "{'news_summary': \"Ready to know what happened this week? Let's dive in. First up, fitness enthusiasts are buzzing about high-intensity interval training, which promises to keep you burning calories long after your workout ends. Meanwhile, in the world of international affairs, Ukraine made headlines by using a naval drone to take down a Russian helicopter, marking a significant moment in their ongoing conflict. As Asia celebrated the arrival of 2025 with spectacular fireworks, Elon Musk stirred controversy in Germany by endorsing a far-right party, leading to a media shake-up. Across the Atlantic, Donald Trump surprised many by supporting Elon Musk and the H-1B visa program, causing ripples within the Republican Party. In entertainment, Lily-Rose Depp is making waves with her role in the new Nasratu film, while Trump mourns the loss of former U.S. President Jimmy Carter, who passed away at 100, leaving behind a legacy of peace and humanitarian work. Spain is facing unrest as public employees deal with frozen salaries and healthcare disruptions, while in Brazil, a tragic poisoning incident involving a Christmas cake is under investigation. Azerbaijan and Russia are at odds over a plane crash, with calls for an independent probe. In South Korea, a devastating plane crash claimed 179 lives, marking the worst air disaster in the country in decades. New York is reeling from a scandal involving prison brutality, prompting calls for justice and reform. The WHO's Tedros Adhanom Ghebreyesus narrowly escaped a bombing in Yemen, highlighting the ongoing conflict in the region. Tensions are also high between Venezuela and Argentina over accusations of terrorism, while Ukraine continues to fend off Russian aerial attacks. In Madrid, a graffiti artist faces a hefty fine for his street art spree, and in New York, a shocking video of prison violence has sparked outrage and investigations. Meanwhile, Russia's use of a ghost freight to bypass sanctions is raising alarms in the Baltic region. In China, a tragic incident involving a driver plowing into a crowd has sparked discussions on public mourning and censorship. Back in New York, the Guardian Angels are back on patrol in the subway after a horrific attack, aiming to boost public safety. Finally, Spain's Muface is in turmoil as major health insurers withdraw, leaving many civil servants without private coverage. As the year wraps up, these events remind us of the complexities and challenges facing our world today. Stay tuned for more updates.\\n\", 'question': 'who is the nephew of Francisco Hitler?', 'question_type': 'is_trivial', 'generation': 'There is no widely recognized historical figure named Francisco Hitler, and Adolf Hitler, the infamous dictator of Nazi Germany, did not have any known relatives named Francisco. If you meant a different person or if this is a fictional or hypothetical scenario, please provide more context or clarify your question.', 'iterations': 0}\n"
     ]
    }
   ],
   "source": [
    "first = True\n",
    "async for event in app.astream(inputs, config=thread, stream_mode=\"values\"):\n",
    "    # if msg.content and not isinstance(msg, HumanMessage):\n",
    "    #     print(msg.content, end=\"|\", flush=True)\n",
    "\n",
    "    # if isinstance(msg, AIMessageChunk):\n",
    "    #     if first:\n",
    "    #         gathered = msg\n",
    "    #         first = False\n",
    "    #     else:\n",
    "    #         gathered = gathered + msg\n",
    "\n",
    "    #     if msg.tool_call_chunks:\n",
    "    #         print(gathered.tool_calls)\n",
    "    \n",
    "    print(event)"
   ]
  },
  {
   "cell_type": "code",
   "execution_count": 34,
   "metadata": {},
   "outputs": [
    {
     "name": "stdout",
     "output_type": "stream",
     "text": [
      "Chat model chunk: ''\n",
      "Chat model chunk: 'is'\n",
      "Chat model chunk: '_tr'\n",
      "Chat model chunk: 'ivial'\n",
      "Chat model chunk: ''\n",
      "Chat model chunk: ''\n",
      "Chat model chunk: 'There'\n",
      "Chat model chunk: ' is'\n",
      "Chat model chunk: ' no'\n",
      "Chat model chunk: ' widely'\n",
      "Chat model chunk: ' recognized'\n",
      "Chat model chunk: ' historical'\n",
      "Chat model chunk: ' figure'\n",
      "Chat model chunk: ' named'\n",
      "Chat model chunk: ' Francisco'\n",
      "Chat model chunk: ' Hitler'\n",
      "...\n",
      "Final response: is_trivialThere is no widely recognized historical figure named Francisco Hitler\n"
     ]
    }
   ],
   "source": [
    "num_events = 0\n",
    "response_buffer = []\n",
    "\n",
    "async for event in app.astream_events(inputs, version=\"v2\"):\n",
    "    kind = event[\"event\"]\n",
    "    if kind == \"on_chat_model_stream\":\n",
    "        chunk_content = event['data']['chunk'].content\n",
    "        if chunk_content.strip():  # Ignore empty chunks\n",
    "            response_buffer.append(chunk_content)\n",
    "        print(f\"Chat model chunk: {repr(chunk_content)}\", flush=True)\n",
    "    \n",
    "    if kind == \"on_parser_stream\":\n",
    "        print(f\"Parser chunk: {event['data']['chunk']}\", flush=True)\n",
    "    \n",
    "    num_events += 1\n",
    "    if num_events > 30:\n",
    "        # Truncate the output after 30 events\n",
    "        print(\"...\")\n",
    "        break\n",
    "\n",
    "# After the loop, print the final accumulated response\n",
    "final_response = ''.join(response_buffer)\n",
    "print(\"Final response:\", final_response)\n"
   ]
  },
  {
   "cell_type": "code",
   "execution_count": 21,
   "metadata": {},
   "outputs": [
    {
     "name": "stdout",
     "output_type": "stream",
     "text": [
      "on_chain_start: LangGraph\n",
      "on_chain_start: __start__\n",
      "on_chain_end: __start__\n",
      "on_chain_start: handle_trivial_question\n",
      "on_chat_model_start: ChatOpenAI\n",
      "on_chat_model_stream: ChatOpenAI\n",
      "on_chat_model_stream: ChatOpenAI\n",
      "on_chat_model_stream: ChatOpenAI\n",
      "on_chat_model_stream: ChatOpenAI\n",
      "on_chat_model_stream: ChatOpenAI\n",
      "on_chat_model_end: ChatOpenAI\n",
      "on_chain_start: _write\n",
      "on_chain_end: _write\n",
      "on_chain_start: detect_trivial_question\n",
      "on_chain_end: detect_trivial_question\n",
      "on_chain_stream: handle_trivial_question\n",
      "on_chain_end: handle_trivial_question\n",
      "on_chain_stream: LangGraph\n",
      "on_chain_start: answer_trivial_question\n",
      "on_chat_model_start: ChatOpenAI\n",
      "on_chat_model_stream: ChatOpenAI\n",
      "on_chat_model_stream: ChatOpenAI\n",
      "on_chat_model_stream: ChatOpenAI\n",
      "on_chat_model_stream: ChatOpenAI\n",
      "on_chat_model_stream: ChatOpenAI\n",
      "on_chat_model_stream: ChatOpenAI\n",
      "on_chat_model_stream: ChatOpenAI\n",
      "on_chat_model_stream: ChatOpenAI\n",
      "on_chat_model_stream: ChatOpenAI\n",
      "on_chat_model_stream: ChatOpenAI\n",
      "on_chat_model_stream: ChatOpenAI\n",
      "on_chat_model_stream: ChatOpenAI\n",
      "on_chat_model_stream: ChatOpenAI\n",
      "on_chat_model_stream: ChatOpenAI\n",
      "on_chat_model_stream: ChatOpenAI\n",
      "on_chat_model_stream: ChatOpenAI\n",
      "on_chat_model_stream: ChatOpenAI\n",
      "on_chat_model_stream: ChatOpenAI\n",
      "on_chat_model_stream: ChatOpenAI\n",
      "on_chat_model_stream: ChatOpenAI\n",
      "on_chat_model_stream: ChatOpenAI\n",
      "on_chat_model_stream: ChatOpenAI\n",
      "on_chat_model_stream: ChatOpenAI\n",
      "on_chat_model_stream: ChatOpenAI\n",
      "on_chat_model_stream: ChatOpenAI\n",
      "on_chat_model_stream: ChatOpenAI\n",
      "on_chat_model_stream: ChatOpenAI\n",
      "on_chat_model_stream: ChatOpenAI\n",
      "on_chat_model_stream: ChatOpenAI\n",
      "on_chat_model_stream: ChatOpenAI\n",
      "on_chat_model_stream: ChatOpenAI\n",
      "on_chat_model_stream: ChatOpenAI\n",
      "on_chat_model_stream: ChatOpenAI\n",
      "on_chat_model_stream: ChatOpenAI\n",
      "on_chat_model_stream: ChatOpenAI\n",
      "on_chat_model_stream: ChatOpenAI\n",
      "on_chat_model_stream: ChatOpenAI\n",
      "on_chat_model_stream: ChatOpenAI\n",
      "on_chat_model_stream: ChatOpenAI\n",
      "on_chat_model_stream: ChatOpenAI\n",
      "on_chat_model_stream: ChatOpenAI\n",
      "on_chat_model_stream: ChatOpenAI\n",
      "on_chat_model_stream: ChatOpenAI\n",
      "on_chat_model_stream: ChatOpenAI\n",
      "on_chat_model_stream: ChatOpenAI\n",
      "on_chat_model_stream: ChatOpenAI\n",
      "on_chat_model_stream: ChatOpenAI\n",
      "on_chat_model_stream: ChatOpenAI\n",
      "on_chat_model_stream: ChatOpenAI\n",
      "on_chat_model_stream: ChatOpenAI\n",
      "on_chat_model_stream: ChatOpenAI\n",
      "on_chat_model_stream: ChatOpenAI\n",
      "on_chat_model_stream: ChatOpenAI\n",
      "on_chat_model_stream: ChatOpenAI\n",
      "on_chat_model_stream: ChatOpenAI\n",
      "on_chat_model_stream: ChatOpenAI\n",
      "on_chat_model_stream: ChatOpenAI\n",
      "on_chat_model_stream: ChatOpenAI\n",
      "on_chat_model_stream: ChatOpenAI\n",
      "on_chat_model_stream: ChatOpenAI\n",
      "on_chat_model_stream: ChatOpenAI\n",
      "on_chat_model_stream: ChatOpenAI\n",
      "on_chat_model_stream: ChatOpenAI\n",
      "on_chat_model_stream: ChatOpenAI\n",
      "on_chat_model_stream: ChatOpenAI\n",
      "on_chat_model_stream: ChatOpenAI\n",
      "on_chat_model_stream: ChatOpenAI\n",
      "on_chat_model_stream: ChatOpenAI\n",
      "on_chat_model_stream: ChatOpenAI\n",
      "on_chat_model_stream: ChatOpenAI\n",
      "on_chat_model_stream: ChatOpenAI\n",
      "on_chat_model_stream: ChatOpenAI\n",
      "on_chat_model_end: ChatOpenAI\n",
      "on_chain_start: _write\n",
      "on_chain_end: _write\n",
      "on_chain_stream: answer_trivial_question\n",
      "on_chain_end: answer_trivial_question\n",
      "on_chain_stream: LangGraph\n",
      "on_chain_end: LangGraph\n"
     ]
    }
   ],
   "source": [
    "\n",
    "inputs = {\"question\": \"who is the nephew of Francisco Hitler?\", \"news_summary\":text}\n",
    "\n",
    "async for event in app.astream_events(inputs, config=thread,version=\"v1\"):\n",
    "    kind = event[\"event\"]\n",
    "    print(f\"{kind}: {event['name']}\")\n",
    "    \n",
    "    # if kind == \"on_chat_model_stream\" and event[\"name\"] == \"LangGraph\":\n",
    "    #     content = event[\"data\"][\"chunk\"].content\n",
    "    #     if content:\n",
    "    #         print(\"a\")\n",
    "    #         # Empty content in the context of OpenAI means\n",
    "    #         # that the model is asking for a tool to be invoked.\n",
    "    #         # So we only print non-empty content\n",
    "    #         print(content, end=\"|\")"
   ]
  },
  {
   "cell_type": "code",
   "execution_count": 6,
   "metadata": {},
   "outputs": [],
   "source": [
    "text = transcribe_audio(\"narrative.wav\")"
   ]
  },
  {
   "cell_type": "code",
   "execution_count": 7,
   "metadata": {},
   "outputs": [
    {
     "name": "stdout",
     "output_type": "stream",
     "text": [
      "already searched queries (if applicable): None\n",
      "gonna generate 1 queries\n"
     ]
    }
   ],
   "source": [
    "res = app.invoke({\"question\":\"capital of Spain\", \"news_summary\":text}, thread)[\"generation\"]"
   ]
  },
  {
   "cell_type": "code",
   "execution_count": 9,
   "metadata": {},
   "outputs": [
    {
     "name": "stdout",
     "output_type": "stream",
     "text": [
      "('content', 'The capital of Spain is Madrid.')\n",
      "('additional_kwargs', {'refusal': None})\n",
      "('response_metadata', {'token_usage': {'completion_tokens': 8, 'prompt_tokens': 1811, 'total_tokens': 1819, 'completion_tokens_details': {'accepted_prediction_tokens': 0, 'audio_tokens': 0, 'reasoning_tokens': 0, 'rejected_prediction_tokens': 0}, 'prompt_tokens_details': {'audio_tokens': 0, 'cached_tokens': 1536}}, 'model_name': 'gpt-4o-2024-08-06', 'system_fingerprint': 'fp_d28bcae782', 'finish_reason': 'stop', 'logprobs': None})\n",
      "('type', 'ai')\n",
      "('name', None)\n",
      "('id', 'last_pred')\n",
      "('example', False)\n",
      "('tool_calls', [])\n",
      "('invalid_tool_calls', [])\n",
      "('usage_metadata', {'input_tokens': 1811, 'output_tokens': 8, 'total_tokens': 1819, 'input_token_details': {'audio': 0, 'cache_read': 1536}, 'output_token_details': {'audio': 0, 'reasoning': 0}})\n"
     ]
    }
   ],
   "source": [
    "for i in res:\n",
    "    \n",
    "    print(i) #it indeed have the .id = last_pred"
   ]
  },
  {
   "cell_type": "code",
   "execution_count": 8,
   "metadata": {},
   "outputs": [
    {
     "data": {
      "text/plain": [
       "\"Ready to know what happened this week? Let's dive in. First up, fitness enthusiasts are buzzing about high-intensity interval training, which promises to keep you burning calories long after your workout ends. Meanwhile, in the world of international affairs, Ukraine made headlines by using a naval drone to take down a Russian helicopter, marking a significant moment in their ongoing conflict. As Asia celebrated the arrival of 2025 with spectacular fireworks, Elon Musk stirred controversy in Germany by endorsing a far-right party, leading to a media shake-up. Across the Atlantic, Donald Trump surprised many by supporting Elon Musk and the H-1B visa program, causing ripples within the Republican Party. In entertainment, Lily-Rose Depp is making waves with her role in the new Nasratu film, while Trump mourns the loss of former U.S. President Jimmy Carter, who passed away at 100, leaving behind a legacy of peace and humanitarian work. Spain is facing unrest as public employees deal with frozen salaries and healthcare disruptions, while in Brazil, a tragic poisoning incident involving a Christmas cake is under investigation. Azerbaijan and Russia are at odds over a plane crash, with calls for an independent probe. In South Korea, a devastating plane crash claimed 179 lives, marking the worst air disaster in the country in decades. New York is reeling from a scandal involving prison brutality, prompting calls for justice and reform. The WHO's Tedros Adhanom Ghebreyesus narrowly escaped a bombing in Yemen, highlighting the ongoing conflict in the region. Tensions are also high between Venezuela and Argentina over accusations of terrorism, while Ukraine continues to fend off Russian aerial attacks. In Madrid, a graffiti artist faces a hefty fine for his street art spree, and in New York, a shocking video of prison violence has sparked outrage and investigations. Meanwhile, Russia's use of a ghost freight to bypass sanctions is raising alarms in the Baltic region. In China, a tragic incident involving a driver plowing into a crowd has sparked discussions on public mourning and censorship. Back in New York, the Guardian Angels are back on patrol in the subway after a horrific attack, aiming to boost public safety. Finally, Spain's Muface is in turmoil as major health insurers withdraw, leaving many civil servants without private coverage. As the year wraps up, these events remind us of the complexities and challenges facing our world today. Stay tuned for more updates.\\n\""
      ]
     },
     "execution_count": 8,
     "metadata": {},
     "output_type": "execute_result"
    }
   ],
   "source": [
    "text    "
   ]
  },
  {
   "cell_type": "code",
   "execution_count": null,
   "metadata": {},
   "outputs": [],
   "source": [
    "re"
   ]
  },
  {
   "cell_type": "code",
   "execution_count": 166,
   "metadata": {},
   "outputs": [
    {
     "name": "stdout",
     "output_type": "stream",
     "text": [
      "already searched queries (if applicable): None\n",
      "gonna generate 1 queries\n"
     ]
    },
    {
     "data": {
      "text/plain": [
       "AIMessage(content='Hi Pablo! The latest news in AI is that OpenAI is shifting its focus towards \"superintelligence.\" CEO Sam Altman believes they know how to build artificial general intelligence and aims to develop highly autonomous systems that could outperform humans in economically valuable work. This could significantly enhance scientific discovery and innovation. However, he also acknowledges that current AI technology has limitations.', additional_kwargs={'refusal': None}, response_metadata={'token_usage': {'completion_tokens': 73, 'prompt_tokens': 1973, 'total_tokens': 2046, 'completion_tokens_details': {'accepted_prediction_tokens': 0, 'audio_tokens': 0, 'reasoning_tokens': 0, 'rejected_prediction_tokens': 0}, 'prompt_tokens_details': {'audio_tokens': 0, 'cached_tokens': 0}}, 'model_name': 'gpt-4o-mini-2024-07-18', 'system_fingerprint': 'fp_0aa8d3e20b', 'finish_reason': 'stop', 'logprobs': None}, id='last_pred', usage_metadata={'input_tokens': 1973, 'output_tokens': 73, 'total_tokens': 2046, 'input_token_details': {'audio': 0, 'cache_read': 0}, 'output_token_details': {'audio': 0, 'reasoning': 0}})"
      ]
     },
     "execution_count": 166,
     "metadata": {},
     "output_type": "execute_result"
    }
   ],
   "source": [
    "\n",
    "\n",
    "app.invoke({\"question\":\"hi, my name is pablo, i want to know the lastest news of ai\", \"news_summary\":text}, thread)[\"generation\"]"
   ]
  },
  {
   "cell_type": "code",
   "execution_count": 26,
   "metadata": {},
   "outputs": [],
   "source": [
    "# app.invoke({\"question\":\"which was my name?\", \"news_summary\":text}, thread)[\"generation\"]"
   ]
  },
  {
   "cell_type": "code",
   "execution_count": 167,
   "metadata": {},
   "outputs": [],
   "source": [
    "# for i in a[0]:\n",
    "#     print(i)"
   ]
  },
  {
   "cell_type": "code",
   "execution_count": 168,
   "metadata": {},
   "outputs": [],
   "source": [
    "# # from pprint import pprint\n",
    "# # inputs = {\"question\": \"hi, my name is pablo\", \"news_summary\":text}\n",
    "# # for output in app.stream(inputs, thread):\n",
    "# #     for key, value in output.items():\n",
    "# #         pprint(f\"Finished running: {key}:\")\n",
    "# # pprint(value[\"generation\"])\n",
    "\n",
    "# from pprint import pprint\n",
    "# inputs = {\"question\": \"hi, which was my name?\", \"news_summary\":text}\n",
    "# for output in app.stream(inputs, thread):\n",
    "#     for key, value in output.items():\n",
    "#         pprint(f\"Finished running: {key}:\")\n",
    "# pprint(value[\"generation\"])"
   ]
  },
  {
   "cell_type": "code",
   "execution_count": 169,
   "metadata": {},
   "outputs": [],
   "source": [
    "# from pprint import pprint\n",
    "# inputs = {\"question\": \"tell me the last\", \"news_summary\":text}\n",
    "# for output in app.stream(inputs, thread):\n",
    "#     for key, value in output.items():\n",
    "#         pprint(f\"Finished running: {key}:\")\n",
    "# pprint(value[\"generation\"])"
   ]
  },
  {
   "cell_type": "markdown",
   "metadata": {},
   "source": [
    "#### PROBLEM #3: Determine how much `n_result` sources do we get for each search query\n",
    "\n",
    "- We should consider those questions which may lead to incoherences or detailed questions, to search for more thrustworthy sources\n",
    "\n",
    "- Decreasing `n_results` will also reduce the latency of the model\n",
    "\n",
    "\n",
    "some values:\n",
    "> With `n_values=1` --> took 7,7 sec for inference\n",
    "\n",
    "> With `n_values=2` --> 12 sec"
   ]
  },
  {
   "cell_type": "code",
   "execution_count": 24,
   "metadata": {},
   "outputs": [
    {
     "data": {
      "text/plain": [
       "{'decission': 'useful', 'feedback': None, 'iterations': 1}"
      ]
     },
     "execution_count": 24,
     "metadata": {},
     "output_type": "execute_result"
    }
   ],
   "source": [
    "value"
   ]
  },
  {
   "cell_type": "code",
   "execution_count": 27,
   "metadata": {},
   "outputs": [
    {
     "name": "stdout",
     "output_type": "stream",
     "text": [
      "'Finished running: handle_trivial_question:'\n",
      "'Finished running: retrieve:'\n",
      "'Finished running: grade_documents:'\n",
      "already searched queries (if applicable): None\n",
      "'Finished running: generate_queries:'\n",
      "gonna generate 1 queries\n",
      "'Finished running: websearch:'\n",
      "'Finished running: answer_with_docs:'\n",
      "'Finished running: grade_generation_v_documents_and_question:'\n",
      "'The capital of Spain is Madrid.'\n"
     ]
    }
   ],
   "source": [
    "from pprint import pprint\n",
    "inputs = {\"question\": \"capital of spain\", \"news_summary\":text}\n",
    "for output in app.stream(inputs, thread):\n",
    "    for key, value in output.items():\n",
    "        pprint(f\"Finished running: {key}:\")\n",
    "pprint(value[\"generation\"])"
   ]
  },
  {
   "cell_type": "code",
   "execution_count": 28,
   "metadata": {},
   "outputs": [
    {
     "name": "stdout",
     "output_type": "stream",
     "text": [
      "'Finished running: handle_trivial_question:'\n",
      "'Finished running: retrieve:'\n",
      "'Finished running: grade_documents:'\n",
      "already searched queries (if applicable): n_queries=1 queries=['capital of Spain'] tavily_days=[None] tavily_topic=['general']\n",
      "'Finished running: generate_queries:'\n",
      "gonna generate 1 queries\n",
      "'Finished running: websearch:'\n",
      "'Finished running: answer_with_docs:'\n",
      "'Finished running: grade_generation_v_documents_and_question:'\n",
      "already searched queries (if applicable): n_queries=1 queries=['current ruling political party in Venezuela 2025'] tavily_days=[7] tavily_topic=['news']\n",
      "'Finished running: generate_queries:'\n",
      "gonna generate 1 queries\n",
      "'Finished running: websearch:'\n",
      "'Finished running: answer_with_docs:'\n",
      "forcing stop of the graph...\n",
      "'Finished running: grade_generation_v_documents_and_question:'\n",
      "('The current ruling political party in Venezuela is the United Socialist '\n",
      " 'Party of Venezuela (PSUV). Nicolás Maduro is the leader of this party and '\n",
      " 'has been in power since 2013.')\n"
     ]
    }
   ],
   "source": [
    "from pprint import pprint\n",
    "inputs = {\"question\": \"which is the current political party at Venezuela?\", \"news_summary\":text}\n",
    "for output in app.stream(inputs, thread):\n",
    "    for key, value in output.items():\n",
    "        pprint(f\"Finished running: {key}:\")\n",
    "pprint(value[\"generation\"])"
   ]
  },
  {
   "cell_type": "code",
   "execution_count": 170,
   "metadata": {},
   "outputs": [
    {
     "name": "stdout",
     "output_type": "stream",
     "text": [
      "'Finished running: handle_trivial_question:'\n",
      "'Finished running: retrieve:'\n",
      "'Finished running: grade_documents:'\n",
      "already searched queries (if applicable): None\n",
      "'Finished running: generate_queries:'\n",
      "gonna generate 2 queries\n",
      "'Finished running: websearch:'\n",
      "'Finished running: answer_with_docs:'\n",
      "'Finished running: grade_generation_v_documents_and_question:'\n",
      "'Finished running: detect_if_final_pred:'\n"
     ]
    },
    {
     "ename": "TypeError",
     "evalue": "'NoneType' object is not subscriptable",
     "output_type": "error",
     "traceback": [
      "\u001b[1;31m---------------------------------------------------------------------------\u001b[0m",
      "\u001b[1;31mTypeError\u001b[0m                                 Traceback (most recent call last)",
      "Cell \u001b[1;32mIn[170], line 6\u001b[0m\n\u001b[0;32m      4\u001b[0m     \u001b[38;5;28;01mfor\u001b[39;00m key, value \u001b[38;5;129;01min\u001b[39;00m output\u001b[38;5;241m.\u001b[39mitems():\n\u001b[0;32m      5\u001b[0m         pprint(\u001b[38;5;124mf\u001b[39m\u001b[38;5;124m\"\u001b[39m\u001b[38;5;124mFinished running: \u001b[39m\u001b[38;5;132;01m{\u001b[39;00mkey\u001b[38;5;132;01m}\u001b[39;00m\u001b[38;5;124m:\u001b[39m\u001b[38;5;124m\"\u001b[39m)\n\u001b[1;32m----> 6\u001b[0m pprint(\u001b[43mvalue\u001b[49m\u001b[43m[\u001b[49m\u001b[38;5;124;43m\"\u001b[39;49m\u001b[38;5;124;43mgeneration\u001b[39;49m\u001b[38;5;124;43m\"\u001b[39;49m\u001b[43m]\u001b[49m)\n",
      "\u001b[1;31mTypeError\u001b[0m: 'NoneType' object is not subscriptable"
     ]
    }
   ],
   "source": [
    "from pprint import pprint\n",
    "inputs = {\"question\": \"which is the importance of latency in AI. audio models? \", \"news_summary\":text}\n",
    "for output in app.stream(inputs, thread):\n",
    "    for key, value in output.items():\n",
    "        pprint(f\"Finished running: {key}:\")\n",
    "pprint(value[\"generation\"])"
   ]
  },
  {
   "cell_type": "code",
   "execution_count": 157,
   "metadata": {},
   "outputs": [
    {
     "name": "stdout",
     "output_type": "stream",
     "text": [
      "'Finished running: handle_trivial_question:'\n",
      "'Finished running: retrieve:'\n",
      "'Finished running: grade_documents:'\n",
      "already searched queries (if applicable): n_queries=3 queries=['importance of latency in AI audio models', 'how latency affects AI audio processing', 'latency in AI audio models explained'] tavily_days=[None, None, None] tavily_topic=['general', 'general', 'general']\n",
      "'Finished running: generate_queries:'\n",
      "gonna generate 2 queries\n",
      "'Finished running: websearch:'\n",
      "'Finished running: answer_with_docs:'\n",
      "('Yes, there is a risk of new COVID infections in China, but the current '\n",
      " 'concern is more about a surge in respiratory illnesses, including human '\n",
      " 'metapneumovirus (HMPV). While there is an increase in these infections, '\n",
      " \"China's National Disease Control and Prevention Administration has reported \"\n",
      " 'that the country is safe to visit. The situation is not considered a global '\n",
      " 'health emergency by the World Health Organization, and there is more herd '\n",
      " 'immunity against HMPV compared to a novel virus like COVID-19 at the start '\n",
      " 'of the pandemic.')\n"
     ]
    }
   ],
   "source": [
    "from pprint import pprint\n",
    "inputs = {\"question\": \"Is there is any risk of new COVID infection in China?\", \"news_summary\":text}\n",
    "for output in app.stream(inputs, thread):\n",
    "    for key, value in output.items():\n",
    "        pprint(f\"Finished running: {key}:\")\n",
    "pprint(value[\"generation\"])"
   ]
  },
  {
   "cell_type": "code",
   "execution_count": 158,
   "metadata": {},
   "outputs": [
    {
     "name": "stdout",
     "output_type": "stream",
     "text": [
      "'Finished running: handle_trivial_question:'\n",
      "'Finished running: retrieve:'\n",
      "'Finished running: grade_documents:'\n",
      "already searched queries (if applicable): n_queries=2 queries=['current COVID-19 situation in China', 'risk of new COVID-19 variants in China'] tavily_days=[7, 7] tavily_topic=['news', 'news']\n",
      "'Finished running: generate_queries:'\n",
      "gonna generate 3 queries\n",
      "'Finished running: websearch:'\n",
      "'Finished running: answer_with_docs:'\n",
      "'Finished running: answer_with_docs:'\n",
      "already searched queries (if applicable): n_queries=3 queries=['COVID-19 spread from China to Europe risk assessment', 'impact of new COVID-19 variants on international travel', 'measures taken by Europe to prevent COVID-19 spread from China'] tavily_days=[7, 7, 7] tavily_topic=['news', 'news', 'news']\n",
      "'Finished running: generate_queries:'\n",
      "gonna generate 2 queries\n",
      "'Finished running: websearch:'\n",
      "'Finished running: answer_with_docs:'\n",
      "(\"The context provided doesn't specifically address the risk of new COVID \"\n",
      " 'infections in China reaching Europe. However, it does mention that COVID-19 '\n",
      " 'is still present globally, with ongoing mutations and variants. The World '\n",
      " 'Health Organization (WHO) continues to urge China to share data to better '\n",
      " 'understand the origins and current status of COVID-19. While the virus is '\n",
      " 'less deadly now due to built-up immunity and vaccinations, it is still '\n",
      " 'evolving, which means scientists are closely monitoring it.\\n'\n",
      " '\\n'\n",
      " 'Given this, while there is always a potential risk of new infections '\n",
      " \"spreading internationally, the current context doesn't highlight any \"\n",
      " 'specific new threat from China to Europe. The situation requires ongoing '\n",
      " 'monitoring and cooperation between countries to manage and mitigate risks '\n",
      " 'effectively.')\n"
     ]
    }
   ],
   "source": [
    "from pprint import pprint\n",
    "inputs = {\"question\": \"would it be the risk that new COVID infection in China reaches Europe?\", \"news_summary\":text}\n",
    "for output in app.stream(inputs, thread):\n",
    "    for key, value in output.items():\n",
    "        pprint(f\"Finished running: {key}:\")\n",
    "pprint(value[\"generation\"])"
   ]
  },
  {
   "cell_type": "markdown",
   "metadata": {},
   "source": [
    "____________"
   ]
  },
  {
   "cell_type": "code",
   "execution_count": 136,
   "metadata": {},
   "outputs": [
    {
     "name": "stdout",
     "output_type": "stream",
     "text": [
      "'Finished running: handle_trivial_question:'\n",
      "'Finished running: retrieve:'\n",
      "'Finished running: grade_documents:'\n",
      "already searched queries (if applicable): None\n",
      "'Finished running: generate_queries:'\n",
      "gonna generate 1 queries\n",
      "'Finished running: websearch:'\n",
      "'Finished running: answer_with_docs:'\n",
      "('In Spain, the main left-wing political parties are Podemos and the Spanish '\n",
      " \"Socialist Workers' Party (PSOE). Podemos is known for its left-wing to \"\n",
      " 'far-left stance, while PSOE is a center-left party. Both have been involved '\n",
      " 'in coalition governments, with PSOE currently being part of the ruling '\n",
      " 'coalition alongside Sumar, a new left-wing platform.')\n"
     ]
    }
   ],
   "source": [
    "from pprint import pprint\n",
    "inputs = {\"question\": \"what is the left-wing party in politics in spain\", \"news_summary\":text}\n",
    "for output in app.stream(inputs, thread):\n",
    "    for key, value in output.items():\n",
    "        pprint(f\"Finished running: {key}:\")\n",
    "pprint(value[\"generation\"])"
   ]
  },
  {
   "cell_type": "code",
   "execution_count": null,
   "metadata": {},
   "outputs": [],
   "source": []
  },
  {
   "cell_type": "code",
   "execution_count": 26,
   "metadata": {},
   "outputs": [
    {
     "name": "stdout",
     "output_type": "stream",
     "text": [
      "'Finished running: handle_trivial_question:'\n",
      "'Finished running: answer_trivial_question:'\n",
      "('It seems like there might be some confusion in your question. Francisco '\n",
      " 'Franco and Adolf Hitler were two different historical figures. Francisco '\n",
      " 'Franco was the dictator of Spain from 1939 until his death in 1975. Adolf '\n",
      " 'Hitler was the dictator of Nazi Germany from 1933 to 1945. If you meant to '\n",
      " 'ask about their relationship or any specific aspect of their interactions, '\n",
      " 'feel free to provide more details!')\n"
     ]
    }
   ],
   "source": [
    "from pprint import pprint\n",
    "inputs = {\"question\": \"which was the name of Franco Hitler\", \"news_summary\":text}\n",
    "for output in app.stream(inputs, thread):\n",
    "    for key, value in output.items():\n",
    "        pprint(f\"Finished running: {key}:\")\n",
    "pprint(value[\"generation\"])"
   ]
  },
  {
   "cell_type": "code",
   "execution_count": null,
   "metadata": {},
   "outputs": [],
   "source": [
    "#TODO: we need to handle when questions are not grabbed correctly so it can lead to infinite recursions/iterations for questions like \"I want to know the last\""
   ]
  },
  {
   "cell_type": "markdown",
   "metadata": {},
   "source": [
    "### Bug #1: (DONE) Missleading questions"
   ]
  },
  {
   "cell_type": "code",
   "execution_count": 30,
   "metadata": {},
   "outputs": [
    {
     "name": "stdout",
     "output_type": "stream",
     "text": [
      "'Finished running: handle_trivial_question:'\n",
      "'Finished running: retrieve:'\n",
      "'Finished running: grade_documents:'\n",
      "already searched queries (if applicable): n_queries=3 queries=['importance of latency in AI audio models', 'how latency affects AI audio processing', 'impact of latency on AI-driven audio applications'] tavily_days=[None, None, None] tavily_topic=['general', 'general', 'general']\n",
      "'Finished running: generate_queries:'\n",
      "gonna generate 3 queries\n",
      "'Finished running: websearch:'\n",
      "'Finished running: answer_with_docs:'\n",
      "'Finished running: grade_generation_v_documents_and_question:'\n",
      "('The question seems to be based on a misunderstanding. The AfD, or '\n",
      " 'Alternative for Germany, is a far-right political party in Germany, and '\n",
      " 'there is no indication that they support the PSOE, which is a '\n",
      " \"social-democratic party in Spain. The context provided discusses Elon Musk's \"\n",
      " 'support for the AfD, but it does not mention any connection or support '\n",
      " 'between the AfD and PSOE. These two parties have very different political '\n",
      " \"ideologies and operate in different countries, so it's unlikely they would \"\n",
      " 'support each other.')\n"
     ]
    }
   ],
   "source": [
    "from pprint import pprint\n",
    "\n",
    "\n",
    "#TODO: sample BUG in the graph\n",
    "#When you ask questions which are missleading or not real, the graph will fall into an infinite loop\n",
    "#this is because once it ensures the returned docs are related to it, it will ensure the question actually responds to the docs\n",
    "#so it won't realize that the question is not real or cohesive hence it won't never get a precisse answer\n",
    "#todo: porque nunca vas a responder de forma precisa a una pregunta errónea, porque los datos de web/docs no proveeran tal respuesta, sino una respuesta valida\n",
    "\n",
    "inputs = {\"question\": \"why do the afd Germany party supports PSOE?\", \"news_summary\":text}\n",
    "for output in app.stream(inputs, thread):\n",
    "    for key, value in output.items():\n",
    "        pprint(f\"Finished running: {key}:\")\n",
    "pprint(value[\"generation\"])"
   ]
  },
  {
   "cell_type": "markdown",
   "metadata": {},
   "source": [
    "______________"
   ]
  },
  {
   "cell_type": "markdown",
   "metadata": {},
   "source": [
    "### BUG #2: (DONE) If the provided context is `not_useful`, we need to let know to the query writer to make different queries to the already searched ones"
   ]
  },
  {
   "cell_type": "markdown",
   "metadata": {},
   "source": [
    "##### NOTE: We already harcoded to not search in the RAG but instead running websearch\n",
    "\n",
    "\n"
   ]
  },
  {
   "cell_type": "code",
   "execution_count": 138,
   "metadata": {},
   "outputs": [
    {
     "name": "stdout",
     "output_type": "stream",
     "text": [
      "'Finished running: handle_trivial_question:'\n",
      "'Finished running: retrieve:'\n",
      "'Finished running: grade_documents:'\n",
      "already searched queries (if applicable): None\n",
      "'Finished running: generate_queries:'\n",
      "gonna generate 1 queries\n",
      "Warning: No raw_content found for source https://m.facebook.com/GeorgetownCollege/photos/rev-dr-derek-king-sr-nephew-of-dr-martin-luther-king-jr-joined-by-georgetown-col/10154337568592705/\n",
      "Warning: No raw_content found for source https://www.fox21news.com/news/nephew-of-martin-luther-king-jr-commemorates-his-legacy/\n",
      "'Finished running: websearch:'\n",
      "'Finished running: answer_with_docs:'\n",
      "(\"Martin Luther King Jr.'s nephew is Isaac Newton Farris Jr. He has been \"\n",
      " \"involved in various activities related to his uncle's legacy and has spoken \"\n",
      " 'publicly on social issues.')\n"
     ]
    }
   ],
   "source": [
    "from pprint import pprint\n",
    "\n",
    "\n",
    "#TODO: sample BUG in the graph\n",
    "inputs = {\"question\": \"who is the nephew of martin luther king?\", \"news_summary\":text}\n",
    "for output in app.stream(inputs, thread):\n",
    "    for key, value in output.items():\n",
    "        pprint(f\"Finished running: {key}:\")\n",
    "pprint(value[\"generation\"])"
   ]
  },
  {
   "cell_type": "code",
   "execution_count": 17,
   "metadata": {},
   "outputs": [
    {
     "name": "stdout",
     "output_type": "stream",
     "text": [
      "'Finished running: handle_trivial_question:'\n",
      "'Finished running: answer_trivial_question:'\n",
      "('There is no widely recognized historical figure named Francisco Hitler, and '\n",
      " 'Adolf Hitler, the infamous leader of Nazi Germany, did not have a known '\n",
      " 'nephew by that name. If you meant someone else or if this is a fictional or '\n",
      " 'lesser-known figure, please provide more context or clarify your question.')\n"
     ]
    }
   ],
   "source": [
    "from pprint import pprint\n",
    "inputs = {\"question\": \"who is the nephew of Francisco Hitler?\", \"news_summary\":text}\n",
    "for output in app.stream(inputs, thread):\n",
    "    for key, value in output.items():\n",
    "        pprint(f\"Finished running: {key}:\")\n",
    "pprint(value[\"generation\"])"
   ]
  },
  {
   "cell_type": "code",
   "execution_count": 12,
   "metadata": {},
   "outputs": [
    {
     "data": {
      "text/plain": [
       "<langgraph.graph.state.CompiledStateGraph at 0x2041ff869d0>"
      ]
     },
     "execution_count": 12,
     "metadata": {},
     "output_type": "execute_result"
    }
   ],
   "source": []
  },
  {
   "cell_type": "code",
   "execution_count": 14,
   "metadata": {},
   "outputs": [],
   "source": [
    "# app, workflow"
   ]
  },
  {
   "cell_type": "code",
   "execution_count": 6,
   "metadata": {},
   "outputs": [
    {
     "ename": "TypeError",
     "evalue": "Runnable.astream_events() missing 1 required positional argument: 'input'",
     "output_type": "error",
     "traceback": [
      "\u001b[1;31m---------------------------------------------------------------------------\u001b[0m",
      "\u001b[1;31mTypeError\u001b[0m                                 Traceback (most recent call last)",
      "Cell \u001b[1;32mIn[6], line 1\u001b[0m\n\u001b[1;32m----> 1\u001b[0m \u001b[43mapp\u001b[49m\u001b[38;5;241;43m.\u001b[39;49m\u001b[43mastream_events\u001b[49m\u001b[43m(\u001b[49m\u001b[43m)\u001b[49m\n",
      "\u001b[1;31mTypeError\u001b[0m: Runnable.astream_events() missing 1 required positional argument: 'input'"
     ]
    }
   ],
   "source": [
    "app.astream_events()"
   ]
  },
  {
   "cell_type": "code",
   "execution_count": 8,
   "metadata": {},
   "outputs": [],
   "source": [
    "inputs = {\"question\": \"who is the nephew of Francisco Hitler?\", \"news_summary\":text}"
   ]
  },
  {
   "cell_type": "code",
   "execution_count": null,
   "metadata": {},
   "outputs": [
    {
     "name": "stdout",
     "output_type": "stream",
     "text": [
      "on_chain_start: LangGraph\n"
     ]
    },
    {
     "ename": "NotImplementedError",
     "evalue": "The SqliteSaver does not support async methods. Consider using AsyncSqliteSaver instead.\nfrom langgraph.checkpoint.sqlite.aio import AsyncSqliteSaver\nNote: AsyncSqliteSaver requires the aiosqlite package to use.\nInstall with:\n`pip install aiosqlite`\nSee https://langchain-ai.github.io/langgraph/reference/checkpoints/asyncsqlitesaverfor more information.",
     "output_type": "error",
     "traceback": [
      "\u001b[1;31m---------------------------------------------------------------------------\u001b[0m",
      "\u001b[1;31mNotImplementedError\u001b[0m                       Traceback (most recent call last)",
      "Cell \u001b[1;32mIn[10], line 2\u001b[0m\n\u001b[0;32m      1\u001b[0m inputs \u001b[38;5;241m=\u001b[39m [{\u001b[38;5;124m\"\u001b[39m\u001b[38;5;124mrole\u001b[39m\u001b[38;5;124m\"\u001b[39m: \u001b[38;5;124m\"\u001b[39m\u001b[38;5;124muser\u001b[39m\u001b[38;5;124m\"\u001b[39m, \u001b[38;5;124m\"\u001b[39m\u001b[38;5;124mcontent\u001b[39m\u001b[38;5;124m\"\u001b[39m: \u001b[38;5;124m\"\u001b[39m\u001b[38;5;124mhi!\u001b[39m\u001b[38;5;124m\"\u001b[39m}]\n\u001b[1;32m----> 2\u001b[0m \u001b[38;5;28;01masync\u001b[39;00m \u001b[38;5;28;01mfor\u001b[39;00m event \u001b[38;5;129;01min\u001b[39;00m app\u001b[38;5;241m.\u001b[39mastream_events(inputs, config\u001b[38;5;241m=\u001b[39mthread,version\u001b[38;5;241m=\u001b[39m\u001b[38;5;124m\"\u001b[39m\u001b[38;5;124mv1\u001b[39m\u001b[38;5;124m\"\u001b[39m):\n\u001b[0;32m      3\u001b[0m     kind \u001b[38;5;241m=\u001b[39m event[\u001b[38;5;124m\"\u001b[39m\u001b[38;5;124mevent\u001b[39m\u001b[38;5;124m\"\u001b[39m]\n\u001b[0;32m      4\u001b[0m     \u001b[38;5;28mprint\u001b[39m(\u001b[38;5;124mf\u001b[39m\u001b[38;5;124m\"\u001b[39m\u001b[38;5;132;01m{\u001b[39;00mkind\u001b[38;5;132;01m}\u001b[39;00m\u001b[38;5;124m: \u001b[39m\u001b[38;5;132;01m{\u001b[39;00mevent[\u001b[38;5;124m'\u001b[39m\u001b[38;5;124mname\u001b[39m\u001b[38;5;124m'\u001b[39m]\u001b[38;5;132;01m}\u001b[39;00m\u001b[38;5;124m\"\u001b[39m)\n",
      "File \u001b[1;32mc:\\Users\\pablo\\Desktop\\P - Proyectos en Curso\\ai-curated-articles\\ai_curator\\Lib\\site-packages\\langchain_core\\runnables\\base.py:1388\u001b[0m, in \u001b[0;36mRunnable.astream_events\u001b[1;34m(self, input, config, version, include_names, include_types, include_tags, exclude_names, exclude_types, exclude_tags, **kwargs)\u001b[0m\n\u001b[0;32m   1385\u001b[0m     \u001b[38;5;28;01mraise\u001b[39;00m \u001b[38;5;167;01mNotImplementedError\u001b[39;00m(msg)\n\u001b[0;32m   1387\u001b[0m \u001b[38;5;28;01masync\u001b[39;00m \u001b[38;5;28;01mwith\u001b[39;00m aclosing(event_stream):\n\u001b[1;32m-> 1388\u001b[0m     \u001b[38;5;28;01masync\u001b[39;00m \u001b[38;5;28;01mfor\u001b[39;00m event \u001b[38;5;129;01min\u001b[39;00m event_stream:\n\u001b[0;32m   1389\u001b[0m         \u001b[38;5;28;01myield\u001b[39;00m event\n",
      "File \u001b[1;32mc:\\Users\\pablo\\Desktop\\P - Proyectos en Curso\\ai-curated-articles\\ai_curator\\Lib\\site-packages\\langchain_core\\tracers\\event_stream.py:781\u001b[0m, in \u001b[0;36m_astream_events_implementation_v1\u001b[1;34m(runnable, input, config, include_names, include_types, include_tags, exclude_names, exclude_types, exclude_tags, **kwargs)\u001b[0m\n\u001b[0;32m    777\u001b[0m root_name \u001b[38;5;241m=\u001b[39m config\u001b[38;5;241m.\u001b[39mget(\u001b[38;5;124m\"\u001b[39m\u001b[38;5;124mrun_name\u001b[39m\u001b[38;5;124m\"\u001b[39m, runnable\u001b[38;5;241m.\u001b[39mget_name())\n\u001b[0;32m    779\u001b[0m \u001b[38;5;66;03m# Ignoring mypy complaint about too many different union combinations\u001b[39;00m\n\u001b[0;32m    780\u001b[0m \u001b[38;5;66;03m# This arises because many of the argument types are unions\u001b[39;00m\n\u001b[1;32m--> 781\u001b[0m \u001b[38;5;28;01masync\u001b[39;00m \u001b[38;5;28;01mfor\u001b[39;00m log \u001b[38;5;129;01min\u001b[39;00m _astream_log_implementation(  \u001b[38;5;66;03m# type: ignore[misc]\u001b[39;00m\n\u001b[0;32m    782\u001b[0m     runnable,\n\u001b[0;32m    783\u001b[0m     \u001b[38;5;28minput\u001b[39m,\n\u001b[0;32m    784\u001b[0m     config\u001b[38;5;241m=\u001b[39mconfig,\n\u001b[0;32m    785\u001b[0m     stream\u001b[38;5;241m=\u001b[39mstream,\n\u001b[0;32m    786\u001b[0m     diff\u001b[38;5;241m=\u001b[39m\u001b[38;5;28;01mTrue\u001b[39;00m,\n\u001b[0;32m    787\u001b[0m     with_streamed_output_list\u001b[38;5;241m=\u001b[39m\u001b[38;5;28;01mTrue\u001b[39;00m,\n\u001b[0;32m    788\u001b[0m     \u001b[38;5;241m*\u001b[39m\u001b[38;5;241m*\u001b[39mkwargs,\n\u001b[0;32m    789\u001b[0m ):\n\u001b[0;32m    790\u001b[0m     run_log \u001b[38;5;241m=\u001b[39m run_log \u001b[38;5;241m+\u001b[39m log\n\u001b[0;32m    792\u001b[0m     \u001b[38;5;28;01mif\u001b[39;00m \u001b[38;5;129;01mnot\u001b[39;00m encountered_start_event:\n\u001b[0;32m    793\u001b[0m         \u001b[38;5;66;03m# Yield the start event for the root runnable.\u001b[39;00m\n",
      "File \u001b[1;32mc:\\Users\\pablo\\Desktop\\P - Proyectos en Curso\\ai-curated-articles\\ai_curator\\Lib\\site-packages\\langchain_core\\tracers\\log_stream.py:675\u001b[0m, in \u001b[0;36m_astream_log_implementation\u001b[1;34m(runnable, input, config, stream, diff, with_streamed_output_list, **kwargs)\u001b[0m\n\u001b[0;32m    672\u001b[0m \u001b[38;5;28;01mfinally\u001b[39;00m:\n\u001b[0;32m    673\u001b[0m     \u001b[38;5;66;03m# Wait for the runnable to finish, if not cancelled (eg. by break)\u001b[39;00m\n\u001b[0;32m    674\u001b[0m     \u001b[38;5;28;01mwith\u001b[39;00m contextlib\u001b[38;5;241m.\u001b[39msuppress(asyncio\u001b[38;5;241m.\u001b[39mCancelledError):\n\u001b[1;32m--> 675\u001b[0m         \u001b[38;5;28;01mawait\u001b[39;00m task\n",
      "File \u001b[1;32mc:\\Users\\pablo\\Desktop\\P - Proyectos en Curso\\ai-curated-articles\\ai_curator\\Lib\\site-packages\\langchain_core\\tracers\\log_stream.py:629\u001b[0m, in \u001b[0;36m_astream_log_implementation.<locals>.consume_astream\u001b[1;34m()\u001b[0m\n\u001b[0;32m    626\u001b[0m prev_final_output: Optional[Output] \u001b[38;5;241m=\u001b[39m \u001b[38;5;28;01mNone\u001b[39;00m\n\u001b[0;32m    627\u001b[0m final_output: Optional[Output] \u001b[38;5;241m=\u001b[39m \u001b[38;5;28;01mNone\u001b[39;00m\n\u001b[1;32m--> 629\u001b[0m \u001b[38;5;28;01masync\u001b[39;00m \u001b[38;5;28;01mfor\u001b[39;00m chunk \u001b[38;5;129;01min\u001b[39;00m runnable\u001b[38;5;241m.\u001b[39mastream(\u001b[38;5;28minput\u001b[39m, config, \u001b[38;5;241m*\u001b[39m\u001b[38;5;241m*\u001b[39mkwargs):\n\u001b[0;32m    630\u001b[0m     prev_final_output \u001b[38;5;241m=\u001b[39m final_output\n\u001b[0;32m    631\u001b[0m     \u001b[38;5;28;01mif\u001b[39;00m final_output \u001b[38;5;129;01mis\u001b[39;00m \u001b[38;5;28;01mNone\u001b[39;00m:\n",
      "File \u001b[1;32mc:\\Users\\pablo\\Desktop\\P - Proyectos en Curso\\ai-curated-articles\\ai_curator\\Lib\\site-packages\\langgraph\\pregel\\__init__.py:1823\u001b[0m, in \u001b[0;36mPregel.astream\u001b[1;34m(self, input, config, stream_mode, output_keys, interrupt_before, interrupt_after, debug, subgraphs)\u001b[0m\n\u001b[0;32m   1817\u001b[0m \u001b[38;5;28;01mif\u001b[39;00m \u001b[38;5;124m\"\u001b[39m\u001b[38;5;124mcustom\u001b[39m\u001b[38;5;124m\"\u001b[39m \u001b[38;5;129;01min\u001b[39;00m stream_modes:\n\u001b[0;32m   1818\u001b[0m     config[CONF][CONFIG_KEY_STREAM_WRITER] \u001b[38;5;241m=\u001b[39m (\n\u001b[0;32m   1819\u001b[0m         \u001b[38;5;28;01mlambda\u001b[39;00m c: aioloop\u001b[38;5;241m.\u001b[39mcall_soon_threadsafe(\n\u001b[0;32m   1820\u001b[0m             stream\u001b[38;5;241m.\u001b[39mput_nowait, ((), \u001b[38;5;124m\"\u001b[39m\u001b[38;5;124mcustom\u001b[39m\u001b[38;5;124m\"\u001b[39m, c)\n\u001b[0;32m   1821\u001b[0m         )\n\u001b[0;32m   1822\u001b[0m     )\n\u001b[1;32m-> 1823\u001b[0m \u001b[38;5;28;01masync\u001b[39;00m \u001b[38;5;28;01mwith\u001b[39;00m AsyncPregelLoop(\n\u001b[0;32m   1824\u001b[0m     \u001b[38;5;28minput\u001b[39m,\n\u001b[0;32m   1825\u001b[0m     stream\u001b[38;5;241m=\u001b[39mStreamProtocol(stream\u001b[38;5;241m.\u001b[39mput_nowait, stream_modes),\n\u001b[0;32m   1826\u001b[0m     config\u001b[38;5;241m=\u001b[39mconfig,\n\u001b[0;32m   1827\u001b[0m     store\u001b[38;5;241m=\u001b[39mstore,\n\u001b[0;32m   1828\u001b[0m     checkpointer\u001b[38;5;241m=\u001b[39mcheckpointer,\n\u001b[0;32m   1829\u001b[0m     nodes\u001b[38;5;241m=\u001b[39m\u001b[38;5;28mself\u001b[39m\u001b[38;5;241m.\u001b[39mnodes,\n\u001b[0;32m   1830\u001b[0m     specs\u001b[38;5;241m=\u001b[39m\u001b[38;5;28mself\u001b[39m\u001b[38;5;241m.\u001b[39mchannels,\n\u001b[0;32m   1831\u001b[0m     output_keys\u001b[38;5;241m=\u001b[39moutput_keys,\n\u001b[0;32m   1832\u001b[0m     stream_keys\u001b[38;5;241m=\u001b[39m\u001b[38;5;28mself\u001b[39m\u001b[38;5;241m.\u001b[39mstream_channels_asis,\n\u001b[0;32m   1833\u001b[0m     interrupt_before\u001b[38;5;241m=\u001b[39minterrupt_before_,\n\u001b[0;32m   1834\u001b[0m     interrupt_after\u001b[38;5;241m=\u001b[39minterrupt_after_,\n\u001b[0;32m   1835\u001b[0m     manager\u001b[38;5;241m=\u001b[39mrun_manager,\n\u001b[0;32m   1836\u001b[0m     debug\u001b[38;5;241m=\u001b[39mdebug,\n\u001b[0;32m   1837\u001b[0m ) \u001b[38;5;28;01mas\u001b[39;00m loop:\n\u001b[0;32m   1838\u001b[0m     \u001b[38;5;66;03m# create runner\u001b[39;00m\n\u001b[0;32m   1839\u001b[0m     runner \u001b[38;5;241m=\u001b[39m PregelRunner(\n\u001b[0;32m   1840\u001b[0m         submit\u001b[38;5;241m=\u001b[39mloop\u001b[38;5;241m.\u001b[39msubmit,\n\u001b[0;32m   1841\u001b[0m         put_writes\u001b[38;5;241m=\u001b[39mloop\u001b[38;5;241m.\u001b[39mput_writes,\n\u001b[1;32m   (...)\u001b[0m\n\u001b[0;32m   1844\u001b[0m         node_finished\u001b[38;5;241m=\u001b[39mconfig[CONF]\u001b[38;5;241m.\u001b[39mget(CONFIG_KEY_NODE_FINISHED),\n\u001b[0;32m   1845\u001b[0m     )\n\u001b[0;32m   1846\u001b[0m     \u001b[38;5;66;03m# enable subgraph streaming\u001b[39;00m\n",
      "File \u001b[1;32mc:\\Users\\pablo\\Desktop\\P - Proyectos en Curso\\ai-curated-articles\\ai_curator\\Lib\\site-packages\\langgraph\\pregel\\loop.py:964\u001b[0m, in \u001b[0;36mAsyncPregelLoop.__aenter__\u001b[1;34m(self)\u001b[0m\n\u001b[0;32m    962\u001b[0m         \u001b[38;5;28;01mraise\u001b[39;00m CheckpointNotLatest\n\u001b[0;32m    963\u001b[0m \u001b[38;5;28;01melif\u001b[39;00m \u001b[38;5;28mself\u001b[39m\u001b[38;5;241m.\u001b[39mcheckpointer:\n\u001b[1;32m--> 964\u001b[0m     saved \u001b[38;5;241m=\u001b[39m \u001b[38;5;28;01mawait\u001b[39;00m \u001b[38;5;28mself\u001b[39m\u001b[38;5;241m.\u001b[39mcheckpointer\u001b[38;5;241m.\u001b[39maget_tuple(\u001b[38;5;28mself\u001b[39m\u001b[38;5;241m.\u001b[39mcheckpoint_config)\n\u001b[0;32m    965\u001b[0m \u001b[38;5;28;01melse\u001b[39;00m:\n\u001b[0;32m    966\u001b[0m     saved \u001b[38;5;241m=\u001b[39m \u001b[38;5;28;01mNone\u001b[39;00m\n",
      "File \u001b[1;32mc:\\Users\\pablo\\Desktop\\P - Proyectos en Curso\\ai-curated-articles\\ai_curator\\Lib\\site-packages\\langgraph\\checkpoint\\sqlite\\__init__.py:466\u001b[0m, in \u001b[0;36mSqliteSaver.aget_tuple\u001b[1;34m(self, config)\u001b[0m\n\u001b[0;32m    459\u001b[0m \u001b[38;5;28;01masync\u001b[39;00m \u001b[38;5;28;01mdef\u001b[39;00m \u001b[38;5;21maget_tuple\u001b[39m(\u001b[38;5;28mself\u001b[39m, config: RunnableConfig) \u001b[38;5;241m-\u001b[39m\u001b[38;5;241m>\u001b[39m Optional[CheckpointTuple]:\n\u001b[0;32m    460\u001b[0m \u001b[38;5;250m    \u001b[39m\u001b[38;5;124;03m\"\"\"Get a checkpoint tuple from the database asynchronously.\u001b[39;00m\n\u001b[0;32m    461\u001b[0m \n\u001b[0;32m    462\u001b[0m \u001b[38;5;124;03m    Note:\u001b[39;00m\n\u001b[0;32m    463\u001b[0m \u001b[38;5;124;03m        This async method is not supported by the SqliteSaver class.\u001b[39;00m\n\u001b[0;32m    464\u001b[0m \u001b[38;5;124;03m        Use get_tuple() instead, or consider using [AsyncSqliteSaver][langgraph.checkpoint.sqlite.aio.AsyncSqliteSaver].\u001b[39;00m\n\u001b[0;32m    465\u001b[0m \u001b[38;5;124;03m    \"\"\"\u001b[39;00m\n\u001b[1;32m--> 466\u001b[0m     \u001b[38;5;28;01mraise\u001b[39;00m \u001b[38;5;167;01mNotImplementedError\u001b[39;00m(_AIO_ERROR_MSG)\n",
      "\u001b[1;31mNotImplementedError\u001b[0m: The SqliteSaver does not support async methods. Consider using AsyncSqliteSaver instead.\nfrom langgraph.checkpoint.sqlite.aio import AsyncSqliteSaver\nNote: AsyncSqliteSaver requires the aiosqlite package to use.\nInstall with:\n`pip install aiosqlite`\nSee https://langchain-ai.github.io/langgraph/reference/checkpoints/asyncsqlitesaverfor more information."
     ]
    }
   ],
   "source": [
    "async for event in app.astream_events(inputs, config=thread,version=\"v1\"):\n",
    "    kind = event[\"event\"]\n",
    "    print(f\"{kind}: {event['name']}\")"
   ]
  },
  {
   "cell_type": "code",
   "execution_count": null,
   "metadata": {},
   "outputs": [],
   "source": []
  },
  {
   "cell_type": "code",
   "execution_count": null,
   "metadata": {},
   "outputs": [
    {
     "ename": "NotImplementedError",
     "evalue": "The SqliteSaver does not support async methods. Consider using AsyncSqliteSaver instead.\nfrom langgraph.checkpoint.sqlite.aio import AsyncSqliteSaver\nNote: AsyncSqliteSaver requires the aiosqlite package to use.\nInstall with:\n`pip install aiosqlite`\nSee https://langchain-ai.github.io/langgraph/reference/checkpoints/asyncsqlitesaverfor more information.",
     "output_type": "error",
     "traceback": [
      "\u001b[1;31m---------------------------------------------------------------------------\u001b[0m",
      "\u001b[1;31mNotImplementedError\u001b[0m                       Traceback (most recent call last)",
      "Cell \u001b[1;32mIn[7], line 4\u001b[0m\n\u001b[0;32m      1\u001b[0m \u001b[38;5;66;03m# messages = [HumanMessage(content=\"What is the weather in SF?\")]\u001b[39;00m\n\u001b[0;32m      3\u001b[0m thread \u001b[38;5;241m=\u001b[39m {\u001b[38;5;124m\"\u001b[39m\u001b[38;5;124mconfigurable\u001b[39m\u001b[38;5;124m\"\u001b[39m: {\u001b[38;5;124m\"\u001b[39m\u001b[38;5;124mthread_id\u001b[39m\u001b[38;5;124m\"\u001b[39m: \u001b[38;5;124m\"\u001b[39m\u001b[38;5;124m4\u001b[39m\u001b[38;5;124m\"\u001b[39m}}\n\u001b[1;32m----> 4\u001b[0m \u001b[38;5;28;01masync\u001b[39;00m \u001b[38;5;28;01mfor\u001b[39;00m event \u001b[38;5;129;01min\u001b[39;00m app\u001b[38;5;241m.\u001b[39mastream_events({\u001b[38;5;124m\"\u001b[39m\u001b[38;5;124mquestion\u001b[39m\u001b[38;5;124m\"\u001b[39m: \u001b[38;5;124m\"\u001b[39m\u001b[38;5;124mwho is the nephew of Francisco Hitler?\u001b[39m\u001b[38;5;124m\"\u001b[39m, \u001b[38;5;124m\"\u001b[39m\u001b[38;5;124mnews_summary\u001b[39m\u001b[38;5;124m\"\u001b[39m:text}, thread, version\u001b[38;5;241m=\u001b[39m\u001b[38;5;124m\"\u001b[39m\u001b[38;5;124mv1\u001b[39m\u001b[38;5;124m\"\u001b[39m):\n\u001b[0;32m      5\u001b[0m     kind \u001b[38;5;241m=\u001b[39m event[\u001b[38;5;124m\"\u001b[39m\u001b[38;5;124mevent\u001b[39m\u001b[38;5;124m\"\u001b[39m]\n\u001b[0;32m      8\u001b[0m     \u001b[38;5;66;03m#we retrieve the events when the llm is otuputting text\u001b[39;00m\n\u001b[0;32m      9\u001b[0m     \u001b[38;5;66;03m#and then we start showing token by token async\u001b[39;00m\n",
      "File \u001b[1;32mc:\\Users\\pablo\\Desktop\\P - Proyectos en Curso\\ai-curated-articles\\ai_curator\\Lib\\site-packages\\langchain_core\\runnables\\base.py:1388\u001b[0m, in \u001b[0;36mRunnable.astream_events\u001b[1;34m(self, input, config, version, include_names, include_types, include_tags, exclude_names, exclude_types, exclude_tags, **kwargs)\u001b[0m\n\u001b[0;32m   1385\u001b[0m     \u001b[38;5;28;01mraise\u001b[39;00m \u001b[38;5;167;01mNotImplementedError\u001b[39;00m(msg)\n\u001b[0;32m   1387\u001b[0m \u001b[38;5;28;01masync\u001b[39;00m \u001b[38;5;28;01mwith\u001b[39;00m aclosing(event_stream):\n\u001b[1;32m-> 1388\u001b[0m     \u001b[38;5;28;01masync\u001b[39;00m \u001b[38;5;28;01mfor\u001b[39;00m event \u001b[38;5;129;01min\u001b[39;00m event_stream:\n\u001b[0;32m   1389\u001b[0m         \u001b[38;5;28;01myield\u001b[39;00m event\n",
      "File \u001b[1;32mc:\\Users\\pablo\\Desktop\\P - Proyectos en Curso\\ai-curated-articles\\ai_curator\\Lib\\site-packages\\langchain_core\\tracers\\event_stream.py:781\u001b[0m, in \u001b[0;36m_astream_events_implementation_v1\u001b[1;34m(runnable, input, config, include_names, include_types, include_tags, exclude_names, exclude_types, exclude_tags, **kwargs)\u001b[0m\n\u001b[0;32m    777\u001b[0m root_name \u001b[38;5;241m=\u001b[39m config\u001b[38;5;241m.\u001b[39mget(\u001b[38;5;124m\"\u001b[39m\u001b[38;5;124mrun_name\u001b[39m\u001b[38;5;124m\"\u001b[39m, runnable\u001b[38;5;241m.\u001b[39mget_name())\n\u001b[0;32m    779\u001b[0m \u001b[38;5;66;03m# Ignoring mypy complaint about too many different union combinations\u001b[39;00m\n\u001b[0;32m    780\u001b[0m \u001b[38;5;66;03m# This arises because many of the argument types are unions\u001b[39;00m\n\u001b[1;32m--> 781\u001b[0m \u001b[38;5;28;01masync\u001b[39;00m \u001b[38;5;28;01mfor\u001b[39;00m log \u001b[38;5;129;01min\u001b[39;00m _astream_log_implementation(  \u001b[38;5;66;03m# type: ignore[misc]\u001b[39;00m\n\u001b[0;32m    782\u001b[0m     runnable,\n\u001b[0;32m    783\u001b[0m     \u001b[38;5;28minput\u001b[39m,\n\u001b[0;32m    784\u001b[0m     config\u001b[38;5;241m=\u001b[39mconfig,\n\u001b[0;32m    785\u001b[0m     stream\u001b[38;5;241m=\u001b[39mstream,\n\u001b[0;32m    786\u001b[0m     diff\u001b[38;5;241m=\u001b[39m\u001b[38;5;28;01mTrue\u001b[39;00m,\n\u001b[0;32m    787\u001b[0m     with_streamed_output_list\u001b[38;5;241m=\u001b[39m\u001b[38;5;28;01mTrue\u001b[39;00m,\n\u001b[0;32m    788\u001b[0m     \u001b[38;5;241m*\u001b[39m\u001b[38;5;241m*\u001b[39mkwargs,\n\u001b[0;32m    789\u001b[0m ):\n\u001b[0;32m    790\u001b[0m     run_log \u001b[38;5;241m=\u001b[39m run_log \u001b[38;5;241m+\u001b[39m log\n\u001b[0;32m    792\u001b[0m     \u001b[38;5;28;01mif\u001b[39;00m \u001b[38;5;129;01mnot\u001b[39;00m encountered_start_event:\n\u001b[0;32m    793\u001b[0m         \u001b[38;5;66;03m# Yield the start event for the root runnable.\u001b[39;00m\n",
      "File \u001b[1;32mc:\\Users\\pablo\\Desktop\\P - Proyectos en Curso\\ai-curated-articles\\ai_curator\\Lib\\site-packages\\langchain_core\\tracers\\log_stream.py:675\u001b[0m, in \u001b[0;36m_astream_log_implementation\u001b[1;34m(runnable, input, config, stream, diff, with_streamed_output_list, **kwargs)\u001b[0m\n\u001b[0;32m    672\u001b[0m \u001b[38;5;28;01mfinally\u001b[39;00m:\n\u001b[0;32m    673\u001b[0m     \u001b[38;5;66;03m# Wait for the runnable to finish, if not cancelled (eg. by break)\u001b[39;00m\n\u001b[0;32m    674\u001b[0m     \u001b[38;5;28;01mwith\u001b[39;00m contextlib\u001b[38;5;241m.\u001b[39msuppress(asyncio\u001b[38;5;241m.\u001b[39mCancelledError):\n\u001b[1;32m--> 675\u001b[0m         \u001b[38;5;28;01mawait\u001b[39;00m task\n",
      "File \u001b[1;32mc:\\Users\\pablo\\Desktop\\P - Proyectos en Curso\\ai-curated-articles\\ai_curator\\Lib\\site-packages\\langchain_core\\tracers\\log_stream.py:629\u001b[0m, in \u001b[0;36m_astream_log_implementation.<locals>.consume_astream\u001b[1;34m()\u001b[0m\n\u001b[0;32m    626\u001b[0m prev_final_output: Optional[Output] \u001b[38;5;241m=\u001b[39m \u001b[38;5;28;01mNone\u001b[39;00m\n\u001b[0;32m    627\u001b[0m final_output: Optional[Output] \u001b[38;5;241m=\u001b[39m \u001b[38;5;28;01mNone\u001b[39;00m\n\u001b[1;32m--> 629\u001b[0m \u001b[38;5;28;01masync\u001b[39;00m \u001b[38;5;28;01mfor\u001b[39;00m chunk \u001b[38;5;129;01min\u001b[39;00m runnable\u001b[38;5;241m.\u001b[39mastream(\u001b[38;5;28minput\u001b[39m, config, \u001b[38;5;241m*\u001b[39m\u001b[38;5;241m*\u001b[39mkwargs):\n\u001b[0;32m    630\u001b[0m     prev_final_output \u001b[38;5;241m=\u001b[39m final_output\n\u001b[0;32m    631\u001b[0m     \u001b[38;5;28;01mif\u001b[39;00m final_output \u001b[38;5;129;01mis\u001b[39;00m \u001b[38;5;28;01mNone\u001b[39;00m:\n",
      "File \u001b[1;32mc:\\Users\\pablo\\Desktop\\P - Proyectos en Curso\\ai-curated-articles\\ai_curator\\Lib\\site-packages\\langgraph\\pregel\\__init__.py:1823\u001b[0m, in \u001b[0;36mPregel.astream\u001b[1;34m(self, input, config, stream_mode, output_keys, interrupt_before, interrupt_after, debug, subgraphs)\u001b[0m\n\u001b[0;32m   1817\u001b[0m \u001b[38;5;28;01mif\u001b[39;00m \u001b[38;5;124m\"\u001b[39m\u001b[38;5;124mcustom\u001b[39m\u001b[38;5;124m\"\u001b[39m \u001b[38;5;129;01min\u001b[39;00m stream_modes:\n\u001b[0;32m   1818\u001b[0m     config[CONF][CONFIG_KEY_STREAM_WRITER] \u001b[38;5;241m=\u001b[39m (\n\u001b[0;32m   1819\u001b[0m         \u001b[38;5;28;01mlambda\u001b[39;00m c: aioloop\u001b[38;5;241m.\u001b[39mcall_soon_threadsafe(\n\u001b[0;32m   1820\u001b[0m             stream\u001b[38;5;241m.\u001b[39mput_nowait, ((), \u001b[38;5;124m\"\u001b[39m\u001b[38;5;124mcustom\u001b[39m\u001b[38;5;124m\"\u001b[39m, c)\n\u001b[0;32m   1821\u001b[0m         )\n\u001b[0;32m   1822\u001b[0m     )\n\u001b[1;32m-> 1823\u001b[0m \u001b[38;5;28;01masync\u001b[39;00m \u001b[38;5;28;01mwith\u001b[39;00m AsyncPregelLoop(\n\u001b[0;32m   1824\u001b[0m     \u001b[38;5;28minput\u001b[39m,\n\u001b[0;32m   1825\u001b[0m     stream\u001b[38;5;241m=\u001b[39mStreamProtocol(stream\u001b[38;5;241m.\u001b[39mput_nowait, stream_modes),\n\u001b[0;32m   1826\u001b[0m     config\u001b[38;5;241m=\u001b[39mconfig,\n\u001b[0;32m   1827\u001b[0m     store\u001b[38;5;241m=\u001b[39mstore,\n\u001b[0;32m   1828\u001b[0m     checkpointer\u001b[38;5;241m=\u001b[39mcheckpointer,\n\u001b[0;32m   1829\u001b[0m     nodes\u001b[38;5;241m=\u001b[39m\u001b[38;5;28mself\u001b[39m\u001b[38;5;241m.\u001b[39mnodes,\n\u001b[0;32m   1830\u001b[0m     specs\u001b[38;5;241m=\u001b[39m\u001b[38;5;28mself\u001b[39m\u001b[38;5;241m.\u001b[39mchannels,\n\u001b[0;32m   1831\u001b[0m     output_keys\u001b[38;5;241m=\u001b[39moutput_keys,\n\u001b[0;32m   1832\u001b[0m     stream_keys\u001b[38;5;241m=\u001b[39m\u001b[38;5;28mself\u001b[39m\u001b[38;5;241m.\u001b[39mstream_channels_asis,\n\u001b[0;32m   1833\u001b[0m     interrupt_before\u001b[38;5;241m=\u001b[39minterrupt_before_,\n\u001b[0;32m   1834\u001b[0m     interrupt_after\u001b[38;5;241m=\u001b[39minterrupt_after_,\n\u001b[0;32m   1835\u001b[0m     manager\u001b[38;5;241m=\u001b[39mrun_manager,\n\u001b[0;32m   1836\u001b[0m     debug\u001b[38;5;241m=\u001b[39mdebug,\n\u001b[0;32m   1837\u001b[0m ) \u001b[38;5;28;01mas\u001b[39;00m loop:\n\u001b[0;32m   1838\u001b[0m     \u001b[38;5;66;03m# create runner\u001b[39;00m\n\u001b[0;32m   1839\u001b[0m     runner \u001b[38;5;241m=\u001b[39m PregelRunner(\n\u001b[0;32m   1840\u001b[0m         submit\u001b[38;5;241m=\u001b[39mloop\u001b[38;5;241m.\u001b[39msubmit,\n\u001b[0;32m   1841\u001b[0m         put_writes\u001b[38;5;241m=\u001b[39mloop\u001b[38;5;241m.\u001b[39mput_writes,\n\u001b[1;32m   (...)\u001b[0m\n\u001b[0;32m   1844\u001b[0m         node_finished\u001b[38;5;241m=\u001b[39mconfig[CONF]\u001b[38;5;241m.\u001b[39mget(CONFIG_KEY_NODE_FINISHED),\n\u001b[0;32m   1845\u001b[0m     )\n\u001b[0;32m   1846\u001b[0m     \u001b[38;5;66;03m# enable subgraph streaming\u001b[39;00m\n",
      "File \u001b[1;32mc:\\Users\\pablo\\Desktop\\P - Proyectos en Curso\\ai-curated-articles\\ai_curator\\Lib\\site-packages\\langgraph\\pregel\\loop.py:964\u001b[0m, in \u001b[0;36mAsyncPregelLoop.__aenter__\u001b[1;34m(self)\u001b[0m\n\u001b[0;32m    962\u001b[0m         \u001b[38;5;28;01mraise\u001b[39;00m CheckpointNotLatest\n\u001b[0;32m    963\u001b[0m \u001b[38;5;28;01melif\u001b[39;00m \u001b[38;5;28mself\u001b[39m\u001b[38;5;241m.\u001b[39mcheckpointer:\n\u001b[1;32m--> 964\u001b[0m     saved \u001b[38;5;241m=\u001b[39m \u001b[38;5;28;01mawait\u001b[39;00m \u001b[38;5;28mself\u001b[39m\u001b[38;5;241m.\u001b[39mcheckpointer\u001b[38;5;241m.\u001b[39maget_tuple(\u001b[38;5;28mself\u001b[39m\u001b[38;5;241m.\u001b[39mcheckpoint_config)\n\u001b[0;32m    965\u001b[0m \u001b[38;5;28;01melse\u001b[39;00m:\n\u001b[0;32m    966\u001b[0m     saved \u001b[38;5;241m=\u001b[39m \u001b[38;5;28;01mNone\u001b[39;00m\n",
      "File \u001b[1;32mc:\\Users\\pablo\\Desktop\\P - Proyectos en Curso\\ai-curated-articles\\ai_curator\\Lib\\site-packages\\langgraph\\checkpoint\\sqlite\\__init__.py:466\u001b[0m, in \u001b[0;36mSqliteSaver.aget_tuple\u001b[1;34m(self, config)\u001b[0m\n\u001b[0;32m    459\u001b[0m \u001b[38;5;28;01masync\u001b[39;00m \u001b[38;5;28;01mdef\u001b[39;00m \u001b[38;5;21maget_tuple\u001b[39m(\u001b[38;5;28mself\u001b[39m, config: RunnableConfig) \u001b[38;5;241m-\u001b[39m\u001b[38;5;241m>\u001b[39m Optional[CheckpointTuple]:\n\u001b[0;32m    460\u001b[0m \u001b[38;5;250m    \u001b[39m\u001b[38;5;124;03m\"\"\"Get a checkpoint tuple from the database asynchronously.\u001b[39;00m\n\u001b[0;32m    461\u001b[0m \n\u001b[0;32m    462\u001b[0m \u001b[38;5;124;03m    Note:\u001b[39;00m\n\u001b[0;32m    463\u001b[0m \u001b[38;5;124;03m        This async method is not supported by the SqliteSaver class.\u001b[39;00m\n\u001b[0;32m    464\u001b[0m \u001b[38;5;124;03m        Use get_tuple() instead, or consider using [AsyncSqliteSaver][langgraph.checkpoint.sqlite.aio.AsyncSqliteSaver].\u001b[39;00m\n\u001b[0;32m    465\u001b[0m \u001b[38;5;124;03m    \"\"\"\u001b[39;00m\n\u001b[1;32m--> 466\u001b[0m     \u001b[38;5;28;01mraise\u001b[39;00m \u001b[38;5;167;01mNotImplementedError\u001b[39;00m(_AIO_ERROR_MSG)\n",
      "\u001b[1;31mNotImplementedError\u001b[0m: The SqliteSaver does not support async methods. Consider using AsyncSqliteSaver instead.\nfrom langgraph.checkpoint.sqlite.aio import AsyncSqliteSaver\nNote: AsyncSqliteSaver requires the aiosqlite package to use.\nInstall with:\n`pip install aiosqlite`\nSee https://langchain-ai.github.io/langgraph/reference/checkpoints/asyncsqlitesaverfor more information."
     ]
    }
   ],
   "source": [
    "# messages = [HumanMessage(content=\"What is the weather in SF?\")]\n",
    "\n",
    "thread = {\"configurable\": {\"thread_id\": \"4\"}}\n",
    "async for event in app.astream_events(, thread, version=\"v1\"):\n",
    "    kind = event[\"event\"]\n",
    "    \n",
    "    \n",
    "    #we retrieve the events when the llm is otuputting text\n",
    "    #and then we start showing token by token async\n",
    "    \n",
    "    if kind == \"on_chat_model_stream\":\n",
    "        content = event[\"data\"][\"chunk\"].content\n",
    "        if content:\n",
    "            # Empty content in the context of OpenAI means\n",
    "            # that the model is asking for a tool to be invoked.\n",
    "            # So we only print non-empty content\n",
    "            print(content, end=\"|\")"
   ]
  },
  {
   "cell_type": "code",
   "execution_count": 31,
   "metadata": {},
   "outputs": [
    {
     "name": "stdout",
     "output_type": "stream",
     "text": [
      "'Finished running: handle_trivial_question:'\n",
      "'Finished running: retrieve:'\n",
      "'Finished running: grade_documents:'\n",
      "already searched queries (if applicable): n_queries=3 queries=['AfD Germany support for PSOE Spain', 'AfD and PSOE political relationship', 'AfD Germany PSOE Spain collaboration'] tavily_days=[7, 7, 7] tavily_topic=['news', 'news', 'news']\n",
      "'Finished running: generate_queries:'\n",
      "gonna generate 2 queries\n",
      "'Finished running: websearch:'\n",
      "'Finished running: answer_with_docs:'\n",
      "'Finished running: grade_generation_v_documents_and_question:'\n",
      "'Finished running: answer_with_docs:'\n",
      "forcing stop of the graph...\n",
      "'Finished running: grade_generation_v_documents_and_question:'\n",
      "('The question about the \"grandson of the grandson of Pablo Escobar\" is based '\n",
      " 'on an incorrect assumption. The provided context only gives information '\n",
      " \"about Pablo Escobar's immediate family, including his children, Juan Pablo \"\n",
      " '(also known as Sebastian Marroquin) and Manuela Escobar. There is no mention '\n",
      " 'of any grandchildren, let alone a \"grandson of the grandson.\" Therefore, '\n",
      " 'there is no information available about such a person in the provided '\n",
      " 'context.')\n"
     ]
    }
   ],
   "source": [
    "from pprint import pprint\n",
    "inputs = {\"question\": \"who's the grandson of grandson of pablo escobar?\", \"news_summary\":text}\n",
    "for output in app.stream(inputs, thread):\n",
    "    for key, value in output.items():\n",
    "        pprint(f\"Finished running: {key}:\")\n",
    "pprint(value[\"generation\"])"
   ]
  },
  {
   "cell_type": "code",
   "execution_count": 93,
   "metadata": {},
   "outputs": [],
   "source": [
    "# from pprint import pprint\n",
    "# inputs = {\"question\": \"Hey, I want to know the last\", \"news_summary\":text}\n",
    "# for output in app.stream(inputs, thread):\n",
    "#     for key, value in output.items():\n",
    "#         pprint(f\"Finished running: {key}:\")\n",
    "# pprint(value[\"generation\"])"
   ]
  },
  {
   "cell_type": "markdown",
   "metadata": {},
   "source": [
    "### BUG #5 Caer bucle infinito con `not_useful`, volviendo a ejecutar websearch una y otra vez sin parar"
   ]
  },
  {
   "cell_type": "code",
   "execution_count": 36,
   "metadata": {},
   "outputs": [
    {
     "name": "stdout",
     "output_type": "stream",
     "text": [
      "'Finished running: handle_trivial_question:'\n",
      "'Finished running: retrieve:'\n",
      "'Finished running: grade_documents:'\n",
      "'Finished running: answer_with_docs:'\n",
      "'Finished running: grade_generation_v_documents_and_question:'\n",
      "already searched queries (if applicable): n_queries=3 queries=['Javier Milei meeting with Venezuelan opposition in Argentina', 'reason for Javier Milei and Venezuelan opposition meeting in Argentina', 'Javier Milei Venezuelan opposition meeting January 2025'] tavily_days=[7, 7, 7] tavily_topic=['news', 'news', 'news']\n",
      "'Finished running: generate_queries:'\n",
      "gonna generate 2 queries\n",
      "'Finished running: websearch:'\n",
      "'Finished running: answer_with_docs:'\n",
      "forcing stop of the graph...\n",
      "'Finished running: grade_generation_v_documents_and_question:'\n",
      "('El atentado en Nueva Orleans ocurrió el 1 de enero de 2025, cuando '\n",
      " 'Shamsud-Din Jabbar condujo una camioneta eléctrica hacia una multitud en la '\n",
      " 'calle Bourbon, durante las celebraciones de Año Nuevo. Este ataque resultó '\n",
      " 'en la muerte de al menos 14 personas y dejó a muchas otras heridas. El FBI '\n",
      " 'ha identificado a Jabbar como el sospechoso y está investigando el incidente '\n",
      " 'como un posible acto de terrorismo.')\n"
     ]
    }
   ],
   "source": [
    "from pprint import pprint\n",
    "inputs = {\"question\": \"¿Qué ocurrió en el atentado de Nueva Orleás?\", \"news_summary\":text}\n",
    "for output in app.stream(inputs, thread):\n",
    "    for key, value in output.items():\n",
    "        pprint(f\"Finished running: {key}:\")\n",
    "pprint(value[\"generation\"])"
   ]
  },
  {
   "cell_type": "code",
   "execution_count": 35,
   "metadata": {},
   "outputs": [
    {
     "name": "stdout",
     "output_type": "stream",
     "text": [
      "'Finished running: handle_trivial_question:'\n",
      "'Finished running: retrieve:'\n",
      "'Finished running: grade_documents:'\n",
      "already searched queries (if applicable): n_queries=2 queries=['atentado Nueva Orleans', 'incidente reciente Nueva Orleans'] tavily_days=[7, 7] tavily_topic=['news', 'news']\n",
      "'Finished running: generate_queries:'\n",
      "gonna generate 3 queries\n",
      "'Finished running: websearch:'\n",
      "'Finished running: answer_with_docs:'\n",
      "'Finished running: grade_generation_v_documents_and_question:'\n",
      "('Javier Milei and Venezuelan opposition leader Edmundo González met in '\n",
      " \"Argentina as part of González's international tour. This meeting took place \"\n",
      " \"just days before Nicolás Maduro's planned inauguration for a third term, \"\n",
      " 'which is not recognized by some countries, including the United States. '\n",
      " 'González, recognized by the U.S. as the legitimate president-elect of '\n",
      " 'Venezuela, is seeking international support and highlighting the plight of '\n",
      " \"Venezuelans under Maduro's regime. The meeting with Milei, a supporter of \"\n",
      " \"the Venezuelan opposition, was a show of solidarity and part of González's \"\n",
      " 'efforts to gather backing for his claim to the presidency.')\n"
     ]
    }
   ],
   "source": [
    "from pprint import pprint\n",
    "inputs = {\"question\": \"why did Javier Milei and the Venezuelan oppositor meet in Argentina?\",\"news_summary\":text}\n",
    "for output in app.stream(inputs, thread):\n",
    "    for key, value in output.items():\n",
    "        pprint(f\"Finished running: {key}:\")\n",
    "pprint(value[\"generation\"])"
   ]
  },
  {
   "cell_type": "code",
   "execution_count": null,
   "metadata": {},
   "outputs": [],
   "source": []
  },
  {
   "cell_type": "code",
   "execution_count": 37,
   "metadata": {},
   "outputs": [],
   "source": [
    "tavily_client = TavilyClient()\n",
    "\n",
    "web_search_tool = TavilySearchResults(k=3)"
   ]
  },
  {
   "cell_type": "code",
   "execution_count": 38,
   "metadata": {},
   "outputs": [
    {
     "data": {
      "text/plain": [
       "[{'url': 'https://www.geeksforgeeks.org/lionel-messi-kids/',\n",
       "  'content': \"Who are Lionel Messi's Kids: All About Messi and Antonela 3 Sons - GeeksforGeeks Tutorials Python Tutorial Python Tutorial Python Data Visualization Tutorial Mateo Messi Roccuzzo, born on September 11, 2015, in Barcelona, Spain, is the second son of soccer icon Lionel Messi and Antonela Roccuzzo. Ciro Messi Roccuzzo, the youngest son of soccer superstar Lionel Messi and his wife Antonela Roccuzzo, was born on March 10, 2018, in Barcelona, Spain. Antonela Roccuzzo, born on February 26, 1988, in Rosario, Argentina, is widely known as the wife of soccer superstar Lionel Messi and the mother of their three children. Lionel Messi and Antonela Roccuzzo's three sons, Thiago, Mateo, and Ciro, are growing up in the spotlight, often seen supporting their father's illustrious soccer career. Python Tutorial\"},\n",
       " {'url': 'https://rimpost.com/meet-lionel-messis-three-sons-thiago-mateo-and-ciro',\n",
       "  'content': 'Lionel Messi and Antonella Roccuzzo welcomed their youngest son, Ciro Messi Roccuzzo, on March 10th, 2018. ‘’Ciro’’ in the Greek language means sun or lordly, and in Spanish, the name means throne or sun. The couple announced that they were expecting their third child three months after their union.'},\n",
       " {'url': 'https://www.augustman.com/my/sports/lionel-messi-children-in-chronological-order/',\n",
       "  'content': 'Lionel Messi’s youngest son, Ciro Messi Roccuzzo, is six years old as of March 2024. Note: The information in this article is accurate as of the date of publication. celebrities Football Football Players footballers Lionel Messi Sports. written by. Uddipta Banerjee. Senior Digital Writer, Sports and Watches'},\n",
       " {'url': 'https://www.feelingthevibe.com/toplists/leo-messis-kids-meet-his-three-sons-thiago-mateo-ciro/',\n",
       "  'content': 'Meet Thiago Messi – the first born son of Leo and Antonela. He was born on November 2, 2012. He was born on November 2, 2012. He is often seen alongside his mother and two brothers cheering his father on whether he is playing for his home team of Argentina or in the US at his newest venture with Inter Miami.'},\n",
       " {'url': 'https://www.sportsdave.com/who-is-mateo-messi-fact-about-lionel-messis-son/',\n",
       "  'content': 'ALSO, READ: Biography of Jorge Messi,( Lionel Messi’s father) Lionel Messi children: Meet Mateo Messi, Thiago, Ciro. Messi and Roccuzzo, childhood friends who reconnected in 2005, welcomed their first child, Thiago, in 2012. Mateo Messi, their second son, was born in 2015, and Ciro, their third son, was born in 2018.'}]"
      ]
     },
     "execution_count": 38,
     "metadata": {},
     "output_type": "execute_result"
    }
   ],
   "source": [
    "web_search_tool.invoke(\"son of leo messi\")"
   ]
  },
  {
   "cell_type": "code",
   "execution_count": 41,
   "metadata": {},
   "outputs": [
    {
     "name": "stdout",
     "output_type": "stream",
     "text": [
      "LangChain Search Results (k=3):\n",
      "[{'url': 'https://www.britannica.com/technology/artificial-intelligence', 'content': 'For example, a program that learns the past tense of regular English verbs by rote will not be able to produce the past tense of a word such as jump unless it previously had been presented with jumped, whereas a program that is able to generalize can learn the “add ed” rule and so form the past tense of jump based on experience with similar verbs. The real nature of the wasp’s instinctual behaviour is revealed if the food is moved a few inches away from the entrance to her burrow while she is inside: on emerging, she will repeat the whole procedure as often as the food is displaced. The program might then store the solution with the position so that the next time the computer encountered the same position it would recall the solution. Artificial intelligence is the ability of a computer or computer-controlled robot to perform tasks that are commonly associated with the\\xa0intellectual\\xa0processes characteristic of humans, such as the ability to reason. The term is frequently applied to the project of developing systems endowed with the intellectual processes characteristic of humans, such as the ability to reason, discover meaning, generalize, or learn from past experience.'}, {'url': 'https://cloud.google.com/learn/what-is-artificial-intelligence', 'content': 'Solution\\nSolution\\nSolution\\nSolution\\nSolution\\nSolution\\nTake the next step\\nStart\\nbuilding on Google Cloud with $300 in free credits and 20+\\nalways free products.\\n Artificial intelligence (AI) is a set of technologies\\nthat enable computers to perform a variety of advanced\\nfunctions, including the ability to\\nsee,\\nunderstand and\\ntranslate spoken and written language,\\nanalyze data,\\nmake recommendations, and more.\\n Artificial intelligence\\ndefined\\nArtificial intelligence is a field of science\\nconcerned with building computers and machines that\\ncan reason, learn, and act in such a way that would\\nnormally require human intelligence or that involves\\ndata whose scale exceeds what humans can\\nanalyze.\\n By using products like\\nVertex AI,\\nCCAI,\\nDocAI,\\nor AI APIs, organizations can make sense of all the data\\nthey’re producing, collecting, or otherwise analyzing,\\nno matter what format it’s in, to make actionable\\nbusiness decisions.\\n On an operational level for business use, AI is a\\nset of technologies that are based primarily on\\nmachine learning and deep learning, used for data\\nanalytics, predictions and forecasting, object\\ncategorization, natural language processing,\\nrecommendations, intelligent data retrieval, and\\nmore.\\n'}, {'url': 'https://ai.engineering.columbia.edu/ai-vs-machine-learning/', 'content': 'Home / Artificial Intelligence (AI) vs. Machine Learning\\nArtificial Intelligence (AI) vs. Machine LearningArtificial Intelligence (AI) vs. Machine LearningArtificial Intelligence (AI) vs. Machine Learning\\nArtificial intelligence (AI) and machine learning are often used interchangeably, but machine learning is a subset of the broader category of AI.\\n Computer programmers and software developers enable computers to analyze data and solve problems — essentially, they create artificial intelligence systems — by applying tools such as:\\nBelow is a breakdown of the differences between artificial intelligence and machine learning as well as how they are being applied in organizations large and small today.\\n Put in context, artificial intelligence refers to the general ability of computers to emulate human\\xa0thought and perform tasks in real-world environments, while machine learning refers to the technologies and algorithms that enable systems to identify patterns, make decisions, and improve themselves through experience and data.\\n Artificial intelligence can help manufacturing leaders automate their business processes by applying data analytics and machine learning to applications such as the following:\\nAI and Machine Learning in Banking\\nData privacy and security are especially critical within the banking industry. Financial services leaders can keep customer data secure while increasing efficiencies using AI and machine learning in several ways:\\nAI Applications in Health Care\\nThe health care field uses huge amounts of data and increasingly relies on informatics and analytics to provide accurate, efficient health services.'}, {'url': 'https://en.wikipedia.org/wiki/A.I._Artificial_Intelligence', 'content': 'But it\\'s a brilliant piece of film and of course it\\'s a phenomenon because it contains the energies and talents of two brilliant filmmakers\".[50] Richard Corliss heavily praised Spielberg\\'s direction, as well as the cast and visual effects.[51]\\nRoger Ebert gave the film three stars out of a possible four, saying that it is \"wonderful and maddening\".[52] Ebert later gave the film a full four stars and added it to his \"Great Movies\" list in 2011.[53] Leonard Maltin, on the other hand, gives the film two stars out of four in his Movie Guide, writing: \"[The] intriguing story draws us in, thanks in part to Osment\\'s exceptional performance, but takes several wrong turns; ultimately, it just doesn\\'t work. Plus, quite a few critics in America misunderstood the film, thinking for instance that the Giacometti-style beings in the final 20 minutes were aliens (whereas they were robots of the future who had evolved themselves from the robots in the earlier part of the film) and also thinking that the final 20 minutes were a sentimental addition by Spielberg, whereas those scenes were exactly what I wrote for Stanley and exactly what he wanted, filmed faithfully by Spielberg. However, Spielberg asked Angel to be on the set every day to make line alterations wherever he felt necessary.[32] Social robotics expert Cynthia Breazeal served as technical consultant during production.[21][33] Costume designer Bob Ringwood studied pedestrians on the Las Vegas Strip for his influence on the Rouge City extras.[34] Additional visual effects such as removing the visible rods controlling Teddy and removing Haley Joel Osment\\'s breath, were provided in-house by PDI/DreamWorks.[35]\\nCasting[edit]\\nJulianne Moore and Gwyneth Paltrow were considered for the role of Monica Swinton before Frances O\\'Connor was cast and Jerry Seinfeld was originally considered to voice and play the Comedian Robot before Chris Rock was cast.[36]\\nSoundtrack[edit]\\n To avoid audiences mistaking A.I. for a family film, no action figures were created, although Hasbro released a talking Teddy following the film\\'s release in June 2001.[21]\\nA.I. premiered at the Venice Film Festival in 2001.[38]\\nHome media[edit]\\nA.I. Artificial Intelligence was released on VHS and DVD in the United States by DreamWorks Home Entertainment on March 5, 2002[39][40] in widescreen and full-screen 2-disc special editions featuring an extensive sixteen-part documentary detailing the film\\'s development, production, music and visual effects. After the release of Spielberg\\'s Jurassic Park, with its innovative computer-generated imagery, it was announced in November 1993 that production of A.I. would begin in 1994.[16] Dennis Muren and Ned Gorman, who worked on Jurassic Park, became visual effects supervisors,[13] but Kubrick was displeased with their previsualization, and with the expense of hiring Industrial Light & Magic.[17]\\n\"Stanley [Kubrick] showed Steven [Spielberg] 650 drawings which he had, and the script and the story, everything.'}, {'url': 'https://www.sas.com/en_us/insights/analytics/what-is-artificial-intelligence.html', 'content': \"Next Steps\\nSee how Artificial Intelligence Solutions augment human creativity and endeavors with AI.\\nFeatured product for ARTIFICIAL INTELLIGENCE\\nSAS®\\xa0Visual Data Mining and Machine Learning\\nAI is simplified when you can prepare data for analysis, develop models with modern machine-learning algorithms and integrate\\xa0text analytics\\xa0all in one product. Learn more about SAS\\nSelect Your Region\\nAmericas\\nEurope\\nMiddle East & Africa\\nAsia Pacific\\nAmericas\\nEurope\\nMiddle East & Africa\\nAsia Pacific\\nHi !\\n Keep reading for modern examples of artificial intelligence in health care, retail and more.\\n1950s–1970s\\nNeural Networks\\nEarly work with neural networks stirs excitement for “thinking machines.”\\n1980s–2010s\\nMachine Learning\\nMachine learning becomes popular.\\n Advance your career and train your team in sought after skills\\nWhy Learn SAS?\\nWhy SAS?\\nLearn why SAS is the world's most trusted analytics platform, and why analysts, customers and industry experts love SAS.\\n Artificial Intelligence trends to watch\\nQuick, watch this video to hear AI experts and data science pros weigh in on AI trends for the next decade.\\n\"}]\n",
      "Length of LangChain results: 5\n",
      "\n",
      "Tavily API Search Results (max_results=3):\n",
      "{'query': 'Artificial Intelligence', 'follow_up_questions': None, 'answer': None, 'images': [], 'results': [{'title': 'Artificial intelligence (AI) | Definition, Examples, Types, Applications, Companies, & Facts', 'url': 'https://www.britannica.com/technology/artificial-intelligence', 'content': 'For example, a program that learns the past tense of regular English verbs by rote will not be able to produce the past tense of a word such as jump unless it previously had been presented with jumped, whereas a program that is able to generalize can learn the “add ed” rule and so form the past tense of jump based on experience with similar verbs. The real nature of the wasp’s instinctual behaviour is revealed if the food is moved a few inches away from the entrance to her burrow while she is inside: on emerging, she will repeat the whole procedure as often as the food is displaced. The program might then store the solution with the position so that the next time the computer encountered the same position it would recall the solution. Artificial intelligence is the ability of a computer or computer-controlled robot to perform tasks that are commonly associated with the\\xa0intellectual\\xa0processes characteristic of humans, such as the ability to reason. The term is frequently applied to the project of developing systems endowed with the intellectual processes characteristic of humans, such as the ability to reason, discover meaning, generalize, or learn from past experience.', 'score': 0.88372874, 'raw_content': 'artificial intelligence\\nOur editors will review what you’ve submitted and determine whether to revise the article.\\nOur editors will review what you’ve submitted and determine whether to revise the article.\\nRecent News\\nWhat is artificial intelligence?\\nArtificial intelligence is the ability of a computer or computer-controlled robot to perform tasks that are commonly associated with the\\xa0intellectual\\xa0processes characteristic of humans, such as the ability to reason. Although there are as yet no AIs that match full human flexibility over wider domains or in tasks requiring much everyday knowledge, some AIs perform specific tasks as well as humans. Learn more.\\nAre artificial intelligence and machine learning the same?\\nNo, artificial intelligence and machine learning are not the same, but they are closely related. Machine learning is the method to train a computer to learn from its inputs but without explicit programming for every circumstance. Machine learning helps a computer to achieve artificial intelligence.\\nartificial intelligence (AI),\\nthe ability of a digital computer or computer-controlled robot to perform tasks commonly associated with intelligent beings. The term is frequently applied to the project of developing systems endowed with the intellectual processes characteristic of humans, such as the ability to reason, discover meaning, generalize, or learn from past experience. Since the development of the digital computer in the 1940s, it has been demonstrated that computers can be programmed to carry out very complex tasks—such as discovering proofs for mathematical theorems or playing chess—with great proficiency. Still, despite continuing advances in computer processing speed and memory capacity, there are as yet no programs that can match full human flexibility over wider domains or in tasks requiring much everyday knowledge. On the other hand, some programs have attained the performance levels of human experts and professionals in performing certain specific tasks, so that artificial intelligence in this limited sense is found in applications as diverse as medical diagnosis, computer search engines, voice or handwriting recognition, and chatbots.\\n(Read Ray Kurzweil’s Britannica essay on the future of “Nonbiological Man.”)\\nWhat is intelligence?\\nAll but the simplest human behaviour is ascribed to intelligence, while even the most complicated insect behaviour is usually not taken as an indication of intelligence. What is the difference? Consider the behaviour of the digger wasp, Sphex ichneumoneus. When the female wasp returns to her burrow with food, she first deposits it on the threshold, checks for intruders inside her burrow, and only then, if the coast is clear, carries her food inside. The real nature of the wasp’s instinctual behaviour is revealed if the food is moved a few inches away from the entrance to her burrow while she is inside: on emerging, she will repeat the whole procedure as often as the food is displaced. Intelligence—conspicuously absent in the case of Sphex—must include the ability to adapt to new circumstances.\\n(Read Yuval Noah Harari’s Britannica essay on the future of “Nonconscious Man.”)\\nPsychologists generally characterize human intelligence not by just one trait but by the combination of many diverse abilities. Research in AI has focused chiefly on the following components of intelligence: learning, reasoning, problem solving, perception, and using language.\\nLearning\\nThere are a number of different forms of learning as applied to artificial intelligence. The simplest is learning by trial and error. For example, a simple computer program for solving mate-in-one chess problems might try moves at random until mate is found. The program might then store the solution with the position so that the next time the computer encountered the same position it would recall the solution. This simple memorizing of individual items and procedures—known as rote learning—is relatively easy to implement on a computer. More challenging is the problem of implementing what is called generalization. Generalization involves applying past experience to analogous new situations. For example, a program that learns the past tense of regular English verbs by rote will not be able to produce the past tense of a word such as jump unless it previously had been presented with jumped, whereas a program that is able to generalize can learn the “add ed” rule and so form the past tense of jump based on experience with similar verbs.'}, {'title': 'What Is Artificial Intelligence (AI)? | Google Cloud', 'url': 'https://cloud.google.com/learn/what-is-artificial-intelligence', 'content': 'Solution\\nSolution\\nSolution\\nSolution\\nSolution\\nSolution\\nTake the next step\\nStart\\nbuilding on Google Cloud with $300 in free credits and 20+\\nalways free products.\\n Artificial intelligence (AI) is a set of technologies\\nthat enable computers to perform a variety of advanced\\nfunctions, including the ability to\\nsee,\\nunderstand and\\ntranslate spoken and written language,\\nanalyze data,\\nmake recommendations, and more.\\n Artificial intelligence\\ndefined\\nArtificial intelligence is a field of science\\nconcerned with building computers and machines that\\ncan reason, learn, and act in such a way that would\\nnormally require human intelligence or that involves\\ndata whose scale exceeds what humans can\\nanalyze.\\n By using products like\\nVertex AI,\\nCCAI,\\nDocAI,\\nor AI APIs, organizations can make sense of all the data\\nthey’re producing, collecting, or otherwise analyzing,\\nno matter what format it’s in, to make actionable\\nbusiness decisions.\\n On an operational level for business use, AI is a\\nset of technologies that are based primarily on\\nmachine learning and deep learning, used for data\\nanalytics, predictions and forecasting, object\\ncategorization, natural language processing,\\nrecommendations, intelligent data retrieval, and\\nmore.\\n', 'score': 0.77751994, 'raw_content': 'What is Artificial\\nIntelligence (AI)?\\nArtificial intelligence (AI) is a set of technologies\\nthat enable computers to perform a variety of advanced\\nfunctions, including the ability to\\nsee,\\nunderstand and\\ntranslate spoken and written language,\\nanalyze data,\\nmake recommendations, and more.\\nAI is the backbone of innovation in modern computing,\\nunlocking value for individuals and businesses. For\\nexample,\\noptical character recognition (OCR)\\nuses AI to extract text and data from images and\\ndocuments, turns unstructured content into\\nbusiness-ready structured data, and unlocks valuable\\ninsights.\\nReady to get started? New customers get $300 in free\\ncredits to spend on Google Cloud.\\nArtificial intelligence\\ndefined\\nArtificial intelligence is a field of science\\nconcerned with building computers and machines that\\ncan reason, learn, and act in such a way that would\\nnormally require human intelligence or that involves\\ndata whose scale exceeds what humans can\\nanalyze.\\nAI is a broad field that encompasses many different\\ndisciplines, including computer science, data\\nanalytics and statistics, hardware and software\\nengineering, linguistics, neuroscience, and even\\nphilosophy and psychology.\\nOn an operational level for business use, AI is a\\nset of technologies that are based primarily on\\nmachine learning and deep learning, used for data\\nanalytics, predictions and forecasting, object\\ncategorization, natural language processing,\\nrecommendations, intelligent data retrieval, and\\nmore.\\nTypes of artificial\\nintelligence\\nArtificial intelligence can be organized in several ways,\\ndepending on stages of development or actions being\\nperformed.\\nFor instance, four stages of AI development are commonly\\nrecognized.\\nA more useful way of broadly categorizing types of\\nartificial intelligence is by what the machine can do. All\\nof what we currently call artificial intelligence is\\nconsidered artificial “narrow” intelligence, in that it can\\nperform only narrow sets of actions based on its programming\\nand training. For instance, an AI algorithm that is used for\\nobject classification won’t be able to perform natural\\nlanguage processing. Google Search is a form of narrow AI,\\nas is predictive analytics, or virtual assistants.\\nArtificial general intelligence (AGI) would be the ability\\nfor a machine to “sense, think, and act” just like a human.\\nAGI does not currently exist. The next level would be\\nartificial superintelligence (ASI), in which the machine\\nwould be able to function in all ways superior to a\\nhuman.\\nArtificial intelligence\\ntraining models\\nWhen businesses talk about AI, they often talk about\\n“training data.” But what does that mean? Remember that\\nlimited-memory artificial intelligence is AI that improves\\nover time by being trained with new data. Machine learning\\nis a\\nsubset of artificial intelligence\\nthat uses algorithms to train data to obtain results.\\nIn broad strokes, three kinds of learnings models are often\\nused in machine learning:\\nSupervised learning is a machine learning model that\\nmaps a specific input to an output using labeled training\\ndata (structured data). In simple terms, to train the\\nalgorithm to recognize pictures of cats, feed it pictures\\nlabeled as cats.\\nUnsupervised learning is a machine learning model\\nthat learns patterns based on unlabeled data (unstructured\\ndata). Unlike supervised learning, the end result is not\\nknown ahead of time. Rather, the algorithm learns\\nfrom the data, categorizing it into groups based on\\nattributes. For instance, unsupervised learning is good at\\npattern matching and descriptive modeling.\\nIn addition to supervised and unsupervised learning, a\\nmixed approach called semi-supervised learning is often\\nemployed, where only some of the data is labeled. In\\nsemi-supervised learning, an end result is known, but the\\nalgorithm must figure out how to organize and structure the\\ndata to achieve the desired results.\\nReinforcement learning is a machine learning model\\nthat can be broadly described as “learn by doing.” An\\n“agent” learns to perform a defined task by trial and error\\n(a feedback loop) until its performance is within a\\ndesirable range. The agent receives positive reinforcement\\nwhen it performs the task well and negative reinforcement\\nwhen it performs poorly. An example of reinforcement\\nlearning would be teaching a robotic hand to pick up a\\nball.\\nCommon types of artificial\\nneural networks\\nA common type of training model in AI is an artificial\\nneural network, a model loosely based on the human\\nbrain.\\nA neural network is a system of artificial\\nneurons—sometimes called perceptrons—that are computational\\nnodes used to classify and analyze data. The data is fed\\ninto the first layer of a neural network, with each\\nperceptron making a decision, then passing that information\\nonto multiple nodes in the next layer. Training models with\\nmore than three layers are referred to as “deep neural\\nnetworks” or “deep learning.” Some modern neural networks\\nhave hundreds or thousands of layers. The output of the\\nfinal perceptrons accomplish the task set to the neural\\nnetwork, such as classify an object or find patterns in\\ndata.\\nSome of the most common types of artificial neural networks\\nyou may encounter include:\\nFeedforward neural networks (FF) are one of the\\noldest forms of neural networks, with data flowing one way\\nthrough layers of artificial neurons until the output is\\nachieved. In modern days, most feedforward neural networks\\nare considered “deep feedforward” with several layers\\n(and more than one “hidden” layer). Feedforward neural\\nnetworks are typically paired with an error-correction\\nalgorithm called “backpropagation” that, in simple terms,\\nstarts with the result of the neural network and works back\\nthrough to the beginning, finding errors to improve the\\naccuracy of the neural network. Many simple but powerful\\nneural networks are deep feedforward.\\nRecurrent neural networks (RNN) differ from\\nfeedforward neural networks in that they typically use time\\nseries data or data that involves sequences. Unlike\\nfeedforward neural networks, which use weights in each node\\nof the network, recurrent neural networks have “memory” of\\nwhat happened in the previous layer as contingent to the\\noutput of the current layer. For instance, when performing\\nnatural language processing, RNNs can “keep in mind” other\\nwords used in a sentence. RNNs are often used for speech\\nrecognition, translation, and to caption images.\\nLong/short term memory (LSTM) are an advanced form\\nof RNN that can use memory to “remember” what happened in\\nprevious layers. The difference between RNNs and LTSM is\\nthat LTSM can remember what happened several layers ago,\\nthrough the use of “memory cells.” LSTM is often used in\\nspeech recognition and making predictions.\\nConvolutional neural networks (CNN) include some\\nof the most common neural networks in modern artificial\\nintelligence. Most often used in image recognition, CNNs use\\nseveral distinct layers (a convolutional layer, then a\\npooling layer) that filter different parts of an image\\nbefore putting it back together (in the fully connected\\nlayer). The earlier convolutional layers may look for simple\\nfeatures of an image such as colors and edges, before\\nlooking for more complex features in additional layers.\\nGenerative adversarial networks (GAN) involve two\\nneural networks competing against each other in a game that\\nultimately improves the accuracy of the output. One network\\n(the generator) creates examples that the other network (the\\ndiscriminator) attempts to prove true or false. GANs have\\nbeen used to create realistic images and even make art.\\nBenefits of AI\\nAutomation\\nAI can automate workflows and processes or work\\nindependently and autonomously from a human team. For\\nexample, AI can help automate aspects of cybersecurity\\nby continuously monitoring and analyzing network\\ntraffic. Similarly, a smart factory may have dozens of\\ndifferent kinds of AI in use, such as robots using\\ncomputer vision to navigate the factory floor or to\\ninspect products for defects, create digital twins, or\\nuse real-time analytics to measure efficiency and\\noutput.\\nReduce human error\\nAI can eliminate manual errors in data processing,\\nanalytics, assembly in manufacturing, and other tasks\\nthrough automation and algorithms that follow the same\\nprocesses every single time.\\nEliminate repetitive tasks\\nAI can be used to perform repetitive tasks, freeing\\nhuman capital to work on higher impact problems. AI can\\nbe used to automate processes, like verifying documents,\\ntranscribing phone calls, or answering simple customer\\nquestions like “what time do you close?” Robots are\\noften used to perform “dull, dirty, or dangerous” tasks\\nin the place of a human.\\nFast and accurate\\nAI can process more information more quickly than a\\nhuman, finding patterns and discovering relationships in\\ndata that a human may miss.\\nInfinite availability\\nAI is not limited by time of day, the need for breaks,\\nor other human encumbrances. When running in the cloud,\\nAI and machine learning can be “always on,” continuously\\nworking on its assigned tasks.\\nAccelerated research and development\\nThe ability to analyze vast amounts of data quickly can\\nlead to accelerated breakthroughs in research and\\ndevelopment. For instance, AI has been used in\\npredictive modeling of potential new pharmaceutical\\ntreatments, or to quantify the human genome.\\nSolve your business challenges with Google Cloud\\nApplications and use cases for artificial intelligence\\nSpeech recognition\\nAutomatically convert spoken speech into written text.\\nImage recognition\\nIdentify and categorize various aspects of an image.\\nTranslation\\nTranslate written or spoken words from one language\\ninto another.\\nPredictive modeling\\nMine data to forecast specific outcomes with high\\ndegrees of granularity.\\nData analytics\\nFind patterns and relationships in data for business\\nintelligence.\\nCybersecurity\\nAutonomously scan networks for cyber attacks and\\nthreats.\\nRelated products and services\\nGoogle offers a number of sophisticated artificial\\nintelligence products, solutions, and applications on a\\ntrusted cloud platform that enables businesses to easily\\nbuild and implement AI algorithms and models.\\nBy using products like\\nVertex AI,\\nCCAI,\\nDocAI,\\nor AI APIs, organizations can make sense of all the data\\nthey’re producing, collecting, or otherwise analyzing,\\nno matter what format it’s in, to make actionable\\nbusiness decisions.\\nSolution\\nSolution\\nSolution\\nSolution\\nSolution\\nSolution\\nTake the next step\\nStart\\nbuilding on Google Cloud with $300 in free credits and 20+\\nalways free products.\\nTake the next step\\nStart\\nyour next project, explore interactive tutorials, and\\nmanage your account.\\nWhy Google\\nProducts and pricing\\nSolutions\\nResources\\nEngage'}, {'title': 'Artificial Intelligence (AI) vs. Machine Learning | Columbia AI', 'url': 'https://ai.engineering.columbia.edu/ai-vs-machine-learning/', 'content': 'Home / Artificial Intelligence (AI) vs. Machine Learning\\nArtificial Intelligence (AI) vs. Machine LearningArtificial Intelligence (AI) vs. Machine LearningArtificial Intelligence (AI) vs. Machine Learning\\nArtificial intelligence (AI) and machine learning are often used interchangeably, but machine learning is a subset of the broader category of AI.\\n Computer programmers and software developers enable computers to analyze data and solve problems — essentially, they create artificial intelligence systems — by applying tools such as:\\nBelow is a breakdown of the differences between artificial intelligence and machine learning as well as how they are being applied in organizations large and small today.\\n Put in context, artificial intelligence refers to the general ability of computers to emulate human\\xa0thought and perform tasks in real-world environments, while machine learning refers to the technologies and algorithms that enable systems to identify patterns, make decisions, and improve themselves through experience and data.\\n Artificial intelligence can help manufacturing leaders automate their business processes by applying data analytics and machine learning to applications such as the following:\\nAI and Machine Learning in Banking\\nData privacy and security are especially critical within the banking industry. Financial services leaders can keep customer data secure while increasing efficiencies using AI and machine learning in several ways:\\nAI Applications in Health Care\\nThe health care field uses huge amounts of data and increasingly relies on informatics and analytics to provide accurate, efficient health services.', 'score': 0.74652773, 'raw_content': 'Home / Artificial Intelligence (AI) vs. Machine Learning\\nArtificial Intelligence (AI) vs. Machine LearningArtificial Intelligence (AI) vs. Machine LearningArtificial Intelligence (AI) vs. Machine Learning\\nArtificial intelligence (AI) and machine learning are often used interchangeably, but machine learning is a subset of the broader category of AI.\\nPut in context, artificial intelligence refers to the general ability of computers to emulate human\\xa0thought and perform tasks in real-world environments, while machine learning refers to the technologies and algorithms that enable systems to identify patterns, make decisions, and improve themselves through experience and data.\\nComputer programmers and software developers enable computers to analyze data and solve problems — essentially, they create artificial intelligence systems — by applying tools such as:\\nBelow is a breakdown of the differences between artificial intelligence and machine learning as well as how they are being applied in organizations large and small today.\\nWhat Is Artificial Intelligence?\\nArtificial Intelligence is the field of developing computers and robots that are capable of behaving in ways that both mimic and go beyond human capabilities. AI-enabled programs can analyze and contextualize data to provide information or automatically trigger actions without human interference.\\nToday, artificial intelligence is at the heart of many technologies we use, including smart devices and voice assistants such as Siri on Apple devices. Companies are incorporating techniques such as natural language processing and computer vision — the ability for computers to use human language and interpret images \\xad— to automate tasks, accelerate decision making, and enable customer conversations with chatbots.\\nWhat Is Machine Learning?\\nMachine learning is a pathway to artificial intelligence. This subcategory of AI uses algorithms to automatically learn insights and recognize patterns from data, applying that learning to make increasingly better decisions.\\nBy studying and experimenting with machine learning, programmers test the limits of how much they can improve the perception, cognition, and action of a computer system.\\nDeep learning, an advanced method of machine learning, goes a step further. Deep learning models use large neural networks — networks that function like a human brain to logically analyze data — to learn complex patterns and make predictions independent of human input.\\nHow Companies Use AI and Machine Learning\\nTo be successful in nearly any industry, organizations must be able to transform their data into actionable insight. Artificial Intelligence and machine learning give organizations the advantage of automating a variety of manual processes involving data and decision making.\\nBy incorporating AI and machine learning into their systems and strategic plans, leaders can understand and act on data-driven insights with greater speed and efficiency.\\nAI in the Manufacturing Industry\\nEfficiency is key to the success of an organization in the manufacturing industry. Artificial intelligence can help manufacturing leaders automate their business processes by applying data analytics and machine learning to applications such as the following:\\nAI and Machine Learning in Banking\\nData privacy and security are especially critical within the banking industry. Financial services leaders can keep customer data secure while increasing efficiencies using AI and machine learning in several ways:\\nAI Applications in Health Care\\nThe health care field uses huge amounts of data and increasingly relies on informatics and analytics to provide accurate, efficient health services. AI tools can help improve patient outcomes, save time, and even help providers avoid burnout by:\\nLearn more about how AI is changing the world of health care.\\nThe online Artificial Intelligence executive certificate program, offered through the Fu Foundation School of Engineering and Applied Science at Columbia University, prepares you with the skills and insights to drive AI strategy and adoption across your organization.\\nWith courses that address algorithms, machine learning, data privacy, robotics, and other AI topics, this non-credit program is designed for forward-thinking team leaders and technically proficient professionals who want to gain a deeper understanding of the applications of AI. You can complete the program in 18 months while continuing to work.\\nRequest Information\\nRequest Information\\nRequest Information'}], 'response_time': 2.34}\n",
      "Length of Tavily API results: 6\n"
     ]
    }
   ],
   "source": [
    "from langchain.tools import TavilySearchResults\n",
    "# import tavily_client  # Assuming Tavily API is installed and set up\n",
    "\n",
    "# Use LangChain's TavilySearchResults with 'k' to control results for speed\n",
    "def search_with_langchain(query, k):\n",
    "    # Initialize the LangChain TavilySearchResults tool with 'k'\n",
    "    web_search_tool = TavilySearchResults(k=k)\n",
    "    results = web_search_tool.invoke(query)\n",
    "    return results\n",
    "\n",
    "# Use Tavily API client directly with 'max_results' to control speed\n",
    "def search_with_tavily_api(query, max_results):\n",
    "    result = tavily_client.search(\n",
    "        query,\n",
    "        max_results=max_results,  # Set the number of results\n",
    "        include_raw_content=True,\n",
    "        topic=\"general\"\n",
    "    )\n",
    "    return result\n",
    "\n",
    "# Test the functions with query\n",
    "query = \"Artificial Intelligence\"\n",
    "\n",
    "# Test with LangChain's TavilySearchResults (using 'k')\n",
    "print(\"LangChain Search Results (k=3):\")\n",
    "langchain_results = search_with_langchain(query, k=3)\n",
    "print(langchain_results)\n",
    "print(f\"Length of LangChain results: {len(langchain_results)}\\n\")\n",
    "\n",
    "# Test with Tavily API Client (using 'max_results')\n",
    "print(\"Tavily API Search Results (max_results=3):\")\n",
    "tavily_api_results = search_with_tavily_api(query, max_results=3)\n",
    "print(tavily_api_results)\n",
    "print(f\"Length of Tavily API results: {len(tavily_api_results)}\")\n",
    "\n"
   ]
  },
  {
   "cell_type": "code",
   "execution_count": 42,
   "metadata": {},
   "outputs": [
    {
     "data": {
      "text/plain": [
       "[{'url': 'https://www.britannica.com/technology/artificial-intelligence',\n",
       "  'content': 'For example, a program that learns the past tense of regular English verbs by rote will not be able to produce the past tense of a word such as jump unless it previously had been presented with jumped, whereas a program that is able to generalize can learn the “add ed” rule and so form the past tense of jump based on experience with similar verbs. The real nature of the wasp’s instinctual behaviour is revealed if the food is moved a few inches away from the entrance to her burrow while she is inside: on emerging, she will repeat the whole procedure as often as the food is displaced. The program might then store the solution with the position so that the next time the computer encountered the same position it would recall the solution. Artificial intelligence is the ability of a computer or computer-controlled robot to perform tasks that are commonly associated with the\\xa0intellectual\\xa0processes characteristic of humans, such as the ability to reason. The term is frequently applied to the project of developing systems endowed with the intellectual processes characteristic of humans, such as the ability to reason, discover meaning, generalize, or learn from past experience.'},\n",
       " {'url': 'https://cloud.google.com/learn/what-is-artificial-intelligence',\n",
       "  'content': 'Solution\\nSolution\\nSolution\\nSolution\\nSolution\\nSolution\\nTake the next step\\nStart\\nbuilding on Google Cloud with $300 in free credits and 20+\\nalways free products.\\n Artificial intelligence (AI) is a set of technologies\\nthat enable computers to perform a variety of advanced\\nfunctions, including the ability to\\nsee,\\nunderstand and\\ntranslate spoken and written language,\\nanalyze data,\\nmake recommendations, and more.\\n Artificial intelligence\\ndefined\\nArtificial intelligence is a field of science\\nconcerned with building computers and machines that\\ncan reason, learn, and act in such a way that would\\nnormally require human intelligence or that involves\\ndata whose scale exceeds what humans can\\nanalyze.\\n By using products like\\nVertex AI,\\nCCAI,\\nDocAI,\\nor AI APIs, organizations can make sense of all the data\\nthey’re producing, collecting, or otherwise analyzing,\\nno matter what format it’s in, to make actionable\\nbusiness decisions.\\n On an operational level for business use, AI is a\\nset of technologies that are based primarily on\\nmachine learning and deep learning, used for data\\nanalytics, predictions and forecasting, object\\ncategorization, natural language processing,\\nrecommendations, intelligent data retrieval, and\\nmore.\\n'},\n",
       " {'url': 'https://ai.engineering.columbia.edu/ai-vs-machine-learning/',\n",
       "  'content': 'Home / Artificial Intelligence (AI) vs. Machine Learning\\nArtificial Intelligence (AI) vs. Machine LearningArtificial Intelligence (AI) vs. Machine LearningArtificial Intelligence (AI) vs. Machine Learning\\nArtificial intelligence (AI) and machine learning are often used interchangeably, but machine learning is a subset of the broader category of AI.\\n Computer programmers and software developers enable computers to analyze data and solve problems — essentially, they create artificial intelligence systems — by applying tools such as:\\nBelow is a breakdown of the differences between artificial intelligence and machine learning as well as how they are being applied in organizations large and small today.\\n Put in context, artificial intelligence refers to the general ability of computers to emulate human\\xa0thought and perform tasks in real-world environments, while machine learning refers to the technologies and algorithms that enable systems to identify patterns, make decisions, and improve themselves through experience and data.\\n Artificial intelligence can help manufacturing leaders automate their business processes by applying data analytics and machine learning to applications such as the following:\\nAI and Machine Learning in Banking\\nData privacy and security are especially critical within the banking industry. Financial services leaders can keep customer data secure while increasing efficiencies using AI and machine learning in several ways:\\nAI Applications in Health Care\\nThe health care field uses huge amounts of data and increasingly relies on informatics and analytics to provide accurate, efficient health services.'},\n",
       " {'url': 'https://en.wikipedia.org/wiki/A.I._Artificial_Intelligence',\n",
       "  'content': 'But it\\'s a brilliant piece of film and of course it\\'s a phenomenon because it contains the energies and talents of two brilliant filmmakers\".[50] Richard Corliss heavily praised Spielberg\\'s direction, as well as the cast and visual effects.[51]\\nRoger Ebert gave the film three stars out of a possible four, saying that it is \"wonderful and maddening\".[52] Ebert later gave the film a full four stars and added it to his \"Great Movies\" list in 2011.[53] Leonard Maltin, on the other hand, gives the film two stars out of four in his Movie Guide, writing: \"[The] intriguing story draws us in, thanks in part to Osment\\'s exceptional performance, but takes several wrong turns; ultimately, it just doesn\\'t work. Plus, quite a few critics in America misunderstood the film, thinking for instance that the Giacometti-style beings in the final 20 minutes were aliens (whereas they were robots of the future who had evolved themselves from the robots in the earlier part of the film) and also thinking that the final 20 minutes were a sentimental addition by Spielberg, whereas those scenes were exactly what I wrote for Stanley and exactly what he wanted, filmed faithfully by Spielberg. However, Spielberg asked Angel to be on the set every day to make line alterations wherever he felt necessary.[32] Social robotics expert Cynthia Breazeal served as technical consultant during production.[21][33] Costume designer Bob Ringwood studied pedestrians on the Las Vegas Strip for his influence on the Rouge City extras.[34] Additional visual effects such as removing the visible rods controlling Teddy and removing Haley Joel Osment\\'s breath, were provided in-house by PDI/DreamWorks.[35]\\nCasting[edit]\\nJulianne Moore and Gwyneth Paltrow were considered for the role of Monica Swinton before Frances O\\'Connor was cast and Jerry Seinfeld was originally considered to voice and play the Comedian Robot before Chris Rock was cast.[36]\\nSoundtrack[edit]\\n To avoid audiences mistaking A.I. for a family film, no action figures were created, although Hasbro released a talking Teddy following the film\\'s release in June 2001.[21]\\nA.I. premiered at the Venice Film Festival in 2001.[38]\\nHome media[edit]\\nA.I. Artificial Intelligence was released on VHS and DVD in the United States by DreamWorks Home Entertainment on March 5, 2002[39][40] in widescreen and full-screen 2-disc special editions featuring an extensive sixteen-part documentary detailing the film\\'s development, production, music and visual effects. After the release of Spielberg\\'s Jurassic Park, with its innovative computer-generated imagery, it was announced in November 1993 that production of A.I. would begin in 1994.[16] Dennis Muren and Ned Gorman, who worked on Jurassic Park, became visual effects supervisors,[13] but Kubrick was displeased with their previsualization, and with the expense of hiring Industrial Light & Magic.[17]\\n\"Stanley [Kubrick] showed Steven [Spielberg] 650 drawings which he had, and the script and the story, everything.'},\n",
       " {'url': 'https://www.sas.com/en_us/insights/analytics/what-is-artificial-intelligence.html',\n",
       "  'content': \"Next Steps\\nSee how Artificial Intelligence Solutions augment human creativity and endeavors with AI.\\nFeatured product for ARTIFICIAL INTELLIGENCE\\nSAS®\\xa0Visual Data Mining and Machine Learning\\nAI is simplified when you can prepare data for analysis, develop models with modern machine-learning algorithms and integrate\\xa0text analytics\\xa0all in one product. Learn more about SAS\\nSelect Your Region\\nAmericas\\nEurope\\nMiddle East & Africa\\nAsia Pacific\\nAmericas\\nEurope\\nMiddle East & Africa\\nAsia Pacific\\nHi !\\n Keep reading for modern examples of artificial intelligence in health care, retail and more.\\n1950s–1970s\\nNeural Networks\\nEarly work with neural networks stirs excitement for “thinking machines.”\\n1980s–2010s\\nMachine Learning\\nMachine learning becomes popular.\\n Advance your career and train your team in sought after skills\\nWhy Learn SAS?\\nWhy SAS?\\nLearn why SAS is the world's most trusted analytics platform, and why analysts, customers and industry experts love SAS.\\n Artificial Intelligence trends to watch\\nQuick, watch this video to hear AI experts and data science pros weigh in on AI trends for the next decade.\\n\"}]"
      ]
     },
     "execution_count": 42,
     "metadata": {},
     "output_type": "execute_result"
    }
   ],
   "source": [
    "langchain_results"
   ]
  },
  {
   "cell_type": "code",
   "execution_count": 43,
   "metadata": {},
   "outputs": [
    {
     "data": {
      "text/plain": [
       "{'query': 'Artificial Intelligence',\n",
       " 'follow_up_questions': None,\n",
       " 'answer': None,\n",
       " 'images': [],\n",
       " 'results': [{'title': 'Artificial intelligence (AI) | Definition, Examples, Types, Applications, Companies, & Facts',\n",
       "   'url': 'https://www.britannica.com/technology/artificial-intelligence',\n",
       "   'content': 'For example, a program that learns the past tense of regular English verbs by rote will not be able to produce the past tense of a word such as jump unless it previously had been presented with jumped, whereas a program that is able to generalize can learn the “add ed” rule and so form the past tense of jump based on experience with similar verbs. The real nature of the wasp’s instinctual behaviour is revealed if the food is moved a few inches away from the entrance to her burrow while she is inside: on emerging, she will repeat the whole procedure as often as the food is displaced. The program might then store the solution with the position so that the next time the computer encountered the same position it would recall the solution. Artificial intelligence is the ability of a computer or computer-controlled robot to perform tasks that are commonly associated with the\\xa0intellectual\\xa0processes characteristic of humans, such as the ability to reason. The term is frequently applied to the project of developing systems endowed with the intellectual processes characteristic of humans, such as the ability to reason, discover meaning, generalize, or learn from past experience.',\n",
       "   'score': 0.88372874,\n",
       "   'raw_content': 'artificial intelligence\\nOur editors will review what you’ve submitted and determine whether to revise the article.\\nOur editors will review what you’ve submitted and determine whether to revise the article.\\nRecent News\\nWhat is artificial intelligence?\\nArtificial intelligence is the ability of a computer or computer-controlled robot to perform tasks that are commonly associated with the\\xa0intellectual\\xa0processes characteristic of humans, such as the ability to reason. Although there are as yet no AIs that match full human flexibility over wider domains or in tasks requiring much everyday knowledge, some AIs perform specific tasks as well as humans. Learn more.\\nAre artificial intelligence and machine learning the same?\\nNo, artificial intelligence and machine learning are not the same, but they are closely related. Machine learning is the method to train a computer to learn from its inputs but without explicit programming for every circumstance. Machine learning helps a computer to achieve artificial intelligence.\\nartificial intelligence (AI),\\nthe ability of a digital computer or computer-controlled robot to perform tasks commonly associated with intelligent beings. The term is frequently applied to the project of developing systems endowed with the intellectual processes characteristic of humans, such as the ability to reason, discover meaning, generalize, or learn from past experience. Since the development of the digital computer in the 1940s, it has been demonstrated that computers can be programmed to carry out very complex tasks—such as discovering proofs for mathematical theorems or playing chess—with great proficiency. Still, despite continuing advances in computer processing speed and memory capacity, there are as yet no programs that can match full human flexibility over wider domains or in tasks requiring much everyday knowledge. On the other hand, some programs have attained the performance levels of human experts and professionals in performing certain specific tasks, so that artificial intelligence in this limited sense is found in applications as diverse as medical diagnosis, computer search engines, voice or handwriting recognition, and chatbots.\\n(Read Ray Kurzweil’s Britannica essay on the future of “Nonbiological Man.”)\\nWhat is intelligence?\\nAll but the simplest human behaviour is ascribed to intelligence, while even the most complicated insect behaviour is usually not taken as an indication of intelligence. What is the difference? Consider the behaviour of the digger wasp, Sphex ichneumoneus. When the female wasp returns to her burrow with food, she first deposits it on the threshold, checks for intruders inside her burrow, and only then, if the coast is clear, carries her food inside. The real nature of the wasp’s instinctual behaviour is revealed if the food is moved a few inches away from the entrance to her burrow while she is inside: on emerging, she will repeat the whole procedure as often as the food is displaced. Intelligence—conspicuously absent in the case of Sphex—must include the ability to adapt to new circumstances.\\n(Read Yuval Noah Harari’s Britannica essay on the future of “Nonconscious Man.”)\\nPsychologists generally characterize human intelligence not by just one trait but by the combination of many diverse abilities. Research in AI has focused chiefly on the following components of intelligence: learning, reasoning, problem solving, perception, and using language.\\nLearning\\nThere are a number of different forms of learning as applied to artificial intelligence. The simplest is learning by trial and error. For example, a simple computer program for solving mate-in-one chess problems might try moves at random until mate is found. The program might then store the solution with the position so that the next time the computer encountered the same position it would recall the solution. This simple memorizing of individual items and procedures—known as rote learning—is relatively easy to implement on a computer. More challenging is the problem of implementing what is called generalization. Generalization involves applying past experience to analogous new situations. For example, a program that learns the past tense of regular English verbs by rote will not be able to produce the past tense of a word such as jump unless it previously had been presented with jumped, whereas a program that is able to generalize can learn the “add ed” rule and so form the past tense of jump based on experience with similar verbs.'},\n",
       "  {'title': 'What Is Artificial Intelligence (AI)? | Google Cloud',\n",
       "   'url': 'https://cloud.google.com/learn/what-is-artificial-intelligence',\n",
       "   'content': 'Solution\\nSolution\\nSolution\\nSolution\\nSolution\\nSolution\\nTake the next step\\nStart\\nbuilding on Google Cloud with $300 in free credits and 20+\\nalways free products.\\n Artificial intelligence (AI) is a set of technologies\\nthat enable computers to perform a variety of advanced\\nfunctions, including the ability to\\nsee,\\nunderstand and\\ntranslate spoken and written language,\\nanalyze data,\\nmake recommendations, and more.\\n Artificial intelligence\\ndefined\\nArtificial intelligence is a field of science\\nconcerned with building computers and machines that\\ncan reason, learn, and act in such a way that would\\nnormally require human intelligence or that involves\\ndata whose scale exceeds what humans can\\nanalyze.\\n By using products like\\nVertex AI,\\nCCAI,\\nDocAI,\\nor AI APIs, organizations can make sense of all the data\\nthey’re producing, collecting, or otherwise analyzing,\\nno matter what format it’s in, to make actionable\\nbusiness decisions.\\n On an operational level for business use, AI is a\\nset of technologies that are based primarily on\\nmachine learning and deep learning, used for data\\nanalytics, predictions and forecasting, object\\ncategorization, natural language processing,\\nrecommendations, intelligent data retrieval, and\\nmore.\\n',\n",
       "   'score': 0.77751994,\n",
       "   'raw_content': 'What is Artificial\\nIntelligence (AI)?\\nArtificial intelligence (AI) is a set of technologies\\nthat enable computers to perform a variety of advanced\\nfunctions, including the ability to\\nsee,\\nunderstand and\\ntranslate spoken and written language,\\nanalyze data,\\nmake recommendations, and more.\\nAI is the backbone of innovation in modern computing,\\nunlocking value for individuals and businesses. For\\nexample,\\noptical character recognition (OCR)\\nuses AI to extract text and data from images and\\ndocuments, turns unstructured content into\\nbusiness-ready structured data, and unlocks valuable\\ninsights.\\nReady to get started? New customers get $300 in free\\ncredits to spend on Google Cloud.\\nArtificial intelligence\\ndefined\\nArtificial intelligence is a field of science\\nconcerned with building computers and machines that\\ncan reason, learn, and act in such a way that would\\nnormally require human intelligence or that involves\\ndata whose scale exceeds what humans can\\nanalyze.\\nAI is a broad field that encompasses many different\\ndisciplines, including computer science, data\\nanalytics and statistics, hardware and software\\nengineering, linguistics, neuroscience, and even\\nphilosophy and psychology.\\nOn an operational level for business use, AI is a\\nset of technologies that are based primarily on\\nmachine learning and deep learning, used for data\\nanalytics, predictions and forecasting, object\\ncategorization, natural language processing,\\nrecommendations, intelligent data retrieval, and\\nmore.\\nTypes of artificial\\nintelligence\\nArtificial intelligence can be organized in several ways,\\ndepending on stages of development or actions being\\nperformed.\\nFor instance, four stages of AI development are commonly\\nrecognized.\\nA more useful way of broadly categorizing types of\\nartificial intelligence is by what the machine can do. All\\nof what we currently call artificial intelligence is\\nconsidered artificial “narrow” intelligence, in that it can\\nperform only narrow sets of actions based on its programming\\nand training. For instance, an AI algorithm that is used for\\nobject classification won’t be able to perform natural\\nlanguage processing. Google Search is a form of narrow AI,\\nas is predictive analytics, or virtual assistants.\\nArtificial general intelligence (AGI) would be the ability\\nfor a machine to “sense, think, and act” just like a human.\\nAGI does not currently exist. The next level would be\\nartificial superintelligence (ASI), in which the machine\\nwould be able to function in all ways superior to a\\nhuman.\\nArtificial intelligence\\ntraining models\\nWhen businesses talk about AI, they often talk about\\n“training data.” But what does that mean? Remember that\\nlimited-memory artificial intelligence is AI that improves\\nover time by being trained with new data. Machine learning\\nis a\\nsubset of artificial intelligence\\nthat uses algorithms to train data to obtain results.\\nIn broad strokes, three kinds of learnings models are often\\nused in machine learning:\\nSupervised learning is a machine learning model that\\nmaps a specific input to an output using labeled training\\ndata (structured data). In simple terms, to train the\\nalgorithm to recognize pictures of cats, feed it pictures\\nlabeled as cats.\\nUnsupervised learning is a machine learning model\\nthat learns patterns based on unlabeled data (unstructured\\ndata). Unlike supervised learning, the end result is not\\nknown ahead of time. Rather, the algorithm learns\\nfrom the data, categorizing it into groups based on\\nattributes. For instance, unsupervised learning is good at\\npattern matching and descriptive modeling.\\nIn addition to supervised and unsupervised learning, a\\nmixed approach called semi-supervised learning is often\\nemployed, where only some of the data is labeled. In\\nsemi-supervised learning, an end result is known, but the\\nalgorithm must figure out how to organize and structure the\\ndata to achieve the desired results.\\nReinforcement learning is a machine learning model\\nthat can be broadly described as “learn by doing.” An\\n“agent” learns to perform a defined task by trial and error\\n(a feedback loop) until its performance is within a\\ndesirable range. The agent receives positive reinforcement\\nwhen it performs the task well and negative reinforcement\\nwhen it performs poorly. An example of reinforcement\\nlearning would be teaching a robotic hand to pick up a\\nball.\\nCommon types of artificial\\nneural networks\\nA common type of training model in AI is an artificial\\nneural network, a model loosely based on the human\\nbrain.\\nA neural network is a system of artificial\\nneurons—sometimes called perceptrons—that are computational\\nnodes used to classify and analyze data. The data is fed\\ninto the first layer of a neural network, with each\\nperceptron making a decision, then passing that information\\nonto multiple nodes in the next layer. Training models with\\nmore than three layers are referred to as “deep neural\\nnetworks” or “deep learning.” Some modern neural networks\\nhave hundreds or thousands of layers. The output of the\\nfinal perceptrons accomplish the task set to the neural\\nnetwork, such as classify an object or find patterns in\\ndata.\\nSome of the most common types of artificial neural networks\\nyou may encounter include:\\nFeedforward neural networks (FF) are one of the\\noldest forms of neural networks, with data flowing one way\\nthrough layers of artificial neurons until the output is\\nachieved. In modern days, most feedforward neural networks\\nare considered “deep feedforward” with several layers\\n(and more than one “hidden” layer). Feedforward neural\\nnetworks are typically paired with an error-correction\\nalgorithm called “backpropagation” that, in simple terms,\\nstarts with the result of the neural network and works back\\nthrough to the beginning, finding errors to improve the\\naccuracy of the neural network. Many simple but powerful\\nneural networks are deep feedforward.\\nRecurrent neural networks (RNN) differ from\\nfeedforward neural networks in that they typically use time\\nseries data or data that involves sequences. Unlike\\nfeedforward neural networks, which use weights in each node\\nof the network, recurrent neural networks have “memory” of\\nwhat happened in the previous layer as contingent to the\\noutput of the current layer. For instance, when performing\\nnatural language processing, RNNs can “keep in mind” other\\nwords used in a sentence. RNNs are often used for speech\\nrecognition, translation, and to caption images.\\nLong/short term memory (LSTM) are an advanced form\\nof RNN that can use memory to “remember” what happened in\\nprevious layers. The difference between RNNs and LTSM is\\nthat LTSM can remember what happened several layers ago,\\nthrough the use of “memory cells.” LSTM is often used in\\nspeech recognition and making predictions.\\nConvolutional neural networks (CNN) include some\\nof the most common neural networks in modern artificial\\nintelligence. Most often used in image recognition, CNNs use\\nseveral distinct layers (a convolutional layer, then a\\npooling layer) that filter different parts of an image\\nbefore putting it back together (in the fully connected\\nlayer). The earlier convolutional layers may look for simple\\nfeatures of an image such as colors and edges, before\\nlooking for more complex features in additional layers.\\nGenerative adversarial networks (GAN) involve two\\nneural networks competing against each other in a game that\\nultimately improves the accuracy of the output. One network\\n(the generator) creates examples that the other network (the\\ndiscriminator) attempts to prove true or false. GANs have\\nbeen used to create realistic images and even make art.\\nBenefits of AI\\nAutomation\\nAI can automate workflows and processes or work\\nindependently and autonomously from a human team. For\\nexample, AI can help automate aspects of cybersecurity\\nby continuously monitoring and analyzing network\\ntraffic. Similarly, a smart factory may have dozens of\\ndifferent kinds of AI in use, such as robots using\\ncomputer vision to navigate the factory floor or to\\ninspect products for defects, create digital twins, or\\nuse real-time analytics to measure efficiency and\\noutput.\\nReduce human error\\nAI can eliminate manual errors in data processing,\\nanalytics, assembly in manufacturing, and other tasks\\nthrough automation and algorithms that follow the same\\nprocesses every single time.\\nEliminate repetitive tasks\\nAI can be used to perform repetitive tasks, freeing\\nhuman capital to work on higher impact problems. AI can\\nbe used to automate processes, like verifying documents,\\ntranscribing phone calls, or answering simple customer\\nquestions like “what time do you close?” Robots are\\noften used to perform “dull, dirty, or dangerous” tasks\\nin the place of a human.\\nFast and accurate\\nAI can process more information more quickly than a\\nhuman, finding patterns and discovering relationships in\\ndata that a human may miss.\\nInfinite availability\\nAI is not limited by time of day, the need for breaks,\\nor other human encumbrances. When running in the cloud,\\nAI and machine learning can be “always on,” continuously\\nworking on its assigned tasks.\\nAccelerated research and development\\nThe ability to analyze vast amounts of data quickly can\\nlead to accelerated breakthroughs in research and\\ndevelopment. For instance, AI has been used in\\npredictive modeling of potential new pharmaceutical\\ntreatments, or to quantify the human genome.\\nSolve your business challenges with Google Cloud\\nApplications and use cases for artificial intelligence\\nSpeech recognition\\nAutomatically convert spoken speech into written text.\\nImage recognition\\nIdentify and categorize various aspects of an image.\\nTranslation\\nTranslate written or spoken words from one language\\ninto another.\\nPredictive modeling\\nMine data to forecast specific outcomes with high\\ndegrees of granularity.\\nData analytics\\nFind patterns and relationships in data for business\\nintelligence.\\nCybersecurity\\nAutonomously scan networks for cyber attacks and\\nthreats.\\nRelated products and services\\nGoogle offers a number of sophisticated artificial\\nintelligence products, solutions, and applications on a\\ntrusted cloud platform that enables businesses to easily\\nbuild and implement AI algorithms and models.\\nBy using products like\\nVertex AI,\\nCCAI,\\nDocAI,\\nor AI APIs, organizations can make sense of all the data\\nthey’re producing, collecting, or otherwise analyzing,\\nno matter what format it’s in, to make actionable\\nbusiness decisions.\\nSolution\\nSolution\\nSolution\\nSolution\\nSolution\\nSolution\\nTake the next step\\nStart\\nbuilding on Google Cloud with $300 in free credits and 20+\\nalways free products.\\nTake the next step\\nStart\\nyour next project, explore interactive tutorials, and\\nmanage your account.\\nWhy Google\\nProducts and pricing\\nSolutions\\nResources\\nEngage'},\n",
       "  {'title': 'Artificial Intelligence (AI) vs. Machine Learning | Columbia AI',\n",
       "   'url': 'https://ai.engineering.columbia.edu/ai-vs-machine-learning/',\n",
       "   'content': 'Home / Artificial Intelligence (AI) vs. Machine Learning\\nArtificial Intelligence (AI) vs. Machine LearningArtificial Intelligence (AI) vs. Machine LearningArtificial Intelligence (AI) vs. Machine Learning\\nArtificial intelligence (AI) and machine learning are often used interchangeably, but machine learning is a subset of the broader category of AI.\\n Computer programmers and software developers enable computers to analyze data and solve problems — essentially, they create artificial intelligence systems — by applying tools such as:\\nBelow is a breakdown of the differences between artificial intelligence and machine learning as well as how they are being applied in organizations large and small today.\\n Put in context, artificial intelligence refers to the general ability of computers to emulate human\\xa0thought and perform tasks in real-world environments, while machine learning refers to the technologies and algorithms that enable systems to identify patterns, make decisions, and improve themselves through experience and data.\\n Artificial intelligence can help manufacturing leaders automate their business processes by applying data analytics and machine learning to applications such as the following:\\nAI and Machine Learning in Banking\\nData privacy and security are especially critical within the banking industry. Financial services leaders can keep customer data secure while increasing efficiencies using AI and machine learning in several ways:\\nAI Applications in Health Care\\nThe health care field uses huge amounts of data and increasingly relies on informatics and analytics to provide accurate, efficient health services.',\n",
       "   'score': 0.74652773,\n",
       "   'raw_content': 'Home / Artificial Intelligence (AI) vs. Machine Learning\\nArtificial Intelligence (AI) vs. Machine LearningArtificial Intelligence (AI) vs. Machine LearningArtificial Intelligence (AI) vs. Machine Learning\\nArtificial intelligence (AI) and machine learning are often used interchangeably, but machine learning is a subset of the broader category of AI.\\nPut in context, artificial intelligence refers to the general ability of computers to emulate human\\xa0thought and perform tasks in real-world environments, while machine learning refers to the technologies and algorithms that enable systems to identify patterns, make decisions, and improve themselves through experience and data.\\nComputer programmers and software developers enable computers to analyze data and solve problems — essentially, they create artificial intelligence systems — by applying tools such as:\\nBelow is a breakdown of the differences between artificial intelligence and machine learning as well as how they are being applied in organizations large and small today.\\nWhat Is Artificial Intelligence?\\nArtificial Intelligence is the field of developing computers and robots that are capable of behaving in ways that both mimic and go beyond human capabilities. AI-enabled programs can analyze and contextualize data to provide information or automatically trigger actions without human interference.\\nToday, artificial intelligence is at the heart of many technologies we use, including smart devices and voice assistants such as Siri on Apple devices. Companies are incorporating techniques such as natural language processing and computer vision — the ability for computers to use human language and interpret images \\xad— to automate tasks, accelerate decision making, and enable customer conversations with chatbots.\\nWhat Is Machine Learning?\\nMachine learning is a pathway to artificial intelligence. This subcategory of AI uses algorithms to automatically learn insights and recognize patterns from data, applying that learning to make increasingly better decisions.\\nBy studying and experimenting with machine learning, programmers test the limits of how much they can improve the perception, cognition, and action of a computer system.\\nDeep learning, an advanced method of machine learning, goes a step further. Deep learning models use large neural networks — networks that function like a human brain to logically analyze data — to learn complex patterns and make predictions independent of human input.\\nHow Companies Use AI and Machine Learning\\nTo be successful in nearly any industry, organizations must be able to transform their data into actionable insight. Artificial Intelligence and machine learning give organizations the advantage of automating a variety of manual processes involving data and decision making.\\nBy incorporating AI and machine learning into their systems and strategic plans, leaders can understand and act on data-driven insights with greater speed and efficiency.\\nAI in the Manufacturing Industry\\nEfficiency is key to the success of an organization in the manufacturing industry. Artificial intelligence can help manufacturing leaders automate their business processes by applying data analytics and machine learning to applications such as the following:\\nAI and Machine Learning in Banking\\nData privacy and security are especially critical within the banking industry. Financial services leaders can keep customer data secure while increasing efficiencies using AI and machine learning in several ways:\\nAI Applications in Health Care\\nThe health care field uses huge amounts of data and increasingly relies on informatics and analytics to provide accurate, efficient health services. AI tools can help improve patient outcomes, save time, and even help providers avoid burnout by:\\nLearn more about how AI is changing the world of health care.\\nThe online Artificial Intelligence executive certificate program, offered through the Fu Foundation School of Engineering and Applied Science at Columbia University, prepares you with the skills and insights to drive AI strategy and adoption across your organization.\\nWith courses that address algorithms, machine learning, data privacy, robotics, and other AI topics, this non-credit program is designed for forward-thinking team leaders and technically proficient professionals who want to gain a deeper understanding of the applications of AI. You can complete the program in 18 months while continuing to work.\\nRequest Information\\nRequest Information\\nRequest Information'}],\n",
       " 'response_time': 2.34}"
      ]
     },
     "execution_count": 43,
     "metadata": {},
     "output_type": "execute_result"
    }
   ],
   "source": [
    "tavily_api_results"
   ]
  },
  {
   "cell_type": "markdown",
   "metadata": {},
   "source": [
    "______________"
   ]
  },
  {
   "cell_type": "markdown",
   "metadata": {},
   "source": [
    "### BUG (**TO SOLVE**) #5: HANDLE the short-term memmory for the agent to have context also about what was [asked,answered] before\n",
    "\n",
    "\n",
    "> e.g which can be the connection between both attacks?\n",
    "\n",
    "- The LLM here should renember that in the past messages, there was one record with ``[input=\"what happened with the new orleans attack?\", output=\"...\"]``\n",
    "\n",
    "- Also we need to ensure we handle the max context windows of the LLM"
   ]
  },
  {
   "cell_type": "markdown",
   "metadata": {},
   "source": [
    "___________________________"
   ]
  },
  {
   "cell_type": "code",
   "execution_count": 71,
   "metadata": {},
   "outputs": [],
   "source": [
    "a = SearchQueriesParams(n_queries=2, queries=[\n",
    "        \"What is the latest in AI technology?\",\n",
    "        \"What are the top trends in web development?\",\n",
    "    ],\n",
    "                    tavily_days=[7, None],\n",
    "                    tavily_topic=[\"news\", \"general\"])\n"
   ]
  },
  {
   "cell_type": "code",
   "execution_count": 74,
   "metadata": {},
   "outputs": [],
   "source": [
    "\n",
    "def deduplicate_and_format_sources(search_response, max_tokens_per_source, include_raw_content=True):\n",
    "    \"\"\"\n",
    "    Takes either a single search response or list of responses from Tavily API and formats them.\n",
    "    Limits the raw_content to approximately max_tokens_per_source.\n",
    "    include_raw_content specifies whether to include the raw_content from Tavily in the formatted string.\n",
    "    \n",
    "    Args:\n",
    "        search_response: Either:\n",
    "            - A dict with a 'results' key containing a list of search results\n",
    "            - A list of dicts, each containing search results\n",
    "            \n",
    "    Returns:\n",
    "        str: Formatted string with deduplicated sources\n",
    "    \"\"\"\n",
    "    print(\"halo\")\n",
    "    # Convert input to list of results\n",
    "    if isinstance(search_response, dict):\n",
    "        # sources_list = search_response['results']\n",
    "        sources_list = search_response.get('results', [])\n",
    "        \n",
    "    elif isinstance(search_response, list):\n",
    "        sources_list = []\n",
    "        for response in search_response:\n",
    "            if isinstance(response, dict) and 'results' in response:\n",
    "                # sources_list.extend(response['results'])\n",
    "                sources_list.extend(response.get('results', []))\n",
    "            else:\n",
    "                sources_list.extend(response)\n",
    "    else:\n",
    "        raise ValueError(\"Input must be either a dict with 'results' or a list of search results\")\n",
    "    \n",
    "    # Deduplicate by URL\n",
    "    unique_sources = {}\n",
    "    for source in sources_list:\n",
    "        url = source.get('url')\n",
    "        # if source['url'] not in unique_sources:\n",
    "        #     unique_sources[source['url']] = source\n",
    "        if url and url not in unique_sources:\n",
    "            unique_sources[url] = source\n",
    "    \n",
    "    # Format output\n",
    "    formatted_text = \"Sources:\\n\\n\"\n",
    "    for i, source in enumerate(unique_sources.values(), 1):\n",
    "        formatted_text += f\"Source {source['title']}:\\n===\\n\"\n",
    "        formatted_text += f\"URL: {source['url']}\\n===\\n\"\n",
    "        formatted_text += f\"Most relevant content from source: {source['content']}\\n===\\n\"\n",
    "        if include_raw_content:\n",
    "            # Using rough estimate of 4 characters per token\n",
    "            char_limit = 1000 * 4\n",
    "            # Handle None raw_content\n",
    "            raw_content = source.get('raw_content', '')\n",
    "            if raw_content is None:\n",
    "                raw_content = ''\n",
    "                print(f\"Warning: No raw_content found for source {source['url']}\")\n",
    "            if len(raw_content) > char_limit:\n",
    "                raw_content = raw_content[:char_limit] + \"... [truncated]\"\n",
    "            formatted_text += f\"Full source content limited to 1000 tokens: {raw_content}\\n\\n\"\n",
    "                \n",
    "    return formatted_text.strip()\n",
    "\n"
   ]
  },
  {
   "cell_type": "code",
   "execution_count": 76,
   "metadata": {},
   "outputs": [
    {
     "name": "stdout",
     "output_type": "stream",
     "text": [
      "gonna generate 2 queries\n",
      "halo\n",
      "Warning: No raw_content found for source https://thenewstack.io/web-development-trends-in-2024-a-shift-back-to-simplicity/\n"
     ]
    },
    {
     "data": {
      "text/plain": [
       "{'documents': 'Sources:\\n\\nSource Fox News AI Newsletter: Will your job survive Trump’s Gen AI revolution? - Fox News:\\n===\\nURL: https://www.foxnews.com/tech/fox-news-ai-newsletter-your-job-survive-trumps-gen-ai-revolution\\n===\\nMost relevant content from source: Fox News AI Newsletter: Will your job survive Trump’s Gen AI revolution? | Fox News Fox News Media Fox News Media Fox News FOX News Shows FOX News Go Fox News Fox News AI Newsletter: Will your job survive Trump’s Gen AI revolution? Welcome to Fox News’ Artificial Intelligence newsletter with the latest AI technology advancements. Subscribe now to get the Fox News Artificial Intelligence Newsletter in your inbox. Fox News First Fox News Opinion Fox News Lifestyle Fox News Health Fox News Fox News Go Stay up to date on the latest AI technology advancements and learn about the challenges and opportunities AI presents now and for the future with Fox News\\xa0here. FOX News Go Fox News\\n===\\nFull source content limited to 1000 tokens: \\n\\nSource Web Development Trends in 2024: A Shift Back to Simplicity:\\n===\\nURL: https://thenewstack.io/web-development-trends-in-2024-a-shift-back-to-simplicity/\\n===\\nMost relevant content from source: Web Development Trends in 2024: A Shift Back to Simplicity - The New Stack CodeGate: Open Source Tool Secures AI Coding Assistants Dec 20th 2024 12:00pm, by Steven J. AWS Launches New AI Agents To Simplify Legacy Migrations Dec 4th 2024 11:30am, by Loraine Lawson 2025 Web Hosting Trends That Could Affect Frontend Developers Dec 19th 2024 7:00am, by Loraine Lawson We look at five web development trends of 2024, including a return to simplicity for frontend devs, AI code tools, web components, and more. Neither Astro (mentioned above) nor Svelte uses the virtual DOM approach, so developers can now choose a web framework that doesn’t rely on React (although Astro still has React as an option).\\n===\\nFull source content limited to 1000 tokens:'}"
      ]
     },
     "execution_count": 76,
     "metadata": {},
     "output_type": "execute_result"
    }
   ],
   "source": [
    "\n",
    "# Example function usage\n",
    "search_web({\"search_queries_params\": a})\n"
   ]
  },
  {
   "cell_type": "markdown",
   "metadata": {},
   "source": [
    "## Tweaking `narrative_graph.py`"
   ]
  },
  {
   "cell_type": "code",
   "execution_count": 2,
   "metadata": {},
   "outputs": [],
   "source": [
    "from langchain_openai import ChatOpenAI\n",
    "\n",
    "llm = ChatOpenAI(name=\"gpt-4o\", temperature=0)"
   ]
  },
  {
   "cell_type": "code",
   "execution_count": 3,
   "metadata": {},
   "outputs": [],
   "source": [
    "response = llm.invoke(\"hello how are you doing\")"
   ]
  },
  {
   "cell_type": "code",
   "execution_count": 5,
   "metadata": {},
   "outputs": [
    {
     "data": {
      "text/plain": [
       "AIMessage(content=\"Hello! I'm just a computer program, so I don't have feelings, but I'm here and ready to assist you. How can I help you today?\", additional_kwargs={'refusal': None}, response_metadata={'token_usage': {'completion_tokens': 34, 'prompt_tokens': 12, 'total_tokens': 46, 'completion_tokens_details': {'accepted_prediction_tokens': 0, 'audio_tokens': 0, 'reasoning_tokens': 0, 'rejected_prediction_tokens': 0}, 'prompt_tokens_details': {'audio_tokens': 0, 'cached_tokens': 0}}, 'model_name': 'gpt-3.5-turbo-0125', 'system_fingerprint': None, 'finish_reason': 'stop', 'logprobs': None}, id='run-b6082238-ca6f-43de-9300-de1ffe092503-0', usage_metadata={'input_tokens': 12, 'output_tokens': 34, 'total_tokens': 46, 'input_token_details': {'audio': 0, 'cache_read': 0}, 'output_token_details': {'audio': 0, 'reasoning': 0}})"
      ]
     },
     "execution_count": 5,
     "metadata": {},
     "output_type": "execute_result"
    }
   ],
   "source": [
    "response"
   ]
  },
  {
   "cell_type": "code",
   "execution_count": 2,
   "metadata": {},
   "outputs": [],
   "source": []
  },
  {
   "cell_type": "code",
   "execution_count": 5,
   "metadata": {},
   "outputs": [],
   "source": [
    "from tavily import TavilyClient, AsyncTavilyClient\n",
    "# tavily_async_client = AsyncTavilyClient()\n",
    "from datetime import datetime\n",
    "from pydantic import BaseModel, Field\n",
    "from typing import Union\n",
    "from dataclasses import dataclass\n",
    "from typing import Generator\n",
    "\n",
    "tavily_client = TavilyClient()"
   ]
  },
  {
   "cell_type": "code",
   "execution_count": 12,
   "metadata": {},
   "outputs": [
    {
     "name": "stdout",
     "output_type": "stream",
     "text": [
      "Query 1: U.S history | Duration: 6.59 seconds\n",
      "Query 2: javier milei news | Duration: 5.30 seconds\n"
     ]
    },
    {
     "data": {
      "text/plain": [
       "{'query_1_duration': 6.591169118881226,\n",
       " 'query_2_duration': 5.303355693817139,\n",
       " 'results': [[{'query': 'U.S history',\n",
       "    'follow_up_questions': None,\n",
       "    'answer': None,\n",
       "    'images': [],\n",
       "    'results': [{'title': 'U.S. History Primary Source Timeline - The Library of Congress',\n",
       "      'url': 'https://www.loc.gov/classroom-materials/united-states-history-primary-source-timeline/',\n",
       "      'content': \"U.S. History Primary Source Timeline | Classroom Materials at the Library of Congress | Library of Congress Search Search  Shop external link Library of Congress Classroom Materials at the Library of Congress U.S. History Primary Source Timeline Presentation U.S. History Primary Source Timeline U.S. History Primary Source Timeline Explore important topics and moments in U.S. history through historical primary sources from the Library of Congress The New Nation, 1783 - 1815 U.S. History Primary Source Timeline The New Nation, 1783 - 1815 The Library of Congress offers classroom materials and professional development to help teachers effectively use primary sources from the Library's vast digital collections in their teaching. To help your students analyze these primary sources, get a graphic organizer and guides.\",\n",
       "      'score': 0.60133666,\n",
       "      'raw_content': \"U.S. History Primary Source Timeline | Classroom Materials at the Library of Congress | Library of Congress\\nTop of page\\nSkip to main content\\n Library of Congress\\nSearch\\nSearch \\nSearch toggle\\nmenu\\n\\nDiscover\\nServices\\nVisit\\nEducation\\nConnect\\nShop external link\\nDonate\\n\\nAbout\\n\\n\\nAsk a Librarian\\n\\nHelp\\n\\nContact\\n\\n\\nSearch Online Catalog\\n\\nCopyright.gov\\nCongress.gov\\n\\nLibrary of Congress Classroom Materials at the Library of Congress U.S. History Primary Source Timeline\\nShare\\n\\n\\n\\n\\n\\nPresentation U.S. History Primary Source Timeline\\nU.S. History Primary Source Timeline\\nExplore important topics and moments in U.S. history through historical primary sources from the Library of Congress\\n\\n\\n\\nColonial Settlement, 1600s - 1763\\n\\n\\n\\nThe American Revolution, 1763 - 1783\\n\\n\\n\\nThe New Nation, 1783 - 1815\\n\\n\\n\\nNational Expansion and Reform, 1815 - 1880\\n\\n\\n\\nCivil War and Reconstruction, 1861-1877\\n\\n\\n\\nRise of Industrial America, 1876-1900\\n\\n\\n\\nProgressive Era to New Era, 1900-1929\\n\\n\\n\\nGreat Depression and World War II, 1929-1945\\n\\n\\n\\nThe Post War United States, 1945-1968\\n\\n\\nPart of\\n\\nPrimary Source Sets\\nLesson Plans\\n\\nPresentations\\n\\n\\nU.S. History Primary Source Timeline\\n\\nColonial Settlement, 1600s - 1763\\nThe American Revolution, 1763 - 1783\\nThe New Nation, 1783 - 1815\\nNational Expansion and Reform, 1815 - 1880\\nCivil War and Reconstruction, 1861-1877\\nRise of Industrial America, 1876-1900\\nProgressive Era to New Era, 1900-1929\\nGreat Depression and World War II, 1929-1945\\nThe Post War United States, 1945-1968\\n\\nAdditional Navigation\\n\\n\\nTeachers Home\\nThe Library of Congress offers classroom materials and professional development to help teachers effectively use primary sources from the Library's vast digital collections in their teaching.\\n\\n\\nAnalysis Tool & Guide\\nTo help your students analyze these primary sources, get a graphic organizer and guides.\\n\\n\\nBack to top\\nFollow Us\\n\\n\\n\\n\\n\\n\\n\\n\\n\\n\\nTake our survey External\\n\\n\\nAccessibility\\n\\nLegal\\nInspector General\\nExternal Link Disclaimer\\nUSA.gov\\nCareers\\nContact\\nMedia\\nDonate\\n\\nShop\\n\\n\\n\\n\\n\\n\\nOpens in new window Download\"}],\n",
       "    'response_time': 5.81}],\n",
       "  [{'query': 'javier milei news',\n",
       "    'follow_up_questions': None,\n",
       "    'answer': None,\n",
       "    'images': [],\n",
       "    'results': [{'title': 'Argentinian President Javier Milei plans to attend Trump ...',\n",
       "      'url': 'https://www.cbsnews.com/news/argentina-president-javier-milei-likely-to-attend-trump-inauguration/',\n",
       "      'content': 'Argentinian President Javier Milei plans to attend Trump inauguration - CBS News CBS News 24/7 CBS Evening News CBS News Mornings CBS News Team Watch CBS News Milei, a Trump acolyte who was elected last year and describes himself as an \"anarcho-capitalist,\" on Monday posted on X a link to a news report and wrote \"Make Argentina Great Again Make America Great Again,\" adding a handshake emoji between U.S. and Argentine flag emojis. CBS News reported last week that Chinese President Xi Jinping, whom Trump personally invited to the inauguration, was unlikely to attend, according to multiple sources. More from CBS News Fin Gómez is the political director for CBS News. More from CBS News CBS News App Open',\n",
       "      'score': 0.8036831,\n",
       "      'raw_content': 'Watch CBS News\\nArgentinian President Javier Milei plans to attend Trump inauguration\\n\\n    By\\n                        \\n              Fin Gómez\\n\\n\\nUpdated on:  December 17, 2024 / 10:49 AM EST\\n          / CBS News\\n        \\nArgentina\\'s President Javier Milei plans to attend President-elect Donald Trump\\'s inauguration in January, a spokesperson for Milei confirmed Tuesday.\\xa0\\nA spokesperson for the Trump transition team did not reply to a request for comment.\\nMilei, a Trump acolyte who was elected last year and describes himself as an \"anarcho-capitalist,\" on Monday posted on X a link to a news report and wrote \"Make Argentina Great Again Make America Great Again,\" adding a handshake emoji between U.S. and Argentine flag emojis.\\xa0\\nBloomberg News was first to report on Milei attending the inaugural, citing an Argentine government spokesperson.\\nMilei is the first world leader expected to be in Washington for the Jan. 20 event, though arrangements are underway for others to join. CBS News reported last week that Chinese President Xi Jinping, whom Trump personally invited to the inauguration, was unlikely to attend, according to multiple sources.\\xa0\\nTrump confirmed Monday that he has exchanged letters with Xi and would \"love to have him [at the inauguration], but there\\'s been nothing much discussed\" in terms of whether he\\'ll accept the invite.\\xa0\\nTrump added that he has fielded calls from more than 100 world leaders since winning the election and, initially when asked, he said that he had not invited Ukrainian President Volodymyr Zelenskyy. However, \"if he\\'d like to come, I\\'d like to have him,\" Trump said.\\nState Department records dating back to 1874 show that no world leader has attended an American transfer-of-power ceremony. Traditionally, foreign ambassadors and their spouses represent their governments at the quadrennial event.\\nMilei met with Trump at Mar-a-Lago shortly after the November election.\\xa0\\n\\n\\nJennifer Jacobs, \\n                                                  \\n                                  Margaret Brennan and \\n                                                  \\n                                  Arden Farhi\\n                  \\n        contributed to this report. \\n      \\n\\nMore from CBS News\\nFin Gómez is the political director for CBS News. Fin oversees the day-to-day political coverage for CBS News. He has covered five presidential political cycles and multiple presidential campaigns. He was formerly a member of the CBS White House unit.\\n\\n© 2024 CBS Interactive Inc. All Rights Reserved.\\n\\nMore from CBS News\\nCopyright ©2025 CBS Interactive Inc. All rights reserved.\\n'}],\n",
       "    'response_time': 4.49}]]}"
      ]
     },
     "execution_count": 12,
     "metadata": {},
     "output_type": "execute_result"
    }
   ],
   "source": [
    "import time\n",
    "from typing import List\n",
    "\n",
    "# Assuming `tavily_client` is already initialized\n",
    "\n",
    "def debug_tavily_search():\n",
    "    \"\"\"\n",
    "    Debugs the time taken to perform two queries using the Tavily API.\n",
    "    \"\"\"\n",
    "    # Define two dummy queries\n",
    "    search_queries = [\"U.S history\", \"javier milei news\"]\n",
    "    tavily_topic = \"general\"  # Change to 'news' if needed\n",
    "\n",
    "    # Measure the time for the first query\n",
    "    start_time_query_1 = time.time()\n",
    "    result_1 = tavily_search_sync([search_queries[0]], tavily_topic)\n",
    "    end_time_query_1 = time.time()\n",
    "\n",
    "    # Measure the time for the second query\n",
    "    start_time_query_2 = time.time()\n",
    "    result_2 = tavily_search_sync([search_queries[1]], \"nes\", 7)\n",
    "    end_time_query_2 = time.time()\n",
    "\n",
    "    # Calculate durations\n",
    "    query_1_duration = end_time_query_1 - start_time_query_1\n",
    "    query_2_duration = end_time_query_2 - start_time_query_2\n",
    "\n",
    "    # Log results\n",
    "    print(f\"Query 1: {search_queries[0]} | Duration: {query_1_duration:.2f} seconds\")\n",
    "    print(f\"Query 2: {search_queries[1]} | Duration: {query_2_duration:.2f} seconds\")\n",
    "\n",
    "    return {\n",
    "        \"query_1_duration\": query_1_duration,\n",
    "        \"query_2_duration\": query_2_duration,\n",
    "        \"results\": [result_1, result_2]\n",
    "    }\n",
    "\n",
    "# def tavily_search_sync(search_queries: List[str], tavily_topic: str, tavily_days=None):\n",
    "#     \"\"\"\n",
    "#     Performs concurrent web searches using the Tavily API.\n",
    "\n",
    "#     Args:\n",
    "#         search_queries (List[SearchQuery]): List of search queries to process\n",
    "#         tavily_topic (str): Type of search to perform ('news' or 'general')\n",
    "#         tavily_days (int) or None: Number of days to look back for news articles (only used when tavily_topic='news')\n",
    "\n",
    "#     Returns:\n",
    "#         List[dict]: List of search results from Tavily API, one per query\n",
    "\n",
    "#     Note:\n",
    "#         For news searches, each result will include articles from the last `tavily_days` days.\n",
    "#         For general searches, the time range is unrestricted.\n",
    "#     \"\"\"\n",
    "#     search_docs = []\n",
    "#     for query in search_queries:\n",
    "#         if tavily_topic == \"news\":\n",
    "#             result = tavily_client.search(  # Assuming `tavily_client` is the synchronous equivalent of `tavily_async_client`\n",
    "#                 query,\n",
    "#                 max_results=1,  # 1 #todo: ---> DECIDE THE NUMBER OF RESULTS\n",
    "#                 include_raw_content=True,\n",
    "#                 topic=\"news\",\n",
    "#                 days=tavily_days\n",
    "#             )\n",
    "#         else:\n",
    "#             result = tavily_client.search(\n",
    "#                 query,\n",
    "#                 max_results=1,  # 1 #todo: ---> DECIDE THE NUMBER OF RESULTS\n",
    "#                 include_raw_content=True,\n",
    "#                 topic=\"general\"\n",
    "#             )\n",
    "#         search_docs.append(result)\n",
    "\n",
    "#     return search_docs\n",
    "\n",
    "# Run the debug function\n",
    "debug_tavily_search()"
   ]
  },
  {
   "cell_type": "code",
   "execution_count": 20,
   "metadata": {},
   "outputs": [
    {
     "data": {
      "text/plain": [
       "{'query': 'javier milei news',\n",
       " 'follow_up_questions': None,\n",
       " 'answer': None,\n",
       " 'images': [],\n",
       " 'results': [{'url': 'https://www.thesunchronicle.com/news/nation_world/venezuela-opposition-leader-recognized-by-us-as-election-victor-embarks-on-latin-america-tour/article_d1455eff-b811-58c3-b575-0497812c8b73.html',\n",
       "   'title': 'Venezuela opposition leader recognized by US as election victor embarks on Latin America tour - The Sun Chronicle',\n",
       "   'score': 0.78154784,\n",
       "   'published_date': 'Sat, 04 Jan 2025 15:07:33 GMT',\n",
       "   'content': \"Venezuela's opposition leader Edmundo Gonzalez Urrutia, center right, and Argentine President Javier Milei wave to supporters from the government house in Buenos Aires, Argentina, Saturday, Jan. 4, 2025. Venezuela's opposition leader Edmundo Gonzalez Urrutia, center right, and Argentine President Javier Milei hold hands from the government house balcony in Buenos Aires, Argentina, Saturday, Jan. 4, 2025. Venezuela's opposition leader Edmundo Gonzalez Urrutia, center right, and Argentine President Javier Milei wave to supporters from the government house in Buenos Aires, Argentina, Saturday, Jan. 4, 2025. Venezuela's opposition leader Edmundo Gonzalez Urrutia, center right, and Argentine President Javier Milei hold hands from the government house balcony in Buenos Aires, Argentina, Saturday, Jan. 4, 2025.\"}],\n",
       " 'response_time': 0.42}"
      ]
     },
     "execution_count": 20,
     "metadata": {},
     "output_type": "execute_result"
    }
   ],
   "source": [
    "tavily_client.search(\"javier milei news\", days=7,\n",
    "                     topic=\"news\", max_results=1)"
   ]
  },
  {
   "cell_type": "code",
   "execution_count": 73,
   "metadata": {},
   "outputs": [
    {
     "data": {
      "text/plain": [
       "{'query': 'javier milei news',\n",
       " 'follow_up_questions': None,\n",
       " 'answer': None,\n",
       " 'images': [],\n",
       " 'results': [{'url': 'https://www.thesunchronicle.com/news/nation_world/venezuela-opposition-leader-recognized-by-us-as-election-victor-embarks-on-latin-america-tour/article_d1455eff-b811-58c3-b575-0497812c8b73.html',\n",
       "   'title': 'Venezuela opposition leader recognized by US as election victor embarks on Latin America tour - The Sun Chronicle',\n",
       "   'score': 0.7817479,\n",
       "   'published_date': 'Sat, 04 Jan 2025 15:07:33 GMT',\n",
       "   'content': \"Venezuela's opposition leader Edmundo Gonzalez Urrutia, center right, and Argentine President Javier Milei wave to supporters from the government house in Buenos Aires, Argentina, Saturday, Jan. 4, 2025. Venezuela's opposition leader Edmundo Gonzalez Urrutia, center right, and Argentine President Javier Milei hold hands from the government house balcony in Buenos Aires, Argentina, Saturday, Jan. 4, 2025. Venezuela's opposition leader Edmundo Gonzalez Urrutia, center right, and Argentine President Javier Milei wave to supporters from the government house in Buenos Aires, Argentina, Saturday, Jan. 4, 2025. Venezuela's opposition leader Edmundo Gonzalez Urrutia, center right, and Argentine President Javier Milei hold hands from the government house balcony in Buenos Aires, Argentina, Saturday, Jan. 4, 2025.\"},\n",
       "  {'url': 'https://www.thesunchronicle.com/business/venezuela-opposition-leader-recognized-by-us-as-election-victor-embarks-on-international-tour/article_d1455eff-b811-58c3-b575-0497812c8b73.html',\n",
       "   'title': 'Venezuela opposition leader recognized by US as election victor embarks on international tour - The Sun Chronicle',\n",
       "   'score': 0.7817479,\n",
       "   'published_date': 'Sat, 04 Jan 2025 17:43:33 GMT',\n",
       "   'content': \"Venezuela's opposition leader Edmundo Gonzalez Urrutia, center right, and Argentine President Javier Milei wave to supporters from the government house in Buenos Aires, Argentina, Saturday, Jan. 4, 2025. Venezuela's opposition leader Edmundo Gonzalez Urrutia, center right, and Argentine President Javier Milei hold hands from the government house balcony in Buenos Aires, Argentina, Saturday, Jan. 4, 2025. Venezuela's opposition leader Edmundo Gonzalez Urrutia, center right, and Argentine President Javier Milei wave to supporters from the government house in Buenos Aires, Argentina, Saturday, Jan. 4, 2025. Venezuela's opposition leader Edmundo Gonzalez Urrutia, center right, and Argentine President Javier Milei hold hands from the government house balcony in Buenos Aires, Argentina, Saturday, Jan. 4, 2025.\"},\n",
       "  {'url': 'https://www.thesunchronicle.com/news/nation_world/venezuela-opposition-leader-recognized-by-us-as-election-victor-embarks-on-international-tour/article_d1455eff-b811-58c3-b575-0497812c8b73.html',\n",
       "   'title': 'Venezuela opposition leader recognized by US as election victor embarks on international tour - The Sun Chronicle',\n",
       "   'score': 0.7817479,\n",
       "   'published_date': 'Sat, 04 Jan 2025 18:17:37 GMT',\n",
       "   'content': \"Venezuela's opposition leader Edmundo Gonzalez Urrutia, center right, and Argentine President Javier Milei wave to supporters from the government house in Buenos Aires, Argentina, Saturday, Jan. 4, 2025. Venezuela's opposition leader Edmundo Gonzalez Urrutia, center right, and Argentine President Javier Milei hold hands from the government house balcony in Buenos Aires, Argentina, Saturday, Jan. 4, 2025. Venezuela's opposition leader Edmundo Gonzalez Urrutia, center right, and Argentine President Javier Milei wave to supporters from the government house in Buenos Aires, Argentina, Saturday, Jan. 4, 2025. Venezuela's opposition leader Edmundo Gonzalez Urrutia, center right, and Argentine President Javier Milei hold hands from the government house balcony in Buenos Aires, Argentina, Saturday, Jan. 4, 2025.\"},\n",
       "  {'url': 'https://www.batimes.com.ar/news/economy/milei-scores-win-with-us1-billion-repo-from-five-top-banks.phtml',\n",
       "   'title': 'Milei scores win with US$1-billion repo from five top banks - Buenos Aires Times',\n",
       "   'score': 0.77364457,\n",
       "   'published_date': 'Sun, 05 Jan 2025 12:47:50 GMT',\n",
       "   'content': 'Milei scores win with US$1-billion repo from five top banks | Buenos Aires Times Argentina unveiled a US$1-billion repurchase agreement with five international lenders that will help replenish foreign reserves at its Central Bank, a key victory for President Javier Milei as he works to stabilise South America’s second-largest economy. Argentina’s Central Bank said it received offers for US$2.85 billion, and that it would pay the secure overnight financing rate plus a spread of 4.75 percent\\xa0on the repo line. In Argentina, former president Mauricio Macri’s administration took on repo loans with international banks to raise billions of dollars. Milei and Economy Minister Luis Caputo have said they expect to reach a deal with the IMF within the first four months of this year and that it could include fresh funding that goes beyond the previous programme’s financing.'},\n",
       "  {'url': 'https://batimes.com.ar/news/economy/milei-scores-win-with-us1-billion-repo-from-five-top-banks.phtml',\n",
       "   'title': 'Milei scores win with US$1-billion repo from five top banks - Buenos Aires Times',\n",
       "   'score': 0.77364457,\n",
       "   'published_date': 'Sun, 05 Jan 2025 12:47:50 GMT',\n",
       "   'content': 'Milei scores win with US$1-billion repo from five top banks | Buenos Aires Times Argentina unveiled a US$1-billion repurchase agreement with five international lenders that will help replenish foreign reserves at its Central Bank, a key victory for President Javier Milei as he works to stabilise South America’s second-largest economy. Argentina’s Central Bank said it received offers for US$2.85 billion, and that it would pay the secure overnight financing rate plus a spread of 4.75 percent\\xa0on the repo line. In Argentina, former president Mauricio Macri’s administration took on repo loans with international banks to raise billions of dollars. Milei and Economy Minister Luis Caputo have said they expect to reach a deal with the IMF within the first four months of this year and that it could include fresh funding that goes beyond the previous programme’s financing.'}],\n",
       " 'response_time': 0.41}"
      ]
     },
     "execution_count": 73,
     "metadata": {},
     "output_type": "execute_result"
    }
   ],
   "source": [
    "tavily_client.search(\"javier milei news\", days=7,\n",
    "                     topic=\"news\")"
   ]
  },
  {
   "cell_type": "markdown",
   "metadata": {},
   "source": [
    "___________"
   ]
  },
  {
   "cell_type": "code",
   "execution_count": 26,
   "metadata": {},
   "outputs": [
    {
     "name": "stdout",
     "output_type": "stream",
     "text": [
      "0 dog\n",
      "1 cat\n"
     ]
    }
   ],
   "source": [
    "for i, num in enumerate([\"dog\", \"cat\"]):\n",
    "    \n",
    "    print(i, num)"
   ]
  },
  {
   "cell_type": "code",
   "execution_count": 45,
   "metadata": {},
   "outputs": [],
   "source": [
    "def tavily_search_sync(search_queries:List[str], tavily_topics:List[str], tavily_days=List[Union[str, None]]):\n",
    "    \"\"\"\n",
    "    \"\"\"\n",
    "    search_docs = []\n",
    "\n",
    "    \n",
    "    for ix, query in enumerate(search_queries):\n",
    "        \n",
    "        # print(query)\n",
    "        if tavily_topics[ix] == \"news\":\n",
    "            \n",
    "            # print(\"gonna search \", tavily_topics[ix])\n",
    "            result = tavily_client.search(  \n",
    "                query,\n",
    "                days=tavily_days[ix], #always 7 (for now)\n",
    "                topic=\"news\", \n",
    "                max_results=1 #todo: ---> DECIDE THE NUMBER OF RESULTS\n",
    "                # include_raw_content=True,\n",
    "               \n",
    "            )\n",
    "        else:\n",
    "            result = tavily_client.search(  \n",
    "                query,\n",
    "                topic=\"general\", \n",
    "                max_results=1 #todo: ---> DECIDE THE NUMBER OF RESULTS\n",
    "                # include_raw_content=True,\n",
    "               \n",
    "            )\n",
    "            \n",
    "        search_docs.append(result)\n",
    "\n",
    "    return search_docs\n"
   ]
  },
  {
   "cell_type": "code",
   "execution_count": 33,
   "metadata": {},
   "outputs": [
    {
     "data": {
      "text/plain": [
       "{'query': 'last updates new orleans attack',\n",
       " 'follow_up_questions': None,\n",
       " 'answer': None,\n",
       " 'images': [],\n",
       " 'results': [{'url': 'https://www.theguardian.com/us-news/live/2025/jan/03/new-orleans-truck-attack-latest-updates',\n",
       "   'title': 'New Orleans truck attack: investigations continue into suspect’s path to radicalization – latest updates - The Guardian US',\n",
       "   'score': 0.8055255,\n",
       "   'published_date': 'Fri, 03 Jan 2025 12:03:50 GMT',\n",
       "   'content': 'New Orleans truck attack: investigations continue into suspect’s path to radicalization – latest updates | New Orleans truck attack | The Guardian US edition View all News View all Opinion The Guardian view View all Sport View all Culture View all Lifestyle The Guardian app New Orleans truck attack New Orleans truck attack: investigations continue into suspect’s path to radicalization – latest updates This is the Guardian’s latest blog on the developments after the deadly truck attack in New Orleans during the early hours of New Year’s Day. Authorities are continuing to investigate the path to radicalization of the suspect, Shamsud-Din Jabbar, a 42-year-old Texas native who once served in Afghanistan. New Orleans truck attack Most viewed Most viewed'}],\n",
       " 'response_time': 0.32}"
      ]
     },
     "execution_count": 33,
     "metadata": {},
     "output_type": "execute_result"
    }
   ],
   "source": [
    "tavily_client.search(  \n",
    "                \"last updates new orleans attack\",\n",
    "                days=7, #always 7 (for now)\n",
    "                topic=\"news\", \n",
    "                max_results=1)"
   ]
  },
  {
   "cell_type": "code",
   "execution_count": 79,
   "metadata": {},
   "outputs": [],
   "source": [
    "response = tavily_search_sync([\"last updates new orleans attack\", \"tesla news\"], [\"news\", \"news\"], [7, 7])"
   ]
  },
  {
   "cell_type": "code",
   "execution_count": 80,
   "metadata": {},
   "outputs": [
    {
     "name": "stdout",
     "output_type": "stream",
     "text": [
      "halo\n"
     ]
    }
   ],
   "source": [
    "result = deduplicate_and_format_sources(response, max_tokens_per_source=)"
   ]
  },
  {
   "cell_type": "code",
   "execution_count": 46,
   "metadata": {},
   "outputs": [
    {
     "data": {
      "text/plain": [
       "\"Sources:\\n\\nSource New Orleans truck attack: investigations continue into suspect’s path to radicalization – latest updates - The Guardian US:\\n===\\nURL: https://www.theguardian.com/us-news/live/2025/jan/03/new-orleans-truck-attack-latest-updates\\n===\\nMost relevant content from source: New Orleans truck attack: investigations continue into suspect’s path to radicalization – latest updates | New Orleans truck attack | The Guardian US edition View all News View all Opinion The Guardian view View all Sport View all Culture View all Lifestyle The Guardian app New Orleans truck attack New Orleans truck attack: investigations continue into suspect’s path to radicalization – latest updates This is the Guardian’s latest blog on the developments after the deadly truck attack in New Orleans during the early hours of New Year’s Day. Authorities are continuing to investigate the path to radicalization of the suspect, Shamsud-Din Jabbar, a 42-year-old Texas native who once served in Afghanistan. New Orleans truck attack Most viewed Most viewed\\n===\\nFull source content limited to 10000 tokens: \\n\\nSource DC History Center: Home:\\n===\\nURL: https://dchistory.org/\\n===\\nMost relevant content from source: The DC History Center is a 501(c)3 educational nonprofit that deepens understanding of our city's past to connect, empower, and inspire.\\n===\\nFull source content limited to 10000 tokens:\""
      ]
     },
     "execution_count": 46,
     "metadata": {},
     "output_type": "execute_result"
    }
   ],
   "source": [
    "result"
   ]
  },
  {
   "cell_type": "code",
   "execution_count": 48,
   "metadata": {},
   "outputs": [],
   "source": [
    "from langchain_core.documents.base import Document"
   ]
  },
  {
   "cell_type": "code",
   "execution_count": 51,
   "metadata": {},
   "outputs": [
    {
     "data": {
      "text/plain": [
       "Document(metadata={'source': 'Tavily Web Search'}, page_content=\"Sources:\\n\\nSource New Orleans truck attack: investigations continue into suspect’s path to radicalization – latest updates - The Guardian US:\\n===\\nURL: https://www.theguardian.com/us-news/live/2025/jan/03/new-orleans-truck-attack-latest-updates\\n===\\nMost relevant content from source: New Orleans truck attack: investigations continue into suspect’s path to radicalization – latest updates | New Orleans truck attack | The Guardian US edition View all News View all Opinion The Guardian view View all Sport View all Culture View all Lifestyle The Guardian app New Orleans truck attack New Orleans truck attack: investigations continue into suspect’s path to radicalization – latest updates This is the Guardian’s latest blog on the developments after the deadly truck attack in New Orleans during the early hours of New Year’s Day. Authorities are continuing to investigate the path to radicalization of the suspect, Shamsud-Din Jabbar, a 42-year-old Texas native who once served in Afghanistan. New Orleans truck attack Most viewed Most viewed\\n===\\nFull source content limited to 10000 tokens: \\n\\nSource DC History Center: Home:\\n===\\nURL: https://dchistory.org/\\n===\\nMost relevant content from source: The DC History Center is a 501(c)3 educational nonprofit that deepens understanding of our city's past to connect, empower, and inspire.\\n===\\nFull source content limited to 10000 tokens:\")"
      ]
     },
     "execution_count": 51,
     "metadata": {},
     "output_type": "execute_result"
    }
   ],
   "source": [
    "Document(page_content=result,\n",
    "                           \n",
    "                        metadata={\"source\": \"Tavily Web Search\"} )\n",
    "    "
   ]
  },
  {
   "cell_type": "code",
   "execution_count": 44,
   "metadata": {},
   "outputs": [
    {
     "data": {
      "text/plain": [
       "[{'query': 'last updates new orleans attack',\n",
       "  'follow_up_questions': None,\n",
       "  'answer': None,\n",
       "  'images': [],\n",
       "  'results': [{'url': 'https://www.theguardian.com/us-news/live/2025/jan/03/new-orleans-truck-attack-latest-updates',\n",
       "    'title': 'New Orleans truck attack: investigations continue into suspect’s path to radicalization – latest updates - The Guardian US',\n",
       "    'score': 0.8055255,\n",
       "    'published_date': 'Fri, 03 Jan 2025 12:03:50 GMT',\n",
       "    'content': 'New Orleans truck attack: investigations continue into suspect’s path to radicalization – latest updates | New Orleans truck attack | The Guardian US edition View all News View all Opinion The Guardian view View all Sport View all Culture View all Lifestyle The Guardian app New Orleans truck attack New Orleans truck attack: investigations continue into suspect’s path to radicalization – latest updates This is the Guardian’s latest blog on the developments after the deadly truck attack in New Orleans during the early hours of New Year’s Day. Authorities are continuing to investigate the path to radicalization of the suspect, Shamsud-Din Jabbar, a 42-year-old Texas native who once served in Afghanistan. New Orleans truck attack Most viewed Most viewed'}],\n",
       "  'response_time': 0.31},\n",
       " {'query': 'washington d.c history',\n",
       "  'follow_up_questions': None,\n",
       "  'answer': None,\n",
       "  'images': [],\n",
       "  'results': [{'title': 'DC History Center: Home',\n",
       "    'url': 'https://dchistory.org/',\n",
       "    'content': \"The DC History Center is a 501(c)3 educational nonprofit that deepens understanding of our city's past to connect, empower, and inspire.\",\n",
       "    'score': 0.7316155,\n",
       "    'raw_content': None}],\n",
       "  'response_time': 2.61}]"
      ]
     },
     "execution_count": 44,
     "metadata": {},
     "output_type": "execute_result"
    }
   ],
   "source": [
    "response"
   ]
  },
  {
   "cell_type": "code",
   "execution_count": 37,
   "metadata": {},
   "outputs": [],
   "source": [
    "\n",
    "def deduplicate_and_format_sources(search_response, max_tokens_per_source, include_raw_content=True):\n",
    "    \"\"\"\n",
    "    Takes either a single search response or list of responses from Tavily API and formats them.\n",
    "    Limits the raw_content to approximately max_tokens_per_source.\n",
    "    include_raw_content specifies whether to include the raw_content from Tavily in the formatted string.\n",
    "    \n",
    "    Args:\n",
    "        search_response: Either:\n",
    "            - A dict with a 'results' key containing a list of search results\n",
    "            - A list of dicts, each containing search results\n",
    "            \n",
    "    Returns:\n",
    "        str: Formatted string with deduplicated sources\n",
    "    \"\"\"\n",
    "    # Convert input to list of results\n",
    "    if isinstance(search_response, dict):\n",
    "        # sources_list = search_response['results']\n",
    "        sources_list = search_response.get('results', [])\n",
    "        \n",
    "    elif isinstance(search_response, list):\n",
    "        sources_list = []\n",
    "        for response in search_response:\n",
    "            if isinstance(response, dict) and 'results' in response:\n",
    "                # sources_list.extend(response['results'])\n",
    "                sources_list.extend(response.get('results', []))\n",
    "            else:\n",
    "                sources_list.extend(response)\n",
    "    else:\n",
    "        raise ValueError(\"Input must be either a dict with 'results' or a list of search results\")\n",
    "    \n",
    "    # Deduplicate by URL\n",
    "    unique_sources = {}\n",
    "    for source in sources_list:\n",
    "        url = source.get('url')\n",
    "        # if source['url'] not in unique_sources:\n",
    "        #     unique_sources[source['url']] = source\n",
    "        if url and url not in unique_sources:\n",
    "            unique_sources[url] = source\n",
    "    \n",
    "    # Format output\n",
    "    formatted_text = \"Sources:\\n\\n\"\n",
    "    for i, source in enumerate(unique_sources.values(), 1):\n",
    "        formatted_text += f\"Source {source['title']}:\\n===\\n\"\n",
    "        formatted_text += f\"URL: {source['url']}\\n===\\n\"\n",
    "        formatted_text += f\"Most relevant content from source: {source['content']}\\n===\\n\"\n",
    "        if include_raw_content:\n",
    "            # Using rough estimate of 4 characters per token\n",
    "            char_limit = max_tokens_per_source * 4\n",
    "            # Handle None raw_content\n",
    "            raw_content = source.get('raw_content', '')\n",
    "            if raw_content is None:\n",
    "                raw_content = ''\n",
    "                print(f\"Warning: No raw_content found for source {source['url']}\")\n",
    "            if len(raw_content) > char_limit:\n",
    "                raw_content = raw_content[:char_limit] + \"... [truncated]\"\n",
    "            formatted_text += f\"Full source content limited to {max_tokens_per_source} tokens: {raw_content}\\n\\n\"\n",
    "                \n",
    "    return formatted_text.strip()\n",
    "\n"
   ]
  },
  {
   "cell_type": "code",
   "execution_count": null,
   "metadata": {},
   "outputs": [],
   "source": [
    "deduplicate_and_format_sources()"
   ]
  },
  {
   "cell_type": "code",
   "execution_count": null,
   "metadata": {},
   "outputs": [],
   "source": []
  },
  {
   "cell_type": "code",
   "execution_count": null,
   "metadata": {},
   "outputs": [],
   "source": []
  },
  {
   "cell_type": "code",
   "execution_count": 52,
   "metadata": {},
   "outputs": [],
   "source": [
    "def search_web(state):\n",
    "    \"\"\" Web search based based on the question.\"\"\"\n",
    "    \n",
    "    # Get search_queries_params from state (which includes lists of queries, tavily_topic, and tavily_days)\n",
    "     \n",
    "    search_queries_params = state[\"search_queries_params\"]\n",
    "    n_queries = search_queries_params.n_queries  # Number of queries to generate\n",
    "    queries = search_queries_params.queries  # List of queries\n",
    "    tavily_topics = search_queries_params.tavily_topic  # List of topics ('news' or 'general')\n",
    "    tavily_days = search_queries_params.tavily_days  # List of days for limiting search (or None)\n",
    "\n",
    "    print(f\"gonna generate {n_queries} queries\")\n",
    "    # Check if lengths of queries, tavily_topics, and tavily_days are equal\n",
    "    if not (n_queries == len(queries) == len(tavily_topics) == len(tavily_days)):\n",
    "        raise ValueError(\"The lengths of queries, tavily_topics, and tavily_days must be equal.\")\n",
    "    \n",
    "    # Web search using async function with corresponding parameters\n",
    "    # for query, topic, days in zip(queries, tavily_topics, tavily_days):\n",
    "    #     search_doc = tavily_search_sync([query], topic, days)  # Replace with synchronous function\n",
    "    #     search_docs.extend(search_doc)  # Add results to the overall list\n",
    "\n",
    "    response = tavily_search_sync(search_queries=queries, tavily_topics=tavily_topics, tavily_days=tavily_days)\n",
    "    \n",
    "    \n",
    "    # Deduplicate and format sources                                             #1000 -- check annotations whasap\n",
    "    source_str = deduplicate_and_format_sources(response, max_tokens_per_source=5000, include_raw_content=True)\n",
    "\n",
    "    web_results = Document(page_content=source_str,\n",
    "                           \n",
    "                        metadata={\"source\": \"Tavily Web Search\"} )\n",
    "    \n",
    "    #we'll also add to the vectorstore the websearch results so next time it won't need to run web search again for specific questions\n",
    "    vectorstore.add_documents([web_results])\n",
    "    \n",
    "    return {\"documents\": web_results.page_content}"
   ]
  },
  {
   "cell_type": "markdown",
   "metadata": {},
   "source": []
  }
 ],
 "metadata": {
  "kernelspec": {
   "display_name": "ai_curator",
   "language": "python",
   "name": "python3"
  },
  "language_info": {
   "codemirror_mode": {
    "name": "ipython",
    "version": 3
   },
   "file_extension": ".py",
   "mimetype": "text/x-python",
   "name": "python",
   "nbconvert_exporter": "python",
   "pygments_lexer": "ipython3",
   "version": "3.11.9"
  }
 },
 "nbformat": 4,
 "nbformat_minor": 2
}
