{
 "cells": [
  {
   "cell_type": "markdown",
   "metadata": {},
   "source": [
    "Testing the graph chatbot"
   ]
  },
  {
   "cell_type": "code",
   "execution_count": 1,
   "metadata": {},
   "outputs": [
    {
     "name": "stderr",
     "output_type": "stream",
     "text": [
      "USER_AGENT environment variable not set, consider setting it to identify your requests.\n"
     ]
    },
    {
     "ename": "ImportError",
     "evalue": "cannot import name 'thread' from 'utils.chatbot_graph' (c:\\Users\\pablo\\Desktop\\P - Proyectos en Curso\\ai-curated-articles\\agent\\my-app\\app\\article-prep-agent\\v2\\implementations\\local_audio_chat_demo\\utils\\chatbot_graph.py)",
     "output_type": "error",
     "traceback": [
      "\u001b[1;31m---------------------------------------------------------------------------\u001b[0m",
      "\u001b[1;31mImportError\u001b[0m                               Traceback (most recent call last)",
      "Cell \u001b[1;32mIn[1], line 1\u001b[0m\n\u001b[1;32m----> 1\u001b[0m \u001b[38;5;28;01mfrom\u001b[39;00m \u001b[38;5;21;01mutils\u001b[39;00m\u001b[38;5;21;01m.\u001b[39;00m\u001b[38;5;21;01mchatbot_graph\u001b[39;00m \u001b[38;5;28;01mimport\u001b[39;00m app, thread\n",
      "\u001b[1;31mImportError\u001b[0m: cannot import name 'thread' from 'utils.chatbot_graph' (c:\\Users\\pablo\\Desktop\\P - Proyectos en Curso\\ai-curated-articles\\agent\\my-app\\app\\article-prep-agent\\v2\\implementations\\local_audio_chat_demo\\utils\\chatbot_graph.py)"
     ]
    }
   ],
   "source": [
    "from utils.chatbot_graph import app"
   ]
  },
  {
   "cell_type": "code",
   "execution_count": 2,
   "metadata": {},
   "outputs": [
    {
     "data": {
      "text/plain": [
       "\"The relations between Venezuela and Spain are currently strained. Tensions have increased due to Venezuela's arrest of an Argentine officer, which has also affected Spain because of previous similar incidents involving Spanish citizens. This situation is further complicated by Spain's recognition of an opposition candidate in Venezuela, which the Venezuelan government sees as interference. Historically, their relationship has been complex, often influenced by differing political ideologies.\""
      ]
     },
     "execution_count": 2,
     "metadata": {},
     "output_type": "execute_result"
    }
   ],
   "source": [
    "app.invoke({\"question\":\"current relations between Venezuela and Spain\"}, thread)[\"generation\"]"
   ]
  },
  {
   "cell_type": "markdown",
   "metadata": {},
   "source": [
    "## Tweaking `chatbot_graph.py`"
   ]
  },
  {
   "cell_type": "markdown",
   "metadata": {},
   "source": [
    "_______________________________"
   ]
  },
  {
   "cell_type": "code",
   "execution_count": 58,
   "metadata": {},
   "outputs": [
    {
     "data": {
      "text/plain": [
       "<langgraph.graph.state.CompiledStateGraph at 0x1782f300910>"
      ]
     },
     "execution_count": 58,
     "metadata": {},
     "output_type": "execute_result"
    }
   ],
   "source": [
    "wa = StateGraph(GraphState)\n",
    "\n",
    "# Add a node (action) to the graph\n",
    "wa.add_node(\"search_web\", search_web)\n",
    "\n",
    "# Set the entry point for the graph (optional, but typically useful for defining the start)\n",
    "wa.set_entry_point(\"search_web\")\n",
    "\n",
    "# Add an edge from the \"search_web\" node to the END node\n",
    "wa.add_edge(\"search_web\", END)\n",
    "\n",
    "# Compile the graph\n",
    "wa.compile()"
   ]
  },
  {
   "cell_type": "code",
   "execution_count": 85,
   "metadata": {},
   "outputs": [],
   "source": [
    "from langgraph.constants import Send"
   ]
  },
  {
   "cell_type": "code",
   "execution_count": 86,
   "metadata": {},
   "outputs": [],
   "source": [
    "import logging"
   ]
  },
  {
   "cell_type": "code",
   "execution_count": 3,
   "metadata": {},
   "outputs": [],
   "source": [
    "# vectorstore.save_local(\"vectors\")"
   ]
  },
  {
   "cell_type": "code",
   "execution_count": 1,
   "metadata": {},
   "outputs": [],
   "source": [
    "from datetime import datetime"
   ]
  },
  {
   "cell_type": "code",
   "execution_count": 25,
   "metadata": {},
   "outputs": [
    {
     "data": {
      "text/plain": [
       "<langgraph.graph.state.StateGraph at 0x189c0185250>"
      ]
     },
     "execution_count": 25,
     "metadata": {},
     "output_type": "execute_result"
    }
   ],
   "source": [
    "from langchain.text_splitter import RecursiveCharacterTextSplitter\n",
    "from langchain_community.document_loaders import WebBaseLoader\n",
    "from langchain_community.vectorstores import Chroma\n",
    "from langchain_community.embeddings.fastembed import FastEmbedEmbeddings\n",
    "from langchain_openai import OpenAIEmbeddings, ChatOpenAI\n",
    "from langchain_chroma import Chroma\n",
    "from langsmith import traceable\n",
    "from langchain_community.tools.tavily_search import TavilySearchResults\n",
    "from typing_extensions import TypedDict\n",
    "from typing import List\n",
    "import os\n",
    "from langchain_community.document_loaders import UnstructuredMarkdownLoader\n",
    "import json\n",
    "from langchain.schema import Document\n",
    "from langgraph.graph import END, StateGraph\n",
    "from tavily import TavilyClient, AsyncTavilyClient\n",
    "# tavily_async_client = AsyncTavilyClient()\n",
    "import asyncio\n",
    "from pydantic import BaseModel, Field\n",
    "from typing import Union\n",
    "tavily_client = TavilyClient()\n",
    "\n",
    "web_search_tool = TavilySearchResults(k=3)\n",
    "\n",
    "### State\n",
    "class SearchQueriesParams(BaseModel):\n",
    "    n_queries : int=Field(description=\"Number of queries to generate\")\n",
    "    \n",
    "    queries: List[str] = Field(\n",
    "        description=\"A list of strings representing the search queries to be executed.\",\n",
    "    )\n",
    "    tavily_days: List[Union[int, None]] = Field(\n",
    "        description=\"A list of integers representing the number of days to limit search results for each query (e.g., 7 for last week), or None for no time restriction. Each value corresponds to a query in the 'queries' list.\",\n",
    "    )\n",
    "    tavily_topic: List[str] = Field(\n",
    "        description=\"A list of strings indicating the type of search for each query: 'news' for time-sensitive queries or 'general' for unrestricted searches. Each value corresponds to a query in the 'queries' list.\",\n",
    "    )\n",
    "\n",
    "\n",
    "#we'll reference to this object very often to add new docs...etc\n",
    "    \n",
    "class GraphState(TypedDict):\n",
    "    news_summary : str\n",
    "    question : str\n",
    "    question_type : Union[str, str]\n",
    "    generation : str\n",
    "    web_search : Union[str, str] \n",
    "    search_queries_params : SearchQueriesParams\n",
    "    documents : str #the concatenated list of documents text content (or search results)\n",
    "    decission : str\n",
    "    feedback : Union[None, str]\n",
    "    iterations:int\n",
    "\n",
    "\n",
    "# Check if the directory and files are readable\n",
    "directory = './rag_docs'\n",
    "# print(os.access(directory, os.R_OK))  # Checks if the directory is readable\n",
    "os.chmod('./rag_docs', 0o755)\n",
    "\n",
    "\n",
    "markdown_folder_path = \"./rag_docs\"  # Set the path to your folder\n",
    "documents = []\n",
    "\n",
    "# Iterate over all .md files in the directory\n",
    "for file in os.listdir(markdown_folder_path):\n",
    "    if file.endswith('.md'):\n",
    "        markdown_path = os.path.join(markdown_folder_path, file)                     #=fast\n",
    "        loader = UnstructuredMarkdownLoader(markdown_path, mode=\"single\", strategy=\"precise\")\n",
    "        documents.extend(loader.load())  # Add loaded documents to the list\n",
    "\n",
    "text_splitter = RecursiveCharacterTextSplitter(\n",
    "    chunk_size=1200, chunk_overlap=100, add_start_index=True #starting char pos.\n",
    "    #size of characters for each chunk\n",
    "    #2nd param: will let us have a little portion of the prev. chunk\n",
    "    # so in case the key info is in that chunk, we can have a way to get those prev chars if needed \n",
    "    \n",
    "    #\n",
    ")\n",
    "all_splits = text_splitter.split_documents(documents)\n",
    "\n",
    "#the so-called chroma database\n",
    "local_embeddings = OpenAIEmbeddings(model=\"text-embedding-3-large\")\n",
    "persist_dir = \"./chroma_db\"\n",
    "os.makedirs(persist_dir, exist_ok=True)\n",
    "\n",
    "vectorstore = Chroma.from_documents(documents=all_splits, embedding=local_embeddings,\n",
    "                                    persist_directory=persist_dir)\n",
    "\n",
    "\n",
    "retriever = vectorstore.as_retriever(search_type=\"similarity\", search_kwargs={\"k\": 3},\n",
    "                                    )\n",
    "\n",
    "\n",
    "llm = ChatOpenAI(model=\"gpt-4o\", temperature=0) \n",
    "\n",
    "llm_json = ChatOpenAI(\n",
    "        model=\"gpt-4o\",\n",
    "        temperature = 0,\n",
    "        model_kwargs={\"response_format\": {\"type\": \"json_object\"}})\n",
    "\n",
    "\n",
    "#---------------------\n",
    "#prompts\n",
    "\n",
    "\n",
    "\n",
    "# docs_answer_generation_instructions = \"\"\"\n",
    "#  You are an assistant for question-answering tasks inside a phone call conversation.\n",
    " \n",
    " \n",
    " \n",
    "#     Use the following pieces of retrieved context to answer the question. If you don't know the answer, just say that you don't know. \n",
    "#     Keep the answer concise optimized to reduce latency, in a spoken language style.\n",
    "    \n",
    "#     Question: {question} \n",
    "#     Context: {context} \n",
    "    \n",
    "#     You must also keep in mind that you're answering questions related with the news of the week, so you must always respond properly connecting the answer with the spoken topics, for which i'll attach below as a brief summary.\n",
    "# \"\"\"\n",
    "\n",
    "#TODO: we are trying to address the case where it gets an input question which is missleading\n",
    "docs_answer_generation_instructions = \"\"\"\n",
    "You are an assistant for question-answering tasks inside a phone call conversation.\n",
    "\n",
    "Use the following pieces of retrieved context to answer the question. If you don't know the answer, just say that you don't know. Keep the answer concise and optimized to reduce latency, in a spoken language style.\n",
    "\n",
    "If provided, there will be a separate message with feedback about what to improve from the previous generation attempt. Use this feedback to enhance your response while maintaining grounding in the provided context.\n",
    "\n",
    "Additionally, evaluate whether the provided context contradicts, corrects, or invalidates the user's question. If you are 100% certain that the question is misleading, incorrect, or based on faulty assumptions, use the context to explain why the question is problematic and provide the correct information. In such case, justify your answer with explicit references to the context. \n",
    "\n",
    "You must also keep in mind that you're answering questions related to either the news of the week, current issues, or historical questions, so always respond appropriately by connecting your answer to the spoken topics, which I'll attach below as a brief summary.\n",
    "\n",
    "Question: {question}\n",
    "Context: {context}\n",
    "\n",
    "Remember: \n",
    "- Only correct or challenge the user's question when the context provides indisputable evidence to do so. Otherwise, answer normally.\n",
    "- If feedback was provided, ensure your response addresses all the improvement points while staying faithful to the context.\n",
    "\"\"\"\n",
    "\n",
    "query_writer_instructions = \"\"\"\n",
    "\n",
    "Query Writer Instructions:\n",
    "---\n",
    "Given the user's background and the question provided below, generate an appropriate number (n) of relevant queries to search on the internet in order to gather sufficient information to answer the question.\n",
    "\n",
    "If provided, there will be a separate message with feedback about why previous queries were not useful. Use this feedback to avoid similar issues and generate more effective queries.\n",
    "\n",
    "**Current Date**: {current_date}\n",
    "\n",
    "**Important Note**: A separate message includes a list of previously searched queries (`searched_queries`). Consider these queries and evaluate why they may not have been useful (e.g., irrelevant results, overly broad/narrow focus, or failure to address the question fully). Use this evaluation and any provided feedback to refine, reformulate, or supplement the queries to ensure better results. If no `searched_queries` are provided, proceed without them.\n",
    "\n",
    "**Datetime Marker Awareness**:  \n",
    "When generating queries, use datetime markers only if appropriate to the query context:  \n",
    "\n",
    "1. **Time-Sensitive or Current Events (`tavily_topic=\"news\" and tavily_days=7`)**:  \n",
    "   - **Do not include any explicit datetime markers** (e.g., \"2025\" or \"January 2025\") in the search query, as `tavily_days=7` already ensures the query focuses on recent results.  \n",
    "   - If the user's question explicitly includes time hints (e.g., \"yesterday,\" \"last week\"), calculate the corresponding date relative to **Current Date** (e.g., \"yesterday\" = `{current_date} - 1 day`) and use this date in the query.  \n",
    "   - Otherwise, avoid adding datetime markers for time-sensitive queries, as they are unnecessary and may limit search results.  \n",
    "\n",
    "2. **General or Historical Topics (`tavily_topic=\"general\" and tavily_days=None`)**:  \n",
    "   - Include datetime markers only when they clarify the query or provide precision (e.g., \"economic crisis Spain 2008\").  \n",
    "   - Avoid unnecessary datetime markers for well-known historical events (e.g., \"Battle of Lepanto\"), as the event is self-contained in history.  \n",
    "\n",
    "3. **Redundancy**: Ensure datetime markers are added only if needed for precision based on the query context and `tavily` parameters.  \n",
    "\n",
    "Failure to follow these guidelines may result in ineffective or overly narrow queries.\n",
    "\n",
    "### User Context:\n",
    "- **User's Knowledge**: The user knows basic political concepts (e.g., left-wing, right-wing) but may require simple, concise explanations of political contexts. They are familiar with global conflicts (e.g., Gaza-Israel, Ukraine-Russia) but are not an expert in political theory.\n",
    "- **User's Interest**: The user is interested in technology and AI and has high school-level science knowledge, so technical concepts can be explained with that in mind.\n",
    "- **User's Gaps in Knowledge**: The user has limited understanding of economic concepts (e.g., inflation, stock markets), so explanations related to economics should be kept simple and direct.\n",
    "- **Contextual Relevance**: Ensure that the queries are tailored to cover both current events (as presented in news) and any necessary historical background. The queries should also bridge any gaps in the user's knowledge without overwhelming them with unnecessary detail.\n",
    "\n",
    "### Query Complexity and Necessity:\n",
    "- If the question is straightforward (e.g., \"What is the capital of Spain?\"), generate a single query.\n",
    "- For more complex or multi-faceted questions, generate multiple queries to ensure all relevant aspects are covered without redundancy.\n",
    "- If feedback was provided, adjust query specificity and coverage accordingly.\n",
    "\n",
    "### Tavily-Specific Web Search Parameters:\n",
    "For each query, set the Tavily parameters as follows:\n",
    "- **tavily_topic**:  \n",
    "   - Use `\"news\"` if the query is related to time-sensitive or current events.  \n",
    "   - Use `\"general\"` for technical, historical, or non-time-sensitive topics.  \n",
    "- **tavily_days**:  \n",
    "   - Set `7` only if `tavily_topic=\"news\"`.  \n",
    "   - Set `None` if `tavily_topic=\"general\"`.\n",
    "\n",
    "---\n",
    "\n",
    "User question: {question}\n",
    "\n",
    "\n",
    "\"\"\"\n",
    "\n",
    "docs_grader_instructions = \"\"\"\n",
    "\n",
    "    You are a grader assessing relevance \n",
    "    of a retrieved document to a user question. If the document contains keywords related to the user question, \n",
    "    grade it as relevant. It does not need to be a stringent test. The goal is to filter out erroneous retrievals. \\n\n",
    "    Give a binary score 'yes' or 'no' score to indicate whether the document is relevant to the question. \\n\n",
    "    Provide the binary score as a JSON with a single key 'score' and no premable or explaination.\n",
    "\n",
    "    Here is the retrieved document: \\n\\n {document} \\n\\n\n",
    "    Here is the user question: {question}\n",
    "\"\"\"\n",
    "\n",
    "# generation_grader_instructions = \"\"\"\n",
    "# You are a grader assessing whether an answer is grounded in or supported by a set of facts. Additionally, evaluate whether the answer correctly identifies and addresses any misleading or incorrect assumptions in the user's question, based on the provided facts. In such case, set to \"yes\" in the score key of the output JSON.\n",
    "\n",
    "# Provide your assessment as a JSON with:\n",
    "# - A 'score' key with value 'yes' or 'no'\n",
    "# - If score is 'no', include a 'feedback' key with specific guidance that will be passed to the answer generation system in a separate message. The feedback should focus on:\n",
    "#   * Which claims need better support from the documents\n",
    "#   * What information was misinterpreted or omitted\n",
    "#   * How to better structure the answer for a phone conversation\n",
    "#   * What aspects need to be explained more concisely\n",
    "#   * How to better integrate the weekly news context\n",
    "\n",
    "# The feedback will be used by the docs_answer_generation system to create a new answer using the same documents.\n",
    "\n",
    "# Here are the facts:\n",
    "# \\n ------- \\n\n",
    "# {documents}\n",
    "# \\n ------- \\n\n",
    "\n",
    "# Here is the generated answer:\n",
    "# \\n ------- \\n\n",
    "# {generation}\n",
    "# \\n ------- \\n\n",
    "\n",
    "# Respond only with the JSON object, no explanation.\"\"\"\n",
    "\n",
    "generation_grader_instructions = \"\"\"\n",
    "\n",
    "You are a grader assessing whether an answer is grounded in or supported by a set of facts. Additionally, evaluate whether the answer correctly identifies and explicitly addresses any misleading or incorrect assumptions in the user's question, based on the provided facts.\n",
    "\n",
    "If the answer correctly identifies and addresses such misleading or incorrect assumptions, assign a `\"yes\"` to the `score` key, even if the user's question contains inaccuracies.\n",
    "\n",
    "For example:\n",
    "- Question: \"Who was Fernando Hitler?\"\n",
    "  * Incorrect Assumption: The name \"Fernando Hitler\" is historically inaccurate.\n",
    "  * Correct Response: Clarifies that no person named Fernando Hitler exists in historical records and offers accurate information about Adolf Hitler if relevant.\n",
    "  * Outcome: Score \"yes\" because the response correctly addresses the misleading premise.\n",
    "\n",
    "Your task:\n",
    "1. Determine whether the answer is factually grounded and addresses misleading or incorrect assumptions.\n",
    "2. If the answer successfully corrects such assumptions and provides a grounded response, score `\"yes\"`.\n",
    "3. If the answer fails, provide feedback to improve it.\n",
    "\n",
    "Provide your assessment as a JSON with:\n",
    "- A 'score' key with value 'yes' or 'no'\n",
    "- If the score is 'no', include a 'feedback' string key with specific guidance on:\n",
    "  * Identifying and addressing misleading assumptions.\n",
    "  * Correcting factual errors or omissions.\n",
    "  * Enhancing clarity and conciseness.\n",
    "  * Aligning with weekly news context if applicable.\n",
    "\n",
    "Here are the facts:\n",
    "\\n ------- \\n\n",
    "{documents}\n",
    "\\n ------- \\n\n",
    "\n",
    "Here is the generated answer:\n",
    "\\n ------- \\n\n",
    "{generation}\n",
    "\\n ------- \\n\n",
    "\n",
    "Respond only with the JSON object, no explanation.\n",
    "\n",
    "\"\"\"\n",
    "\n",
    "# answer_grader_instructions = \"\"\"\n",
    "\n",
    "# You are a grader assessing whether an answer is useful and effectively resolves the user's question. Additionally, evaluate whether the answer appropriately challenges and corrects any misleading or incorrect assumptions in the question, if the context justifies such corrections.\n",
    "\n",
    "# If the answer correctly identifies and addresses such misleading assumptions, assign a `\"yes\"` to the `score` key, even if the user's question contains inaccuracies.\n",
    "\n",
    "# For example:\n",
    "# - Question: \"Who was Fernando Hitler?\"\n",
    "#   * Incorrect Assumption: The name \"Fernando Hitler\" is historically inaccurate.\n",
    "#   * Correct Response: Clarifies that no individual named Fernando Hitler exists in historical records, redirecting the user to relevant facts about Adolf Hitler if applicable.\n",
    "#   * Outcome: Score \"yes\" because the response correctly addresses the misleading premise.\n",
    "\n",
    "# Your task:\n",
    "# 1. Evaluate whether the answer resolves the user's question and identifies misleading assumptions when applicable.\n",
    "# 2. If the answer successfully corrects these issues and is useful, score `\"yes\"`.\n",
    "# 3. If the answer fails, provide feedback on how it can improve.\n",
    "\n",
    "# Provide your assessment as a JSON with:\n",
    "# - A 'score' key with value 'yes' or 'no'\n",
    "# - If the score is 'no', include a 'feedback' key focusing on:\n",
    "#   * Filling information gaps.\n",
    "#   * Suggesting better search terms or document usage.\n",
    "#   * Addressing specific misleading assumptions in the question.\n",
    "#   * Aligning with the appropriate level of technical detail for the user.\n",
    "\n",
    "# Here is the generated answer:\n",
    "# \\n ------- \\n\n",
    "# {generation}\n",
    "# \\n ------- \\n\n",
    "\n",
    "# Here is the original user question:\n",
    "# \\n ------- \\n\n",
    "# {question}\n",
    "# \\n ------- \\n\n",
    "\n",
    "# Respond only with the JSON object, no explanation.\n",
    "\n",
    "# # \"\"\"\n",
    "\n",
    "answer_grader_instructions = \"\"\"\n",
    "You are a grader assessing whether an answer is useful and effectively resolves the user's question. Additionally, evaluate whether the answer appropriately challenges and corrects any misleading or incorrect assumptions in the question, if the context justifies such corrections.\n",
    "\n",
    "If the answer correctly identifies and addresses such misleading assumptions, assign a `\"yes\"` to the `score` key, even if the user's question contains inaccuracies.\n",
    "\n",
    "For example:\n",
    "- Question: \"Who was Fernando Hitler?\"\n",
    "  * Incorrect Assumption: The name \"Fernando Hitler\" is historically inaccurate.\n",
    "  * Correct Response: Clarifies that no individual named Fernando Hitler exists in historical records, redirecting the user to relevant facts about Adolf Hitler if applicable.\n",
    "  * Outcome: Score \"yes\" because the response correctly addresses the misleading premise.\n",
    "\n",
    "Your task:\n",
    "1. Evaluate whether the answer resolves the user's question and identifies misleading assumptions when applicable.\n",
    "2. If the answer successfully corrects these issues and is useful, score `\"yes\"`.\n",
    "3. If the answer fails, provide feedback on how it can improve.\n",
    "\n",
    "### Specific Evaluation Criteria for Query Generation:\n",
    "If the user's question pertains to **time-sensitive or current events**, and:\n",
    "1. The generated queries incorrectly use explicit datetime markers (e.g., \"January 2025\") despite `tavily_days=7` and `tavily_topic=\"news\"`, assign `\"no\"` to the `score` key.\n",
    "2. If the user's question does not include any explicit temporal hints (e.g., \"yesterday\"), and the queries still include unnecessary datetime markers, this is a misuse and warrants `\"no\"`.\n",
    "3. If the answer does not appropriately tailor queries to the user's question (e.g., redundant or overly broad), assign `\"no\"`.\n",
    "\n",
    "When assigning a `\"no\"` score, provide detailed and actionable feedback under the `feedback` key to ensure the query generation improves. Your feedback should:\n",
    "- Highlight the improper use of datetime markers if applicable.\n",
    "- Suggest excluding datetime markers when `tavily_days=7` and the question lacks explicit temporal hints.\n",
    "- Emphasize aligning query parameters (e.g., `tavily_topic` and `tavily_days`) with the user's question context.\n",
    "- Recommend clearer or more precise query formulations to address the user's needs.\n",
    "\n",
    "### Additional Context:\n",
    "- **Already Searched Queries**: You will receive the list of already searched queries as a separate message below. Use this information to evaluate whether the generated queries address gaps, improve upon previous attempts, and avoid redundant or ineffective formulations.\n",
    "\n",
    "Provide your assessment as a JSON with:\n",
    "- A `score` key with value `\"yes\"` or `\"no\"`.\n",
    "- If the score is `\"no\"`, include a `feedback` key focusing on:\n",
    "  * Addressing improper datetime marker usage.\n",
    "  * Improving query clarity and relevance.\n",
    "  * Adhering to `tavily` parameter requirements.\n",
    "  * Filling gaps in information and tailoring to the user’s question.\n",
    "\n",
    "Here is the generated answer:\n",
    "\\n ------- \\n\n",
    "{generation}\n",
    "\\n ------- \\n\n",
    "\n",
    "Here is the original user question:\n",
    "\\n ------- \\n\n",
    "{question}\n",
    "\\n ------- \\n\n",
    "\n",
    "Here are the already searched queries:\n",
    "\\n ------- \\n\n",
    "{searched_queries}\n",
    "\\n ------- \\n\n",
    "\n",
    "Respond only with the JSON object, no explanation.\n",
    "\n",
    "# \"\"\"\n",
    "\n",
    "\n",
    "# answer_grader_instructions = \"\"\"\n",
    "# You are a grader assessing whether an answer is useful to resolve a question. Additionally, determine whether the answer appropriately challenges and corrects any misleading or incorrect assumptions in the question, if the provided context justifies such a correction.\n",
    "\n",
    "# Provide your assessment as a JSON with:\n",
    "# - A 'score' key with value 'yes' or 'no'\n",
    "# - If score is 'no', include a 'feedback' key that will be passed to the query generation system in a separate message. The feedback should focus on:\n",
    "#   * What specific information gaps need to be filled\n",
    "#   * What search terms might yield better results\n",
    "#   * What time periods should be considered (for Tavily parameters)\n",
    "#   * What aspects of the topic need more targeted queries\n",
    "#   * What level of technical detail is appropriate given the user profile\n",
    "\n",
    "# The feedback will be used by the query_writer system to generate new, more effective search queries.\n",
    "\n",
    "# Here is the generated answer:\n",
    "# \\n ------- \\n\n",
    "# {generation}\n",
    "# \\n ------- \\n\n",
    "\n",
    "# Here is the original user question:\n",
    "# \\n ------- \\n\n",
    "# {question}\n",
    "# \\n ------- \\n\n",
    "\n",
    "# Respond only with the JSON object, no explanation.\"\"\"\n",
    "\n",
    "#--------------- nodes\n",
    "\n",
    "@traceable\n",
    "def retrieve(state):\n",
    "    \"\"\"\n",
    "    Retrieve documents from vectorstore\n",
    "\n",
    "    Args:\n",
    "        state (dict): The current graph state\n",
    "\n",
    "    Returns:\n",
    "        state (dict): New key added to state, documents, that contains retrieved documents\n",
    "    \"\"\"\n",
    "    # print(\"---RETRIEVE---\")\n",
    "    question = state[\"question\"]\n",
    "\n",
    "    # Retrieval\n",
    "    retrieved_docs = retriever.invoke(question)\n",
    "    \n",
    "    context = ' '.join([doc.page_content for doc in retrieved_docs])\n",
    "    \n",
    "    return {\"documents\": context, \"question\": question}\n",
    "#\n",
    "\n",
    "@traceable\n",
    "def grade_documents(state):\n",
    "    \"\"\"\n",
    "    Determines whether the retrieved documents are relevant to the question\n",
    "    If any document is not relevant, we will set a flag to run web search\n",
    "\n",
    "    Args:\n",
    "        state (dict): The current graph state\n",
    "\n",
    "    Returns:\n",
    "        state (dict): Filtered out irrelevant documents and updated web_search state\n",
    "    \"\"\"\n",
    "\n",
    "    # print(\"---CHECK DOCUMENT RELEVANCE TO QUESTION---\")\n",
    "    question = state[\"question\"]\n",
    "    context = state[\"documents\"]\n",
    "    \n",
    "    \n",
    "    system_instructions = docs_grader_instructions.format(question=question, document=context)\n",
    "    messages = [\n",
    "        {\"role\": \"system\", \"content\": system_instructions},\n",
    "        # {\"role\": \"user\", \"content\": f\": {}\"}\n",
    "    ]   \n",
    "    grade = json.loads(llm_json.invoke(messages).content)[\"score\"]\n",
    "    # print(grade)\n",
    "    \n",
    "    if grade.lower() == \"yes\":\n",
    "        # print(\"---GRADE: DOCUMENT RELEVANT---\")\n",
    "        return {\"documents\": context, \"question\": question, \"web_search\": \"No\"}\n",
    "    else:\n",
    "        # print(\"---GRADE: RETRIEVED DOCUMENTS NOT RELEVANT, RUNNING WEB SEARCH INSTEAD---\")\n",
    "        return {\"documents\": context, \"question\": question, \"web_search\": \"Yes\"}\n",
    "\n",
    "\n",
    "@traceable\n",
    "def handle_trivial_question(state):\n",
    "    \"\"\"\n",
    "    Determines whether the question is trivial or irrelevant to run RAG or websearch.\n",
    "    Uses an LLM to classify the question as \"is_trivial\" or \"not_trivial\".\n",
    "\n",
    "    Args:\n",
    "        state (dict): The current graph state\n",
    "    \n",
    "    Returns:\n",
    "        state (dict): Updated state with the classification (\"is_trivial\" or \"not_trivial\").\n",
    "    \"\"\"\n",
    "    \n",
    "    question = state[\"question\"]\n",
    "    \n",
    "    # LLM prompt to classify the question as trivial or not\n",
    "    trivial_classification_instructions = \"\"\"\n",
    "    You are an AI chatbot. Classify the user's question as either \"is_trivial\" or \"not_trivial\". \n",
    "    The question is considered \"trivial\" if it is a greeting, a simple personal question (e.g., \"What's your name?\"), \n",
    "    , incomplete or missleading questions, or if it doesn't require to search for detailed information to answer.\n",
    "    If the question is a valid request for information or involves specific queries that require processing or websearch, \n",
    "    classify it as \"not_trivial\".\n",
    "    \n",
    "    Example trivial questions: \n",
    "    - \"Hello\"\n",
    "    - \"What's your name?\"\n",
    "    - \"How are you?\"\n",
    "    \n",
    "    Example non-trivial questions:\n",
    "    - \"Tell me the latest news on AI\"\n",
    "    - \"What is the capital of France?\"\n",
    "    - \"How does a neural network work?\"\n",
    "    \n",
    "    Question: {question}\n",
    "    Please respond with either \"is_trivial\" or \"not_trivial\", no preambles or explanations\n",
    "    \"\"\"\n",
    "\n",
    "    # Create the system message with the classification instructions and the question\n",
    "    system_instructions = trivial_classification_instructions.format(question=question)\n",
    "    \n",
    "    messages = [\n",
    "        {\"role\": \"system\", \"content\": system_instructions},\n",
    "        {\"role\": \"user\", \"content\": f\"Question: {question}\"}\n",
    "    ]    \n",
    "\n",
    "    # Get the classification from the LLM\n",
    "    decission = llm.invoke(messages).content.lower()\n",
    "    \n",
    "    if decission == \"is_trivial\":\n",
    "        return {\"question\": question, \"question_type\": \"is_trivial\", \"iterations\":0}\n",
    "    \n",
    "    elif decission == \"not_trivial\":\n",
    "        return {\"question\": question, \"question_type\": \"not_trivial\", \"iterations\":0}\n",
    "    \n",
    "    \n",
    "@traceable\n",
    "def answer_trivial_question(state):\n",
    "    \"\"\"\n",
    "    Handle trivial or irrelevant questions by using an LLM to generate a response.\n",
    "    \n",
    "    Args:\n",
    "        state (dict): The current graph state\n",
    "        \n",
    "    Returns:\n",
    "        state (dict): Updated state with a response to the trivial question.\n",
    "    \"\"\"\n",
    "    question = state[\"question\"]\n",
    "\n",
    "    # Trivial question generation instructions\n",
    "    # trivial_answer_generation_instructions = \"\"\"\n",
    "    # You are an AI chatbot. \n",
    "    # \"\"\"\n",
    "\n",
    "    # # Send the question and instructions to the LLM to generate a response\n",
    "    # system_instructions = trivial_answer_generation_instructions + f\"User's question: {question}\"\n",
    "\n",
    "    # messages = [\n",
    "    #     {\"role\": \"system\", \"content\": system_instructions},\n",
    "    #     {\"role\": \"user\", \"content\": f\"Question: {question}\"}\n",
    "    # ]    \n",
    "    \n",
    "    messages = [\n",
    "        {\"role\": \"system\", \"content\": \"You are an AI chatbot answering a user's question.\"},\n",
    "        {\"role\": \"user\", \"content\": f\"Question: {question}\"}\n",
    "    ]    \n",
    "\n",
    "    # Call the LLM to generate the response\n",
    "    response = llm.invoke(messages).content\n",
    "    \n",
    "    # Return the state with the generated response for trivial question\n",
    "    return {\"question\": question, \"generation\": response}\n",
    "#                                               #we put the generation key (final answer) in the state\n",
    "    \n",
    "\n",
    "@traceable\n",
    "def answer_with_docs(state):\n",
    "    \"\"\"\n",
    "    Generate answer either using RAG on retrieved documents or web search results\n",
    "\n",
    "    Args:\n",
    "        state (dict): The current graph state\n",
    "\n",
    "    Returns:\n",
    "        state (dict): New key added to state, generation, that contains LLM generation\n",
    "    \"\"\"\n",
    "    # print(\"---GENERATE---\")\n",
    "    question = state[\"question\"]\n",
    "    context = state[\"documents\"]\n",
    "    \n",
    "    feedback = state.get(\"feedback\", None)\n",
    "    \n",
    "    \n",
    "    system_instructions = docs_answer_generation_instructions.format(question=question, context=context)\n",
    "    \n",
    "    messages = [\n",
    "        {\"role\": \"system\", \"content\": system_instructions},\n",
    "        #todo: check if this additional param is necessary\n",
    "        {\"role\": \"user\", \"content\": f\": Here is the news summary shown to the user before: {state['news_summary']}\"},\n",
    "        {\"role\":\"user\", \"content\":f\"Here is some feedback (if applicable): {feedback}\"}\n",
    "    ]    \n",
    "    answer = llm.invoke(messages).content\n",
    "     \n",
    "    return {\"documents\": context, \"question\": question, \"generation\": answer}\n",
    "#\n",
    "\n",
    "@traceable\n",
    "def generate_queries(state):\n",
    "    \"\"\" Generate search queries for a report section, and set tavily_topic and tavily_days\"\"\"\n",
    "\n",
    "    \n",
    "    feedback = state.get(\"feedback\", None)\n",
    "    \n",
    "    # Generate queries and tavily params with the custom pydantic model\n",
    "    structured_llm = llm.with_structured_output(SearchQueriesParams)\n",
    "\n",
    "    #already searched queries    \n",
    "    searched_queries = state.get(\"search_queries_params\", None) #looking for already searched queries\n",
    "    \n",
    "    \n",
    "    current_datetime = datetime.now()\n",
    "\n",
    "# Format it as a string (optional, e.g., 'YYYY-MM-DD HH:MM:SS')\n",
    "    current_datetime_str = current_datetime.strftime('%Y-%m-%d %H:%M:%S')\n",
    "    \n",
    "    # Format system instructions                   #instead of number_of_queries=3, now it also decides such number\n",
    "    system_instructions = query_writer_instructions.format(question=state[\"question\"],\n",
    "                                                           current_date=current_datetime_str,\n",
    "                                                        )\n",
    "\n",
    "    print(f\"already searched queries (if applicable): {searched_queries}\")\n",
    "    \n",
    "    messages = [{\"role\": \"system\", \"content\": system_instructions},\n",
    "                {\"role\":\"user\", \"content\":f\"feedback (if applicable): {feedback}\"}]\n",
    "    \n",
    "    if searched_queries is not None:\n",
    "        messages.append({\"role\": \"user\", \"content\": f\"already searched queries (if applicable): {searched_queries}\"})\n",
    "\n",
    "\n",
    "    search_params = structured_llm.invoke(messages)\n",
    "    \n",
    "    n_queries = search_params.n_queries\n",
    "    queries = search_params.queries  # Assuming 'queries' is the result you expect from the LLM response\n",
    "    tavily_topic = search_params.tavily_topic  # LLM response for tavily_topic\n",
    "    tavily_days = search_params.tavily_days\n",
    "    \n",
    "    search_queries_params = SearchQueriesParams(\n",
    "        n_queries=n_queries,\n",
    "        queries=queries,\n",
    "        tavily_topic=tavily_topic,\n",
    "        tavily_days=tavily_days\n",
    "    )\n",
    "    \n",
    "    \n",
    "    return {\"search_queries_params\": search_queries_params}\n",
    "\n",
    "\n",
    "#TODO: we need to make all the graph either async or sync, not mixed , see https://github.com/langchain-ai/langgraph/issues/2928#issuecomment-2569915286\n",
    "\n",
    "#TODO NOTE: we have selected to get n=3 results per query call (maybe we should try setting it to 1 to reduce latency)\n",
    "#or keeping such amount to ensure it retrieves trustworthy sources\n",
    "\n",
    "def tavily_search_sync(search_queries:List[str], tavily_topic:str, tavily_days=None):\n",
    "    \"\"\"\n",
    "    Performs concurrent web searches using the Tavily API.\n",
    "\n",
    "    Args:\n",
    "        search_queries (List[SearchQuery]): List of search queries to process\n",
    "        tavily_topic (str): Type of search to perform ('news' or 'general')\n",
    "        tavily_days (int) or None: Number of days to look back for news articles (only used when tavily_topic='news')\n",
    "\n",
    "    Returns:\n",
    "        List[dict]: List of search results from Tavily API, one per query\n",
    "\n",
    "    Note:\n",
    "        For news searches, each result will include articles from the last `tavily_days` days.\n",
    "        For general searches, the time range is unrestricted.\n",
    "    \"\"\"\n",
    "    search_docs = []\n",
    "    for query in search_queries:\n",
    "        if tavily_topic == \"news\":\n",
    "            result = tavily_client.search(  # Assuming `tavily_client` is the synchronous equivalent of `tavily_async_client`\n",
    "                query,\n",
    "                max_results=3, #1 #todo: ---> DECIDE THE NUMBER OF RESULTS\n",
    "                include_raw_content=True,\n",
    "                topic=\"news\",\n",
    "                days=tavily_days\n",
    "            )\n",
    "        else:\n",
    "            result = tavily_client.search(\n",
    "                query,\n",
    "                max_results=3,#1 #todo: ---> DECIDE THE NUMBER OF RESULTS\n",
    "                include_raw_content=True,\n",
    "                topic=\"general\"\n",
    "            )\n",
    "        search_docs.append(result)\n",
    "\n",
    "    return search_docs\n",
    "\n",
    "\n",
    "def deduplicate_and_format_sources(search_response, max_tokens_per_source, include_raw_content=True):\n",
    "    \"\"\"\n",
    "    Takes either a single search response or list of responses from Tavily API and formats them.\n",
    "    Limits the raw_content to approximately max_tokens_per_source.\n",
    "    include_raw_content specifies whether to include the raw_content from Tavily in the formatted string.\n",
    "    \n",
    "    Args:\n",
    "        search_response: Either:\n",
    "            - A dict with a 'results' key containing a list of search results\n",
    "            - A list of dicts, each containing search results\n",
    "            \n",
    "    Returns:\n",
    "        str: Formatted string with deduplicated sources\n",
    "    \"\"\"\n",
    "    # Convert input to list of results\n",
    "    if isinstance(search_response, dict):\n",
    "        # sources_list = search_response['results']\n",
    "        sources_list = search_response.get('results', [])\n",
    "        \n",
    "    elif isinstance(search_response, list):\n",
    "        sources_list = []\n",
    "        for response in search_response:\n",
    "            if isinstance(response, dict) and 'results' in response:\n",
    "                # sources_list.extend(response['results'])\n",
    "                sources_list.extend(response.get('results', []))\n",
    "            else:\n",
    "                sources_list.extend(response)\n",
    "    else:\n",
    "        raise ValueError(\"Input must be either a dict with 'results' or a list of search results\")\n",
    "    \n",
    "    # Deduplicate by URL\n",
    "    unique_sources = {}\n",
    "    for source in sources_list:\n",
    "        url = source.get('url')\n",
    "        # if source['url'] not in unique_sources:\n",
    "        #     unique_sources[source['url']] = source\n",
    "        if url and url not in unique_sources:\n",
    "            unique_sources[url] = source\n",
    "    \n",
    "    # Format output\n",
    "    formatted_text = \"Sources:\\n\\n\"\n",
    "    for i, source in enumerate(unique_sources.values(), 1):\n",
    "        formatted_text += f\"Source {source['title']}:\\n===\\n\"\n",
    "        formatted_text += f\"URL: {source['url']}\\n===\\n\"\n",
    "        formatted_text += f\"Most relevant content from source: {source['content']}\\n===\\n\"\n",
    "        if include_raw_content:\n",
    "            # Using rough estimate of 4 characters per token\n",
    "            char_limit = max_tokens_per_source * 4\n",
    "            # Handle None raw_content\n",
    "            raw_content = source.get('raw_content', '')\n",
    "            if raw_content is None:\n",
    "                raw_content = ''\n",
    "                print(f\"Warning: No raw_content found for source {source['url']}\")\n",
    "            if len(raw_content) > char_limit:\n",
    "                raw_content = raw_content[:char_limit] + \"... [truncated]\"\n",
    "            formatted_text += f\"Full source content limited to {max_tokens_per_source} tokens: {raw_content}\\n\\n\"\n",
    "                \n",
    "    return formatted_text.strip()\n",
    "\n",
    "\n",
    "def search_web(state):\n",
    "    \"\"\" Web search based based on the question.\"\"\"\n",
    "    \n",
    "    # Get search_queries_params from state (which includes lists of queries, tavily_topic, and tavily_days)\n",
    "     \n",
    "    search_queries_params = state[\"search_queries_params\"]\n",
    "    n_queries = search_queries_params.n_queries  # Number of queries to generate\n",
    "    queries = search_queries_params.queries  # List of queries\n",
    "    tavily_topics = search_queries_params.tavily_topic  # List of topics ('news' or 'general')\n",
    "    tavily_days = search_queries_params.tavily_days  # List of days for limiting search (or None)\n",
    "\n",
    "    print(f\"gonna generate {n_queries} queries\")\n",
    "    # Check if lengths of queries, tavily_topics, and tavily_days are equal\n",
    "    if not (n_queries == len(queries) == len(tavily_topics) == len(tavily_days)):\n",
    "        raise ValueError(\"The lengths of queries, tavily_topics, and tavily_days must be equal.\")\n",
    "    \n",
    "    # Web search using async function with corresponding parameters\n",
    "    search_docs = []\n",
    "    for query, topic, days in zip(queries, tavily_topics, tavily_days):\n",
    "        search_doc = tavily_search_sync([query], topic, days)  # Replace with synchronous function\n",
    "        search_docs.extend(search_doc)  # Add results to the overall list\n",
    "\n",
    "    # Deduplicate and format sources\n",
    "    source_str = deduplicate_and_format_sources(search_docs, max_tokens_per_source=5000, include_raw_content=True)\n",
    "\n",
    "    web_results = Document(page_content=source_str,\n",
    "                           \n",
    "                        metadata={\"source\": \"Tavily Web Search\"} )\n",
    "    \n",
    "    #we'll also add to the vectorstore the websearch results so next time it won't need to run web search again for specific questions\n",
    "    vectorstore.add_documents([web_results])\n",
    "    \n",
    "    return {\"documents\": web_results.page_content}\n",
    "\n",
    "\n",
    "@traceable\n",
    "def grade_generation_v_documents_and_question(state):\n",
    "    \"\"\"\n",
    "    Determines whether the generated response is grounded in the document and answers the question.\n",
    "    \n",
    "    Args:\n",
    "        state (dict): The current graph state\n",
    "\n",
    "    Returns:\n",
    "        str: Decision for next node to call\n",
    "    \"\"\"\n",
    "\n",
    "    # print(\"---CHECK HALLUCINATIONS---\")\n",
    "    question = state[\"question\"]\n",
    "    context = state[\"documents\"] #it can be either the retrieved docs or the web search results\n",
    "    generation = state[\"generation\"]\n",
    "    \n",
    "    \n",
    "    n_iterations = state.get(\"iterations\",None)\n",
    "    \n",
    "    if n_iterations!=None:\n",
    "        n_iterations+=1\n",
    "    else:\n",
    "        n_iterations=1\n",
    "        \n",
    "        # force_stop = state.get(\"force_stop\",None)\n",
    "    if n_iterations==2:\n",
    "        return {\"decission\":\"force_stop\", \"feedback\":None,\n",
    "                \"generation\":state[\"generation\"]}\n",
    "        \n",
    "        \n",
    "    generation_grader_prompt = generation_grader_instructions.format(documents=context, generation=generation)\n",
    "    \n",
    "    already_searched_queries = state[\"search_queries_params\"]                                                                \n",
    "   \n",
    "    answer_grader_prompt = answer_grader_instructions.format(generation=generation, question=question,\n",
    "                                                             searched_queries=already_searched_queries)\n",
    "    \n",
    "    \n",
    "    messages = [\n",
    "        {\"role\": \"system\", \"content\": generation_grader_prompt},\n",
    "        # {\"role\": \"user\", \"content\": f\": {}\"}\n",
    "    ]   \n",
    "    response = json.loads(llm_json.invoke(messages).content)\n",
    "    \n",
    "    \n",
    "        \n",
    "    # print(grade)\n",
    "    # print(\"Generation grader output json:\", response)\n",
    "  \n",
    "  #----------------  \n",
    "    if response[\"score\"].lower() == \"yes\": #the answer is grounded in the documents\n",
    "        \n",
    "    \n",
    "        #now, we check such generation correctly answers the question\n",
    "        messages = [\n",
    "            {\"role\": \"system\", \"content\": answer_grader_prompt},\n",
    "            # {\"role\": \"user\", \"content\": f\": {}\"}\n",
    "        ]    \n",
    "        \n",
    "        response = json.loads(llm_json.invoke(messages).content)\n",
    "        # print(\"answer grader output json:\", response)\n",
    "        # print(type(response))\n",
    "        \n",
    "        \n",
    "        if response[\"score\"].lower() == \"yes\":\n",
    "            \n",
    "            \n",
    "            # print(\"---DECISION: GENERATION IS GROUNDED IN DOCUMENTS, AND IT ANSWERS THE QUESTION---\")\n",
    "            # return \"useful\"\n",
    "            return {\"decission\":\"useful\", \"feedback\":None, \"iterations\":n_iterations,\n",
    "                    \"generation\":generation}\n",
    "                                #para que una respuesta sea buena\n",
    "                                #debera acabar siendo = None\n",
    "                                #por lo que un nodo no tomara feedback que no le corresponde\n",
    "        \n",
    "        \n",
    "        else:\n",
    "            # print(\"---DECISION: GENERATION DOES NOT ANSWER THE QUESTION, RUNNING WEBSEARCH---\")\n",
    "            # return \"not_useful\" #then we simply retry the websearch (only)\n",
    "            return {\"decission\":\"not_useful\", \"feedback\":response[\"feedback\"],\n",
    "                    \"iterations\":n_iterations, \"generation\":generation}\n",
    "            \n",
    "    else:\n",
    "        #IF THE MODEL HALLUCINATES, WE RE-RUN ONLY THE GENERATION\n",
    "        \n",
    "        # print(\"---DECISION: GENERATION IS NOT GROUNDED IN DOCUMENTS, RE-TRY---\")\n",
    "        # return \"not_grounded\"\n",
    "        return {\"decission\":\"not_grounded\", \"feedback\":response[\"feedback\"],\n",
    "                \"iterations\":n_iterations, \"generation\":generation}\n",
    "    \n",
    "\n",
    "#-------------------- graph\n",
    "    \n",
    "workflow = StateGraph(GraphState)\n",
    "# Define the nodes\n",
    "workflow.add_node(\"handle_trivial_question\", handle_trivial_question)\n",
    "workflow.add_node(\"answer_trivial_question\", answer_trivial_question) \n",
    "workflow.add_node(\"retrieve\", retrieve) \n",
    "workflow.add_node(\"generate_queries\", generate_queries)\n",
    "workflow.add_node(\"websearch\", search_web)\n",
    "workflow.add_node(\"grade_documents\", grade_documents)\n",
    "workflow.add_node(\"answer_with_docs\", answer_with_docs)\n",
    "workflow.add_node(\"grade_generation_v_documents_and_question\", grade_generation_v_documents_and_question)\n",
    "\n",
    "#conditional nodes\n",
    "def detect_trivial_question(state):\n",
    "    \"\"\"\n",
    "    Determines whether the question is trivial or not\n",
    "\n",
    "    Args:\n",
    "        state (dict): The current graph state\n",
    "\n",
    "    Returns:\n",
    "        str: Binary decision for next node to call\n",
    "    \"\"\"\n",
    "    question_type = state[\"question_type\"]\n",
    "    # if question_type == \"is_trivial\":\n",
    "    #     return \"answer_trivial_question\"\n",
    "    # else:\n",
    "    #     return \"retrieve\"\n",
    "    return question_type\n",
    "\n",
    "\n",
    "def decide_to_generate(state):\n",
    "    \"\"\"\n",
    "    Determines whether to generate an answer, or add web search\n",
    "\n",
    "    Args:\n",
    "        state (dict): The current graph state\n",
    "\n",
    "    Returns:\n",
    "        str: Binary decision for next node to call\n",
    "    \"\"\"\n",
    "\n",
    "    # print(\"---ASSESS GRADED DOCUMENTS---\")\n",
    "    web_search = state[\"web_search\"]\n",
    "\n",
    "    if web_search == \"Yes\":\n",
    "        return \"use_websearch\"\n",
    "    else:\n",
    "        return \"answer_with_docs\"\n",
    "    \n",
    "\n",
    "\n",
    "workflow.set_entry_point(\"handle_trivial_question\")\n",
    "\n",
    "workflow.add_conditional_edges(\"handle_trivial_question\",\n",
    "                               detect_trivial_question,\n",
    "                               {\"is_trivial\": \"answer_trivial_question\", \"not_trivial\": \"retrieve\"})\n",
    "\n",
    "workflow.add_edge(\"answer_trivial_question\", END)\n",
    "\n",
    "workflow.add_edge(\"retrieve\", \"grade_documents\")\n",
    "\n",
    "workflow.add_conditional_edges(\n",
    "    \"grade_documents\",\n",
    "    decide_to_generate, #after running grade_documents, we get the key of websearch to know if we run it or not\n",
    "    {\n",
    "        \"use_websearch\": \"generate_queries\", #before websearch, we generate the queries through the generate_queries node\n",
    "        \"answer_with_docs\": \"answer_with_docs\",\n",
    "    },\n",
    ")\n",
    "\n",
    "workflow.add_edge(\"generate_queries\", \"websearch\") \n",
    "workflow.add_edge(\"websearch\", \"answer_with_docs\") #after web search, we go directly to generation\n",
    "# workflow.add_edge(\"answer_with_docs\", \"handle_trivial_question\")\n",
    "workflow.add_edge(\"answer_with_docs\", \"grade_generation_v_documents_and_question\")\n",
    "\n",
    "\n",
    "# workflow.add_conditional_edges( #conditional edges\n",
    "#     \"answer_with_docs\",\n",
    "#     grade_generation_v_documents_and_question,\n",
    "#     {\n",
    "#         \"not_grounded\": \"answer_with_docs\", #if the llm generation grader result is = \"not supported\", then re-try\n",
    "#         \"useful\": END, #if it is useful, then end the process\n",
    "#         \"not_useful\": \"generate_queries\", #if not useful, then re-create queries again given the previous one (if applicable) and run websearch\n",
    "#     },\n",
    "# )\n",
    "\n",
    "\n",
    "def check_generation(state):\n",
    "    \n",
    "    \n",
    "    if state[\"decission\"] == \"useful\":\n",
    "        \n",
    "        return \"useful\"\n",
    "    \n",
    "    elif state[\"decission\"] == \"not_useful\":\n",
    "        \n",
    "        return \"not_useful\"\n",
    "    \n",
    "    elif state[\"decission\"] == \"not_grounded\":\n",
    "        \n",
    "        return \"not_grounded\"\n",
    "    \n",
    "    elif state[\"decission\"] == \"force_stop\":\n",
    "        \n",
    "        print(\"forcing stop of the graph...\")\n",
    "        \n",
    "        \n",
    "        return \"force_stop\"\n",
    "    \n",
    "    \n",
    "    print(\"current feedback provided \", state[\"feedback\"])\n",
    "        \n",
    "    \n",
    "workflow.add_conditional_edges( #conditional edges\n",
    "    \"grade_generation_v_documents_and_question\",\n",
    "    check_generation,\n",
    "    {\n",
    "        \"not_grounded\": \"answer_with_docs\", #if the llm generation grader result is = \"not supported\", then re-try\n",
    "        \"useful\": END, #if it is useful, then end the process\n",
    "        \"not_useful\": \"generate_queries\", #if not useful, then re-create queries again given the previous one (if applicable) and run websearch,\n",
    "        \"force_stop\":END\n",
    "    },\n",
    ")\n",
    "\n"
   ]
  },
  {
   "cell_type": "code",
   "execution_count": 26,
   "metadata": {},
   "outputs": [],
   "source": [
    "\n",
    "#--------------- compiling the graph\n",
    "\n",
    "#todo: check if short term and long term memmory are useful\n",
    "#todo: redefine the node of web search to generate multiple queries given the question (add tavily_days and tavily_topic too)\n",
    "from langgraph.checkpoint.sqlite import SqliteSaver\n",
    "from contextlib import ExitStack\n",
    "\n",
    "stack = ExitStack()\n",
    "memory = stack.enter_context(SqliteSaver.from_conn_string(\":memory:\"))\n",
    "\n",
    "app = workflow.compile(checkpointer=memory)\n",
    "\n",
    "thread = {\"configurable\": {\"thread_id\":\"1\"}} #\"recursion_limit\":60"
   ]
  },
  {
   "cell_type": "code",
   "execution_count": 18,
   "metadata": {},
   "outputs": [
    {
     "data": {
      "image/png": "[encoded data removed]",
      "text/plain": [
       "<IPython.core.display.Image object>"
      ]
     },
     "metadata": {},
     "output_type": "display_data"
    }
   ],
   "source": [
    "from IPython.display import Image\n",
    "\n",
    "display(Image(app.get_graph(xray=1).draw_mermaid_png(\n",
    ")))"
   ]
  },
  {
   "cell_type": "code",
   "execution_count": 19,
   "metadata": {},
   "outputs": [],
   "source": [
    "from utils.sst import transcribe_audio"
   ]
  },
  {
   "cell_type": "code",
   "execution_count": 6,
   "metadata": {},
   "outputs": [],
   "source": [
    "text = transcribe_audio(\"narrative.wav\")"
   ]
  },
  {
   "cell_type": "code",
   "execution_count": null,
   "metadata": {},
   "outputs": [],
   "source": []
  },
  {
   "cell_type": "code",
   "execution_count": 8,
   "metadata": {},
   "outputs": [
    {
     "data": {
      "text/plain": [
       "\"Ready to know what happened this week? Let's dive in. First up, fitness enthusiasts are buzzing about high-intensity interval training, which promises to keep you burning calories long after your workout ends. Meanwhile, in the world of international affairs, Ukraine made headlines by using a naval drone to take down a Russian helicopter, marking a significant moment in their ongoing conflict. As Asia celebrated the arrival of 2025 with spectacular fireworks, Elon Musk stirred controversy in Germany by endorsing a far-right party, leading to a media shake-up. Across the Atlantic, Donald Trump surprised many by supporting Elon Musk and the H-1B visa program, causing ripples within the Republican Party. In entertainment, Lily-Rose Depp is making waves with her role in the new Nasratu film, while Trump mourns the loss of former U.S. President Jimmy Carter, who passed away at 100, leaving behind a legacy of peace and humanitarian work. Spain is facing unrest as public employees deal with frozen salaries and healthcare disruptions, while in Brazil, a tragic poisoning incident involving a Christmas cake is under investigation. Azerbaijan and Russia are at odds over a plane crash, with calls for an independent probe. In South Korea, a devastating plane crash claimed 179 lives, marking the worst air disaster in the country in decades. New York is reeling from a scandal involving prison brutality, prompting calls for justice and reform. The WHO's Tedros Adhanom Ghebreyesus narrowly escaped a bombing in Yemen, highlighting the ongoing conflict in the region. Tensions are also high between Venezuela and Argentina over accusations of terrorism, while Ukraine continues to fend off Russian aerial attacks. In Madrid, a graffiti artist faces a hefty fine for his street art spree, and in New York, a shocking video of prison violence has sparked outrage and investigations. Meanwhile, Russia's use of a ghost freight to bypass sanctions is raising alarms in the Baltic region. In China, a tragic incident involving a driver plowing into a crowd has sparked discussions on public mourning and censorship. Back in New York, the Guardian Angels are back on patrol in the subway after a horrific attack, aiming to boost public safety. Finally, Spain's Muface is in turmoil as major health insurers withdraw, leaving many civil servants without private coverage. As the year wraps up, these events remind us of the complexities and challenges facing our world today. Stay tuned for more updates.\\n\""
      ]
     },
     "execution_count": 8,
     "metadata": {},
     "output_type": "execute_result"
    }
   ],
   "source": [
    "text    "
   ]
  },
  {
   "cell_type": "markdown",
   "metadata": {},
   "source": [
    "It will also take the spoken news summary as it will serve also as context so the LLM can avoid redundancy within it's responses"
   ]
  },
  {
   "cell_type": "code",
   "execution_count": 28,
   "metadata": {},
   "outputs": [
    {
     "name": "stdout",
     "output_type": "stream",
     "text": [
      "already searched queries (if applicable): None\n",
      "gonna generate 1 queries\n"
     ]
    },
    {
     "data": {
      "text/plain": [
       "'Madrid is indeed the capital of Spain. It became the capital in 1561 when King Philip II moved the royal court there. At that time, Madrid was not the largest city in Spain, but its central location made it strategically important. Over time, Madrid grew into a major city, becoming a hub for transportation and trade, which helped it develop into the vibrant capital it is today.'"
      ]
     },
     "execution_count": 28,
     "metadata": {},
     "output_type": "execute_result"
    }
   ],
   "source": [
    "app.invoke({\"question\":\"capital of Spain\", \"news_summary\":text}, thread)[\"generation\"]"
   ]
  },
  {
   "cell_type": "code",
   "execution_count": 29,
   "metadata": {},
   "outputs": [
    {
     "name": "stdout",
     "output_type": "stream",
     "text": [
      "already searched queries (if applicable): n_queries=1 queries=['What is the capital of Spain?'] tavily_days=[None] tavily_topic=['general']\n",
      "gonna generate 3 queries\n",
      "already searched queries (if applicable): n_queries=3 queries=['latest news in artificial intelligence January 2025', 'recent advancements in AI technology January 2025', 'AI trends and developments January 2025'] tavily_days=[7, 7, 7] tavily_topic=['news', 'news', 'news']\n",
      "gonna generate 3 queries\n"
     ]
    },
    {
     "data": {
      "text/plain": [
       "\"Hi Pablo, the latest news in AI is quite fascinating. Researchers are working on training robots to perform surgeries by watching videos of human doctors. This development is still in the research phase, and these AI systems aren't fully autonomous yet. They need to be approved by the FDA before they can be used in real surgeries. There are concerns about AI's reliability, especially in critical situations where it might make incorrect decisions. So, while the technology is promising, there are still significant hurdles to overcome before it becomes a regular part of surgical procedures.\""
      ]
     },
     "execution_count": 29,
     "metadata": {},
     "output_type": "execute_result"
    }
   ],
   "source": [
    "\n",
    "\n",
    "app.invoke({\"question\":\"hi, my name is pablo, i want to know the lastest news of ai\", \"news_summary\":text}, thread)[\"generation\"]"
   ]
  },
  {
   "cell_type": "code",
   "execution_count": 26,
   "metadata": {},
   "outputs": [],
   "source": [
    "# app.invoke({\"question\":\"which was my name?\", \"news_summary\":text}, thread)[\"generation\"]"
   ]
  },
  {
   "cell_type": "code",
   "execution_count": 56,
   "metadata": {},
   "outputs": [],
   "source": [
    "retriever.invoke(\"current relations between Venezuela and Spain\")"
   ]
  },
  {
   "cell_type": "code",
   "execution_count": 59,
   "metadata": {},
   "outputs": [
    {
     "name": "stdout",
     "output_type": "stream",
     "text": [
      "('id', None)\n",
      "('metadata', {'source': './rag_docs\\\\Maduro_ordena_pedir_a_España_la_extradición_de_la_ex_diputada_opositora_Dinorah_Figuera_El_Mundo.md', 'start_index': 3115})\n",
      "('page_content', \"Current State of Diplomatic Relations Between Venezuela and Spain\\n\\nVenezuela's diplomatic relations with Spain are strained, impacting extradition processes. Recent tensions have escalated due to Venezuela's arrest of an Argentine officer, Nahuel Gallo, accused of terrorism. This incident has heightened diplomatic friction not only with Argentina but also with Spain, as two Spanish citizens were previously detained under similar charges. These arrests followed Spain's recognition of an opposition candidate in Venezuela, which Venezuela's government viewed as interference.\\n\\nHistorically, Venezuela and Spain have had a complex relationship, often influenced by political ideologies. Venezuela's government, led by President Nicolás Maduro, aligns with socialist principles, while Spain's political landscape is more diverse, with both left-wing and right-wing influences. This ideological difference has occasionally led to diplomatic disagreements.\")\n",
      "('type', 'Document')\n"
     ]
    }
   ],
   "source": [
    "for i in a[0]:\n",
    "    print(i)"
   ]
  },
  {
   "cell_type": "code",
   "execution_count": 21,
   "metadata": {},
   "outputs": [
    {
     "data": {
      "text/plain": [
       "\"Venezuela and Spain's diplomatic relations are currently strained. Tensions have risen due to Venezuela's arrest of an Argentine officer accused of terrorism, which has also affected Spain, as two Spanish citizens were previously detained on similar charges. This situation follows Spain's recognition of an opposition candidate in Venezuela, which the Venezuelan government saw as interference. These issues have impacted extradition processes and added to the historical ideological differences between the two countries.\""
      ]
     },
     "execution_count": 21,
     "metadata": {},
     "output_type": "execute_result"
    }
   ],
   "source": [
    "app.invoke({\"question\":\"which are the current relationships betwen Venezuela and Spain\", \"news_summary\":text}, thread)[\"generation\"]"
   ]
  },
  {
   "cell_type": "code",
   "execution_count": 9,
   "metadata": {},
   "outputs": [
    {
     "name": "stdout",
     "output_type": "stream",
     "text": [
      "'Finished running: handle_trivial_question:'\n",
      "'Finished running: answer_trivial_question:'\n",
      "(\"Hello! I'm sorry, but I don't have access to personal information, so I \"\n",
      " \"don't know your name. If you'd like, you can tell me your name or how you'd \"\n",
      " 'like to be addressed!')\n"
     ]
    }
   ],
   "source": [
    "# from pprint import pprint\n",
    "# inputs = {\"question\": \"hi, my name is pablo\", \"news_summary\":text}\n",
    "# for output in app.stream(inputs, thread):\n",
    "#     for key, value in output.items():\n",
    "#         pprint(f\"Finished running: {key}:\")\n",
    "# pprint(value[\"generation\"])\n",
    "\n",
    "from pprint import pprint\n",
    "inputs = {\"question\": \"hi, which was my name?\", \"news_summary\":text}\n",
    "for output in app.stream(inputs, thread):\n",
    "    for key, value in output.items():\n",
    "        pprint(f\"Finished running: {key}:\")\n",
    "pprint(value[\"generation\"])"
   ]
  },
  {
   "cell_type": "code",
   "execution_count": 22,
   "metadata": {},
   "outputs": [
    {
     "name": "stdout",
     "output_type": "stream",
     "text": [
      "'Finished running: handle_trivial_question:'\n",
      "'Finished running: answer_trivial_question:'\n",
      "('It seems like your question is incomplete. Could you please provide more '\n",
      " 'details or clarify what you are asking about?')\n"
     ]
    }
   ],
   "source": [
    "from pprint import pprint\n",
    "inputs = {\"question\": \"tell me the last\", \"news_summary\":text}\n",
    "for output in app.stream(inputs, thread):\n",
    "    for key, value in output.items():\n",
    "        pprint(f\"Finished running: {key}:\")\n",
    "pprint(value[\"generation\"])"
   ]
  },
  {
   "cell_type": "code",
   "execution_count": 53,
   "metadata": {},
   "outputs": [
    {
     "data": {
      "text/plain": [
       "\"Ready to know what happened this week? Let's dive in. First up, fitness enthusiasts are buzzing about high-intensity interval training, which promises to keep you burning calories long after your workout ends. Meanwhile, in the world of international affairs, Ukraine made headlines by using a naval drone to take down a Russian helicopter, marking a significant moment in their ongoing conflict. As Asia celebrated the arrival of 2025 with spectacular fireworks, Elon Musk stirred controversy in Germany by endorsing a far-right party, leading to a media shake-up. Across the Atlantic, Donald Trump surprised many by supporting Elon Musk and the H-1B visa program, causing ripples within the Republican Party. In entertainment, Lily-Rose Depp is making waves with her role in the new Nasratu film, while Trump mourns the loss of former U.S. President Jimmy Carter, who passed away at 100, leaving behind a legacy of peace and humanitarian work. Spain is facing unrest as public employees deal with frozen salaries and healthcare disruptions, while in Brazil, a tragic poisoning incident involving a Christmas cake is under investigation. Azerbaijan and Russia are at odds over a plane crash, with calls for an independent probe. In South Korea, a devastating plane crash claimed 179 lives, marking the worst air disaster in the country in decades. New York is reeling from a scandal involving prison brutality, prompting calls for justice and reform. The WHO's Tedros Adhanom Ghebreyesus narrowly escaped a bombing in Yemen, highlighting the ongoing conflict in the region. Tensions are also high between Venezuela and Argentina over accusations of terrorism, while Ukraine continues to fend off Russian aerial attacks. In Madrid, a graffiti artist faces a hefty fine for his street art spree, and in New York, a shocking video of prison violence has sparked outrage and investigations. Meanwhile, Russia's use of a ghost freight to bypass sanctions is raising alarms in the Baltic region. In China, a tragic incident involving a driver plowing into a crowd has sparked discussions on public mourning and censorship. Back in New York, the Guardian Angels are back on patrol in the subway after a horrific attack, aiming to boost public safety. Finally, Spain's Muface is in turmoil as major health insurers withdraw, leaving many civil servants without private coverage. As the year wraps up, these events remind us of the complexities and challenges facing our world today. Stay tuned for more updates.\\n\""
      ]
     },
     "execution_count": 53,
     "metadata": {},
     "output_type": "execute_result"
    }
   ],
   "source": [
    "text"
   ]
  },
  {
   "cell_type": "code",
   "execution_count": 80,
   "metadata": {},
   "outputs": [],
   "source": [
    "# vectorstore.as_retriever(search_type=\"similarity\", search_kwargs={\"k\": 3}).invoke(\"current relations between Venezuela and Spain\")"
   ]
  },
  {
   "cell_type": "code",
   "execution_count": 21,
   "metadata": {},
   "outputs": [
    {
     "name": "stdout",
     "output_type": "stream",
     "text": [
      "'Finished running: handle_trivial_question:'\n",
      "'Finished running: retrieve:'\n",
      "'Finished running: grade_documents:'\n",
      "'Finished running: answer_with_docs:'\n",
      "'Finished running: grade_generation_v_documents_and_question:'\n",
      "'Finished running: answer_with_docs:'\n",
      "forcing stop of the graph...\n",
      "'Finished running: grade_generation_v_documents_and_question:'\n",
      "('En el atentado de Nueva Orleans, al menos 15 personas murieron y decenas '\n",
      " 'resultaron heridas cuando un conductor embistió con una camioneta a una '\n",
      " 'multitud en Bourbon Street el día de Año Nuevo. Entre las víctimas se '\n",
      " 'encontraba Tiger Bech, un exjugador de fútbol de Princeton, quien murió a '\n",
      " 'causa de lesiones internas. Otro estudiante, Kareem Badawi, de la '\n",
      " 'Universidad de Alabama, también perdió la vida. Las víctimas sufrieron '\n",
      " 'principalmente traumas contundentes, y los heridos fueron trasladados a '\n",
      " 'varios hospitales de la zona para recibir tratamiento. La comunidad ha '\n",
      " 'estado recordando a las víctimas con tributos y vigilias, mientras que las '\n",
      " 'autoridades continúan investigando el ataque como un acto de terrorismo.')\n"
     ]
    }
   ],
   "source": [
    "from pprint import pprint\n",
    "inputs = {\"question\": \"¿Qué ocurrió en el atentado de Nueva Orleás?\", \"news_summary\":text}\n",
    "for output in app.stream(inputs, thread):\n",
    "    for key, value in output.items():\n",
    "        pprint(f\"Finished running: {key}:\")\n",
    "pprint(value[\"generation\"])"
   ]
  },
  {
   "cell_type": "code",
   "execution_count": null,
   "metadata": {},
   "outputs": [],
   "source": []
  },
  {
   "cell_type": "code",
   "execution_count": null,
   "metadata": {},
   "outputs": [],
   "source": []
  },
  {
   "cell_type": "code",
   "execution_count": null,
   "metadata": {},
   "outputs": [],
   "source": []
  },
  {
   "cell_type": "markdown",
   "metadata": {},
   "source": [
    "#### PROBLEM #3: Determine how much `n_result` sources do we get for each search query\n",
    "\n",
    "- We should consider those questions which may lead to incoherences or detailed questions, to search for more thrustworthy sources\n",
    "\n",
    "- Decreasing `n_results` will also reduce the latency of the model\n",
    "\n",
    "\n",
    "some values:\n",
    "> With `n_values=1` --> took 7,7 sec for inference\n",
    "\n",
    "> With `n_values=2` --> 12 sec"
   ]
  },
  {
   "cell_type": "code",
   "execution_count": 24,
   "metadata": {},
   "outputs": [
    {
     "data": {
      "text/plain": [
       "{'decission': 'useful', 'feedback': None, 'iterations': 1}"
      ]
     },
     "execution_count": 24,
     "metadata": {},
     "output_type": "execute_result"
    }
   ],
   "source": [
    "value"
   ]
  },
  {
   "cell_type": "code",
   "execution_count": 27,
   "metadata": {},
   "outputs": [
    {
     "name": "stdout",
     "output_type": "stream",
     "text": [
      "'Finished running: handle_trivial_question:'\n",
      "'Finished running: retrieve:'\n",
      "'Finished running: grade_documents:'\n",
      "already searched queries (if applicable): None\n",
      "'Finished running: generate_queries:'\n",
      "gonna generate 1 queries\n",
      "'Finished running: websearch:'\n",
      "'Finished running: answer_with_docs:'\n",
      "'Finished running: grade_generation_v_documents_and_question:'\n",
      "'The capital of Spain is Madrid.'\n"
     ]
    }
   ],
   "source": [
    "from pprint import pprint\n",
    "inputs = {\"question\": \"capital of spain\", \"news_summary\":text}\n",
    "for output in app.stream(inputs, thread):\n",
    "    for key, value in output.items():\n",
    "        pprint(f\"Finished running: {key}:\")\n",
    "pprint(value[\"generation\"])"
   ]
  },
  {
   "cell_type": "code",
   "execution_count": 28,
   "metadata": {},
   "outputs": [
    {
     "name": "stdout",
     "output_type": "stream",
     "text": [
      "'Finished running: handle_trivial_question:'\n",
      "'Finished running: retrieve:'\n",
      "'Finished running: grade_documents:'\n",
      "already searched queries (if applicable): n_queries=1 queries=['capital of Spain'] tavily_days=[None] tavily_topic=['general']\n",
      "'Finished running: generate_queries:'\n",
      "gonna generate 1 queries\n",
      "'Finished running: websearch:'\n",
      "'Finished running: answer_with_docs:'\n",
      "'Finished running: grade_generation_v_documents_and_question:'\n",
      "already searched queries (if applicable): n_queries=1 queries=['current ruling political party in Venezuela 2025'] tavily_days=[7] tavily_topic=['news']\n",
      "'Finished running: generate_queries:'\n",
      "gonna generate 1 queries\n",
      "'Finished running: websearch:'\n",
      "'Finished running: answer_with_docs:'\n",
      "forcing stop of the graph...\n",
      "'Finished running: grade_generation_v_documents_and_question:'\n",
      "('The current ruling political party in Venezuela is the United Socialist '\n",
      " 'Party of Venezuela (PSUV). Nicolás Maduro is the leader of this party and '\n",
      " 'has been in power since 2013.')\n"
     ]
    }
   ],
   "source": [
    "from pprint import pprint\n",
    "inputs = {\"question\": \"which is the current political party at Venezuela?\", \"news_summary\":text}\n",
    "for output in app.stream(inputs, thread):\n",
    "    for key, value in output.items():\n",
    "        pprint(f\"Finished running: {key}:\")\n",
    "pprint(value[\"generation\"])"
   ]
  },
  {
   "cell_type": "code",
   "execution_count": 29,
   "metadata": {},
   "outputs": [
    {
     "name": "stdout",
     "output_type": "stream",
     "text": [
      "'Finished running: handle_trivial_question:'\n",
      "'Finished running: retrieve:'\n",
      "'Finished running: grade_documents:'\n",
      "already searched queries (if applicable): n_queries=1 queries=['current ruling political party in Venezuela 2025'] tavily_days=[None] tavily_topic=['general']\n",
      "'Finished running: generate_queries:'\n",
      "gonna generate 3 queries\n",
      "'Finished running: websearch:'\n",
      "'Finished running: answer_with_docs:'\n",
      "'Finished running: grade_generation_v_documents_and_question:'\n",
      "'Finished running: answer_with_docs:'\n",
      "forcing stop of the graph...\n",
      "'Finished running: grade_generation_v_documents_and_question:'\n",
      "('Latency in AI audio models is crucial because it directly affects the '\n",
      " 'responsiveness and usability of applications that rely on real-time '\n",
      " 'interactions. Low latency ensures that these systems can process inputs and '\n",
      " 'generate outputs quickly, which is essential for a smooth user experience. '\n",
      " 'For example, in applications like voice assistants or gaming, low latency '\n",
      " 'allows for real-time interactions, making the experience more natural and '\n",
      " 'engaging.\\n'\n",
      " '\\n'\n",
      " 'High latency, on the other hand, can lead to noticeable delays, which can be '\n",
      " 'frustrating for users and may even render some applications unusable. In '\n",
      " 'critical applications like autonomous vehicles, high latency can be '\n",
      " \"dangerous, as it delays the system's ability to react to dynamic driving \"\n",
      " 'conditions, potentially leading to accidents. Similarly, in gaming, high '\n",
      " 'latency can disrupt gameplay, leading to a poor user experience.\\n'\n",
      " '\\n'\n",
      " 'Overall, minimizing latency is vital for the performance and adoption of AI '\n",
      " 'audio models, as it enables real-time processing and enhances the overall '\n",
      " 'user experience.')\n"
     ]
    }
   ],
   "source": [
    "from pprint import pprint\n",
    "inputs = {\"question\": \"which is the importance of latency in AI. audio models? \", \"news_summary\":text}\n",
    "for output in app.stream(inputs, thread):\n",
    "    for key, value in output.items():\n",
    "        pprint(f\"Finished running: {key}:\")\n",
    "pprint(value[\"generation\"])"
   ]
  },
  {
   "cell_type": "code",
   "execution_count": 157,
   "metadata": {},
   "outputs": [
    {
     "name": "stdout",
     "output_type": "stream",
     "text": [
      "'Finished running: handle_trivial_question:'\n",
      "'Finished running: retrieve:'\n",
      "'Finished running: grade_documents:'\n",
      "already searched queries (if applicable): n_queries=3 queries=['importance of latency in AI audio models', 'how latency affects AI audio processing', 'latency in AI audio models explained'] tavily_days=[None, None, None] tavily_topic=['general', 'general', 'general']\n",
      "'Finished running: generate_queries:'\n",
      "gonna generate 2 queries\n",
      "'Finished running: websearch:'\n",
      "'Finished running: answer_with_docs:'\n",
      "('Yes, there is a risk of new COVID infections in China, but the current '\n",
      " 'concern is more about a surge in respiratory illnesses, including human '\n",
      " 'metapneumovirus (HMPV). While there is an increase in these infections, '\n",
      " \"China's National Disease Control and Prevention Administration has reported \"\n",
      " 'that the country is safe to visit. The situation is not considered a global '\n",
      " 'health emergency by the World Health Organization, and there is more herd '\n",
      " 'immunity against HMPV compared to a novel virus like COVID-19 at the start '\n",
      " 'of the pandemic.')\n"
     ]
    }
   ],
   "source": [
    "from pprint import pprint\n",
    "inputs = {\"question\": \"Is there is any risk of new COVID infection in China?\", \"news_summary\":text}\n",
    "for output in app.stream(inputs, thread):\n",
    "    for key, value in output.items():\n",
    "        pprint(f\"Finished running: {key}:\")\n",
    "pprint(value[\"generation\"])"
   ]
  },
  {
   "cell_type": "code",
   "execution_count": 158,
   "metadata": {},
   "outputs": [
    {
     "name": "stdout",
     "output_type": "stream",
     "text": [
      "'Finished running: handle_trivial_question:'\n",
      "'Finished running: retrieve:'\n",
      "'Finished running: grade_documents:'\n",
      "already searched queries (if applicable): n_queries=2 queries=['current COVID-19 situation in China', 'risk of new COVID-19 variants in China'] tavily_days=[7, 7] tavily_topic=['news', 'news']\n",
      "'Finished running: generate_queries:'\n",
      "gonna generate 3 queries\n",
      "'Finished running: websearch:'\n",
      "'Finished running: answer_with_docs:'\n",
      "'Finished running: answer_with_docs:'\n",
      "already searched queries (if applicable): n_queries=3 queries=['COVID-19 spread from China to Europe risk assessment', 'impact of new COVID-19 variants on international travel', 'measures taken by Europe to prevent COVID-19 spread from China'] tavily_days=[7, 7, 7] tavily_topic=['news', 'news', 'news']\n",
      "'Finished running: generate_queries:'\n",
      "gonna generate 2 queries\n",
      "'Finished running: websearch:'\n",
      "'Finished running: answer_with_docs:'\n",
      "(\"The context provided doesn't specifically address the risk of new COVID \"\n",
      " 'infections in China reaching Europe. However, it does mention that COVID-19 '\n",
      " 'is still present globally, with ongoing mutations and variants. The World '\n",
      " 'Health Organization (WHO) continues to urge China to share data to better '\n",
      " 'understand the origins and current status of COVID-19. While the virus is '\n",
      " 'less deadly now due to built-up immunity and vaccinations, it is still '\n",
      " 'evolving, which means scientists are closely monitoring it.\\n'\n",
      " '\\n'\n",
      " 'Given this, while there is always a potential risk of new infections '\n",
      " \"spreading internationally, the current context doesn't highlight any \"\n",
      " 'specific new threat from China to Europe. The situation requires ongoing '\n",
      " 'monitoring and cooperation between countries to manage and mitigate risks '\n",
      " 'effectively.')\n"
     ]
    }
   ],
   "source": [
    "from pprint import pprint\n",
    "inputs = {\"question\": \"would it be the risk that new COVID infection in China reaches Europe?\", \"news_summary\":text}\n",
    "for output in app.stream(inputs, thread):\n",
    "    for key, value in output.items():\n",
    "        pprint(f\"Finished running: {key}:\")\n",
    "pprint(value[\"generation\"])"
   ]
  },
  {
   "cell_type": "markdown",
   "metadata": {},
   "source": [
    "____________"
   ]
  },
  {
   "cell_type": "code",
   "execution_count": 136,
   "metadata": {},
   "outputs": [
    {
     "name": "stdout",
     "output_type": "stream",
     "text": [
      "'Finished running: handle_trivial_question:'\n",
      "'Finished running: retrieve:'\n",
      "'Finished running: grade_documents:'\n",
      "already searched queries (if applicable): None\n",
      "'Finished running: generate_queries:'\n",
      "gonna generate 1 queries\n",
      "'Finished running: websearch:'\n",
      "'Finished running: answer_with_docs:'\n",
      "('In Spain, the main left-wing political parties are Podemos and the Spanish '\n",
      " \"Socialist Workers' Party (PSOE). Podemos is known for its left-wing to \"\n",
      " 'far-left stance, while PSOE is a center-left party. Both have been involved '\n",
      " 'in coalition governments, with PSOE currently being part of the ruling '\n",
      " 'coalition alongside Sumar, a new left-wing platform.')\n"
     ]
    }
   ],
   "source": [
    "from pprint import pprint\n",
    "inputs = {\"question\": \"what is the left-wing party in politics in spain\", \"news_summary\":text}\n",
    "for output in app.stream(inputs, thread):\n",
    "    for key, value in output.items():\n",
    "        pprint(f\"Finished running: {key}:\")\n",
    "pprint(value[\"generation\"])"
   ]
  },
  {
   "cell_type": "code",
   "execution_count": null,
   "metadata": {},
   "outputs": [],
   "source": []
  },
  {
   "cell_type": "code",
   "execution_count": 26,
   "metadata": {},
   "outputs": [
    {
     "name": "stdout",
     "output_type": "stream",
     "text": [
      "'Finished running: handle_trivial_question:'\n",
      "'Finished running: answer_trivial_question:'\n",
      "('It seems like there might be some confusion in your question. Francisco '\n",
      " 'Franco and Adolf Hitler were two different historical figures. Francisco '\n",
      " 'Franco was the dictator of Spain from 1939 until his death in 1975. Adolf '\n",
      " 'Hitler was the dictator of Nazi Germany from 1933 to 1945. If you meant to '\n",
      " 'ask about their relationship or any specific aspect of their interactions, '\n",
      " 'feel free to provide more details!')\n"
     ]
    }
   ],
   "source": [
    "from pprint import pprint\n",
    "inputs = {\"question\": \"which was the name of Franco Hitler\", \"news_summary\":text}\n",
    "for output in app.stream(inputs, thread):\n",
    "    for key, value in output.items():\n",
    "        pprint(f\"Finished running: {key}:\")\n",
    "pprint(value[\"generation\"])"
   ]
  },
  {
   "cell_type": "code",
   "execution_count": null,
   "metadata": {},
   "outputs": [],
   "source": [
    "#TODO: we need to handle when questions are not grabbed correctly so it can lead to infinite recursions/iterations for questions like \"I want to know the last\""
   ]
  },
  {
   "cell_type": "markdown",
   "metadata": {},
   "source": [
    "### Bug #1: (DONE) Missleading questions"
   ]
  },
  {
   "cell_type": "code",
   "execution_count": 30,
   "metadata": {},
   "outputs": [
    {
     "name": "stdout",
     "output_type": "stream",
     "text": [
      "'Finished running: handle_trivial_question:'\n",
      "'Finished running: retrieve:'\n",
      "'Finished running: grade_documents:'\n",
      "already searched queries (if applicable): n_queries=3 queries=['importance of latency in AI audio models', 'how latency affects AI audio processing', 'impact of latency on AI-driven audio applications'] tavily_days=[None, None, None] tavily_topic=['general', 'general', 'general']\n",
      "'Finished running: generate_queries:'\n",
      "gonna generate 3 queries\n",
      "'Finished running: websearch:'\n",
      "'Finished running: answer_with_docs:'\n",
      "'Finished running: grade_generation_v_documents_and_question:'\n",
      "('The question seems to be based on a misunderstanding. The AfD, or '\n",
      " 'Alternative for Germany, is a far-right political party in Germany, and '\n",
      " 'there is no indication that they support the PSOE, which is a '\n",
      " \"social-democratic party in Spain. The context provided discusses Elon Musk's \"\n",
      " 'support for the AfD, but it does not mention any connection or support '\n",
      " 'between the AfD and PSOE. These two parties have very different political '\n",
      " \"ideologies and operate in different countries, so it's unlikely they would \"\n",
      " 'support each other.')\n"
     ]
    }
   ],
   "source": [
    "from pprint import pprint\n",
    "\n",
    "\n",
    "#TODO: sample BUG in the graph\n",
    "#When you ask questions which are missleading or not real, the graph will fall into an infinite loop\n",
    "#this is because once it ensures the returned docs are related to it, it will ensure the question actually responds to the docs\n",
    "#so it won't realize that the question is not real or cohesive hence it won't never get a precisse answer\n",
    "#todo: porque nunca vas a responder de forma precisa a una pregunta errónea, porque los datos de web/docs no proveeran tal respuesta, sino una respuesta valida\n",
    "\n",
    "inputs = {\"question\": \"why do the afd Germany party supports PSOE?\", \"news_summary\":text}\n",
    "for output in app.stream(inputs, thread):\n",
    "    for key, value in output.items():\n",
    "        pprint(f\"Finished running: {key}:\")\n",
    "pprint(value[\"generation\"])"
   ]
  },
  {
   "cell_type": "markdown",
   "metadata": {},
   "source": [
    "______________"
   ]
  },
  {
   "cell_type": "markdown",
   "metadata": {},
   "source": [
    "### BUG #2: (DONE) If the provided context is `not_useful`, we need to let know to the query writer to make different queries to the already searched ones"
   ]
  },
  {
   "cell_type": "markdown",
   "metadata": {},
   "source": [
    "##### NOTE: We already harcoded to not search in the RAG but instead running websearch\n",
    "\n",
    "\n"
   ]
  },
  {
   "cell_type": "code",
   "execution_count": 138,
   "metadata": {},
   "outputs": [
    {
     "name": "stdout",
     "output_type": "stream",
     "text": [
      "'Finished running: handle_trivial_question:'\n",
      "'Finished running: retrieve:'\n",
      "'Finished running: grade_documents:'\n",
      "already searched queries (if applicable): None\n",
      "'Finished running: generate_queries:'\n",
      "gonna generate 1 queries\n",
      "Warning: No raw_content found for source https://m.facebook.com/GeorgetownCollege/photos/rev-dr-derek-king-sr-nephew-of-dr-martin-luther-king-jr-joined-by-georgetown-col/10154337568592705/\n",
      "Warning: No raw_content found for source https://www.fox21news.com/news/nephew-of-martin-luther-king-jr-commemorates-his-legacy/\n",
      "'Finished running: websearch:'\n",
      "'Finished running: answer_with_docs:'\n",
      "(\"Martin Luther King Jr.'s nephew is Isaac Newton Farris Jr. He has been \"\n",
      " \"involved in various activities related to his uncle's legacy and has spoken \"\n",
      " 'publicly on social issues.')\n"
     ]
    }
   ],
   "source": [
    "from pprint import pprint\n",
    "\n",
    "\n",
    "#TODO: sample BUG in the graph\n",
    "inputs = {\"question\": \"who is the nephew of martin luther king?\", \"news_summary\":text}\n",
    "for output in app.stream(inputs, thread):\n",
    "    for key, value in output.items():\n",
    "        pprint(f\"Finished running: {key}:\")\n",
    "pprint(value[\"generation\"])"
   ]
  },
  {
   "cell_type": "code",
   "execution_count": 17,
   "metadata": {},
   "outputs": [
    {
     "name": "stdout",
     "output_type": "stream",
     "text": [
      "'Finished running: handle_trivial_question:'\n",
      "'Finished running: answer_trivial_question:'\n",
      "('There is no widely recognized historical figure named Francisco Hitler, and '\n",
      " 'Adolf Hitler, the infamous leader of Nazi Germany, did not have a known '\n",
      " 'nephew by that name. If you meant someone else or if this is a fictional or '\n",
      " 'lesser-known figure, please provide more context or clarify your question.')\n"
     ]
    }
   ],
   "source": [
    "from pprint import pprint\n",
    "inputs = {\"question\": \"who is the nephew of Francisco Hitler?\", \"news_summary\":text}\n",
    "for output in app.stream(inputs, thread):\n",
    "    for key, value in output.items():\n",
    "        pprint(f\"Finished running: {key}:\")\n",
    "pprint(value[\"generation\"])"
   ]
  },
  {
   "cell_type": "code",
   "execution_count": 31,
   "metadata": {},
   "outputs": [
    {
     "name": "stdout",
     "output_type": "stream",
     "text": [
      "'Finished running: handle_trivial_question:'\n",
      "'Finished running: retrieve:'\n",
      "'Finished running: grade_documents:'\n",
      "already searched queries (if applicable): n_queries=3 queries=['AfD Germany support for PSOE Spain', 'AfD and PSOE political relationship', 'AfD Germany PSOE Spain collaboration'] tavily_days=[7, 7, 7] tavily_topic=['news', 'news', 'news']\n",
      "'Finished running: generate_queries:'\n",
      "gonna generate 2 queries\n",
      "'Finished running: websearch:'\n",
      "'Finished running: answer_with_docs:'\n",
      "'Finished running: grade_generation_v_documents_and_question:'\n",
      "'Finished running: answer_with_docs:'\n",
      "forcing stop of the graph...\n",
      "'Finished running: grade_generation_v_documents_and_question:'\n",
      "('The question about the \"grandson of the grandson of Pablo Escobar\" is based '\n",
      " 'on an incorrect assumption. The provided context only gives information '\n",
      " \"about Pablo Escobar's immediate family, including his children, Juan Pablo \"\n",
      " '(also known as Sebastian Marroquin) and Manuela Escobar. There is no mention '\n",
      " 'of any grandchildren, let alone a \"grandson of the grandson.\" Therefore, '\n",
      " 'there is no information available about such a person in the provided '\n",
      " 'context.')\n"
     ]
    }
   ],
   "source": [
    "from pprint import pprint\n",
    "inputs = {\"question\": \"who's the grandson of grandson of pablo escobar?\", \"news_summary\":text}\n",
    "for output in app.stream(inputs, thread):\n",
    "    for key, value in output.items():\n",
    "        pprint(f\"Finished running: {key}:\")\n",
    "pprint(value[\"generation\"])"
   ]
  },
  {
   "cell_type": "code",
   "execution_count": 93,
   "metadata": {},
   "outputs": [],
   "source": [
    "# from pprint import pprint\n",
    "# inputs = {\"question\": \"Hey, I want to know the last\", \"news_summary\":text}\n",
    "# for output in app.stream(inputs, thread):\n",
    "#     for key, value in output.items():\n",
    "#         pprint(f\"Finished running: {key}:\")\n",
    "# pprint(value[\"generation\"])"
   ]
  },
  {
   "cell_type": "markdown",
   "metadata": {},
   "source": [
    "### BUG #5 Caer bucle infinito con `not_useful`, volviendo a ejecutar websearch una y otra vez sin parar"
   ]
  },
  {
   "cell_type": "code",
   "execution_count": 36,
   "metadata": {},
   "outputs": [
    {
     "name": "stdout",
     "output_type": "stream",
     "text": [
      "'Finished running: handle_trivial_question:'\n",
      "'Finished running: retrieve:'\n",
      "'Finished running: grade_documents:'\n",
      "'Finished running: answer_with_docs:'\n",
      "'Finished running: grade_generation_v_documents_and_question:'\n",
      "already searched queries (if applicable): n_queries=3 queries=['Javier Milei meeting with Venezuelan opposition in Argentina', 'reason for Javier Milei and Venezuelan opposition meeting in Argentina', 'Javier Milei Venezuelan opposition meeting January 2025'] tavily_days=[7, 7, 7] tavily_topic=['news', 'news', 'news']\n",
      "'Finished running: generate_queries:'\n",
      "gonna generate 2 queries\n",
      "'Finished running: websearch:'\n",
      "'Finished running: answer_with_docs:'\n",
      "forcing stop of the graph...\n",
      "'Finished running: grade_generation_v_documents_and_question:'\n",
      "('El atentado en Nueva Orleans ocurrió el 1 de enero de 2025, cuando '\n",
      " 'Shamsud-Din Jabbar condujo una camioneta eléctrica hacia una multitud en la '\n",
      " 'calle Bourbon, durante las celebraciones de Año Nuevo. Este ataque resultó '\n",
      " 'en la muerte de al menos 14 personas y dejó a muchas otras heridas. El FBI '\n",
      " 'ha identificado a Jabbar como el sospechoso y está investigando el incidente '\n",
      " 'como un posible acto de terrorismo.')\n"
     ]
    }
   ],
   "source": [
    "from pprint import pprint\n",
    "inputs = {\"question\": \"¿Qué ocurrió en el atentado de Nueva Orleás?\", \"news_summary\":text}\n",
    "for output in app.stream(inputs, thread):\n",
    "    for key, value in output.items():\n",
    "        pprint(f\"Finished running: {key}:\")\n",
    "pprint(value[\"generation\"])"
   ]
  },
  {
   "cell_type": "code",
   "execution_count": 35,
   "metadata": {},
   "outputs": [
    {
     "name": "stdout",
     "output_type": "stream",
     "text": [
      "'Finished running: handle_trivial_question:'\n",
      "'Finished running: retrieve:'\n",
      "'Finished running: grade_documents:'\n",
      "already searched queries (if applicable): n_queries=2 queries=['atentado Nueva Orleans', 'incidente reciente Nueva Orleans'] tavily_days=[7, 7] tavily_topic=['news', 'news']\n",
      "'Finished running: generate_queries:'\n",
      "gonna generate 3 queries\n",
      "'Finished running: websearch:'\n",
      "'Finished running: answer_with_docs:'\n",
      "'Finished running: grade_generation_v_documents_and_question:'\n",
      "('Javier Milei and Venezuelan opposition leader Edmundo González met in '\n",
      " \"Argentina as part of González's international tour. This meeting took place \"\n",
      " \"just days before Nicolás Maduro's planned inauguration for a third term, \"\n",
      " 'which is not recognized by some countries, including the United States. '\n",
      " 'González, recognized by the U.S. as the legitimate president-elect of '\n",
      " 'Venezuela, is seeking international support and highlighting the plight of '\n",
      " \"Venezuelans under Maduro's regime. The meeting with Milei, a supporter of \"\n",
      " \"the Venezuelan opposition, was a show of solidarity and part of González's \"\n",
      " 'efforts to gather backing for his claim to the presidency.')\n"
     ]
    }
   ],
   "source": [
    "from pprint import pprint\n",
    "inputs = {\"question\": \"why did Javier Milei and the Venezuelan oppositor meet in Argentina?\",\"news_summary\":text}\n",
    "for output in app.stream(inputs, thread):\n",
    "    for key, value in output.items():\n",
    "        pprint(f\"Finished running: {key}:\")\n",
    "pprint(value[\"generation\"])"
   ]
  },
  {
   "cell_type": "code",
   "execution_count": null,
   "metadata": {},
   "outputs": [],
   "source": []
  },
  {
   "cell_type": "code",
   "execution_count": 37,
   "metadata": {},
   "outputs": [],
   "source": [
    "tavily_client = TavilyClient()\n",
    "\n",
    "web_search_tool = TavilySearchResults(k=3)"
   ]
  },
  {
   "cell_type": "code",
   "execution_count": 38,
   "metadata": {},
   "outputs": [
    {
     "data": {
      "text/plain": [
       "[{'url': 'https://www.geeksforgeeks.org/lionel-messi-kids/',\n",
       "  'content': \"Who are Lionel Messi's Kids: All About Messi and Antonela 3 Sons - GeeksforGeeks Tutorials Python Tutorial Python Tutorial Python Data Visualization Tutorial Mateo Messi Roccuzzo, born on September 11, 2015, in Barcelona, Spain, is the second son of soccer icon Lionel Messi and Antonela Roccuzzo. Ciro Messi Roccuzzo, the youngest son of soccer superstar Lionel Messi and his wife Antonela Roccuzzo, was born on March 10, 2018, in Barcelona, Spain. Antonela Roccuzzo, born on February 26, 1988, in Rosario, Argentina, is widely known as the wife of soccer superstar Lionel Messi and the mother of their three children. Lionel Messi and Antonela Roccuzzo's three sons, Thiago, Mateo, and Ciro, are growing up in the spotlight, often seen supporting their father's illustrious soccer career. Python Tutorial\"},\n",
       " {'url': 'https://rimpost.com/meet-lionel-messis-three-sons-thiago-mateo-and-ciro',\n",
       "  'content': 'Lionel Messi and Antonella Roccuzzo welcomed their youngest son, Ciro Messi Roccuzzo, on March 10th, 2018. ‘’Ciro’’ in the Greek language means sun or lordly, and in Spanish, the name means throne or sun. The couple announced that they were expecting their third child three months after their union.'},\n",
       " {'url': 'https://www.augustman.com/my/sports/lionel-messi-children-in-chronological-order/',\n",
       "  'content': 'Lionel Messi’s youngest son, Ciro Messi Roccuzzo, is six years old as of March 2024. Note: The information in this article is accurate as of the date of publication. celebrities Football Football Players footballers Lionel Messi Sports. written by. Uddipta Banerjee. Senior Digital Writer, Sports and Watches'},\n",
       " {'url': 'https://www.feelingthevibe.com/toplists/leo-messis-kids-meet-his-three-sons-thiago-mateo-ciro/',\n",
       "  'content': 'Meet Thiago Messi – the first born son of Leo and Antonela. He was born on November 2, 2012. He was born on November 2, 2012. He is often seen alongside his mother and two brothers cheering his father on whether he is playing for his home team of Argentina or in the US at his newest venture with Inter Miami.'},\n",
       " {'url': 'https://www.sportsdave.com/who-is-mateo-messi-fact-about-lionel-messis-son/',\n",
       "  'content': 'ALSO, READ: Biography of Jorge Messi,( Lionel Messi’s father) Lionel Messi children: Meet Mateo Messi, Thiago, Ciro. Messi and Roccuzzo, childhood friends who reconnected in 2005, welcomed their first child, Thiago, in 2012. Mateo Messi, their second son, was born in 2015, and Ciro, their third son, was born in 2018.'}]"
      ]
     },
     "execution_count": 38,
     "metadata": {},
     "output_type": "execute_result"
    }
   ],
   "source": [
    "web_search_tool.invoke(\"son of leo messi\")"
   ]
  },
  {
   "cell_type": "code",
   "execution_count": 41,
   "metadata": {},
   "outputs": [
    {
     "name": "stdout",
     "output_type": "stream",
     "text": [
      "LangChain Search Results (k=3):\n",
      "[{'url': 'https://www.britannica.com/technology/artificial-intelligence', 'content': 'For example, a program that learns the past tense of regular English verbs by rote will not be able to produce the past tense of a word such as jump unless it previously had been presented with jumped, whereas a program that is able to generalize can learn the “add ed” rule and so form the past tense of jump based on experience with similar verbs. The real nature of the wasp’s instinctual behaviour is revealed if the food is moved a few inches away from the entrance to her burrow while she is inside: on emerging, she will repeat the whole procedure as often as the food is displaced. The program might then store the solution with the position so that the next time the computer encountered the same position it would recall the solution. Artificial intelligence is the ability of a computer or computer-controlled robot to perform tasks that are commonly associated with the\\xa0intellectual\\xa0processes characteristic of humans, such as the ability to reason. The term is frequently applied to the project of developing systems endowed with the intellectual processes characteristic of humans, such as the ability to reason, discover meaning, generalize, or learn from past experience.'}, {'url': 'https://cloud.google.com/learn/what-is-artificial-intelligence', 'content': 'Solution\\nSolution\\nSolution\\nSolution\\nSolution\\nSolution\\nTake the next step\\nStart\\nbuilding on Google Cloud with $300 in free credits and 20+\\nalways free products.\\n Artificial intelligence (AI) is a set of technologies\\nthat enable computers to perform a variety of advanced\\nfunctions, including the ability to\\nsee,\\nunderstand and\\ntranslate spoken and written language,\\nanalyze data,\\nmake recommendations, and more.\\n Artificial intelligence\\ndefined\\nArtificial intelligence is a field of science\\nconcerned with building computers and machines that\\ncan reason, learn, and act in such a way that would\\nnormally require human intelligence or that involves\\ndata whose scale exceeds what humans can\\nanalyze.\\n By using products like\\nVertex AI,\\nCCAI,\\nDocAI,\\nor AI APIs, organizations can make sense of all the data\\nthey’re producing, collecting, or otherwise analyzing,\\nno matter what format it’s in, to make actionable\\nbusiness decisions.\\n On an operational level for business use, AI is a\\nset of technologies that are based primarily on\\nmachine learning and deep learning, used for data\\nanalytics, predictions and forecasting, object\\ncategorization, natural language processing,\\nrecommendations, intelligent data retrieval, and\\nmore.\\n'}, {'url': 'https://ai.engineering.columbia.edu/ai-vs-machine-learning/', 'content': 'Home / Artificial Intelligence (AI) vs. Machine Learning\\nArtificial Intelligence (AI) vs. Machine LearningArtificial Intelligence (AI) vs. Machine LearningArtificial Intelligence (AI) vs. Machine Learning\\nArtificial intelligence (AI) and machine learning are often used interchangeably, but machine learning is a subset of the broader category of AI.\\n Computer programmers and software developers enable computers to analyze data and solve problems — essentially, they create artificial intelligence systems — by applying tools such as:\\nBelow is a breakdown of the differences between artificial intelligence and machine learning as well as how they are being applied in organizations large and small today.\\n Put in context, artificial intelligence refers to the general ability of computers to emulate human\\xa0thought and perform tasks in real-world environments, while machine learning refers to the technologies and algorithms that enable systems to identify patterns, make decisions, and improve themselves through experience and data.\\n Artificial intelligence can help manufacturing leaders automate their business processes by applying data analytics and machine learning to applications such as the following:\\nAI and Machine Learning in Banking\\nData privacy and security are especially critical within the banking industry. Financial services leaders can keep customer data secure while increasing efficiencies using AI and machine learning in several ways:\\nAI Applications in Health Care\\nThe health care field uses huge amounts of data and increasingly relies on informatics and analytics to provide accurate, efficient health services.'}, {'url': 'https://en.wikipedia.org/wiki/A.I._Artificial_Intelligence', 'content': 'But it\\'s a brilliant piece of film and of course it\\'s a phenomenon because it contains the energies and talents of two brilliant filmmakers\".[50] Richard Corliss heavily praised Spielberg\\'s direction, as well as the cast and visual effects.[51]\\nRoger Ebert gave the film three stars out of a possible four, saying that it is \"wonderful and maddening\".[52] Ebert later gave the film a full four stars and added it to his \"Great Movies\" list in 2011.[53] Leonard Maltin, on the other hand, gives the film two stars out of four in his Movie Guide, writing: \"[The] intriguing story draws us in, thanks in part to Osment\\'s exceptional performance, but takes several wrong turns; ultimately, it just doesn\\'t work. Plus, quite a few critics in America misunderstood the film, thinking for instance that the Giacometti-style beings in the final 20 minutes were aliens (whereas they were robots of the future who had evolved themselves from the robots in the earlier part of the film) and also thinking that the final 20 minutes were a sentimental addition by Spielberg, whereas those scenes were exactly what I wrote for Stanley and exactly what he wanted, filmed faithfully by Spielberg. However, Spielberg asked Angel to be on the set every day to make line alterations wherever he felt necessary.[32] Social robotics expert Cynthia Breazeal served as technical consultant during production.[21][33] Costume designer Bob Ringwood studied pedestrians on the Las Vegas Strip for his influence on the Rouge City extras.[34] Additional visual effects such as removing the visible rods controlling Teddy and removing Haley Joel Osment\\'s breath, were provided in-house by PDI/DreamWorks.[35]\\nCasting[edit]\\nJulianne Moore and Gwyneth Paltrow were considered for the role of Monica Swinton before Frances O\\'Connor was cast and Jerry Seinfeld was originally considered to voice and play the Comedian Robot before Chris Rock was cast.[36]\\nSoundtrack[edit]\\n To avoid audiences mistaking A.I. for a family film, no action figures were created, although Hasbro released a talking Teddy following the film\\'s release in June 2001.[21]\\nA.I. premiered at the Venice Film Festival in 2001.[38]\\nHome media[edit]\\nA.I. Artificial Intelligence was released on VHS and DVD in the United States by DreamWorks Home Entertainment on March 5, 2002[39][40] in widescreen and full-screen 2-disc special editions featuring an extensive sixteen-part documentary detailing the film\\'s development, production, music and visual effects. After the release of Spielberg\\'s Jurassic Park, with its innovative computer-generated imagery, it was announced in November 1993 that production of A.I. would begin in 1994.[16] Dennis Muren and Ned Gorman, who worked on Jurassic Park, became visual effects supervisors,[13] but Kubrick was displeased with their previsualization, and with the expense of hiring Industrial Light & Magic.[17]\\n\"Stanley [Kubrick] showed Steven [Spielberg] 650 drawings which he had, and the script and the story, everything.'}, {'url': 'https://www.sas.com/en_us/insights/analytics/what-is-artificial-intelligence.html', 'content': \"Next Steps\\nSee how Artificial Intelligence Solutions augment human creativity and endeavors with AI.\\nFeatured product for ARTIFICIAL INTELLIGENCE\\nSAS®\\xa0Visual Data Mining and Machine Learning\\nAI is simplified when you can prepare data for analysis, develop models with modern machine-learning algorithms and integrate\\xa0text analytics\\xa0all in one product. Learn more about SAS\\nSelect Your Region\\nAmericas\\nEurope\\nMiddle East & Africa\\nAsia Pacific\\nAmericas\\nEurope\\nMiddle East & Africa\\nAsia Pacific\\nHi !\\n Keep reading for modern examples of artificial intelligence in health care, retail and more.\\n1950s–1970s\\nNeural Networks\\nEarly work with neural networks stirs excitement for “thinking machines.”\\n1980s–2010s\\nMachine Learning\\nMachine learning becomes popular.\\n Advance your career and train your team in sought after skills\\nWhy Learn SAS?\\nWhy SAS?\\nLearn why SAS is the world's most trusted analytics platform, and why analysts, customers and industry experts love SAS.\\n Artificial Intelligence trends to watch\\nQuick, watch this video to hear AI experts and data science pros weigh in on AI trends for the next decade.\\n\"}]\n",
      "Length of LangChain results: 5\n",
      "\n",
      "Tavily API Search Results (max_results=3):\n",
      "{'query': 'Artificial Intelligence', 'follow_up_questions': None, 'answer': None, 'images': [], 'results': [{'title': 'Artificial intelligence (AI) | Definition, Examples, Types, Applications, Companies, & Facts', 'url': 'https://www.britannica.com/technology/artificial-intelligence', 'content': 'For example, a program that learns the past tense of regular English verbs by rote will not be able to produce the past tense of a word such as jump unless it previously had been presented with jumped, whereas a program that is able to generalize can learn the “add ed” rule and so form the past tense of jump based on experience with similar verbs. The real nature of the wasp’s instinctual behaviour is revealed if the food is moved a few inches away from the entrance to her burrow while she is inside: on emerging, she will repeat the whole procedure as often as the food is displaced. The program might then store the solution with the position so that the next time the computer encountered the same position it would recall the solution. Artificial intelligence is the ability of a computer or computer-controlled robot to perform tasks that are commonly associated with the\\xa0intellectual\\xa0processes characteristic of humans, such as the ability to reason. The term is frequently applied to the project of developing systems endowed with the intellectual processes characteristic of humans, such as the ability to reason, discover meaning, generalize, or learn from past experience.', 'score': 0.88372874, 'raw_content': 'artificial intelligence\\nOur editors will review what you’ve submitted and determine whether to revise the article.\\nOur editors will review what you’ve submitted and determine whether to revise the article.\\nRecent News\\nWhat is artificial intelligence?\\nArtificial intelligence is the ability of a computer or computer-controlled robot to perform tasks that are commonly associated with the\\xa0intellectual\\xa0processes characteristic of humans, such as the ability to reason. Although there are as yet no AIs that match full human flexibility over wider domains or in tasks requiring much everyday knowledge, some AIs perform specific tasks as well as humans. Learn more.\\nAre artificial intelligence and machine learning the same?\\nNo, artificial intelligence and machine learning are not the same, but they are closely related. Machine learning is the method to train a computer to learn from its inputs but without explicit programming for every circumstance. Machine learning helps a computer to achieve artificial intelligence.\\nartificial intelligence (AI),\\nthe ability of a digital computer or computer-controlled robot to perform tasks commonly associated with intelligent beings. The term is frequently applied to the project of developing systems endowed with the intellectual processes characteristic of humans, such as the ability to reason, discover meaning, generalize, or learn from past experience. Since the development of the digital computer in the 1940s, it has been demonstrated that computers can be programmed to carry out very complex tasks—such as discovering proofs for mathematical theorems or playing chess—with great proficiency. Still, despite continuing advances in computer processing speed and memory capacity, there are as yet no programs that can match full human flexibility over wider domains or in tasks requiring much everyday knowledge. On the other hand, some programs have attained the performance levels of human experts and professionals in performing certain specific tasks, so that artificial intelligence in this limited sense is found in applications as diverse as medical diagnosis, computer search engines, voice or handwriting recognition, and chatbots.\\n(Read Ray Kurzweil’s Britannica essay on the future of “Nonbiological Man.”)\\nWhat is intelligence?\\nAll but the simplest human behaviour is ascribed to intelligence, while even the most complicated insect behaviour is usually not taken as an indication of intelligence. What is the difference? Consider the behaviour of the digger wasp, Sphex ichneumoneus. When the female wasp returns to her burrow with food, she first deposits it on the threshold, checks for intruders inside her burrow, and only then, if the coast is clear, carries her food inside. The real nature of the wasp’s instinctual behaviour is revealed if the food is moved a few inches away from the entrance to her burrow while she is inside: on emerging, she will repeat the whole procedure as often as the food is displaced. Intelligence—conspicuously absent in the case of Sphex—must include the ability to adapt to new circumstances.\\n(Read Yuval Noah Harari’s Britannica essay on the future of “Nonconscious Man.”)\\nPsychologists generally characterize human intelligence not by just one trait but by the combination of many diverse abilities. Research in AI has focused chiefly on the following components of intelligence: learning, reasoning, problem solving, perception, and using language.\\nLearning\\nThere are a number of different forms of learning as applied to artificial intelligence. The simplest is learning by trial and error. For example, a simple computer program for solving mate-in-one chess problems might try moves at random until mate is found. The program might then store the solution with the position so that the next time the computer encountered the same position it would recall the solution. This simple memorizing of individual items and procedures—known as rote learning—is relatively easy to implement on a computer. More challenging is the problem of implementing what is called generalization. Generalization involves applying past experience to analogous new situations. For example, a program that learns the past tense of regular English verbs by rote will not be able to produce the past tense of a word such as jump unless it previously had been presented with jumped, whereas a program that is able to generalize can learn the “add ed” rule and so form the past tense of jump based on experience with similar verbs.'}, {'title': 'What Is Artificial Intelligence (AI)? | Google Cloud', 'url': 'https://cloud.google.com/learn/what-is-artificial-intelligence', 'content': 'Solution\\nSolution\\nSolution\\nSolution\\nSolution\\nSolution\\nTake the next step\\nStart\\nbuilding on Google Cloud with $300 in free credits and 20+\\nalways free products.\\n Artificial intelligence (AI) is a set of technologies\\nthat enable computers to perform a variety of advanced\\nfunctions, including the ability to\\nsee,\\nunderstand and\\ntranslate spoken and written language,\\nanalyze data,\\nmake recommendations, and more.\\n Artificial intelligence\\ndefined\\nArtificial intelligence is a field of science\\nconcerned with building computers and machines that\\ncan reason, learn, and act in such a way that would\\nnormally require human intelligence or that involves\\ndata whose scale exceeds what humans can\\nanalyze.\\n By using products like\\nVertex AI,\\nCCAI,\\nDocAI,\\nor AI APIs, organizations can make sense of all the data\\nthey’re producing, collecting, or otherwise analyzing,\\nno matter what format it’s in, to make actionable\\nbusiness decisions.\\n On an operational level for business use, AI is a\\nset of technologies that are based primarily on\\nmachine learning and deep learning, used for data\\nanalytics, predictions and forecasting, object\\ncategorization, natural language processing,\\nrecommendations, intelligent data retrieval, and\\nmore.\\n', 'score': 0.77751994, 'raw_content': 'What is Artificial\\nIntelligence (AI)?\\nArtificial intelligence (AI) is a set of technologies\\nthat enable computers to perform a variety of advanced\\nfunctions, including the ability to\\nsee,\\nunderstand and\\ntranslate spoken and written language,\\nanalyze data,\\nmake recommendations, and more.\\nAI is the backbone of innovation in modern computing,\\nunlocking value for individuals and businesses. For\\nexample,\\noptical character recognition (OCR)\\nuses AI to extract text and data from images and\\ndocuments, turns unstructured content into\\nbusiness-ready structured data, and unlocks valuable\\ninsights.\\nReady to get started? New customers get $300 in free\\ncredits to spend on Google Cloud.\\nArtificial intelligence\\ndefined\\nArtificial intelligence is a field of science\\nconcerned with building computers and machines that\\ncan reason, learn, and act in such a way that would\\nnormally require human intelligence or that involves\\ndata whose scale exceeds what humans can\\nanalyze.\\nAI is a broad field that encompasses many different\\ndisciplines, including computer science, data\\nanalytics and statistics, hardware and software\\nengineering, linguistics, neuroscience, and even\\nphilosophy and psychology.\\nOn an operational level for business use, AI is a\\nset of technologies that are based primarily on\\nmachine learning and deep learning, used for data\\nanalytics, predictions and forecasting, object\\ncategorization, natural language processing,\\nrecommendations, intelligent data retrieval, and\\nmore.\\nTypes of artificial\\nintelligence\\nArtificial intelligence can be organized in several ways,\\ndepending on stages of development or actions being\\nperformed.\\nFor instance, four stages of AI development are commonly\\nrecognized.\\nA more useful way of broadly categorizing types of\\nartificial intelligence is by what the machine can do. All\\nof what we currently call artificial intelligence is\\nconsidered artificial “narrow” intelligence, in that it can\\nperform only narrow sets of actions based on its programming\\nand training. For instance, an AI algorithm that is used for\\nobject classification won’t be able to perform natural\\nlanguage processing. Google Search is a form of narrow AI,\\nas is predictive analytics, or virtual assistants.\\nArtificial general intelligence (AGI) would be the ability\\nfor a machine to “sense, think, and act” just like a human.\\nAGI does not currently exist. The next level would be\\nartificial superintelligence (ASI), in which the machine\\nwould be able to function in all ways superior to a\\nhuman.\\nArtificial intelligence\\ntraining models\\nWhen businesses talk about AI, they often talk about\\n“training data.” But what does that mean? Remember that\\nlimited-memory artificial intelligence is AI that improves\\nover time by being trained with new data. Machine learning\\nis a\\nsubset of artificial intelligence\\nthat uses algorithms to train data to obtain results.\\nIn broad strokes, three kinds of learnings models are often\\nused in machine learning:\\nSupervised learning is a machine learning model that\\nmaps a specific input to an output using labeled training\\ndata (structured data). In simple terms, to train the\\nalgorithm to recognize pictures of cats, feed it pictures\\nlabeled as cats.\\nUnsupervised learning is a machine learning model\\nthat learns patterns based on unlabeled data (unstructured\\ndata). Unlike supervised learning, the end result is not\\nknown ahead of time. Rather, the algorithm learns\\nfrom the data, categorizing it into groups based on\\nattributes. For instance, unsupervised learning is good at\\npattern matching and descriptive modeling.\\nIn addition to supervised and unsupervised learning, a\\nmixed approach called semi-supervised learning is often\\nemployed, where only some of the data is labeled. In\\nsemi-supervised learning, an end result is known, but the\\nalgorithm must figure out how to organize and structure the\\ndata to achieve the desired results.\\nReinforcement learning is a machine learning model\\nthat can be broadly described as “learn by doing.” An\\n“agent” learns to perform a defined task by trial and error\\n(a feedback loop) until its performance is within a\\ndesirable range. The agent receives positive reinforcement\\nwhen it performs the task well and negative reinforcement\\nwhen it performs poorly. An example of reinforcement\\nlearning would be teaching a robotic hand to pick up a\\nball.\\nCommon types of artificial\\nneural networks\\nA common type of training model in AI is an artificial\\nneural network, a model loosely based on the human\\nbrain.\\nA neural network is a system of artificial\\nneurons—sometimes called perceptrons—that are computational\\nnodes used to classify and analyze data. The data is fed\\ninto the first layer of a neural network, with each\\nperceptron making a decision, then passing that information\\nonto multiple nodes in the next layer. Training models with\\nmore than three layers are referred to as “deep neural\\nnetworks” or “deep learning.” Some modern neural networks\\nhave hundreds or thousands of layers. The output of the\\nfinal perceptrons accomplish the task set to the neural\\nnetwork, such as classify an object or find patterns in\\ndata.\\nSome of the most common types of artificial neural networks\\nyou may encounter include:\\nFeedforward neural networks (FF) are one of the\\noldest forms of neural networks, with data flowing one way\\nthrough layers of artificial neurons until the output is\\nachieved. In modern days, most feedforward neural networks\\nare considered “deep feedforward” with several layers\\n(and more than one “hidden” layer). Feedforward neural\\nnetworks are typically paired with an error-correction\\nalgorithm called “backpropagation” that, in simple terms,\\nstarts with the result of the neural network and works back\\nthrough to the beginning, finding errors to improve the\\naccuracy of the neural network. Many simple but powerful\\nneural networks are deep feedforward.\\nRecurrent neural networks (RNN) differ from\\nfeedforward neural networks in that they typically use time\\nseries data or data that involves sequences. Unlike\\nfeedforward neural networks, which use weights in each node\\nof the network, recurrent neural networks have “memory” of\\nwhat happened in the previous layer as contingent to the\\noutput of the current layer. For instance, when performing\\nnatural language processing, RNNs can “keep in mind” other\\nwords used in a sentence. RNNs are often used for speech\\nrecognition, translation, and to caption images.\\nLong/short term memory (LSTM) are an advanced form\\nof RNN that can use memory to “remember” what happened in\\nprevious layers. The difference between RNNs and LTSM is\\nthat LTSM can remember what happened several layers ago,\\nthrough the use of “memory cells.” LSTM is often used in\\nspeech recognition and making predictions.\\nConvolutional neural networks (CNN) include some\\nof the most common neural networks in modern artificial\\nintelligence. Most often used in image recognition, CNNs use\\nseveral distinct layers (a convolutional layer, then a\\npooling layer) that filter different parts of an image\\nbefore putting it back together (in the fully connected\\nlayer). The earlier convolutional layers may look for simple\\nfeatures of an image such as colors and edges, before\\nlooking for more complex features in additional layers.\\nGenerative adversarial networks (GAN) involve two\\nneural networks competing against each other in a game that\\nultimately improves the accuracy of the output. One network\\n(the generator) creates examples that the other network (the\\ndiscriminator) attempts to prove true or false. GANs have\\nbeen used to create realistic images and even make art.\\nBenefits of AI\\nAutomation\\nAI can automate workflows and processes or work\\nindependently and autonomously from a human team. For\\nexample, AI can help automate aspects of cybersecurity\\nby continuously monitoring and analyzing network\\ntraffic. Similarly, a smart factory may have dozens of\\ndifferent kinds of AI in use, such as robots using\\ncomputer vision to navigate the factory floor or to\\ninspect products for defects, create digital twins, or\\nuse real-time analytics to measure efficiency and\\noutput.\\nReduce human error\\nAI can eliminate manual errors in data processing,\\nanalytics, assembly in manufacturing, and other tasks\\nthrough automation and algorithms that follow the same\\nprocesses every single time.\\nEliminate repetitive tasks\\nAI can be used to perform repetitive tasks, freeing\\nhuman capital to work on higher impact problems. AI can\\nbe used to automate processes, like verifying documents,\\ntranscribing phone calls, or answering simple customer\\nquestions like “what time do you close?” Robots are\\noften used to perform “dull, dirty, or dangerous” tasks\\nin the place of a human.\\nFast and accurate\\nAI can process more information more quickly than a\\nhuman, finding patterns and discovering relationships in\\ndata that a human may miss.\\nInfinite availability\\nAI is not limited by time of day, the need for breaks,\\nor other human encumbrances. When running in the cloud,\\nAI and machine learning can be “always on,” continuously\\nworking on its assigned tasks.\\nAccelerated research and development\\nThe ability to analyze vast amounts of data quickly can\\nlead to accelerated breakthroughs in research and\\ndevelopment. For instance, AI has been used in\\npredictive modeling of potential new pharmaceutical\\ntreatments, or to quantify the human genome.\\nSolve your business challenges with Google Cloud\\nApplications and use cases for artificial intelligence\\nSpeech recognition\\nAutomatically convert spoken speech into written text.\\nImage recognition\\nIdentify and categorize various aspects of an image.\\nTranslation\\nTranslate written or spoken words from one language\\ninto another.\\nPredictive modeling\\nMine data to forecast specific outcomes with high\\ndegrees of granularity.\\nData analytics\\nFind patterns and relationships in data for business\\nintelligence.\\nCybersecurity\\nAutonomously scan networks for cyber attacks and\\nthreats.\\nRelated products and services\\nGoogle offers a number of sophisticated artificial\\nintelligence products, solutions, and applications on a\\ntrusted cloud platform that enables businesses to easily\\nbuild and implement AI algorithms and models.\\nBy using products like\\nVertex AI,\\nCCAI,\\nDocAI,\\nor AI APIs, organizations can make sense of all the data\\nthey’re producing, collecting, or otherwise analyzing,\\nno matter what format it’s in, to make actionable\\nbusiness decisions.\\nSolution\\nSolution\\nSolution\\nSolution\\nSolution\\nSolution\\nTake the next step\\nStart\\nbuilding on Google Cloud with $300 in free credits and 20+\\nalways free products.\\nTake the next step\\nStart\\nyour next project, explore interactive tutorials, and\\nmanage your account.\\nWhy Google\\nProducts and pricing\\nSolutions\\nResources\\nEngage'}, {'title': 'Artificial Intelligence (AI) vs. Machine Learning | Columbia AI', 'url': 'https://ai.engineering.columbia.edu/ai-vs-machine-learning/', 'content': 'Home / Artificial Intelligence (AI) vs. Machine Learning\\nArtificial Intelligence (AI) vs. Machine LearningArtificial Intelligence (AI) vs. Machine LearningArtificial Intelligence (AI) vs. Machine Learning\\nArtificial intelligence (AI) and machine learning are often used interchangeably, but machine learning is a subset of the broader category of AI.\\n Computer programmers and software developers enable computers to analyze data and solve problems — essentially, they create artificial intelligence systems — by applying tools such as:\\nBelow is a breakdown of the differences between artificial intelligence and machine learning as well as how they are being applied in organizations large and small today.\\n Put in context, artificial intelligence refers to the general ability of computers to emulate human\\xa0thought and perform tasks in real-world environments, while machine learning refers to the technologies and algorithms that enable systems to identify patterns, make decisions, and improve themselves through experience and data.\\n Artificial intelligence can help manufacturing leaders automate their business processes by applying data analytics and machine learning to applications such as the following:\\nAI and Machine Learning in Banking\\nData privacy and security are especially critical within the banking industry. Financial services leaders can keep customer data secure while increasing efficiencies using AI and machine learning in several ways:\\nAI Applications in Health Care\\nThe health care field uses huge amounts of data and increasingly relies on informatics and analytics to provide accurate, efficient health services.', 'score': 0.74652773, 'raw_content': 'Home / Artificial Intelligence (AI) vs. Machine Learning\\nArtificial Intelligence (AI) vs. Machine LearningArtificial Intelligence (AI) vs. Machine LearningArtificial Intelligence (AI) vs. Machine Learning\\nArtificial intelligence (AI) and machine learning are often used interchangeably, but machine learning is a subset of the broader category of AI.\\nPut in context, artificial intelligence refers to the general ability of computers to emulate human\\xa0thought and perform tasks in real-world environments, while machine learning refers to the technologies and algorithms that enable systems to identify patterns, make decisions, and improve themselves through experience and data.\\nComputer programmers and software developers enable computers to analyze data and solve problems — essentially, they create artificial intelligence systems — by applying tools such as:\\nBelow is a breakdown of the differences between artificial intelligence and machine learning as well as how they are being applied in organizations large and small today.\\nWhat Is Artificial Intelligence?\\nArtificial Intelligence is the field of developing computers and robots that are capable of behaving in ways that both mimic and go beyond human capabilities. AI-enabled programs can analyze and contextualize data to provide information or automatically trigger actions without human interference.\\nToday, artificial intelligence is at the heart of many technologies we use, including smart devices and voice assistants such as Siri on Apple devices. Companies are incorporating techniques such as natural language processing and computer vision — the ability for computers to use human language and interpret images \\xad— to automate tasks, accelerate decision making, and enable customer conversations with chatbots.\\nWhat Is Machine Learning?\\nMachine learning is a pathway to artificial intelligence. This subcategory of AI uses algorithms to automatically learn insights and recognize patterns from data, applying that learning to make increasingly better decisions.\\nBy studying and experimenting with machine learning, programmers test the limits of how much they can improve the perception, cognition, and action of a computer system.\\nDeep learning, an advanced method of machine learning, goes a step further. Deep learning models use large neural networks — networks that function like a human brain to logically analyze data — to learn complex patterns and make predictions independent of human input.\\nHow Companies Use AI and Machine Learning\\nTo be successful in nearly any industry, organizations must be able to transform their data into actionable insight. Artificial Intelligence and machine learning give organizations the advantage of automating a variety of manual processes involving data and decision making.\\nBy incorporating AI and machine learning into their systems and strategic plans, leaders can understand and act on data-driven insights with greater speed and efficiency.\\nAI in the Manufacturing Industry\\nEfficiency is key to the success of an organization in the manufacturing industry. Artificial intelligence can help manufacturing leaders automate their business processes by applying data analytics and machine learning to applications such as the following:\\nAI and Machine Learning in Banking\\nData privacy and security are especially critical within the banking industry. Financial services leaders can keep customer data secure while increasing efficiencies using AI and machine learning in several ways:\\nAI Applications in Health Care\\nThe health care field uses huge amounts of data and increasingly relies on informatics and analytics to provide accurate, efficient health services. AI tools can help improve patient outcomes, save time, and even help providers avoid burnout by:\\nLearn more about how AI is changing the world of health care.\\nThe online Artificial Intelligence executive certificate program, offered through the Fu Foundation School of Engineering and Applied Science at Columbia University, prepares you with the skills and insights to drive AI strategy and adoption across your organization.\\nWith courses that address algorithms, machine learning, data privacy, robotics, and other AI topics, this non-credit program is designed for forward-thinking team leaders and technically proficient professionals who want to gain a deeper understanding of the applications of AI. You can complete the program in 18 months while continuing to work.\\nRequest Information\\nRequest Information\\nRequest Information'}], 'response_time': 2.34}\n",
      "Length of Tavily API results: 6\n"
     ]
    }
   ],
   "source": [
    "from langchain.tools import TavilySearchResults\n",
    "# import tavily_client  # Assuming Tavily API is installed and set up\n",
    "\n",
    "# Use LangChain's TavilySearchResults with 'k' to control results for speed\n",
    "def search_with_langchain(query, k):\n",
    "    # Initialize the LangChain TavilySearchResults tool with 'k'\n",
    "    web_search_tool = TavilySearchResults(k=k)\n",
    "    results = web_search_tool.invoke(query)\n",
    "    return results\n",
    "\n",
    "# Use Tavily API client directly with 'max_results' to control speed\n",
    "def search_with_tavily_api(query, max_results):\n",
    "    result = tavily_client.search(\n",
    "        query,\n",
    "        max_results=max_results,  # Set the number of results\n",
    "        include_raw_content=True,\n",
    "        topic=\"general\"\n",
    "    )\n",
    "    return result\n",
    "\n",
    "# Test the functions with query\n",
    "query = \"Artificial Intelligence\"\n",
    "\n",
    "# Test with LangChain's TavilySearchResults (using 'k')\n",
    "print(\"LangChain Search Results (k=3):\")\n",
    "langchain_results = search_with_langchain(query, k=3)\n",
    "print(langchain_results)\n",
    "print(f\"Length of LangChain results: {len(langchain_results)}\\n\")\n",
    "\n",
    "# Test with Tavily API Client (using 'max_results')\n",
    "print(\"Tavily API Search Results (max_results=3):\")\n",
    "tavily_api_results = search_with_tavily_api(query, max_results=3)\n",
    "print(tavily_api_results)\n",
    "print(f\"Length of Tavily API results: {len(tavily_api_results)}\")\n",
    "\n"
   ]
  },
  {
   "cell_type": "code",
   "execution_count": 42,
   "metadata": {},
   "outputs": [
    {
     "data": {
      "text/plain": [
       "[{'url': 'https://www.britannica.com/technology/artificial-intelligence',\n",
       "  'content': 'For example, a program that learns the past tense of regular English verbs by rote will not be able to produce the past tense of a word such as jump unless it previously had been presented with jumped, whereas a program that is able to generalize can learn the “add ed” rule and so form the past tense of jump based on experience with similar verbs. The real nature of the wasp’s instinctual behaviour is revealed if the food is moved a few inches away from the entrance to her burrow while she is inside: on emerging, she will repeat the whole procedure as often as the food is displaced. The program might then store the solution with the position so that the next time the computer encountered the same position it would recall the solution. Artificial intelligence is the ability of a computer or computer-controlled robot to perform tasks that are commonly associated with the\\xa0intellectual\\xa0processes characteristic of humans, such as the ability to reason. The term is frequently applied to the project of developing systems endowed with the intellectual processes characteristic of humans, such as the ability to reason, discover meaning, generalize, or learn from past experience.'},\n",
       " {'url': 'https://cloud.google.com/learn/what-is-artificial-intelligence',\n",
       "  'content': 'Solution\\nSolution\\nSolution\\nSolution\\nSolution\\nSolution\\nTake the next step\\nStart\\nbuilding on Google Cloud with $300 in free credits and 20+\\nalways free products.\\n Artificial intelligence (AI) is a set of technologies\\nthat enable computers to perform a variety of advanced\\nfunctions, including the ability to\\nsee,\\nunderstand and\\ntranslate spoken and written language,\\nanalyze data,\\nmake recommendations, and more.\\n Artificial intelligence\\ndefined\\nArtificial intelligence is a field of science\\nconcerned with building computers and machines that\\ncan reason, learn, and act in such a way that would\\nnormally require human intelligence or that involves\\ndata whose scale exceeds what humans can\\nanalyze.\\n By using products like\\nVertex AI,\\nCCAI,\\nDocAI,\\nor AI APIs, organizations can make sense of all the data\\nthey’re producing, collecting, or otherwise analyzing,\\nno matter what format it’s in, to make actionable\\nbusiness decisions.\\n On an operational level for business use, AI is a\\nset of technologies that are based primarily on\\nmachine learning and deep learning, used for data\\nanalytics, predictions and forecasting, object\\ncategorization, natural language processing,\\nrecommendations, intelligent data retrieval, and\\nmore.\\n'},\n",
       " {'url': 'https://ai.engineering.columbia.edu/ai-vs-machine-learning/',\n",
       "  'content': 'Home / Artificial Intelligence (AI) vs. Machine Learning\\nArtificial Intelligence (AI) vs. Machine LearningArtificial Intelligence (AI) vs. Machine LearningArtificial Intelligence (AI) vs. Machine Learning\\nArtificial intelligence (AI) and machine learning are often used interchangeably, but machine learning is a subset of the broader category of AI.\\n Computer programmers and software developers enable computers to analyze data and solve problems — essentially, they create artificial intelligence systems — by applying tools such as:\\nBelow is a breakdown of the differences between artificial intelligence and machine learning as well as how they are being applied in organizations large and small today.\\n Put in context, artificial intelligence refers to the general ability of computers to emulate human\\xa0thought and perform tasks in real-world environments, while machine learning refers to the technologies and algorithms that enable systems to identify patterns, make decisions, and improve themselves through experience and data.\\n Artificial intelligence can help manufacturing leaders automate their business processes by applying data analytics and machine learning to applications such as the following:\\nAI and Machine Learning in Banking\\nData privacy and security are especially critical within the banking industry. Financial services leaders can keep customer data secure while increasing efficiencies using AI and machine learning in several ways:\\nAI Applications in Health Care\\nThe health care field uses huge amounts of data and increasingly relies on informatics and analytics to provide accurate, efficient health services.'},\n",
       " {'url': 'https://en.wikipedia.org/wiki/A.I._Artificial_Intelligence',\n",
       "  'content': 'But it\\'s a brilliant piece of film and of course it\\'s a phenomenon because it contains the energies and talents of two brilliant filmmakers\".[50] Richard Corliss heavily praised Spielberg\\'s direction, as well as the cast and visual effects.[51]\\nRoger Ebert gave the film three stars out of a possible four, saying that it is \"wonderful and maddening\".[52] Ebert later gave the film a full four stars and added it to his \"Great Movies\" list in 2011.[53] Leonard Maltin, on the other hand, gives the film two stars out of four in his Movie Guide, writing: \"[The] intriguing story draws us in, thanks in part to Osment\\'s exceptional performance, but takes several wrong turns; ultimately, it just doesn\\'t work. Plus, quite a few critics in America misunderstood the film, thinking for instance that the Giacometti-style beings in the final 20 minutes were aliens (whereas they were robots of the future who had evolved themselves from the robots in the earlier part of the film) and also thinking that the final 20 minutes were a sentimental addition by Spielberg, whereas those scenes were exactly what I wrote for Stanley and exactly what he wanted, filmed faithfully by Spielberg. However, Spielberg asked Angel to be on the set every day to make line alterations wherever he felt necessary.[32] Social robotics expert Cynthia Breazeal served as technical consultant during production.[21][33] Costume designer Bob Ringwood studied pedestrians on the Las Vegas Strip for his influence on the Rouge City extras.[34] Additional visual effects such as removing the visible rods controlling Teddy and removing Haley Joel Osment\\'s breath, were provided in-house by PDI/DreamWorks.[35]\\nCasting[edit]\\nJulianne Moore and Gwyneth Paltrow were considered for the role of Monica Swinton before Frances O\\'Connor was cast and Jerry Seinfeld was originally considered to voice and play the Comedian Robot before Chris Rock was cast.[36]\\nSoundtrack[edit]\\n To avoid audiences mistaking A.I. for a family film, no action figures were created, although Hasbro released a talking Teddy following the film\\'s release in June 2001.[21]\\nA.I. premiered at the Venice Film Festival in 2001.[38]\\nHome media[edit]\\nA.I. Artificial Intelligence was released on VHS and DVD in the United States by DreamWorks Home Entertainment on March 5, 2002[39][40] in widescreen and full-screen 2-disc special editions featuring an extensive sixteen-part documentary detailing the film\\'s development, production, music and visual effects. After the release of Spielberg\\'s Jurassic Park, with its innovative computer-generated imagery, it was announced in November 1993 that production of A.I. would begin in 1994.[16] Dennis Muren and Ned Gorman, who worked on Jurassic Park, became visual effects supervisors,[13] but Kubrick was displeased with their previsualization, and with the expense of hiring Industrial Light & Magic.[17]\\n\"Stanley [Kubrick] showed Steven [Spielberg] 650 drawings which he had, and the script and the story, everything.'},\n",
       " {'url': 'https://www.sas.com/en_us/insights/analytics/what-is-artificial-intelligence.html',\n",
       "  'content': \"Next Steps\\nSee how Artificial Intelligence Solutions augment human creativity and endeavors with AI.\\nFeatured product for ARTIFICIAL INTELLIGENCE\\nSAS®\\xa0Visual Data Mining and Machine Learning\\nAI is simplified when you can prepare data for analysis, develop models with modern machine-learning algorithms and integrate\\xa0text analytics\\xa0all in one product. Learn more about SAS\\nSelect Your Region\\nAmericas\\nEurope\\nMiddle East & Africa\\nAsia Pacific\\nAmericas\\nEurope\\nMiddle East & Africa\\nAsia Pacific\\nHi !\\n Keep reading for modern examples of artificial intelligence in health care, retail and more.\\n1950s–1970s\\nNeural Networks\\nEarly work with neural networks stirs excitement for “thinking machines.”\\n1980s–2010s\\nMachine Learning\\nMachine learning becomes popular.\\n Advance your career and train your team in sought after skills\\nWhy Learn SAS?\\nWhy SAS?\\nLearn why SAS is the world's most trusted analytics platform, and why analysts, customers and industry experts love SAS.\\n Artificial Intelligence trends to watch\\nQuick, watch this video to hear AI experts and data science pros weigh in on AI trends for the next decade.\\n\"}]"
      ]
     },
     "execution_count": 42,
     "metadata": {},
     "output_type": "execute_result"
    }
   ],
   "source": [
    "langchain_results"
   ]
  },
  {
   "cell_type": "code",
   "execution_count": 43,
   "metadata": {},
   "outputs": [
    {
     "data": {
      "text/plain": [
       "{'query': 'Artificial Intelligence',\n",
       " 'follow_up_questions': None,\n",
       " 'answer': None,\n",
       " 'images': [],\n",
       " 'results': [{'title': 'Artificial intelligence (AI) | Definition, Examples, Types, Applications, Companies, & Facts',\n",
       "   'url': 'https://www.britannica.com/technology/artificial-intelligence',\n",
       "   'content': 'For example, a program that learns the past tense of regular English verbs by rote will not be able to produce the past tense of a word such as jump unless it previously had been presented with jumped, whereas a program that is able to generalize can learn the “add ed” rule and so form the past tense of jump based on experience with similar verbs. The real nature of the wasp’s instinctual behaviour is revealed if the food is moved a few inches away from the entrance to her burrow while she is inside: on emerging, she will repeat the whole procedure as often as the food is displaced. The program might then store the solution with the position so that the next time the computer encountered the same position it would recall the solution. Artificial intelligence is the ability of a computer or computer-controlled robot to perform tasks that are commonly associated with the\\xa0intellectual\\xa0processes characteristic of humans, such as the ability to reason. The term is frequently applied to the project of developing systems endowed with the intellectual processes characteristic of humans, such as the ability to reason, discover meaning, generalize, or learn from past experience.',\n",
       "   'score': 0.88372874,\n",
       "   'raw_content': 'artificial intelligence\\nOur editors will review what you’ve submitted and determine whether to revise the article.\\nOur editors will review what you’ve submitted and determine whether to revise the article.\\nRecent News\\nWhat is artificial intelligence?\\nArtificial intelligence is the ability of a computer or computer-controlled robot to perform tasks that are commonly associated with the\\xa0intellectual\\xa0processes characteristic of humans, such as the ability to reason. Although there are as yet no AIs that match full human flexibility over wider domains or in tasks requiring much everyday knowledge, some AIs perform specific tasks as well as humans. Learn more.\\nAre artificial intelligence and machine learning the same?\\nNo, artificial intelligence and machine learning are not the same, but they are closely related. Machine learning is the method to train a computer to learn from its inputs but without explicit programming for every circumstance. Machine learning helps a computer to achieve artificial intelligence.\\nartificial intelligence (AI),\\nthe ability of a digital computer or computer-controlled robot to perform tasks commonly associated with intelligent beings. The term is frequently applied to the project of developing systems endowed with the intellectual processes characteristic of humans, such as the ability to reason, discover meaning, generalize, or learn from past experience. Since the development of the digital computer in the 1940s, it has been demonstrated that computers can be programmed to carry out very complex tasks—such as discovering proofs for mathematical theorems or playing chess—with great proficiency. Still, despite continuing advances in computer processing speed and memory capacity, there are as yet no programs that can match full human flexibility over wider domains or in tasks requiring much everyday knowledge. On the other hand, some programs have attained the performance levels of human experts and professionals in performing certain specific tasks, so that artificial intelligence in this limited sense is found in applications as diverse as medical diagnosis, computer search engines, voice or handwriting recognition, and chatbots.\\n(Read Ray Kurzweil’s Britannica essay on the future of “Nonbiological Man.”)\\nWhat is intelligence?\\nAll but the simplest human behaviour is ascribed to intelligence, while even the most complicated insect behaviour is usually not taken as an indication of intelligence. What is the difference? Consider the behaviour of the digger wasp, Sphex ichneumoneus. When the female wasp returns to her burrow with food, she first deposits it on the threshold, checks for intruders inside her burrow, and only then, if the coast is clear, carries her food inside. The real nature of the wasp’s instinctual behaviour is revealed if the food is moved a few inches away from the entrance to her burrow while she is inside: on emerging, she will repeat the whole procedure as often as the food is displaced. Intelligence—conspicuously absent in the case of Sphex—must include the ability to adapt to new circumstances.\\n(Read Yuval Noah Harari’s Britannica essay on the future of “Nonconscious Man.”)\\nPsychologists generally characterize human intelligence not by just one trait but by the combination of many diverse abilities. Research in AI has focused chiefly on the following components of intelligence: learning, reasoning, problem solving, perception, and using language.\\nLearning\\nThere are a number of different forms of learning as applied to artificial intelligence. The simplest is learning by trial and error. For example, a simple computer program for solving mate-in-one chess problems might try moves at random until mate is found. The program might then store the solution with the position so that the next time the computer encountered the same position it would recall the solution. This simple memorizing of individual items and procedures—known as rote learning—is relatively easy to implement on a computer. More challenging is the problem of implementing what is called generalization. Generalization involves applying past experience to analogous new situations. For example, a program that learns the past tense of regular English verbs by rote will not be able to produce the past tense of a word such as jump unless it previously had been presented with jumped, whereas a program that is able to generalize can learn the “add ed” rule and so form the past tense of jump based on experience with similar verbs.'},\n",
       "  {'title': 'What Is Artificial Intelligence (AI)? | Google Cloud',\n",
       "   'url': 'https://cloud.google.com/learn/what-is-artificial-intelligence',\n",
       "   'content': 'Solution\\nSolution\\nSolution\\nSolution\\nSolution\\nSolution\\nTake the next step\\nStart\\nbuilding on Google Cloud with $300 in free credits and 20+\\nalways free products.\\n Artificial intelligence (AI) is a set of technologies\\nthat enable computers to perform a variety of advanced\\nfunctions, including the ability to\\nsee,\\nunderstand and\\ntranslate spoken and written language,\\nanalyze data,\\nmake recommendations, and more.\\n Artificial intelligence\\ndefined\\nArtificial intelligence is a field of science\\nconcerned with building computers and machines that\\ncan reason, learn, and act in such a way that would\\nnormally require human intelligence or that involves\\ndata whose scale exceeds what humans can\\nanalyze.\\n By using products like\\nVertex AI,\\nCCAI,\\nDocAI,\\nor AI APIs, organizations can make sense of all the data\\nthey’re producing, collecting, or otherwise analyzing,\\nno matter what format it’s in, to make actionable\\nbusiness decisions.\\n On an operational level for business use, AI is a\\nset of technologies that are based primarily on\\nmachine learning and deep learning, used for data\\nanalytics, predictions and forecasting, object\\ncategorization, natural language processing,\\nrecommendations, intelligent data retrieval, and\\nmore.\\n',\n",
       "   'score': 0.77751994,\n",
       "   'raw_content': 'What is Artificial\\nIntelligence (AI)?\\nArtificial intelligence (AI) is a set of technologies\\nthat enable computers to perform a variety of advanced\\nfunctions, including the ability to\\nsee,\\nunderstand and\\ntranslate spoken and written language,\\nanalyze data,\\nmake recommendations, and more.\\nAI is the backbone of innovation in modern computing,\\nunlocking value for individuals and businesses. For\\nexample,\\noptical character recognition (OCR)\\nuses AI to extract text and data from images and\\ndocuments, turns unstructured content into\\nbusiness-ready structured data, and unlocks valuable\\ninsights.\\nReady to get started? New customers get $300 in free\\ncredits to spend on Google Cloud.\\nArtificial intelligence\\ndefined\\nArtificial intelligence is a field of science\\nconcerned with building computers and machines that\\ncan reason, learn, and act in such a way that would\\nnormally require human intelligence or that involves\\ndata whose scale exceeds what humans can\\nanalyze.\\nAI is a broad field that encompasses many different\\ndisciplines, including computer science, data\\nanalytics and statistics, hardware and software\\nengineering, linguistics, neuroscience, and even\\nphilosophy and psychology.\\nOn an operational level for business use, AI is a\\nset of technologies that are based primarily on\\nmachine learning and deep learning, used for data\\nanalytics, predictions and forecasting, object\\ncategorization, natural language processing,\\nrecommendations, intelligent data retrieval, and\\nmore.\\nTypes of artificial\\nintelligence\\nArtificial intelligence can be organized in several ways,\\ndepending on stages of development or actions being\\nperformed.\\nFor instance, four stages of AI development are commonly\\nrecognized.\\nA more useful way of broadly categorizing types of\\nartificial intelligence is by what the machine can do. All\\nof what we currently call artificial intelligence is\\nconsidered artificial “narrow” intelligence, in that it can\\nperform only narrow sets of actions based on its programming\\nand training. For instance, an AI algorithm that is used for\\nobject classification won’t be able to perform natural\\nlanguage processing. Google Search is a form of narrow AI,\\nas is predictive analytics, or virtual assistants.\\nArtificial general intelligence (AGI) would be the ability\\nfor a machine to “sense, think, and act” just like a human.\\nAGI does not currently exist. The next level would be\\nartificial superintelligence (ASI), in which the machine\\nwould be able to function in all ways superior to a\\nhuman.\\nArtificial intelligence\\ntraining models\\nWhen businesses talk about AI, they often talk about\\n“training data.” But what does that mean? Remember that\\nlimited-memory artificial intelligence is AI that improves\\nover time by being trained with new data. Machine learning\\nis a\\nsubset of artificial intelligence\\nthat uses algorithms to train data to obtain results.\\nIn broad strokes, three kinds of learnings models are often\\nused in machine learning:\\nSupervised learning is a machine learning model that\\nmaps a specific input to an output using labeled training\\ndata (structured data). In simple terms, to train the\\nalgorithm to recognize pictures of cats, feed it pictures\\nlabeled as cats.\\nUnsupervised learning is a machine learning model\\nthat learns patterns based on unlabeled data (unstructured\\ndata). Unlike supervised learning, the end result is not\\nknown ahead of time. Rather, the algorithm learns\\nfrom the data, categorizing it into groups based on\\nattributes. For instance, unsupervised learning is good at\\npattern matching and descriptive modeling.\\nIn addition to supervised and unsupervised learning, a\\nmixed approach called semi-supervised learning is often\\nemployed, where only some of the data is labeled. In\\nsemi-supervised learning, an end result is known, but the\\nalgorithm must figure out how to organize and structure the\\ndata to achieve the desired results.\\nReinforcement learning is a machine learning model\\nthat can be broadly described as “learn by doing.” An\\n“agent” learns to perform a defined task by trial and error\\n(a feedback loop) until its performance is within a\\ndesirable range. The agent receives positive reinforcement\\nwhen it performs the task well and negative reinforcement\\nwhen it performs poorly. An example of reinforcement\\nlearning would be teaching a robotic hand to pick up a\\nball.\\nCommon types of artificial\\nneural networks\\nA common type of training model in AI is an artificial\\nneural network, a model loosely based on the human\\nbrain.\\nA neural network is a system of artificial\\nneurons—sometimes called perceptrons—that are computational\\nnodes used to classify and analyze data. The data is fed\\ninto the first layer of a neural network, with each\\nperceptron making a decision, then passing that information\\nonto multiple nodes in the next layer. Training models with\\nmore than three layers are referred to as “deep neural\\nnetworks” or “deep learning.” Some modern neural networks\\nhave hundreds or thousands of layers. The output of the\\nfinal perceptrons accomplish the task set to the neural\\nnetwork, such as classify an object or find patterns in\\ndata.\\nSome of the most common types of artificial neural networks\\nyou may encounter include:\\nFeedforward neural networks (FF) are one of the\\noldest forms of neural networks, with data flowing one way\\nthrough layers of artificial neurons until the output is\\nachieved. In modern days, most feedforward neural networks\\nare considered “deep feedforward” with several layers\\n(and more than one “hidden” layer). Feedforward neural\\nnetworks are typically paired with an error-correction\\nalgorithm called “backpropagation” that, in simple terms,\\nstarts with the result of the neural network and works back\\nthrough to the beginning, finding errors to improve the\\naccuracy of the neural network. Many simple but powerful\\nneural networks are deep feedforward.\\nRecurrent neural networks (RNN) differ from\\nfeedforward neural networks in that they typically use time\\nseries data or data that involves sequences. Unlike\\nfeedforward neural networks, which use weights in each node\\nof the network, recurrent neural networks have “memory” of\\nwhat happened in the previous layer as contingent to the\\noutput of the current layer. For instance, when performing\\nnatural language processing, RNNs can “keep in mind” other\\nwords used in a sentence. RNNs are often used for speech\\nrecognition, translation, and to caption images.\\nLong/short term memory (LSTM) are an advanced form\\nof RNN that can use memory to “remember” what happened in\\nprevious layers. The difference between RNNs and LTSM is\\nthat LTSM can remember what happened several layers ago,\\nthrough the use of “memory cells.” LSTM is often used in\\nspeech recognition and making predictions.\\nConvolutional neural networks (CNN) include some\\nof the most common neural networks in modern artificial\\nintelligence. Most often used in image recognition, CNNs use\\nseveral distinct layers (a convolutional layer, then a\\npooling layer) that filter different parts of an image\\nbefore putting it back together (in the fully connected\\nlayer). The earlier convolutional layers may look for simple\\nfeatures of an image such as colors and edges, before\\nlooking for more complex features in additional layers.\\nGenerative adversarial networks (GAN) involve two\\nneural networks competing against each other in a game that\\nultimately improves the accuracy of the output. One network\\n(the generator) creates examples that the other network (the\\ndiscriminator) attempts to prove true or false. GANs have\\nbeen used to create realistic images and even make art.\\nBenefits of AI\\nAutomation\\nAI can automate workflows and processes or work\\nindependently and autonomously from a human team. For\\nexample, AI can help automate aspects of cybersecurity\\nby continuously monitoring and analyzing network\\ntraffic. Similarly, a smart factory may have dozens of\\ndifferent kinds of AI in use, such as robots using\\ncomputer vision to navigate the factory floor or to\\ninspect products for defects, create digital twins, or\\nuse real-time analytics to measure efficiency and\\noutput.\\nReduce human error\\nAI can eliminate manual errors in data processing,\\nanalytics, assembly in manufacturing, and other tasks\\nthrough automation and algorithms that follow the same\\nprocesses every single time.\\nEliminate repetitive tasks\\nAI can be used to perform repetitive tasks, freeing\\nhuman capital to work on higher impact problems. AI can\\nbe used to automate processes, like verifying documents,\\ntranscribing phone calls, or answering simple customer\\nquestions like “what time do you close?” Robots are\\noften used to perform “dull, dirty, or dangerous” tasks\\nin the place of a human.\\nFast and accurate\\nAI can process more information more quickly than a\\nhuman, finding patterns and discovering relationships in\\ndata that a human may miss.\\nInfinite availability\\nAI is not limited by time of day, the need for breaks,\\nor other human encumbrances. When running in the cloud,\\nAI and machine learning can be “always on,” continuously\\nworking on its assigned tasks.\\nAccelerated research and development\\nThe ability to analyze vast amounts of data quickly can\\nlead to accelerated breakthroughs in research and\\ndevelopment. For instance, AI has been used in\\npredictive modeling of potential new pharmaceutical\\ntreatments, or to quantify the human genome.\\nSolve your business challenges with Google Cloud\\nApplications and use cases for artificial intelligence\\nSpeech recognition\\nAutomatically convert spoken speech into written text.\\nImage recognition\\nIdentify and categorize various aspects of an image.\\nTranslation\\nTranslate written or spoken words from one language\\ninto another.\\nPredictive modeling\\nMine data to forecast specific outcomes with high\\ndegrees of granularity.\\nData analytics\\nFind patterns and relationships in data for business\\nintelligence.\\nCybersecurity\\nAutonomously scan networks for cyber attacks and\\nthreats.\\nRelated products and services\\nGoogle offers a number of sophisticated artificial\\nintelligence products, solutions, and applications on a\\ntrusted cloud platform that enables businesses to easily\\nbuild and implement AI algorithms and models.\\nBy using products like\\nVertex AI,\\nCCAI,\\nDocAI,\\nor AI APIs, organizations can make sense of all the data\\nthey’re producing, collecting, or otherwise analyzing,\\nno matter what format it’s in, to make actionable\\nbusiness decisions.\\nSolution\\nSolution\\nSolution\\nSolution\\nSolution\\nSolution\\nTake the next step\\nStart\\nbuilding on Google Cloud with $300 in free credits and 20+\\nalways free products.\\nTake the next step\\nStart\\nyour next project, explore interactive tutorials, and\\nmanage your account.\\nWhy Google\\nProducts and pricing\\nSolutions\\nResources\\nEngage'},\n",
       "  {'title': 'Artificial Intelligence (AI) vs. Machine Learning | Columbia AI',\n",
       "   'url': 'https://ai.engineering.columbia.edu/ai-vs-machine-learning/',\n",
       "   'content': 'Home / Artificial Intelligence (AI) vs. Machine Learning\\nArtificial Intelligence (AI) vs. Machine LearningArtificial Intelligence (AI) vs. Machine LearningArtificial Intelligence (AI) vs. Machine Learning\\nArtificial intelligence (AI) and machine learning are often used interchangeably, but machine learning is a subset of the broader category of AI.\\n Computer programmers and software developers enable computers to analyze data and solve problems — essentially, they create artificial intelligence systems — by applying tools such as:\\nBelow is a breakdown of the differences between artificial intelligence and machine learning as well as how they are being applied in organizations large and small today.\\n Put in context, artificial intelligence refers to the general ability of computers to emulate human\\xa0thought and perform tasks in real-world environments, while machine learning refers to the technologies and algorithms that enable systems to identify patterns, make decisions, and improve themselves through experience and data.\\n Artificial intelligence can help manufacturing leaders automate their business processes by applying data analytics and machine learning to applications such as the following:\\nAI and Machine Learning in Banking\\nData privacy and security are especially critical within the banking industry. Financial services leaders can keep customer data secure while increasing efficiencies using AI and machine learning in several ways:\\nAI Applications in Health Care\\nThe health care field uses huge amounts of data and increasingly relies on informatics and analytics to provide accurate, efficient health services.',\n",
       "   'score': 0.74652773,\n",
       "   'raw_content': 'Home / Artificial Intelligence (AI) vs. Machine Learning\\nArtificial Intelligence (AI) vs. Machine LearningArtificial Intelligence (AI) vs. Machine LearningArtificial Intelligence (AI) vs. Machine Learning\\nArtificial intelligence (AI) and machine learning are often used interchangeably, but machine learning is a subset of the broader category of AI.\\nPut in context, artificial intelligence refers to the general ability of computers to emulate human\\xa0thought and perform tasks in real-world environments, while machine learning refers to the technologies and algorithms that enable systems to identify patterns, make decisions, and improve themselves through experience and data.\\nComputer programmers and software developers enable computers to analyze data and solve problems — essentially, they create artificial intelligence systems — by applying tools such as:\\nBelow is a breakdown of the differences between artificial intelligence and machine learning as well as how they are being applied in organizations large and small today.\\nWhat Is Artificial Intelligence?\\nArtificial Intelligence is the field of developing computers and robots that are capable of behaving in ways that both mimic and go beyond human capabilities. AI-enabled programs can analyze and contextualize data to provide information or automatically trigger actions without human interference.\\nToday, artificial intelligence is at the heart of many technologies we use, including smart devices and voice assistants such as Siri on Apple devices. Companies are incorporating techniques such as natural language processing and computer vision — the ability for computers to use human language and interpret images \\xad— to automate tasks, accelerate decision making, and enable customer conversations with chatbots.\\nWhat Is Machine Learning?\\nMachine learning is a pathway to artificial intelligence. This subcategory of AI uses algorithms to automatically learn insights and recognize patterns from data, applying that learning to make increasingly better decisions.\\nBy studying and experimenting with machine learning, programmers test the limits of how much they can improve the perception, cognition, and action of a computer system.\\nDeep learning, an advanced method of machine learning, goes a step further. Deep learning models use large neural networks — networks that function like a human brain to logically analyze data — to learn complex patterns and make predictions independent of human input.\\nHow Companies Use AI and Machine Learning\\nTo be successful in nearly any industry, organizations must be able to transform their data into actionable insight. Artificial Intelligence and machine learning give organizations the advantage of automating a variety of manual processes involving data and decision making.\\nBy incorporating AI and machine learning into their systems and strategic plans, leaders can understand and act on data-driven insights with greater speed and efficiency.\\nAI in the Manufacturing Industry\\nEfficiency is key to the success of an organization in the manufacturing industry. Artificial intelligence can help manufacturing leaders automate their business processes by applying data analytics and machine learning to applications such as the following:\\nAI and Machine Learning in Banking\\nData privacy and security are especially critical within the banking industry. Financial services leaders can keep customer data secure while increasing efficiencies using AI and machine learning in several ways:\\nAI Applications in Health Care\\nThe health care field uses huge amounts of data and increasingly relies on informatics and analytics to provide accurate, efficient health services. AI tools can help improve patient outcomes, save time, and even help providers avoid burnout by:\\nLearn more about how AI is changing the world of health care.\\nThe online Artificial Intelligence executive certificate program, offered through the Fu Foundation School of Engineering and Applied Science at Columbia University, prepares you with the skills and insights to drive AI strategy and adoption across your organization.\\nWith courses that address algorithms, machine learning, data privacy, robotics, and other AI topics, this non-credit program is designed for forward-thinking team leaders and technically proficient professionals who want to gain a deeper understanding of the applications of AI. You can complete the program in 18 months while continuing to work.\\nRequest Information\\nRequest Information\\nRequest Information'}],\n",
       " 'response_time': 2.34}"
      ]
     },
     "execution_count": 43,
     "metadata": {},
     "output_type": "execute_result"
    }
   ],
   "source": [
    "tavily_api_results"
   ]
  },
  {
   "cell_type": "markdown",
   "metadata": {},
   "source": [
    "______________"
   ]
  },
  {
   "cell_type": "markdown",
   "metadata": {},
   "source": [
    "### BUG (**TO SOLVE**) #5: HANDLE the short-term memmory for the agent to have context also about what was [asked,answered] before\n",
    "\n",
    "\n",
    "> e.g which can be the connection between both attacks?\n",
    "\n",
    "- The LLM here should renember that in the past messages, there was one record with ``[input=\"what happened with the new orleans attack?\", output=\"...\"]``\n",
    "\n",
    "- Also we need to ensure we handle the max context windows of the LLM"
   ]
  },
  {
   "cell_type": "markdown",
   "metadata": {},
   "source": [
    "___________________________"
   ]
  },
  {
   "cell_type": "markdown",
   "metadata": {},
   "source": [
    "## Tweaking `narrative_graph.py`"
   ]
  },
  {
   "cell_type": "code",
   "execution_count": null,
   "metadata": {},
   "outputs": [],
   "source": []
  },
  {
   "cell_type": "code",
   "execution_count": null,
   "metadata": {},
   "outputs": [],
   "source": []
  },
  {
   "cell_type": "code",
   "execution_count": null,
   "metadata": {},
   "outputs": [],
   "source": []
  }
 ],
 "metadata": {
  "kernelspec": {
   "display_name": "ai_curator",
   "language": "python",
   "name": "python3"
  },
  "language_info": {
   "codemirror_mode": {
    "name": "ipython",
    "version": 3
   },
   "file_extension": ".py",
   "mimetype": "text/x-python",
   "name": "python",
   "nbconvert_exporter": "python",
   "pygments_lexer": "ipython3",
   "version": "3.11.9"
  }
 },
 "nbformat": 4,
 "nbformat_minor": 2
}
