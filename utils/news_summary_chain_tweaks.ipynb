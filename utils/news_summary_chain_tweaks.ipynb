{
 "cells": [
  {
   "cell_type": "code",
   "execution_count": 14,
   "metadata": {},
   "outputs": [],
   "source": [
    "from langchain.prompts import PromptTemplate\n",
    "# from langchain.runnables.base import RunnableSequence\n",
    "from langchain_openai import ChatOpenAI\n",
    "from langchain_core.output_parsers import StrOutputParser\n",
    "import os\n",
    "\n",
    "# Step 1: Instantiate the GPT-4 model from OpenAI using langchain\n",
    "gpt_4o = ChatOpenAI(model=\"gpt-4o\", temperature=0)\n",
    "\n",
    "# Step 2: Define a prompt template to summarize each news item in a simple and engaging way\n",
    "summary_prompt = PromptTemplate(\n",
    "    input_variables=[\"news_item\"],\n",
    "    template=\"Summarize this news story in a short, simple, and engaging way, focusing on the key events. Exclude sports, health, or fashion topics. Use clear and simple language, and explain any political or economic terms in a way that’s easy to understand for someone without a deep background in these areas.\\\\n{news_item}\"\n",
    ")\n",
    "\n",
    "# Step 3: Define a template for the final narrative\n",
    "final_narrative_prompt = PromptTemplate(\n",
    "    input_variables=[\"summaries\"],\n",
    "    template=(\n",
    "        \"You are a friendly and engaging presenter. Your goal is to explain the important news events that happened this week in a brief, simple, and fun way. \"\n",
    "        \"The following are the summaries of each important event:\\\\n{summaries}\\\\n\"\n",
    "        \"Now, weave these events together and tell the story in a short, high-level overview. Start with an engaging phrase like 'Ready to know what happened this week?'\"\n",
    "        \"Focus on making the information digestible and explain any complex concepts in a simple, clear manner.\"\n",
    "    )\n",
    ")\n",
    "\n",
    "# Step 4: Define the chain for summarizing the news items\n",
    "summary_chain = summary_prompt | gpt_4o | StrOutputParser()\n",
    "\n",
    "# Step 5: Define the chain for generating the final narrative (DEFINE THE PIPELINE)\n",
    "final_narrative_chain = final_narrative_prompt | gpt_4o | StrOutputParser()\n",
    "\n",
    "#todo: here we give to the llm the final narrative prompt, and we parse the output so it is in STRING format\n",
    "\n",
    "# Step 6: Function to summarize each news item in a simple and short way\n",
    "def summarize_news(news_list):\n",
    "    summaries = []\n",
    "    for news_item in news_list:\n",
    "        summary = summary_chain.invoke({\"news_item\": news_item})  # Using the new invoke method for processing\n",
    "        summaries.append(summary)\n",
    "    return summaries\n",
    "\n",
    "# Step 7: Function to create a final engaging narrative combining all summaries\n",
    "def create_final_narrative(summaries):\n",
    "    summaries_str = \"\\\\n\".join([f\"Event {i+1}: {summary}\" for i, summary in enumerate(summaries)])\n",
    "    final_narrative = final_narrative_chain.invoke({\"summaries\": summaries_str})  # Generate the final narrative\n",
    "    return final_narrative\n",
    "\n",
    "# Step 8: Function to read and process the news reports from files\n",
    "def load_news_reports(directory_path=\"../rag_docs\"):\n",
    "    news_list = []\n",
    "    for filename in os.listdir(directory_path):\n",
    "        if filename.endswith(\".md\"):\n",
    "            with open(os.path.join(directory_path, filename), 'r') as file:\n",
    "                news_list.append(file.read())\n",
    "    return news_list\n",
    "\n",
    "# Step 9: Main function that orchestrates summarizing the news and creating the final narrative\n",
    "def main():\n",
    "    # Step 1: Load news reports\n",
    "    news_list = load_news_reports()\n",
    "    \n",
    "    # Step 2: Summarize the news stories\n",
    "    summaries = summarize_news(news_list)\n",
    "    \n",
    "    # Step 3: Generate the final engaging narrative\n",
    "    final_narrative = create_final_narrative(summaries)\n",
    "    \n",
    "    # Step 4: Return or deliver the final story\n",
    "    return final_narrative\n",
    "\n"
   ]
  },
  {
   "cell_type": "code",
   "execution_count": 12,
   "metadata": {},
   "outputs": [
    {
     "name": "stderr",
     "output_type": "stream",
     "text": [
      "01/05/2025 12:45:32 PM - HTTP Request: POST https://api.openai.com/v1/chat/completions \"HTTP/1.1 200 OK\"\n",
      "01/05/2025 12:45:33 PM - HTTP Request: POST https://api.openai.com/v1/chat/completions \"HTTP/1.1 200 OK\"\n",
      "01/05/2025 12:45:35 PM - HTTP Request: POST https://api.openai.com/v1/chat/completions \"HTTP/1.1 200 OK\"\n",
      "01/05/2025 12:45:37 PM - HTTP Request: POST https://api.openai.com/v1/chat/completions \"HTTP/1.1 200 OK\"\n",
      "01/05/2025 12:45:39 PM - HTTP Request: POST https://api.openai.com/v1/chat/completions \"HTTP/1.1 200 OK\"\n",
      "01/05/2025 12:45:41 PM - HTTP Request: POST https://api.openai.com/v1/chat/completions \"HTTP/1.1 200 OK\"\n",
      "01/05/2025 12:45:43 PM - HTTP Request: POST https://api.openai.com/v1/chat/completions \"HTTP/1.1 200 OK\"\n",
      "01/05/2025 12:45:45 PM - HTTP Request: POST https://api.openai.com/v1/chat/completions \"HTTP/1.1 200 OK\"\n",
      "01/05/2025 12:45:46 PM - HTTP Request: POST https://api.openai.com/v1/chat/completions \"HTTP/1.1 200 OK\"\n",
      "01/05/2025 12:45:48 PM - HTTP Request: POST https://api.openai.com/v1/chat/completions \"HTTP/1.1 200 OK\"\n",
      "01/05/2025 12:45:51 PM - HTTP Request: POST https://api.openai.com/v1/chat/completions \"HTTP/1.1 200 OK\"\n",
      "01/05/2025 12:45:53 PM - HTTP Request: POST https://api.openai.com/v1/chat/completions \"HTTP/1.1 200 OK\"\n",
      "01/05/2025 12:45:55 PM - HTTP Request: POST https://api.openai.com/v1/chat/completions \"HTTP/1.1 200 OK\"\n",
      "01/05/2025 12:46:02 PM - HTTP Request: POST https://api.openai.com/v1/chat/completions \"HTTP/1.1 200 OK\"\n"
     ]
    }
   ],
   "source": [
    "news_summary = main()"
   ]
  },
  {
   "cell_type": "code",
   "execution_count": 13,
   "metadata": {},
   "outputs": [
    {
     "data": {
      "text/plain": [
       "\"Ready to know what happened this week? Buckle up, because it's been a whirlwind of events across the globe!\\n\\nFirst, let's set sail to the Canary Islands, where a humanitarian crisis is unfolding. In 2024, this sunny paradise became a critical point for migrant rescues, with nearly 10,000 lives lost at sea. Despite efforts to curb migration, a record number of migrants reached Spain, highlighting the urgent need for international cooperation to address this crisis.\\n\\nMeanwhile, in Spain's Cantabria region, a YouTuber was arrested for making illegal explosives, reminding us of the potential dangers lurking in the world of social media. This incident underscores the importance of responsible content creation and the need for strict regulations to keep the public safe.\\n\\nIn the healthcare realm, DKV Seguros, a major private insurer, decided to stop offering services through Muface, affecting over 1.5 million public sector employees. This shift could lead to longer wait times in the public healthcare system, prompting the Spanish government to seek solutions for maintaining quality care.\\n\\nOver in Yemen, the Director-General of the WHO, Tedros Ghebreyesus, narrowly escaped a bombing at Sanaa Airport, highlighting the perils faced by humanitarian workers in conflict zones. This incident, linked to Israeli airstrikes, adds another layer of complexity to the already tense situation in Yemen.\\n\\nIn the U.S., a tragic event at Marcy Correctional Facility in New York has brought attention to issues of prison brutality and racial discrimination. The fatal beating of inmate Robert Brooks calls for urgent reforms to ensure humane treatment and accountability within the prison system.\\n\\nOn the geopolitical front, Israeli forces dismantled a Hizbulá tunnel in Lebanon, reflecting ongoing tensions and security challenges in the region. Meanwhile, Russia's 'ghost fleet' of old ships is skirting international sanctions, posing environmental and economic risks as they continue to export oil.\\n\\nIn Ukraine, Russia's military presence has grown to 600,000 troops, raising concerns for regional stability. This, coupled with Russia's 730 aerial attacks in one week, underscores the intense conflict and the critical role of international support for Ukraine.\\n\\nIn Venezuela, President Nicolás Maduro is on high alert for potential betrayal within the military, a key pillar of his government's stability. This concern is heightened by the arrest of an Argentine officer accused of terrorism, highlighting fears of foreign influence.\\n\\nAdding to the political drama, Venezuela has requested Spain to extradite opposition leader Dinorah Figuera, spotlighting the ongoing struggle between the government and its critics.\\n\\nAnd in a surprising twist, Ukrainian forces captured a North Korean soldier, marking North Korea's first major military involvement in a European war. This development raises concerns about the growing alliance between North Korea and Russia, with potential implications for global power dynamics.\\n\\nSo there you have it—a week packed with significant events that remind us of the interconnectedness of our world and the challenges we face together. Stay informed and stay engaged!\""
      ]
     },
     "execution_count": 13,
     "metadata": {},
     "output_type": "execute_result"
    }
   ],
   "source": [
    "news_summary"
   ]
  },
  {
   "cell_type": "code",
   "execution_count": null,
   "metadata": {},
   "outputs": [],
   "source": []
  }
 ],
 "metadata": {
  "kernelspec": {
   "display_name": "ai_curator",
   "language": "python",
   "name": "python3"
  },
  "language_info": {
   "codemirror_mode": {
    "name": "ipython",
    "version": 3
   },
   "file_extension": ".py",
   "mimetype": "text/x-python",
   "name": "python",
   "nbconvert_exporter": "python",
   "pygments_lexer": "ipython3",
   "version": "3.11.9"
  }
 },
 "nbformat": 4,
 "nbformat_minor": 2
}
