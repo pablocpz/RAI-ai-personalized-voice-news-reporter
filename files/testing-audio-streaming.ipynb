{
 "cells": [
  {
   "cell_type": "markdown",
   "metadata": {},
   "source": [
    "## 1- Weekly news detailed report workflow"
   ]
  },
  {
   "cell_type": "markdown",
   "metadata": {},
   "source": [
    "- It must take the topics of interest of the user\n",
    "\n",
    "- User's background knowledge"
   ]
  },
  {
   "cell_type": "code",
   "execution_count": null,
   "metadata": {},
   "outputs": [],
   "source": []
  },
  {
   "cell_type": "markdown",
   "metadata": {},
   "source": [
    "_______________"
   ]
  },
  {
   "cell_type": "markdown",
   "metadata": {},
   "source": [
    "## 2- Weekly news high level summarizer"
   ]
  },
  {
   "cell_type": "markdown",
   "metadata": {},
   "source": [
    "- It must take the topics of interest of the user (too)\n",
    "\n",
    "- User's background knowledge"
   ]
  },
  {
   "cell_type": "code",
   "execution_count": null,
   "metadata": {},
   "outputs": [],
   "source": []
  },
  {
   "cell_type": "code",
   "execution_count": null,
   "metadata": {},
   "outputs": [],
   "source": []
  },
  {
   "cell_type": "markdown",
   "metadata": {},
   "source": [
    "______________"
   ]
  },
  {
   "cell_type": "markdown",
   "metadata": {},
   "source": [
    "## 3- Weekly news QA Chatbot "
   ]
  },
  {
   "cell_type": "markdown",
   "metadata": {},
   "source": [
    "- User's background knowledge"
   ]
  },
  {
   "cell_type": "code",
   "execution_count": 1,
   "metadata": {},
   "outputs": [
    {
     "name": "stderr",
     "output_type": "stream",
     "text": [
      "USER_AGENT environment variable not set, consider setting it to identify your requests.\n"
     ]
    }
   ],
   "source": [
    "from utils.chatbot_graph import app, thread"
   ]
  },
  {
   "cell_type": "code",
   "execution_count": 2,
   "metadata": {},
   "outputs": [
    {
     "data": {
      "text/plain": [
       "\"Venezuela and Spain's relations are currently strained. Tensions have risen due to Venezuela's arrest of an Argentine officer, which has also affected Spain because of previous similar incidents involving Spanish citizens. This situation is further complicated by Spain's recognition of an opposition candidate in Venezuela, which the Venezuelan government sees as interference. Historically, their relationship has been complex, influenced by differing political ideologies.\""
      ]
     },
     "execution_count": 2,
     "metadata": {},
     "output_type": "execute_result"
    }
   ],
   "source": [
    "app.invoke({\"question\":\"current relations between Venezuela and Spain\"}, thread)[\"generation\"]"
   ]
  },
  {
   "cell_type": "code",
   "execution_count": 4,
   "metadata": {},
   "outputs": [],
   "source": [
    "from langgraph.errors import GraphRecursionError"
   ]
  },
  {
   "cell_type": "code",
   "execution_count": 6,
   "metadata": {},
   "outputs": [
    {
     "name": "stdout",
     "output_type": "stream",
     "text": [
      "Venezuela and Spain's relations are currently strained. Tensions have risen due to Venezuela's arrest of an Argentine officer, which has also affected Spain because of previous similar incidents involving Spanish citizens. This situation is compounded by Spain's recognition of an opposition candidate in Venezuela, which the Venezuelan government saw as interference. Historically, their relationship has been complex, influenced by differing political ideologies.\n"
     ]
    }
   ],
   "source": [
    "try:\n",
    "    print(app.invoke({\"question\":\"current relations between Venezuela and Spain\"}, thread)[\"generation\"])\n",
    "except GraphRecursionError:\n",
    "    print(\"Recursion Error\") "
   ]
  },
  {
   "cell_type": "markdown",
   "metadata": {},
   "source": [
    "## --- Implementing the sample SST-TTS with the chatbot inside"
   ]
  },
  {
   "cell_type": "markdown",
   "metadata": {},
   "source": [
    "Speech to text setting (`we'll start with a duration=5 secs before proceeding with the transcription`)"
   ]
  },
  {
   "cell_type": "code",
   "execution_count": 1,
   "metadata": {},
   "outputs": [],
   "source": [
    "import sounddevice as sd\n",
    "\n",
    "def record_audio(duration=5, sample_rate=44100):\n",
    "    print(\"Recording...\")\n",
    "    recording = sd.rec(int(duration * sample_rate), samplerate=sample_rate, channels=2, dtype='int16')\n",
    "    sd.wait()\n",
    "    return recording"
   ]
  },
  {
   "cell_type": "code",
   "execution_count": 2,
   "metadata": {},
   "outputs": [],
   "source": [
    "from pydub import AudioSegment\n",
    "import numpy as np\n",
    "import os\n",
    "\n",
    "def save_as_mp3(audio_data, sample_rate=44100, file_name='output.mp3', folder='audio'):\n",
    "    if not os.path.exists(folder):\n",
    "        os.makedirs(folder)\n",
    "    full_path = os.path.join(folder, file_name)\n",
    "    audio_segment = AudioSegment(\n",
    "        data=np.array(audio_data).tobytes(),\n",
    "        sample_width=2,\n",
    "        frame_rate=sample_rate,\n",
    "        channels=2\n",
    "    )\n",
    "    audio_segment.export(full_path, format='mp3')\n",
    "    return full_path"
   ]
  },
  {
   "cell_type": "code",
   "execution_count": 3,
   "metadata": {},
   "outputs": [],
   "source": [
    "from openai import OpenAI\n",
    "\n",
    "def transcribe_audio(file_path):\n",
    "    client = OpenAI()\n",
    "    with open(file_path, \"rb\") as audio_file:\n",
    "        transcription = client.audio.transcriptions.create(\n",
    "            model=\"whisper-1\",\n",
    "            file=audio_file,\n",
    "            language='en'\n",
    "        )\n",
    "    print(f'Transcription: {transcription.text}')"
   ]
  },
  {
   "cell_type": "code",
   "execution_count": 4,
   "metadata": {},
   "outputs": [
    {
     "ename": "",
     "evalue": "",
     "output_type": "error",
     "traceback": [
      "\u001b[1;31mThe Kernel crashed while executing code in the current cell or a previous cell. \n",
      "\u001b[1;31mPlease review the code in the cell(s) to identify a possible cause of the failure. \n",
      "\u001b[1;31mClick <a href='https://aka.ms/vscodeJupyterKernelCrash'>here</a> for more info. \n",
      "\u001b[1;31mView Jupyter <a href='command:jupyter.viewOutput'>log</a> for further details."
     ]
    }
   ],
   "source": [
    "import keyboard"
   ]
  },
  {
   "cell_type": "code",
   "execution_count": 36,
   "metadata": {},
   "outputs": [
    {
     "name": "stdout",
     "output_type": "stream",
     "text": [
      "Recording...\n",
      "Transcription: Hey, what's up? How are you doing?\n",
      "Recording...\n",
      "Transcription: I want to know about you.\n",
      "Recording...\n",
      "Transcription: I want to know the last news about Venezuela.\n",
      "Recording...\n",
      "Transcription: . .\n",
      "Recording...\n",
      "Transcription: Wow\n",
      "Recording...\n",
      "Transcription: Cool.\n",
      "Recording...\n",
      "Transcription: Very, very, very cool, actually.\n",
      "Recording...\n",
      "Transcription: Thank you.\n",
      "Recording...\n",
      "Transcription: Bye.\n",
      "Recording...\n"
     ]
    },
    {
     "ename": "",
     "evalue": "",
     "output_type": "error",
     "traceback": [
      "\u001b[1;31mThe Kernel crashed while executing code in the current cell or a previous cell. \n",
      "\u001b[1;31mPlease review the code in the cell(s) to identify a possible cause of the failure. \n",
      "\u001b[1;31mClick <a href='https://aka.ms/vscodeJupyterKernelCrash'>here</a> for more info. \n",
      "\u001b[1;31mView Jupyter <a href='command:jupyter.viewOutput'>log</a> for further details."
     ]
    }
   ],
   "source": [
    "#testing the STT\n",
    "\n",
    "sample_rate = 44100  # Sample rate in Hz\n",
    "duration = 5  # Duration of recording in seconds\n",
    "try:\n",
    "    while True:\n",
    "        if keyboard.is_pressed('esc'):  # Check if ESC key is pressed to exit\n",
    "            print(\"Exiting...\")\n",
    "            break\n",
    "        audio_data = record_audio(duration, sample_rate)\n",
    "        file_path = save_as_mp3(audio_data, sample_rate)\n",
    "        transcribe_audio(file_path)\n",
    "except KeyboardInterrupt:\n",
    "    print(\"Program terminated.\")"
   ]
  },
  {
   "cell_type": "markdown",
   "metadata": {},
   "source": [
    "___________"
   ]
  },
  {
   "cell_type": "markdown",
   "metadata": {},
   "source": [
    "This method processes chunks of text and plays them using an in-memory temporary file, allowing speech to begin before the entire text is processed by the TTS model"
   ]
  },
  {
   "cell_type": "markdown",
   "metadata": {},
   "source": [
    "### Chunking Technique Explanation\n",
    "\n",
    "The **chunking technique** in your code involves breaking the input text into smaller pieces (or chunks), which are then processed separately to generate speech. Instead of sending the entire text at once for processing by the AI, the text is split into smaller parts, each of which is sent to the text-to-speech system.\n",
    "\n",
    "The process is as follows:\n",
    "1. **Text Splitting**: The text is divided into chunks of a certain size (number of words, in this case).\n",
    "2. **Speech Generation**: Each chunk is sent individually to the text-to-speech API to generate speech.\n",
    "3. **Playback**: After generating the speech for a chunk, it's played before processing the next chunk."
   ]
  },
  {
   "attachments": {
    "image.png": {
     "image/png": "[encoded data removed]"
    }
   },
   "cell_type": "markdown",
   "metadata": {},
   "source": [
    "![image.png](attachment:image.png)"
   ]
  },
  {
   "cell_type": "code",
   "execution_count": 1,
   "metadata": {},
   "outputs": [],
   "source": [
    "text = \"\"\"\n",
    "\n",
    "\n",
    "The sun dipped low over the sprawling forests of Eldara, casting golden light across the ancient treetops. For centuries, the Kingdom of Eldara had been a place of peace, shielded by its natural barriers and the wisdom of its rulers. Yet, deep within the heart of the kingdom, whispers of an ancient prophecy were beginning to stir.\n",
    "\n",
    "In the quiet village of Ravendale, nestled at the edge of the Crystal River, a young blacksmith named Kael worked tirelessly at his forge. Sparks flew as his hammer struck glowing steel, shaping it into a blade that seemed to hum with hidden power. Kael had always been drawn to the forge, not just for its warmth, but for the way it connected him to his late father, a master craftsman who had once served the king.\n",
    "\"\"\""
   ]
  },
  {
   "cell_type": "markdown",
   "metadata": {},
   "source": [
    "____________"
   ]
  },
  {
   "cell_type": "markdown",
   "metadata": {},
   "source": [
    "#### 3.1 Testing the `async` TTS streaming"
   ]
  },
  {
   "cell_type": "code",
   "execution_count": 18,
   "metadata": {},
   "outputs": [],
   "source": [
    "from openai import OpenAI\n",
    "from io import BytesIO\n",
    "from pydub import AudioSegment\n",
    "from pydub.playback import play\n",
    "from time import sleep\n",
    "\n",
    "client = OpenAI()\n",
    "\n",
    "# def speak_chunk_openai(chunk):\n",
    "#     # Generate speech from OpenAI TTS\n",
    "#     response = client.audio.speech.create(\n",
    "#         model=\"tts-1\",\n",
    "#         voice=\"nova\",\n",
    "#         input=chunk\n",
    "#     )\n",
    "    \n",
    "#     # Access the binary audio data\n",
    "#     audio_data = response.content  # Correct way to access the content\n",
    "    \n",
    "#     # Convert the binary audio data to AudioSegment\n",
    "#     audio = AudioSegment.from_mp3(BytesIO(audio_data))  # Correct format handling\n",
    "#     play(audio)\n",
    "\n",
    "#------------------------------------------------------------\n",
    "import time\n",
    "\n",
    "def speak_chunk_openai(chunk):\n",
    "    start_time = time.time()\n",
    "    response = client.audio.speech.create(\n",
    "        model=\"tts-1\",\n",
    "        voice=\"nova\",\n",
    "        input=chunk\n",
    "    )\n",
    "    audio_data = response.content\n",
    "    audio = AudioSegment.from_mp3(BytesIO(audio_data))\n",
    "    play(audio)\n",
    "    end_time = time.time()\n",
    "    print(f\"Chunk processed in {end_time - start_time:.2f} seconds.\")\n",
    "\n",
    "\n",
    "def chunked_speak_openai(text, chunk_size=50):\n",
    "    words = text.split()\n",
    "    chunks = [' '.join(words[i:i + chunk_size]) for i in range(0, len(words), chunk_size)] \n",
    "    for chunk in chunks:\n",
    "        speak_chunk_openai(chunk)\n",
    "\n"
   ]
  },
  {
   "cell_type": "markdown",
   "metadata": {},
   "source": [
    "- Small chunks (e.g., 10–20 words) mean the AI system generates speech more quickly for each chunk. However, the overhead of multiple API requests can add up, potentially increasing the overall response time.\n",
    "\n",
    "- Large chunks (e.g., 50–100 words) reduce the number of API calls but might take longer to process each request. The response time per chunk will be longer because the AI has more text to handle, but you have fewer requests overall."
   ]
  },
  {
   "cell_type": "code",
   "execution_count": 19,
   "metadata": {},
   "outputs": [
    {
     "name": "stdout",
     "output_type": "stream",
     "text": [
      "Chunk processed in 6.76 seconds.\n",
      "Chunk processed in 5.88 seconds.\n",
      "Chunk processed in 5.45 seconds.\n",
      "Chunk processed in 6.23 seconds.\n",
      "Chunk processed in 5.74 seconds.\n",
      "Chunk processed in 5.85 seconds.\n",
      "Chunk processed in 5.25 seconds.\n",
      "Chunk processed in 6.47 seconds.\n",
      "Chunk processed in 5.65 seconds.\n",
      "Chunk processed in 4.58 seconds.\n",
      "Chunk processed in 4.60 seconds.\n",
      "Chunk processed in 4.90 seconds.\n",
      "Chunk processed in 5.69 seconds.\n",
      "Chunk processed in 2.72 seconds.\n"
     ]
    }
   ],
   "source": [
    "chunked_speak_openai(text, chunk_size=10)"
   ]
  },
  {
   "cell_type": "markdown",
   "metadata": {},
   "source": [
    "____________"
   ]
  },
  {
   "cell_type": "markdown",
   "metadata": {},
   "source": [
    "#### 3.2 Using an `async` approach instead\n",
    "\n",
    "- We divide the words into small chunks so we get the corresponding audio for each small piece\n",
    "\n",
    "- But with using `async` approach, we can convert to speech all these pieces at the same time without doing once at a time"
   ]
  },
  {
   "cell_type": "code",
   "execution_count": 1,
   "metadata": {},
   "outputs": [],
   "source": [
    "import openai\n",
    "import asyncio\n",
    "from io import BytesIO\n",
    "from pydub import AudioSegment\n",
    "from pydub.playback import play\n",
    "import time\n",
    "from openai import OpenAI\n",
    "client = OpenAI()\n",
    "\n",
    "# Set up OpenAI API key\n",
    "\n",
    "async def speak_chunk_openai(chunk):\n",
    "    \"\"\"Asynchronous function to get speech from OpenAI and play the audio.\"\"\"\n",
    "    start_time = time.time()\n",
    "\n",
    "    # Using OpenAI's Python client to generate audio\n",
    "    response = client.audio.speech.create(\n",
    "        model=\"tts-1\",  # Ensure you're using the correct model\n",
    "        voice=\"nova\",  # Specify the voice\n",
    "        input=chunk  # Text chunk to convert to speech\n",
    "    )\n",
    "\n",
    "    # Extract audio content from the response\n",
    "    audio_data = response.content  # Correct way to access the content\n",
    "    audio = AudioSegment.from_mp3(BytesIO(audio_data))  # Convert binary to AudioSegment\n",
    "    play(audio)  # Play the audio\n",
    "\n",
    "    end_time = time.time()\n",
    "    print(f\"Chunk processed in {end_time - start_time:.2f} seconds.\")\n",
    "\n",
    "async def chunked_speak_openai(text, chunk_size=50):\n",
    "    \"\"\"Asynchronous function to process text in chunks and speak.\"\"\"\n",
    "    words = text.split()\n",
    "    chunks = [' '.join(words[i:i + chunk_size]) for i in range(0, len(words), chunk_size)]\n",
    "\n",
    "    # Run the tasks concurrently\n",
    "    tasks = [speak_chunk_openai(chunk) for chunk in chunks]\n",
    "    await asyncio.gather(*tasks)  # Wait for all chunks to be processed concurrently\n",
    "\n"
   ]
  },
  {
   "cell_type": "code",
   "execution_count": null,
   "metadata": {},
   "outputs": [
    {
     "name": "stdout",
     "output_type": "stream",
     "text": [
      "Chunk processed in 6.20 seconds.\n",
      "Chunk processed in 6.20 seconds.\n"
     ]
    },
    {
     "ename": "",
     "evalue": "",
     "output_type": "error",
     "traceback": [
      "\u001b[1;31mThe Kernel crashed while executing code in the current cell or a previous cell. \n",
      "\u001b[1;31mPlease review the code in the cell(s) to identify a possible cause of the failure. \n",
      "\u001b[1;31mClick <a href='https://aka.ms/vscodeJupyterKernelCrash'>here</a> for more info. \n",
      "\u001b[1;31mView Jupyter <a href='command:jupyter.viewOutput'>log</a> for further details."
     ]
    }
   ],
   "source": [
    "# Usage example (run this directly in a cell in Jupyter)\n",
    "text = \"This is an example sentence to demonstrate how chunked speech synthesis works with OpenAI's API. This is just a test.\"\n",
    "await chunked_speak_openai(text, chunk_size=10)  # Use await instead of asyncio.run()\n",
    "  # Use await instead of asyncio.run()\n"
   ]
  },
  {
   "cell_type": "code",
   "execution_count": null,
   "metadata": {},
   "outputs": [],
   "source": []
  },
  {
   "cell_type": "code",
   "execution_count": 9,
   "metadata": {},
   "outputs": [],
   "source": [
    "text = \"\"\"\n",
    "\n",
    "\n",
    "The sun dipped low over the sprawling forests of Eldara, casting golden light across the ancient treetops. For centuries, the Kingdom of Eldara had been a place of peace, shielded by its natural barriers and the wisdom of its rulers. Yet, deep within the heart of the kingdom, whispers of an ancient prophecy were beginning to stir.\n",
    "\n",
    "In the quiet village of Ravendale, nestled at the edge of the Crystal River, a young blacksmith named Kael worked tirelessly at his forge. Sparks flew as his hammer struck glowing steel, shaping it into a blade that seemed to hum with hidden power. Kael had always been drawn to the forge, not just for its warmth, but for the way it connected him to his late father, a master craftsman who had once served the king.\n",
    "\"\"\""
   ]
  },
  {
   "cell_type": "code",
   "execution_count": 10,
   "metadata": {},
   "outputs": [
    {
     "name": "stdout",
     "output_type": "stream",
     "text": [
      "Chunk processed in 34.07 seconds.\n",
      "Chunk processed in 21.74 seconds.\n"
     ]
    }
   ],
   "source": [
    "# Usage example (run this directly in a cell in Jupyter)\n",
    "# text = \"This is an example sentence to demonstrate how chunked speech synthesis works with OpenAI's API. This is just a test.\"\n",
    "await chunked_speak_openai(text, chunk_size=80)  # Use await instead of asyncio.run()\n",
    "  # Use await instead of asyncio.run()\n"
   ]
  },
  {
   "cell_type": "markdown",
   "metadata": {},
   "source": [
    "_________"
   ]
  },
  {
   "cell_type": "markdown",
   "metadata": {},
   "source": [
    "#### 3.2.1 Effective Audio Streaming over WebSocket Using Asyncio and Threading"
   ]
  },
  {
   "cell_type": "markdown",
   "metadata": {},
   "source": [
    "- Threading for background audio processing\n",
    "\n",
    "- asyncio for non-blocking WebSocket management\n",
    "\n",
    "This guarantees that partial transcription and live audio streams are handled effectively."
   ]
  },
  {
   "cell_type": "code",
   "execution_count": null,
   "metadata": {},
   "outputs": [],
   "source": [
    "from langchain.tools import TavilySearchResults\n",
    "import tavily_client  # Assuming Tavily API is installed and set up\n",
    "\n",
    "# Use LangChain's TavilySearchResults with 'k' to control results for speed\n",
    "def search_with_langchain(query, k):\n",
    "    # Initialize the LangChain TavilySearchResults tool with 'k'\n",
    "    web_search_tool = TavilySearchResults(k=k)\n",
    "    results = web_search_tool.search(query)\n",
    "    return results\n",
    "\n",
    "# Use Tavily API client directly with 'max_results' to control speed\n",
    "def search_with_tavily_api(query, max_results):\n",
    "    result = tavily_client.search(\n",
    "        query,\n",
    "        max_results=max_results,  # Set the number of results\n",
    "        include_raw_content=True,\n",
    "        topic=\"general\"\n",
    "    )\n",
    "    return result\n",
    "\n",
    "# Test the functions with query\n",
    "query = \"Artificial Intelligence\"\n",
    "\n",
    "# Test with LangChain's TavilySearchResults (using 'k')\n",
    "print(\"LangChain Search Results (k=3):\")\n",
    "langchain_results = search_with_langchain(query, k=3)\n",
    "print(langchain_results)\n",
    "\n",
    "# Test with Tavily API Client (using 'max_results')\n",
    "print(\"\\nTavily API Search Results (max_results=3):\")\n",
    "tavily_api_results = search_with_tavily_api(query, max_results=3)\n",
    "print(tavily_api_results)\n"
   ]
  },
  {
   "cell_type": "code",
   "execution_count": null,
   "metadata": {},
   "outputs": [],
   "source": []
  },
  {
   "cell_type": "code",
   "execution_count": null,
   "metadata": {},
   "outputs": [],
   "source": []
  }
 ],
 "metadata": {
  "kernelspec": {
   "display_name": "ai_curator",
   "language": "python",
   "name": "python3"
  },
  "language_info": {
   "codemirror_mode": {
    "name": "ipython",
    "version": 3
   },
   "file_extension": ".py",
   "mimetype": "text/x-python",
   "name": "python",
   "nbconvert_exporter": "python",
   "pygments_lexer": "ipython3",
   "version": "3.11.9"
  }
 },
 "nbformat": 4,
 "nbformat_minor": 2
}
