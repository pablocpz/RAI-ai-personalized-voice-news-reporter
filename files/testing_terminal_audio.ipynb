{
 "cells": [
  {
   "cell_type": "code",
   "execution_count": 24,
   "metadata": {},
   "outputs": [],
   "source": [
    "from elevenlabs.client import ElevenLabs\n",
    "from elevenlabs import Voice, VoiceSettings, play\n",
    "from openai import OpenAI\n",
    "openai_client = OpenAI()"
   ]
  },
  {
   "cell_type": "code",
   "execution_count": 25,
   "metadata": {},
   "outputs": [],
   "source": [
    "from utils.sst import transcribe_audio #todo given that we simulated we alr have the narraqtive, we gotta give it with SST to the graph"
   ]
  },
  {
   "cell_type": "code",
   "execution_count": 26,
   "metadata": {},
   "outputs": [],
   "source": [
    "def play_generated_audio(text):\n",
    "    \"\"\"\n",
    "    Reproduce the audio response given an input text \n",
    "    \"\"\"\n",
    "    \n",
    "    response = openai_client.audio.speech.create(\n",
    "        model=\"tts-1\",\n",
    "        voice=\"nova\",\n",
    "        input=text,\n",
    "        \n",
    "    )\n",
    "\n",
    "    if hasattr(response, 'content') and response.content:\n",
    "        # Use your play function to play the audio instantly\n",
    "        play(response.content)\n",
    "    elif hasattr(response, 'url'):\n",
    "        # If the API provides a URL, use your play function to play the audio from URL\n",
    "        audio_url = response.url\n",
    "        play(audio_url)\n",
    "    else:\n",
    "        print(\"No valid audio content found in the response.\")  "
   ]
  },
  {
   "cell_type": "code",
   "execution_count": 37,
   "metadata": {},
   "outputs": [],
   "source": [
    "play_generated_audio(\"Hello, I am a virtual assistant. How can I help you today?\")"
   ]
  },
  {
   "cell_type": "markdown",
   "metadata": {},
   "source": [
    "Playing this `harcoded` weekly news summary, just use `play()` using it's folder location"
   ]
  },
  {
   "cell_type": "code",
   "execution_count": 27,
   "metadata": {},
   "outputs": [],
   "source": [
    "narrative_text = transcribe_audio(\"narrative.wav\")\n",
    "#when running this app,\n",
    "#since the news summary is being donde at the same time\n",
    "#we won't need to transcribe the audio, we will just pass the narrative text to the graph"
   ]
  },
  {
   "cell_type": "code",
   "execution_count": 8,
   "metadata": {},
   "outputs": [],
   "source": [
    "with open(\"narrative.wav\", \"rb\") as f:\n",
    "    audio_data = f.read()\n",
    "\n",
    "# Usar la función existente para reproducir el audio\n",
    "play(audio_data)"
   ]
  },
  {
   "cell_type": "code",
   "execution_count": 15,
   "metadata": {},
   "outputs": [],
   "source": [
    "from utils.audio_gen import speak_audio_sync\n",
    "from utils.chatbot_graph import app, thread\n",
    "from utils.sst import transcribe_audio\n"
   ]
  },
  {
   "cell_type": "code",
   "execution_count": 16,
   "metadata": {},
   "outputs": [
    {
     "name": "stdout",
     "output_type": "stream",
     "text": [
      "gonna generate 1 queries\n"
     ]
    }
   ],
   "source": [
    "inputs = {\"question\": \"what did elon musk say this week to the afd germany?\", \"news_summary\":narrative_text}\n",
    "    # Run the stored graph for inference\n",
    "content = app.invoke(inputs, thread)[\"generation\"]"
   ]
  },
  {
   "cell_type": "code",
   "execution_count": 17,
   "metadata": {},
   "outputs": [
    {
     "data": {
      "text/plain": [
       "'This week, Elon Musk stirred controversy in Germany by endorsing the far-right party, Alternative for Germany (AfD). In an op-ed for a German newspaper, he praised the party\\'s stance on immigration and regulation, calling it the \"last spark of hope\" for the country. This move led to accusations from the German government of Musk trying to influence the upcoming election. The endorsement also caused a media shake-up, with the resignation of the newspaper\\'s opinion editor in protest.'"
      ]
     },
     "execution_count": 17,
     "metadata": {},
     "output_type": "execute_result"
    }
   ],
   "source": [
    "content"
   ]
  },
  {
   "cell_type": "code",
   "execution_count": 18,
   "metadata": {},
   "outputs": [],
   "source": [
    "# speak_audio_sync(provider=\"openai\",text=content, output_path=\"output.wav\")\n",
    "\n",
    "\n",
    "play_generated_audio(content)"
   ]
  },
  {
   "cell_type": "code",
   "execution_count": 38,
   "metadata": {},
   "outputs": [],
   "source": [
    "# question = \"the current state of the war between Russia and Ukraine.\"\n",
    "\n",
    "# inputs = {\"question\": question, \"news_summary\":narrative_text}\n",
    "#     # Run the stored graph for inference\n",
    "# content = app.invoke(inputs, thread)[\"generation\"]\n",
    "\n",
    "# print(content)"
   ]
  },
  {
   "cell_type": "code",
   "execution_count": 39,
   "metadata": {},
   "outputs": [],
   "source": [
    "# from pprint import pprint\n",
    "# inputs = {\"question\": \"which is the current state of the war between Russia and Ukraine.\", \"news_summary\":narrative_text}\n",
    "# for output in app.stream(inputs, thread):\n",
    "#     for key, value in output.items():\n",
    "#         pprint(f\"Finished running: {key}:\")\n",
    "# pprint(value[\"generation\"])"
   ]
  },
  {
   "cell_type": "code",
   "execution_count": 40,
   "metadata": {},
   "outputs": [],
   "source": [
    " \n",
    "# from pprint import pprint\n",
    "# inputs = {\"question\": \"which are the current news on the new orleans terrorist attack?\", \"news_summary\":narrative_text}\n",
    "# for output in app.stream(inputs, thread):\n",
    "#     for key, value in output.items():\n",
    "#         pprint(f\"Finished running: {key}:\")\n",
    "# pprint(value[\"generation\"])"
   ]
  },
  {
   "cell_type": "markdown",
   "metadata": {},
   "source": [
    "## Baseline: Putting all the VOICE Q-A inside a loop"
   ]
  },
  {
   "cell_type": "code",
   "execution_count": 3,
   "metadata": {},
   "outputs": [],
   "source": [
    "narrative_text = transcribe_audio(\"narrative.wav\")"
   ]
  },
  {
   "cell_type": "code",
   "execution_count": 5,
   "metadata": {},
   "outputs": [],
   "source": [
    "narrative_text = \"Ready to know what happened this week? Let's dive in. First up, fitness enthusiasts are buzzing about high-intensity interval training, which promises to keep you burning calories long after your workout ends. Meanwhile, in the world of international affairs, Ukraine made headlines by using a naval drone to take down a Russian helicopter, marking a significant moment in their ongoing conflict. As Asia celebrated the arrival of 2025 with spectacular fireworks, Elon Musk stirred controversy in Germany by endorsing a far-right party, leading to a media shake-up. Across the Atlantic, Donald Trump surprised many by supporting Elon Musk and the H-1B visa program, causing ripples within the Republican Party. In entertainment, Lily-Rose Depp is making waves with her role in the new Nasratu film, while Trump mourns the loss of former U.S. President Jimmy Carter, who passed away at 100, leaving behind a legacy of peace and humanitarian work. Spain is facing unrest as public employees deal with frozen salaries and healthcare disruptions, while in Brazil, a tragic poisoning incident involving a Christmas cake is under investigation. Azerbaijan and Russia are at odds over a plane crash, with calls for an independent probe. In South Korea, a devastating plane crash claimed 179 lives, marking the worst air disaster in the country in decades. New York is reeling from a scandal involving prison brutality, prompting calls for justice and reform. The WHO's Tedros Adhanom Ghebreyesus narrowly escaped a bombing in Yemen, highlighting the ongoing conflict in the region. Tensions are also high between Venezuela and Argentina over accusations of terrorism, while Ukraine continues to fend off Russian aerial attacks. In Madrid, a graffiti artist faces a hefty fine for his street art spree. And in New York, a shocking video of prison violence has sparked outrage and investigations. Meanwhile, Russia's use of a ghost freight to bypass sanctions is raising alarms in the Baltic region. In China, a tragic incident involving a driver plowing into a crowd has sparked discussions on public mourning and censorship. Back in New York, the Guardian Angels are back on patrol in the subway after a horrific attack, aiming to boost public safety. Finally, Spain's Muface is in turmoil as major health insurers withdraw, leaving many civil servants without private coverage. As the year wraps up, these events remind us of the complexities and challenges facing our world today. Stay tuned for more updates.\\n\""
   ]
  },
  {
   "cell_type": "markdown",
   "metadata": {},
   "source": [
    "- `play_generated_audio()` will be the TTS adapted to run the audio in the same script using `play()` from Elevenlabs API which expects bytes object\n",
    "\n",
    "\n",
    "- `transcribe_audio()` will be the SST, which takes the input speech and pass it to text using openai WHISPER API"
   ]
  },
  {
   "cell_type": "code",
   "execution_count": 6,
   "metadata": {},
   "outputs": [],
   "source": [
    "from utils.sst import transcribe_audio #todo given that we simulated we alr have the narraqtive, we gotta give it with SST to the graph"
   ]
  },
  {
   "cell_type": "code",
   "execution_count": 7,
   "metadata": {},
   "outputs": [
    {
     "name": "stderr",
     "output_type": "stream",
     "text": [
      "USER_AGENT environment variable not set, consider setting it to identify your requests.\n"
     ]
    }
   ],
   "source": [
    "from utils.chatbot_graph import app"
   ]
  },
  {
   "cell_type": "code",
   "execution_count": 8,
   "metadata": {},
   "outputs": [],
   "source": [
    "def get_inference(input_question:str, news_summary:str, thread_id=1, max_recursion=25):\n",
    "    \n",
    "    \"\"\"\n",
    "    if we get recursion error, drop custom/default message: \"Please, try again\"\n",
    "    \"\"\"\n",
    "    thread = {\"configurable\": {\"thread_id\":thread_id, \"max_recursion\":max_recursion}} \n",
    "\n",
    "    \n",
    "    \n",
    "    inputs = {\"question\": input_question, \"news_summary\": news_summary}\n",
    "    \n",
    "    try:\n",
    "        # Attempt the invocation\n",
    "        content = app.invoke(inputs, thread)[\"generation\"]\n",
    "    except RecursionError:\n",
    "        \n",
    "        content = \"Sorry, there was an error, please ask me again!\"\n",
    "\n",
    "    return content"
   ]
  },
  {
   "cell_type": "markdown",
   "metadata": {},
   "source": [
    "Testing different TTS techniques"
   ]
  },
  {
   "cell_type": "code",
   "execution_count": 9,
   "metadata": {},
   "outputs": [],
   "source": [
    "from tts_variants import sync_tts"
   ]
  },
  {
   "cell_type": "code",
   "execution_count": 19,
   "metadata": {},
   "outputs": [
    {
     "data": {
      "text/plain": [
       "\"Ready to know what happened this week? Let's dive in. First up, fitness enthusiasts are buzzing about high-intensity interval training, which promises to keep you burning calories long after your workout ends. Meanwhile, in the world of international affairs, Ukraine made headlines by using a naval drone to take down a Russian helicopter, marking a significant moment in their ongoing conflict. As Asia celebrated the arrival of 2025 with spectacular fireworks, Elon Musk stirred controversy in Germany by endorsing a far-right party, leading to a media shake-up. Across the Atlantic, Donald Trump surprised many by supporting Elon Musk and the H-1B visa program, causing ripples within the Republican Party. In entertainment, Lily-Rose Depp is making waves with her role in the new Nasratu film, while Trump mourns the loss of former U.S. President Jimmy Carter, who passed away at 100, leaving behind a legacy of peace and humanitarian work. Spain is facing unrest as public employees deal with frozen salaries and healthcare disruptions, while in Brazil, a tragic poisoning incident involving a Christmas cake is under investigation. Azerbaijan and Russia are at odds over a plane crash, with calls for an independent probe. In South Korea, a devastating plane crash claimed 179 lives, marking the worst air disaster in the country in decades. New York is reeling from a scandal involving prison brutality, prompting calls for justice and reform. The WHO's Tedros Adhanom Ghebreyesus narrowly escaped a bombing in Yemen, highlighting the ongoing conflict in the region. Tensions are also high between Venezuela and Argentina over accusations of terrorism, while Ukraine continues to fend off Russian aerial attacks. In Madrid, a graffiti artist faces a hefty fine for his street art spree. And in New York, a shocking video of prison violence has sparked outrage and investigations. Meanwhile, Russia's use of a ghost freight to bypass sanctions is raising alarms in the Baltic region. In China, a tragic incident involving a driver plowing into a crowd has sparked discussions on public mourning and censorship. Back in New York, the Guardian Angels are back on patrol in the subway after a horrific attack, aiming to boost public safety. Finally, Spain's Muface is in turmoil as major health insurers withdraw, leaving many civil servants without private coverage. As the year wraps up, these events remind us of the complexities and challenges facing our world today. Stay tuned for more updates.\\n\""
      ]
     },
     "execution_count": 19,
     "metadata": {},
     "output_type": "execute_result"
    }
   ],
   "source": [
    "narrative_text"
   ]
  },
  {
   "cell_type": "code",
   "execution_count": 10,
   "metadata": {},
   "outputs": [],
   "source": [
    "import sounddevice as sd\n",
    "import soundfile as sf\n",
    "import keyboard\n",
    "import tempfile\n",
    "import numpy as np\n",
    "import time\n",
    "from threading import Thread, Event\n",
    "import asyncio\n",
    "\n",
    "# Global variables\n",
    "stop_event = Event()\n",
    "recorded_frames = []\n",
    "sample_rate = 44100\n",
    "channels = 2\n",
    "\n",
    "def audio_callback(indata, frames, time, status):\n",
    "    \"\"\"Callback function for the audio stream\"\"\"\n",
    "    if status:\n",
    "        print(f\"Status: {status}\")\n",
    "    if not stop_event.is_set():\n",
    "        recorded_frames.append(indata.copy())\n",
    "\n",
    "def record_audio():\n",
    "    \"\"\"Record audio and return the path to the temporary file\"\"\"\n",
    "    global recorded_frames\n",
    "    recorded_frames = []\n",
    "    stop_event.clear()\n",
    "    \n",
    "    def recording_thread():\n",
    "        with sd.InputStream(samplerate=sample_rate, \n",
    "                          channels=channels,\n",
    "                          callback=audio_callback):\n",
    "            stop_event.wait()\n",
    "    \n",
    "    # Start recording\n",
    "    thread = Thread(target=recording_thread)\n",
    "    thread.start()\n",
    "    \n",
    "    # Wait for spacebar to stop recording\n",
    "    keyboard.wait('space')\n",
    "    stop_event.set()\n",
    "    thread.join()\n",
    "    \n",
    "    # Save to temporary file\n",
    "    if recorded_frames:\n",
    "        with tempfile.NamedTemporaryFile(suffix='.wav', delete=False) as temp_file:\n",
    "            recorded_data = np.concatenate(recorded_frames, axis=0)\n",
    "            sf.write(temp_file.name, recorded_data, sample_rate)\n",
    "            return temp_file.name\n",
    "    return None"
   ]
  },
  {
   "cell_type": "code",
   "execution_count": 11,
   "metadata": {},
   "outputs": [],
   "source": [
    "from tts_variants import async_chunking_tts"
   ]
  },
  {
   "cell_type": "code",
   "execution_count": 6,
   "metadata": {},
   "outputs": [
    {
     "name": "stdout",
     "output_type": "stream",
     "text": [
      "Chunk processed in 6.00 seconds.\n",
      "Chunk processed in 2.79 seconds.\n"
     ]
    }
   ],
   "source": [
    "await async_chunking_tts(\"hi bro how are ya i hope ur fine. i'm here with my hermana flor flor florecita\", chunk_size=15) "
   ]
  },
  {
   "cell_type": "code",
   "execution_count": 12,
   "metadata": {},
   "outputs": [],
   "source": [
    "import keyboard"
   ]
  },
  {
   "cell_type": "code",
   "execution_count": 20,
   "metadata": {},
   "outputs": [
    {
     "name": "stdout",
     "output_type": "stream",
     "text": [
      "Press Spacebar to start speaking...\n",
      "Recording started... Press Spacebar to stop.\n",
      "Audio saved to temporary file.\n",
      "[-] User said: ¿Qué se sabe del incidente del estrello del avión en China?\n",
      "\n",
      "already searched queries (if applicable): n_queries=1 queries=['autor de la canción Las Cosas Pequeñitas'] tavily_days=[None] tavily_topic=['general']\n",
      "gonna generate 2 queries\n",
      "forcing stop of the graph...\n",
      "[*] Bot response: No se ha mencionado un incidente específico de un avión estrellado en China en la información proporcionada. Sin embargo, sí se ha reportado un trágico accidente aéreo en Corea del Sur, donde un avión de Jeju Air se estrelló en el Aeropuerto Internacional de Muan, resultando en la muerte de 179 personas. Este ha sido el peor desastre aéreo en Corea del Sur en décadas. Si estás buscando información sobre un accidente en China, podría ser un malentendido, ya que el contexto actual se centra en el incidente en Corea del Sur.\n",
      "Inference took 12.792181491851807 seconds\n",
      "Press Spacebar to start speaking...\n"
     ]
    },
    {
     "ename": "KeyboardInterrupt",
     "evalue": "",
     "output_type": "error",
     "traceback": [
      "\u001b[1;31m---------------------------------------------------------------------------\u001b[0m",
      "\u001b[1;31mKeyboardInterrupt\u001b[0m                         Traceback (most recent call last)",
      "Cell \u001b[1;32mIn[20], line 6\u001b[0m\n\u001b[0;32m      4\u001b[0m \u001b[38;5;28mprint\u001b[39m(\u001b[38;5;124m\"\u001b[39m\u001b[38;5;124mPress Spacebar to start speaking...\u001b[39m\u001b[38;5;124m\"\u001b[39m)\n\u001b[0;32m      5\u001b[0m \u001b[38;5;66;03m# Wait for the user to press spacebar to start recording\u001b[39;00m\n\u001b[1;32m----> 6\u001b[0m \u001b[43mkeyboard\u001b[49m\u001b[38;5;241;43m.\u001b[39;49m\u001b[43mwait\u001b[49m\u001b[43m(\u001b[49m\u001b[38;5;124;43m\"\u001b[39;49m\u001b[38;5;124;43mspace\u001b[39;49m\u001b[38;5;124;43m\"\u001b[39;49m\u001b[43m)\u001b[49m\n\u001b[0;32m      7\u001b[0m \u001b[38;5;28mprint\u001b[39m(\u001b[38;5;124m\"\u001b[39m\u001b[38;5;124mRecording started... Press Spacebar to stop.\u001b[39m\u001b[38;5;124m\"\u001b[39m)\n\u001b[0;32m      9\u001b[0m \u001b[38;5;66;03m# Record the user's speech\u001b[39;00m\n",
      "File \u001b[1;32mc:\\Users\\pablo\\Desktop\\P - Proyectos en Curso\\ai-curated-articles\\ai_curator\\Lib\\site-packages\\keyboard\\__init__.py:882\u001b[0m, in \u001b[0;36mwait\u001b[1;34m(hotkey, suppress, trigger_on_release)\u001b[0m\n\u001b[0;32m    880\u001b[0m     lock \u001b[38;5;241m=\u001b[39m _Event()\n\u001b[0;32m    881\u001b[0m     remove \u001b[38;5;241m=\u001b[39m add_hotkey(hotkey, \u001b[38;5;28;01mlambda\u001b[39;00m: lock\u001b[38;5;241m.\u001b[39mset(), suppress\u001b[38;5;241m=\u001b[39msuppress, trigger_on_release\u001b[38;5;241m=\u001b[39mtrigger_on_release)\n\u001b[1;32m--> 882\u001b[0m     \u001b[43mlock\u001b[49m\u001b[38;5;241;43m.\u001b[39;49m\u001b[43mwait\u001b[49m\u001b[43m(\u001b[49m\u001b[43m)\u001b[49m\n\u001b[0;32m    883\u001b[0m     remove_hotkey(remove)\n\u001b[0;32m    884\u001b[0m \u001b[38;5;28;01melse\u001b[39;00m:\n",
      "File \u001b[1;32mc:\\Users\\pablo\\Desktop\\P - Proyectos en Curso\\ai-curated-articles\\ai_curator\\Lib\\site-packages\\keyboard\\__init__.py:117\u001b[0m, in \u001b[0;36m_Event.wait\u001b[1;34m(self)\u001b[0m\n\u001b[0;32m    115\u001b[0m \u001b[38;5;28;01mdef\u001b[39;00m \u001b[38;5;21mwait\u001b[39m(\u001b[38;5;28mself\u001b[39m):\n\u001b[0;32m    116\u001b[0m     \u001b[38;5;28;01mwhile\u001b[39;00m \u001b[38;5;28;01mTrue\u001b[39;00m:\n\u001b[1;32m--> 117\u001b[0m         \u001b[38;5;28;01mif\u001b[39;00m \u001b[43m_UninterruptibleEvent\u001b[49m\u001b[38;5;241;43m.\u001b[39;49m\u001b[43mwait\u001b[49m\u001b[43m(\u001b[49m\u001b[38;5;28;43mself\u001b[39;49m\u001b[43m,\u001b[49m\u001b[43m \u001b[49m\u001b[38;5;241;43m0.5\u001b[39;49m\u001b[43m)\u001b[49m:\n\u001b[0;32m    118\u001b[0m             \u001b[38;5;28;01mbreak\u001b[39;00m\n",
      "File \u001b[1;32m~\\AppData\\Local\\Programs\\Python\\Python311\\Lib\\threading.py:629\u001b[0m, in \u001b[0;36mEvent.wait\u001b[1;34m(self, timeout)\u001b[0m\n\u001b[0;32m    627\u001b[0m signaled \u001b[38;5;241m=\u001b[39m \u001b[38;5;28mself\u001b[39m\u001b[38;5;241m.\u001b[39m_flag\n\u001b[0;32m    628\u001b[0m \u001b[38;5;28;01mif\u001b[39;00m \u001b[38;5;129;01mnot\u001b[39;00m signaled:\n\u001b[1;32m--> 629\u001b[0m     signaled \u001b[38;5;241m=\u001b[39m \u001b[38;5;28;43mself\u001b[39;49m\u001b[38;5;241;43m.\u001b[39;49m\u001b[43m_cond\u001b[49m\u001b[38;5;241;43m.\u001b[39;49m\u001b[43mwait\u001b[49m\u001b[43m(\u001b[49m\u001b[43mtimeout\u001b[49m\u001b[43m)\u001b[49m\n\u001b[0;32m    630\u001b[0m \u001b[38;5;28;01mreturn\u001b[39;00m signaled\n",
      "File \u001b[1;32m~\\AppData\\Local\\Programs\\Python\\Python311\\Lib\\threading.py:331\u001b[0m, in \u001b[0;36mCondition.wait\u001b[1;34m(self, timeout)\u001b[0m\n\u001b[0;32m    329\u001b[0m \u001b[38;5;28;01melse\u001b[39;00m:\n\u001b[0;32m    330\u001b[0m     \u001b[38;5;28;01mif\u001b[39;00m timeout \u001b[38;5;241m>\u001b[39m \u001b[38;5;241m0\u001b[39m:\n\u001b[1;32m--> 331\u001b[0m         gotit \u001b[38;5;241m=\u001b[39m \u001b[43mwaiter\u001b[49m\u001b[38;5;241;43m.\u001b[39;49m\u001b[43macquire\u001b[49m\u001b[43m(\u001b[49m\u001b[38;5;28;43;01mTrue\u001b[39;49;00m\u001b[43m,\u001b[49m\u001b[43m \u001b[49m\u001b[43mtimeout\u001b[49m\u001b[43m)\u001b[49m\n\u001b[0;32m    332\u001b[0m     \u001b[38;5;28;01melse\u001b[39;00m:\n\u001b[0;32m    333\u001b[0m         gotit \u001b[38;5;241m=\u001b[39m waiter\u001b[38;5;241m.\u001b[39macquire(\u001b[38;5;28;01mFalse\u001b[39;00m)\n",
      "\u001b[1;31mKeyboardInterrupt\u001b[0m: "
     ]
    }
   ],
   "source": [
    "\n",
    "# Interactive loop for notebook\n",
    "\n",
    "while True:\n",
    "    print(\"Press Spacebar to start speaking...\")\n",
    "    # Wait for the user to press spacebar to start recording\n",
    "    keyboard.wait(\"space\")\n",
    "    print(\"Recording started... Press Spacebar to stop.\")\n",
    "    \n",
    "    # Record the user's speech\n",
    "    audio_file_path = record_audio()\n",
    "    \n",
    "    if audio_file_path:\n",
    "        print(\"Audio saved to temporary file.\")\n",
    "        # Transcribe the recorded audio into text\n",
    "        user_input = transcribe_audio(audio_file_path)\n",
    "        print(f\"[-] User said: {user_input}\")\n",
    "        \n",
    "        start_time = time.time()\n",
    "\n",
    "        # Get bot response based on the transcribed text\n",
    "        content = get_inference(input_question=user_input, news_summary=narrative_text, max_recursion=25)\n",
    "        print(f\"[*] Bot response: {content}\")\n",
    "        \n",
    "        end_time = time.time()\n",
    "        inference_time = end_time - start_time\n",
    "\n",
    "        print(f\"Inference took {inference_time} seconds\")\n",
    "        #--------------------\n",
    "        sync_tts(content)\n",
    "        # await async_chunking_tts(content, chunk_size=50)  # Use await instead of asyncio.run()\n",
    "\n",
    "        #--------------------   \n",
    "        \n",
    "        # Pause briefly before the next iteration\n",
    "        time.sleep(1)\n",
    "    else:\n",
    "        print(\"No audio recorded.\")"
   ]
  },
  {
   "cell_type": "code",
   "execution_count": null,
   "metadata": {},
   "outputs": [],
   "source": []
  },
  {
   "cell_type": "code",
   "execution_count": null,
   "metadata": {},
   "outputs": [],
   "source": []
  },
  {
   "cell_type": "code",
   "execution_count": null,
   "metadata": {},
   "outputs": [],
   "source": []
  },
  {
   "cell_type": "code",
   "execution_count": null,
   "metadata": {},
   "outputs": [],
   "source": []
  },
  {
   "cell_type": "code",
   "execution_count": null,
   "metadata": {},
   "outputs": [],
   "source": []
  }
 ],
 "metadata": {
  "kernelspec": {
   "display_name": "ai_curator",
   "language": "python",
   "name": "python3"
  },
  "language_info": {
   "codemirror_mode": {
    "name": "ipython",
    "version": 3
   },
   "file_extension": ".py",
   "mimetype": "text/x-python",
   "name": "python",
   "nbconvert_exporter": "python",
   "pygments_lexer": "ipython3",
   "version": "3.11.9"
  }
 },
 "nbformat": 4,
 "nbformat_minor": 2
}
